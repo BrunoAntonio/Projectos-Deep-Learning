{
 "cells": [
  {
   "cell_type": "markdown",
   "metadata": {},
   "source": [
    "# Classificação Binária"
   ]
  },
  {
   "cell_type": "code",
   "execution_count": 24,
   "metadata": {},
   "outputs": [],
   "source": [
    "import tensorflow as tf\n",
    "\n",
    "import numpy as np\n",
    "\n",
    "from tensorflow.keras import layers, models, preprocessing"
   ]
  },
  {
   "cell_type": "markdown",
   "metadata": {},
   "source": [
    "## Augumentation - Alteração das caracteristicas das imagens"
   ]
  },
  {
   "cell_type": "code",
   "execution_count": 8,
   "metadata": {},
   "outputs": [],
   "source": [
    "# 2000 imagens de gatos e 2000 de cães. É uma quantidade pequena de imagens. Utiliza-se o Augmentation para o treino ser feito\n",
    "# em cada epoca com imagens diferentes das originais. Deste modo apesar de o treino ser feito com a mesma quantidade de imagens\n",
    "# (2000) em cada epoca é utilizada uma versão diferente dessas imagens.\n",
    "\n",
    "# Altera as imagens. As novas imagens são geradas a partir das existentes aplicando rotações, aumento do zoom, alteração da \n",
    "# direcção dos pixeis, etc.\n",
    "\n",
    "# Augmentation não se refere ao processo de aumentar o número total de imagens. É o processo de criar diferentes variantes das\n",
    "# imagens originais(aplicando rotações, zoom, etc.). As imagens geradas não são totalmente diferentes das originais mas uma\n",
    "# transformação aleatoria delas."
   ]
  },
  {
   "cell_type": "markdown",
   "metadata": {},
   "source": [
    "### Transformações nas imagens"
   ]
  },
  {
   "cell_type": "code",
   "execution_count": 9,
   "metadata": {},
   "outputs": [],
   "source": [
    "# rescale: fazer a normalização dos pixeis para que os seus valores variem entre 0 e 1 (O ImageDataGenerato pode ser utilizado\n",
    "# apenas para fazer a normalização dos pixeis e manter as imagens originais(para não estar manualmente a importar as imagens e \n",
    "# dividir o se número de pixeis por 255).\n",
    "\n",
    "# rotation_range: grau de rotação das imagens originais\n",
    "# horizontal_flip: rotações horizontais\n",
    "# shear_range: mudar a direcção dos pixeis\n",
    "# height_shift_range: modificar a faixa de altura da imagem\n",
    "# zoom_range: alterar o zoom da imagem\n",
    "\n",
    "train_data_base_generator = preprocessing.image.ImageDataGenerator(rescale=1./255, rotation_range=7, horizontal_flip=True, \n",
    "                                                                   shear_range=0.2, height_shift_range=0.07, zoom_range=0.2)"
   ]
  },
  {
   "cell_type": "code",
   "execution_count": 10,
   "metadata": {},
   "outputs": [],
   "source": [
    "# Como não se utilizaram parâmetros não faz alterações na imagem. Mantem as imagens originais.\n",
    "# Como as imagens de treino devem ser diferentes das imagens de teste(apenas devem ter a mesma escala) não é necessário fazer \n",
    "# alterações na base de dados de teste.\n",
    "test_data_base_generator = preprocessing.image.ImageDataGenerator(rescale=1./255)"
   ]
  },
  {
   "cell_type": "markdown",
   "metadata": {},
   "source": [
    "### Criar nova base de dados"
   ]
  },
  {
   "cell_type": "code",
   "execution_count": 18,
   "metadata": {},
   "outputs": [
    {
     "name": "stdout",
     "output_type": "stream",
     "text": [
      "Found 4000 images belonging to 2 classes.\n"
     ]
    }
   ],
   "source": [
    "# Criar um base de dados de treino a partir das imagens originais(X_train, y_train)\n",
    "\n",
    "# Pode ser usado apenas para importar as imagens sem nenhuma alteração, para não se fazer a divisão em teste e treino \n",
    "# manualmente.\n",
    "\n",
    "# batch_size: 32, calcula-se o erro de um conjunto de 32 dados e actualizam-se todos os pesos e escolhe-se um detector de \n",
    "# caracteristicas melhor. De seguida calcula-se o erro para o seguinte conjunto de 32 dados e actualizam-se todos os pesos e \n",
    "# escolhe-se um detector de caracteristicas melhor. E assim sucessivamente.\n",
    "\n",
    "# target_size: tamanho das imagens(igual ao definido na rede neural).\n",
    "# class_mode: binary para problemas de classificação binária.\n",
    "\n",
    "train_data_base = train_data_base_generator.flow_from_directory(\"dataset/training_set\",target_size=(64,64), batch_size=32,\n",
    "                                                               class_mode=\"binary\")"
   ]
  },
  {
   "cell_type": "code",
   "execution_count": 19,
   "metadata": {},
   "outputs": [
    {
     "name": "stdout",
     "output_type": "stream",
     "text": [
      "Found 1000 images belonging to 2 classes.\n"
     ]
    }
   ],
   "source": [
    "test_data_base = test_data_base_generator.flow_from_directory(\"dataset/test_set\",target_size=(64,64), batch_size=32,\n",
    "                                                               class_mode=\"binary\")"
   ]
  },
  {
   "cell_type": "markdown",
   "metadata": {},
   "source": [
    "## Modelo CNN com 2 camadas de convolução e 1 camada oculta"
   ]
  },
  {
   "cell_type": "code",
   "execution_count": 20,
   "metadata": {},
   "outputs": [],
   "source": [
    "# sequential - uma cada apos a outra\n",
    "# dense - camadas fully conected, cada neuronio esta conectado a todos os neuronios da camada seguinte\n",
    "\n",
    "#------------------------------------------------------------------------------------------------------------------------------\n",
    "\n",
    "# Camada de convolução (conv2D porque é uma imagem):\n",
    "\n",
    "# Existem imagens com dimensões diferentes. Optou-se por utilizar a dimensão 64x64 pixeis para todas as imagens (todas as \n",
    "# imagens têm de ter as mesmas dimensões para a rede neural aplicar os calculos matemáticos).\n",
    "\n",
    "# Operador de convolução: multiplicação da imagem(matriz de pixeis 64x64) por um detector de caracteristicas, feature detection\n",
    "# ou filtro ou kernel(matriz normalmente 3x3 para imagens pequenas) que vai originar um mapa de caracteristicas.\n",
    "# Este mapa tem como objectivo filtrar(detectar) as caracteristicas mais importantes da imagem. \n",
    "\n",
    "# Detectores de caracteristicas:32, Utilizam-se 32 matrizes de detectores de caraceristicas que vão originar 32 mapas de\n",
    "# caracteristicas. Estes detectores de caracteristicas são originados variando os números da matriz até se obter aquele que \n",
    "# apresenta o melhor resultado. O recomendado é utilizar 64 kernels e seus multiplos(128, 256, 512, 1024, etc).\n",
    "\n",
    "# Kernel_size: (3,3) matriz detectora de caracteristicas do tamanho 3x3 \n",
    "\n",
    "# strider: (1,1) Os valores do mapa de caracteristicas são obtidos com a subdivisão da matriz da imagem a fazer-se movendo um \n",
    "# pixel para a direita e um pixel para baixo.\n",
    "\n",
    "# input_shape: dimensões da imagem e número de canais(1 para imagens sem cor e 3 para imagens com cor)\n",
    "\n",
    "# função de activação: Aplica a função relu(transforma valores negativos em zero e mantem os restantes iguais) ao mapa de \n",
    "# caracteristicas. Isto permite detectar melhor os padrões(Transforma os pontos mais escuros(com valores negativos) em pontos \n",
    "# mais claros e mais parecidos com os restantes pontos).\n",
    "\n",
    "#---------------------------------------------------------------------------------------------------------------------------\n",
    "# Camada de Normalização\n",
    "# A normalização dos já foi feita anteriormente para a camada de entrada(com X_train/255 e X_test/255). Essa normalização tambem\n",
    "# pode ser feita para as camadas de convoluções, a normalização é feita no mapa de caracteristicas onde todos os valores passam \n",
    "# a estar entre 0 e 1. \n",
    "# Isto faz com que o processamento do algoritmo seja mais rapido.\n",
    "\n",
    "#-------------------------------------------------------------------------------------------------------------------------------\n",
    "\n",
    "# Camada de Pooling\n",
    "# O mapa de caracteristicas é percorrido por uma matriz(neste caso 2x2) para encontrar os valores maiores\n",
    "# (caracteristicas mais importantes) e formar um nova matriz com esses valores(Poolin matrix).  \n",
    "# Os valores da matriz de pooling são obtidos com a subdivisão do mapa de caracteristicas a fazer-se movendo uma coluna para a\n",
    "# direita e uma coluna para baixo.\n",
    "# Como neste caso tem-se 32 mapas de caracteristicas tem-se igual número de matrizes de pooling.\n",
    "\n",
    "# Utiliza-se o Max Pooling para se obter o maior valor e assim realçar as caracteristicas principais da imagem. (tambem se podia\n",
    "# utilizar a média ou o minimo valor).\n",
    "\n",
    "# pool_size: (2,2) tamanho da matriz utilizada para seleccionar as carateristicas do mapa de caracteristicas. Vai originar uma\n",
    "# matriz pooling.\n",
    "\n",
    "#---------------------------------------------------------------------------------------------------------------------------\n",
    "# Camada de Flattening\n",
    "\n",
    "# Transformar a matriz de pooling num vector que irá ser utilizado na camada de entrada da rede neural densa.\n",
    "# Os valores dos neuronios da camada de entrada da rede neural serão os valores desse vector.\n",
    "#---------------------------------------------------------------------------------------------------------------------------\n",
    "\n",
    "# 1ª camada oculta\n",
    "# número de neuronios para primeira modelação:\n",
    "# Optou-se por colocar 128 neuronios.\n",
    "\n",
    "#---------------------------------------------------------------------------------------------------------------------------\n",
    "# Camada Dropout\n",
    "# Ajuda a prevenir o overfitting(que em redes neurais convolucionais tem grande probabilidade de acontecer devido aos muitos\n",
    "# parametros que se utilizam).\n",
    "# Coloca-se zeros em alguns valores/neuronios da camada de entrada de forma aleatoria. Escolhe-se a quantidade/percentagem de \n",
    "# neuronios que terão valor zero. Ao se colocar o valor zero estes neuronios não teram influencia no modelo. Normalmente \n",
    "# utiliza-se uma percentagem entre 20% a 30%. Se for demasiado elevado(maior que 50%) o modelo pode entrar em underfitting, \n",
    "# porque não consegue aprender, pois tem demasiadas entradas que não são consideradas.\n",
    "# Como se utilizam menos variaveis é mais dificil haver alguma que não tenham sido treinada e que o modelo não consiga prever.\n",
    "\n",
    "#--------------------------------------------------------------------------------------------------------------------------\n",
    "\n",
    "# Camada de Saida\n",
    "# Neuronios: Igual ao número de saidas possiveis, para classificação binária normalmente utiliza-se 1. Considera-se o resultado \n",
    "# obtido ser da classe A se for 0 (<0.5) e 1 (>=0.5) é considerado classe B (no caso de se usar a função sigmoid nesta camada).\n",
    "# Função de activação: Sigmoid porque é um problema de classificação binário que varia entre 0 e 1, e esta função retorna sempre\n",
    "# um valor entre 0 e 1.\n",
    "#------------------------------------------------------------------------------------------------------------------------------\n",
    "\n",
    "\n",
    "model = models.Sequential()\n",
    "model.add(layers.Conv2D(32, (3,3), input_shape=(64, 64, 3), activation=\"relu\")) # 1ª camada de convolução e definição da camada\n",
    "model.add(layers.BatchNormalization())                                          # de entrada\n",
    "model.add(layers.MaxPool2D(pool_size=(2,2)))\n",
    "\n",
    "model.add(layers.Conv2D(32, (3,3), activation=\"relu\")) # 2ª camada de convolução\n",
    "model.add(layers.BatchNormalization())\n",
    "model.add(layers.MaxPool2D(pool_size=(2,2)))\n",
    "model.add(layers.Flatten()) # funciona como camada de entrada da rede neural oculta\n",
    "\n",
    "model.add(layers.Dense(units=128, activation=\"relu\")) # 1ª camada de oculta\n",
    "model.add(layers.Dropout(0.2))\n",
    "\n",
    "model.add(layers.Dense(units=1, activation=\"sigmoid\")) # camada de saida"
   ]
  },
  {
   "cell_type": "markdown",
   "metadata": {},
   "source": [
    "## Compilação e Ajuste do modelo CNN"
   ]
  },
  {
   "cell_type": "code",
   "execution_count": 21,
   "metadata": {},
   "outputs": [],
   "source": [
    "# Compilação do modelo\n",
    "model.compile(optimizer=\"adam\", loss=\"binary_crossentropy\", metrics=[\"accuracy\"])"
   ]
  },
  {
   "cell_type": "code",
   "execution_count": 22,
   "metadata": {},
   "outputs": [
    {
     "name": "stdout",
     "output_type": "stream",
     "text": [
      "Epoch 1/4\n"
     ]
    },
    {
     "name": "stderr",
     "output_type": "stream",
     "text": [
      "WARNING: Logging before flag parsing goes to stderr.\n",
      "W0705 13:26:33.273961  7780 deprecation.py:323] From C:\\Users\\Bruno\\Anaconda3\\lib\\site-packages\\tensorflow\\python\\ops\\math_grad.py:1250: add_dispatch_support.<locals>.wrapper (from tensorflow.python.ops.array_ops) is deprecated and will be removed in a future version.\n",
      "Instructions for updating:\n",
      "Use tf.where in 2.0, which has the same broadcast rule as np.where\n"
     ]
    },
    {
     "name": "stdout",
     "output_type": "stream",
     "text": [
      "125/125 [==============================] - 117s 936ms/step - loss: 0.8126 - accuracy: 0.6040 - val_loss: 2.4947 - val_accuracy: 0.5000\n",
      "Epoch 2/4\n",
      "125/125 [==============================] - 100s 804ms/step - loss: 0.6346 - accuracy: 0.6405 - val_loss: 1.3341 - val_accuracy: 0.5730\n",
      "Epoch 3/4\n",
      "125/125 [==============================] - 114s 914ms/step - loss: 0.5979 - accuracy: 0.6862 - val_loss: 0.8414 - val_accuracy: 0.6190\n",
      "Epoch 4/4\n",
      "125/125 [==============================] - 92s 739ms/step - loss: 0.5754 - accuracy: 0.7007 - val_loss: 0.8850 - val_accuracy: 0.6380\n"
     ]
    },
    {
     "data": {
      "text/plain": [
       "<tensorflow.python.keras.callbacks.History at 0x70b5a9ca20>"
      ]
     },
     "execution_count": 22,
     "metadata": {},
     "output_type": "execute_result"
    }
   ],
   "source": [
    "# Em vez do model.fit() utiliza-se o model.fit_generator()\n",
    "\n",
    "#-------------------------------------------------------------------------------------------------------------------------------\n",
    "\n",
    "# epochs: Quantas vezes(iterações) se ajustam os valores de todos os pesos e escolhe-se um detector de carateristicas melhor. \n",
    "# Ou seja quantas vezes se faz o treino dos dados com os valores dos pesos a serem melhorados e a escolher-se(mudar-se) o \n",
    "# detector de caracteristicas.\n",
    "\n",
    "# 1ª epoca- calcula o erro para os primeiros 32 dados e actualiza os pesos. Calcula o o erro para os 32 dados seguintes e \n",
    "# actualiza os pesos. E assim sucessivamente. Actualiza-se(muda-se) o detector de caracteristica no fim desta época.\n",
    "# 2ª epoca- calcula o erro para os primeiros 32 dados(com os pesos da 1ª epoca) e actualiza os pesos. Calcula o o erro para os\n",
    "# 32 dados seguintes(com os pesos da 1ª epoca) e actualiza-se os pesos. E assim sucessivamente. Actualiza-se(muda-se) o\n",
    "# detector de caracteristica no fim desta época.\n",
    "\n",
    "# 4000/32 = 125 batchs. Os pesos e o detector de caracteristicas são actualizados 125 vezes em cada epoca.\n",
    "\n",
    "#-------------------------------------------------------------------------------------------------------------------------------\n",
    "\n",
    "# steps_per_epoch: 4000/32 = 125\n",
    "# Número de iterações por epoca. Garante que apenas as primerias 125 amostras(batchs) são consideradas. É util quando se tem um\n",
    "# conjunto de dados demasiado grande para ser processado.\n",
    "# 1ª epoca: calcula o erro para os primeiros 32 dados e actualiza os pesos (O detector de caracteristicas só é actualizado\n",
    "# no fim de cada época). Calcula o o erro para os 32 dados seguintes e actualiza os pesos.\n",
    "# E assim sucessivamente até terem sido realizadas 125 iterações. Ou seja apenas se consideraram as primeiras 4000\n",
    "# imagens.\n",
    "# Assim as 4000 imagens originais são transformadas por epoca. \n",
    "\n",
    "# Com o steps_per_epoch=n_samples/batch_size em cada epoca cada amostra é transformada apenas uma vez e portanto neste caso\n",
    "# vão ser geradas 4000 imagens transformadas a cada epoca. Essas imagens vão ser as usadas para se fazer o treino. Na proxima\n",
    "# epoca uma nova transformação aleatoria das 4000 imagens é feita e o treino é feito com essas imagens tranformadas.\n",
    "# Ou seja não se está a aumentar o número de imagens de treino de 4000 para um número maior, mas a fazer o treino em 4000\n",
    "# imagens que são transformadas de epoca para epoca.\n",
    "\n",
    "# Por exemplo na primeira epoca a 1ª imagem orinal é transformada aleatoriamente e faz-se o treino com base nessa transformação.\n",
    "# Na segunda epoca a 1ª imagem orinal volta a ser transformada aleatoriamente e faz-se o treino com base nessa transformação.\n",
    "# E assim sucessivamente.\n",
    "# Para 5 epocas cada imagem é transformada 5 vezes.\n",
    "\n",
    "# Não faz sentido alterar o steps_per_epoch=n_samples/batch_size para um valor diferente.\n",
    "# Por exemplo ao se escolher o steps_per_epoch=2x(n_samples/batch_size) para aumentar o número de transformações que uma imagem\n",
    "# sofre por epoca(de 1 transformação para 2). Esta-se a fazer com que cada epoca seja 2 epocas normais. Ou seja, deveria-se\n",
    "# aumentar o númemro de epocas e não o steps_per_epoch.\n",
    "\n",
    "#-------------------------------------------------------------------------------------------------------------------------------\n",
    "\n",
    "#validation_steps: Semelhante ao steps_per_epoch mas aplicado ao conjunto de dados de teste.\n",
    "\n",
    "#-------------------------------------------------------------------------------------------------------------------------------\n",
    "\n",
    "# Validation data: Avaliação do modelo utilizando a base de dados de teste (val_accuracy).\n",
    "\n",
    "# Ajustar os dados de entrada de treino aos dados de saida para treinar o modelo(Estão os dois na base de dados de treino).\n",
    "model.fit_generator(train_data_base, steps_per_epoch=4000/32, epochs=4, validation_data=test_data_base, \n",
    "                    validation_steps=1000/32)"
   ]
  },
  {
   "cell_type": "markdown",
   "metadata": {},
   "source": [
    "## Previsão de uma imagem"
   ]
  },
  {
   "cell_type": "code",
   "execution_count": 84,
   "metadata": {},
   "outputs": [
    {
     "data": {
      "image/png": "[encoded data removed]",
      "text/plain": [
       "<PIL.Image.Image image mode=RGB size=64x64 at 0x70B77FD978>"
      ]
     },
     "execution_count": 84,
     "metadata": {},
     "output_type": "execute_result"
    }
   ],
   "source": [
    "# Importar uma imagem de teste\n",
    "image_test = preprocessing.image.load_img(\"dataset/test_set/cachorro/dog.3500.jpg\", target_size=(64,64))\n",
    "image_test"
   ]
  },
  {
   "cell_type": "code",
   "execution_count": 85,
   "metadata": {},
   "outputs": [
    {
     "data": {
      "text/plain": [
       "(64, 64, 3)"
      ]
     },
     "execution_count": 85,
     "metadata": {},
     "output_type": "execute_result"
    }
   ],
   "source": [
    "# Converter o formato da imagem de Image para array\n",
    "image_test = preprocessing.image.img_to_array(image_test)\n",
    "image_test.shape"
   ]
  },
  {
   "cell_type": "code",
   "execution_count": 86,
   "metadata": {},
   "outputs": [],
   "source": [
    "# Normalização dos pixeis\n",
    "image_test = image_test/255"
   ]
  },
  {
   "cell_type": "code",
   "execution_count": 87,
   "metadata": {},
   "outputs": [
    {
     "data": {
      "text/plain": [
       "(1, 64, 64, 3)"
      ]
     },
     "execution_count": 87,
     "metadata": {},
     "output_type": "execute_result"
    }
   ],
   "source": [
    "# Adicionar uma nova dimenção ao array com a imagem\n",
    "\n",
    "# 1º parâmetro: número de imagens\n",
    "# 2º parâmetro: Altura da imagem (nº de pixeis da imagem na vertical).\n",
    "# 3º parâmetro: Largura da imagem (nº de pixeis da imagem na horizontal).\n",
    "# 4º parâmetro: Escala rgb: 1 para escala de cinzentos.\n",
    "\n",
    "image_test = np.expand_dims(image_test, axis = 0)\n",
    "image_test.shape"
   ]
  },
  {
   "cell_type": "code",
   "execution_count": 88,
   "metadata": {},
   "outputs": [
    {
     "data": {
      "text/plain": [
       "array([[0.37488317]], dtype=float32)"
      ]
     },
     "execution_count": 88,
     "metadata": {},
     "output_type": "execute_result"
    }
   ],
   "source": [
    "# Probabilidade da imagem pertencer à classe 1 ou classe 0.\n",
    "# Como é um problema de classificação binária(utilizou-se a função sigmoid) quanto mas proximo do 1 estiver a previsão maior\n",
    "# é a probabilidade da imagem pertencer à classe 1.\n",
    "result = model.predict(image_test)\n",
    "result"
   ]
  },
  {
   "cell_type": "code",
   "execution_count": 89,
   "metadata": {},
   "outputs": [
    {
     "data": {
      "text/plain": [
       "{'cachorro': 0, 'gato': 1}"
      ]
     },
     "execution_count": 89,
     "metadata": {},
     "output_type": "execute_result"
    }
   ],
   "source": [
    "# Ver os indices da base de dados de treino\n",
    "train_data_base.class_indices"
   ]
  },
  {
   "cell_type": "code",
   "execution_count": 90,
   "metadata": {},
   "outputs": [],
   "source": [
    "# Função com as classes das imagens\n",
    "\n",
    "# Definiu-se o 0.5 como barreira para pertencer à classe 0 ou classe 1. Esta barreira deve ser modificada quando por exemplo\n",
    "# se trata da administração de medicamentos com efeitos secundários perigosos por exemplo abaixo de 0.99 pertence à classe 0 e\n",
    "# o medicamento não deve ser receitado.\n",
    "\n",
    "def name():\n",
    "    if result < 0.5:\n",
    "        print(\"Cão\")\n",
    "    if result >= 0.5:\n",
    "        print(\"Gato\")"
   ]
  },
  {
   "cell_type": "code",
   "execution_count": 91,
   "metadata": {},
   "outputs": [
    {
     "name": "stdout",
     "output_type": "stream",
     "text": [
      "Cão\n"
     ]
    }
   ],
   "source": [
    "# Previsão do objecto na imagem\n",
    "name()"
   ]
  }
 ],
 "metadata": {
  "kernelspec": {
   "display_name": "Python 3",
   "language": "python",
   "name": "python3"
  },
  "language_info": {
   "codemirror_mode": {
    "name": "ipython",
    "version": 3
   },
   "file_extension": ".py",
   "mimetype": "text/x-python",
   "name": "python",
   "nbconvert_exporter": "python",
   "pygments_lexer": "ipython3",
   "version": "3.7.3"
  }
 },
 "nbformat": 4,
 "nbformat_minor": 2
}
