{
 "cells": [
  {
   "cell_type": "markdown",
   "metadata": {},
   "source": [
    "# Rede Neural Recorrente - Série Temporal com 1 previsor"
   ]
  },
  {
   "cell_type": "code",
   "execution_count": 116,
   "metadata": {},
   "outputs": [],
   "source": [
    "import pandas as pd\n",
    "import numpy as np\n",
    "\n",
    "import matplotlib.pyplot as plt\n",
    "import seaborn as sns\n",
    "\n",
    "import tensorflow as tf\n",
    "from tensorflow.keras import layers, models\n",
    "\n",
    "%matplotlib inline"
   ]
  },
  {
   "cell_type": "markdown",
   "metadata": {},
   "source": [
    "## Obter os dados de treino"
   ]
  },
  {
   "cell_type": "code",
   "execution_count": 117,
   "metadata": {},
   "outputs": [],
   "source": [
    "data_train = pd.read_csv(\"petr4-treinamento.csv\")"
   ]
  },
  {
   "cell_type": "code",
   "execution_count": 118,
   "metadata": {},
   "outputs": [
    {
     "data": {
      "text/html": [
       "<div>\n",
       "<style scoped>\n",
       "    .dataframe tbody tr th:only-of-type {\n",
       "        vertical-align: middle;\n",
       "    }\n",
       "\n",
       "    .dataframe tbody tr th {\n",
       "        vertical-align: top;\n",
       "    }\n",
       "\n",
       "    .dataframe thead th {\n",
       "        text-align: right;\n",
       "    }\n",
       "</style>\n",
       "<table border=\"1\" class=\"dataframe\">\n",
       "  <thead>\n",
       "    <tr style=\"text-align: right;\">\n",
       "      <th></th>\n",
       "      <th>Date</th>\n",
       "      <th>Open</th>\n",
       "      <th>High</th>\n",
       "      <th>Low</th>\n",
       "      <th>Close</th>\n",
       "      <th>Adj Close</th>\n",
       "      <th>Volume</th>\n",
       "    </tr>\n",
       "  </thead>\n",
       "  <tbody>\n",
       "    <tr>\n",
       "      <th>0</th>\n",
       "      <td>2013-01-02</td>\n",
       "      <td>19.990000</td>\n",
       "      <td>20.209999</td>\n",
       "      <td>19.690001</td>\n",
       "      <td>19.690001</td>\n",
       "      <td>18.086271</td>\n",
       "      <td>30182600.0</td>\n",
       "    </tr>\n",
       "    <tr>\n",
       "      <th>1</th>\n",
       "      <td>2013-01-03</td>\n",
       "      <td>19.809999</td>\n",
       "      <td>20.400000</td>\n",
       "      <td>19.700001</td>\n",
       "      <td>20.400000</td>\n",
       "      <td>18.738441</td>\n",
       "      <td>30552600.0</td>\n",
       "    </tr>\n",
       "    <tr>\n",
       "      <th>2</th>\n",
       "      <td>2013-01-04</td>\n",
       "      <td>20.330000</td>\n",
       "      <td>20.620001</td>\n",
       "      <td>20.170000</td>\n",
       "      <td>20.430000</td>\n",
       "      <td>18.766001</td>\n",
       "      <td>36141000.0</td>\n",
       "    </tr>\n",
       "    <tr>\n",
       "      <th>3</th>\n",
       "      <td>2013-01-07</td>\n",
       "      <td>20.480000</td>\n",
       "      <td>20.670000</td>\n",
       "      <td>19.950001</td>\n",
       "      <td>20.080000</td>\n",
       "      <td>18.444506</td>\n",
       "      <td>28069600.0</td>\n",
       "    </tr>\n",
       "    <tr>\n",
       "      <th>4</th>\n",
       "      <td>2013-01-08</td>\n",
       "      <td>20.110001</td>\n",
       "      <td>20.230000</td>\n",
       "      <td>19.459999</td>\n",
       "      <td>19.500000</td>\n",
       "      <td>17.911745</td>\n",
       "      <td>29091300.0</td>\n",
       "    </tr>\n",
       "  </tbody>\n",
       "</table>\n",
       "</div>"
      ],
      "text/plain": [
       "         Date       Open       High        Low      Close  Adj Close  \\\n",
       "0  2013-01-02  19.990000  20.209999  19.690001  19.690001  18.086271   \n",
       "1  2013-01-03  19.809999  20.400000  19.700001  20.400000  18.738441   \n",
       "2  2013-01-04  20.330000  20.620001  20.170000  20.430000  18.766001   \n",
       "3  2013-01-07  20.480000  20.670000  19.950001  20.080000  18.444506   \n",
       "4  2013-01-08  20.110001  20.230000  19.459999  19.500000  17.911745   \n",
       "\n",
       "       Volume  \n",
       "0  30182600.0  \n",
       "1  30552600.0  \n",
       "2  36141000.0  \n",
       "3  28069600.0  \n",
       "4  29091300.0  "
      ]
     },
     "execution_count": 118,
     "metadata": {},
     "output_type": "execute_result"
    }
   ],
   "source": [
    "data_train.head()"
   ]
  },
  {
   "cell_type": "markdown",
   "metadata": {},
   "source": [
    "## Pré-Processamento dos dados de treino - Tratamento dos dados Ausentes"
   ]
  },
  {
   "cell_type": "code",
   "execution_count": 119,
   "metadata": {},
   "outputs": [
    {
     "data": {
      "text/plain": [
       "Date         0\n",
       "Open         3\n",
       "High         3\n",
       "Low          3\n",
       "Close        3\n",
       "Adj Close    3\n",
       "Volume       3\n",
       "dtype: int64"
      ]
     },
     "execution_count": 119,
     "metadata": {},
     "output_type": "execute_result"
    }
   ],
   "source": [
    "# Só existem 3 valores ausentes nos dados de treino\n",
    "data_train.isnull().sum()"
   ]
  },
  {
   "cell_type": "code",
   "execution_count": 120,
   "metadata": {},
   "outputs": [
    {
     "data": {
      "text/plain": [
       "(1245, 7)"
      ]
     },
     "execution_count": 120,
     "metadata": {},
     "output_type": "execute_result"
    }
   ],
   "source": [
    "# Tamanho original do dataset de treino\n",
    "data_train.shape"
   ]
  },
  {
   "cell_type": "code",
   "execution_count": 121,
   "metadata": {},
   "outputs": [],
   "source": [
    "# Como apenas 3 linhas têm valores ausentes optou-se por apagar essas linhas.\n",
    "data_train = data_train.dropna()"
   ]
  },
  {
   "cell_type": "code",
   "execution_count": 122,
   "metadata": {},
   "outputs": [
    {
     "data": {
      "text/plain": [
       "(1242, 7)"
      ]
     },
     "execution_count": 122,
     "metadata": {},
     "output_type": "execute_result"
    }
   ],
   "source": [
    "# Confirmação de ter-se removido apenas 3 linhas\n",
    "data_train.shape"
   ]
  },
  {
   "cell_type": "code",
   "execution_count": 123,
   "metadata": {},
   "outputs": [
    {
     "data": {
      "text/plain": [
       "Date         0\n",
       "Open         0\n",
       "High         0\n",
       "Low          0\n",
       "Close        0\n",
       "Adj Close    0\n",
       "Volume       0\n",
       "dtype: int64"
      ]
     },
     "execution_count": 123,
     "metadata": {},
     "output_type": "execute_result"
    }
   ],
   "source": [
    "# Confirmação da anão existencia de valores nulos\n",
    "data_train.isnull().sum()"
   ]
  },
  {
   "cell_type": "markdown",
   "metadata": {},
   "source": [
    "## Pré-Processamento dos dados de treino- Normalização das Variaveis"
   ]
  },
  {
   "cell_type": "code",
   "execution_count": 124,
   "metadata": {},
   "outputs": [],
   "source": [
    "from sklearn.preprocessing import MinMaxScaler"
   ]
  },
  {
   "cell_type": "code",
   "execution_count": 125,
   "metadata": {},
   "outputs": [],
   "source": [
    "# Nas redes neurais recorrentes, como cada neuronio aponta para ele mesmo(possui loops), ou seja, o valor da função de ativação \n",
    "# é passado para as camadas subsequentes e também para a própria camada. Assim sendo a rede neural recorrente pode ser \n",
    "# considerada como várias cópias de si mesma. \n",
    "# Utiliza-se a normalização para que o poder computacional necessário não seja tão grande.\n",
    "\n",
    "# StandardScaler: Assume que as variaveis seguem uma distribuição normal. Após a normalização o desvio padrão das variaveis\n",
    "# será 1 e a media 0. É util quando se têm valores negativos. Após a sua aplicação todas as variaveis têm a mesma escala.\n",
    "\n",
    "# MinMaxScaler: Espreme as variaveis numa escala de -1 a 1 (se existirem valores negativos). É utilizado quando a distribuição\n",
    "# não é gausiana. Funciona bem se o desio padrão for pequeno e é sensivel a outliers.\n",
    "\n",
    "scaler = MinMaxScaler(feature_range=(0,1))"
   ]
  },
  {
   "cell_type": "code",
   "execution_count": 126,
   "metadata": {},
   "outputs": [
    {
     "data": {
      "text/plain": [
       "MinMaxScaler(copy=True, feature_range=(0, 1))"
      ]
     },
     "execution_count": 126,
     "metadata": {},
     "output_type": "execute_result"
    }
   ],
   "source": [
    "# Normalizar a variavel de entrada\n",
    "# Apenas se vai normalizar a variavel Open, porque irá ser a unica variavel de entrada utilizada para fazer o treino do modelo.\n",
    "scaler.fit(data_train.drop([\"Date\", \"High\", \"Low\", \"Close\", \"Adj Close\", \"Volume\"], axis=1))"
   ]
  },
  {
   "cell_type": "code",
   "execution_count": 127,
   "metadata": {},
   "outputs": [],
   "source": [
    "# Array com a variavel Open normalizada\n",
    "open_norm_train = scaler.fit_transform(data_train.drop([\"Date\", \"High\", \"Low\", \"Close\", \"Adj Close\", \"Volume\"], axis=1))"
   ]
  },
  {
   "cell_type": "markdown",
   "metadata": {},
   "source": [
    "## Divisão dos dados de treino"
   ]
  },
  {
   "cell_type": "code",
   "execution_count": 128,
   "metadata": {},
   "outputs": [
    {
     "data": {
      "text/plain": [
       "array([[0.76501938],\n",
       "       [0.7562984 ],\n",
       "       [0.78149225],\n",
       "       [0.78875969],\n",
       "       [0.77083338]])"
      ]
     },
     "execution_count": 128,
     "metadata": {},
     "output_type": "execute_result"
    }
   ],
   "source": [
    "# Utilizar apenas o preço de abertura para prever o preço das acções.\n",
    "open_norm_train[0:5]"
   ]
  },
  {
   "cell_type": "code",
   "execution_count": 129,
   "metadata": {},
   "outputs": [],
   "source": [
    "# Prever o preço das acções com base nos preços de abertura nos 90 dias anteriores.\n",
    "\n",
    "X_train = [] # vector com os preços nos 90 dias anteriores.\n",
    "y_train = [] # vector com o preço da acção no dia 91."
   ]
  },
  {
   "cell_type": "code",
   "execution_count": 130,
   "metadata": {},
   "outputs": [],
   "source": [
    "# Só é possivel prever o preço das acções desde o dia 90 até ao dia 1242. Porque só se tem registro de 1242 dias e \n",
    "# estabeleceu-se como critério utilizar os 90 dias anteriores para fazer uma previsão.\n",
    "\n",
    "for i in range(90, 1242):\n",
    "    X_train.append(open_norm_train[i-90:i,0])\n",
    "    y_train.append(open_norm_train[i, 0])"
   ]
  },
  {
   "cell_type": "code",
   "execution_count": 131,
   "metadata": {},
   "outputs": [],
   "source": [
    "# Converter os vectores em arrays\n",
    "X_train, y_train = np.array(X_train), np.array(y_train)"
   ]
  },
  {
   "cell_type": "code",
   "execution_count": 132,
   "metadata": {},
   "outputs": [
    {
     "data": {
      "text/plain": [
       "(1152, 90)"
      ]
     },
     "execution_count": 132,
     "metadata": {},
     "output_type": "execute_result"
    }
   ],
   "source": [
    "X_train.shape"
   ]
  },
  {
   "cell_type": "code",
   "execution_count": 133,
   "metadata": {},
   "outputs": [
    {
     "data": {
      "text/plain": [
       "array([0.77761628, 0.77325581, 0.7562984 , 0.74273261, 0.74127907])"
      ]
     },
     "execution_count": 133,
     "metadata": {},
     "output_type": "execute_result"
    }
   ],
   "source": [
    "# X_train[0]: preço nos primeiros 90 dias. Utilizado para prever o preço no dia 91.\n",
    "# X_train[1]: preços entre o dia 1 e dia 91. Utilizado para prever o preço no dia 92.\n",
    "# X_train[2]: preço entre o dia 2 e dia 92. Utilizado para prever o preço no dia 93.\n",
    "\n",
    "X_train[0,84:89]"
   ]
  },
  {
   "cell_type": "code",
   "execution_count": 134,
   "metadata": {},
   "outputs": [
    {
     "data": {
      "text/plain": [
       "array([0.77470935])"
      ]
     },
     "execution_count": 134,
     "metadata": {},
     "output_type": "execute_result"
    }
   ],
   "source": [
    "# y_train[0:1]: preço no dia 91.\n",
    "# y_train[1:2] preço no dia 92.\n",
    "y_train[2:3]"
   ]
  },
  {
   "cell_type": "code",
   "execution_count": 135,
   "metadata": {},
   "outputs": [],
   "source": [
    "# A camada de entrada tem de ser um tensor 3d (input_shape, timesteps, input_dim)\n",
    "# input_shape: 1152 registros. Número de registros totais\n",
    "# timesteps: 90 registros. Número de registros utilizados para fazer a previsão.\n",
    "#input_dim: 1 indicador(apenas 1 variavel de entrada)\n",
    "\n",
    "X_train = np.reshape(X_train, (X_train.shape[0], X_train.shape[1], 1))"
   ]
  },
  {
   "cell_type": "code",
   "execution_count": 136,
   "metadata": {},
   "outputs": [
    {
     "data": {
      "text/plain": [
       "(1152, 90, 1)"
      ]
     },
     "execution_count": 136,
     "metadata": {},
     "output_type": "execute_result"
    }
   ],
   "source": [
    "X_train.shape"
   ]
  },
  {
   "cell_type": "markdown",
   "metadata": {},
   "source": [
    "## Modelo Rede Neural Recorrente"
   ]
  },
  {
   "cell_type": "code",
   "execution_count": 137,
   "metadata": {},
   "outputs": [],
   "source": [
    "# sequential - A informação é passada de uma camada para a camada seguinte\n",
    "\n",
    "#-------------------------------------------------------------------------------------------------------------------------------\n",
    "# Camada LSTM\n",
    "\n",
    "# LSTM - Long short term memory. AS redes neurais simples têm dificuldade em \"aprender\" alguns tipos de padrões mais complexos.\n",
    "# Nesses casos pode-se utilizar o tipo de rede neural recorrente LSTM que aprende \"dependencias\" de longo prazo.\n",
    "\n",
    "# As redes neurais recorrentes simples armazenam as informações no tempo atraves de loops( o neuronio apenas aponta para ele \n",
    "# mesmo e para a camada seguinte). Isto permte que a informação persista.\n",
    "# As redes neurais recorrentes LSTM para alem disso têm celulas de memoria e manipulam essas celulas de modo a filtrar e \n",
    "# armazenar a informação importante nessas celulas.\n",
    "\n",
    "# As redes neurais recorrentes ajudam no problema do gradiente desaparecendo(vanish gradient). No ajuste dos pesos ao se\n",
    "# utilizar a descida do gradiente e a sua actualização atraves de backpropagation em primeiro faz-se os calculos da camada\n",
    "# de entrada para a camada de saida. Os pesos são depois actalizados a partir da camada de saida para a camada de entrada. Os\n",
    "# pesos vão sendo actualizados utilizando o learning rate(maiores alterações nas 1ªs camadas). Caso se tenha muitos loops\n",
    "# as ultimas actualizações do gradiente são muito pequenas, o que faz com que o peso não tenha alteração no seu valor.\n",
    "\n",
    "# Número de celulas de memoria(units): Número de vezes(loops) em que a informação é passada ao mesmo neuronio e a camada \n",
    "# seguinte (numero de cópias da camada). Deve ser um valor alto para adicinonar mais dimensionalidade e decorar a tendencia ao \n",
    "# longo do tempo.\n",
    "\n",
    "# Return_sequence: True. Apenas se utilizada quando se tem mais de uma camada LSTM. Indica que a informação será passada para a\n",
    "# camada seguinte.\n",
    "\n",
    "# input_shape: Número de registros utilizados para fazer a previsão(90) e número de variaveis de entrada(1).\n",
    "#-------------------------------------------------------------------------------------------------------------------------------\n",
    "# Camada densa\n",
    "\n",
    "# Todos os neuronios da ultima camada( segunda camada LSTM) estão conectados à camada de saida. Nas camadas LSTM isso tambem\n",
    "# acontece.\n",
    "\n",
    "# units: 1. Só se quer prever o valor Open.\n",
    "# activation: linear. É um problema de regressão. Como os valores estão normalizados(entre 0 e 1) caso se utiliza-se a função\n",
    "# sigmoid tambem se retornaria valores entre 0 e 1.\n",
    "#-------------------------------------------------------------------------------------------------------------------------------\n",
    "\n",
    "model = models.Sequential()\n",
    "model.add(layers.LSTM(units=100, return_sequences=True, input_shape=(X_train.shape[1], 1)))\n",
    "model.add(layers.Dropout(0.3))\n",
    "\n",
    "model.add(layers.LSTM(units=50, return_sequences=True))\n",
    "model.add(layers.Dropout(0.3))\n",
    "\n",
    "model.add(layers.LSTM(units=50, return_sequences=True))\n",
    "model.add(layers.Dropout(0.3))\n",
    "\n",
    "model.add(layers.LSTM(units=50))\n",
    "model.add(layers.Dropout(0.3))\n",
    "\n",
    "model.add(layers.Dense(units=1, activation=\"linear\"))"
   ]
  },
  {
   "cell_type": "markdown",
   "metadata": {},
   "source": [
    "## Compilação e Ajuste do modelo RNN"
   ]
  },
  {
   "cell_type": "code",
   "execution_count": 138,
   "metadata": {},
   "outputs": [],
   "source": [
    "# optimizer: pode-se utilizar o RMSprop, indicado para redes neurais recorrentes, ou o adam que obtem resultados semelhantes.\n",
    "# loss: mean_squared_error é o parametro utilizado para problemas de regressão.\n",
    "\n",
    "# Compilação do modelo\n",
    "model.compile(optimizer=\"rmsprop\", loss=\"mean_squared_error\", metrics=[\"mean_absolute_error\"])"
   ]
  },
  {
   "cell_type": "code",
   "execution_count": 139,
   "metadata": {},
   "outputs": [
    {
     "name": "stdout",
     "output_type": "stream",
     "text": [
      "Train on 1152 samples\n",
      "Epoch 1/50\n",
      "1152/1152 [==============================] - 10s 9ms/sample - loss: 0.0352 - mean_absolute_error: 0.1360\n",
      "Epoch 2/50\n",
      "1152/1152 [==============================] - 8s 7ms/sample - loss: 0.0149 - mean_absolute_error: 0.0935\n",
      "Epoch 3/50\n",
      "1152/1152 [==============================] - 8s 7ms/sample - loss: 0.0127 - mean_absolute_error: 0.0877\n",
      "Epoch 4/50\n",
      "1152/1152 [==============================] - 8s 7ms/sample - loss: 0.0120 - mean_absolute_error: 0.0829\n",
      "Epoch 5/50\n",
      "1152/1152 [==============================] - 8s 7ms/sample - loss: 0.0100 - mean_absolute_error: 0.0769\n",
      "Epoch 6/50\n",
      "1152/1152 [==============================] - 8s 7ms/sample - loss: 0.0092 - mean_absolute_error: 0.0740\n",
      "Epoch 7/50\n",
      "1152/1152 [==============================] - 8s 7ms/sample - loss: 0.0083 - mean_absolute_error: 0.0707\n",
      "Epoch 8/50\n",
      "1152/1152 [==============================] - 8s 7ms/sample - loss: 0.0077 - mean_absolute_error: 0.0674\n",
      "Epoch 9/50\n",
      "1152/1152 [==============================] - 8s 7ms/sample - loss: 0.0073 - mean_absolute_error: 0.0655\n",
      "Epoch 10/50\n",
      "1152/1152 [==============================] - 8s 7ms/sample - loss: 0.0064 - mean_absolute_error: 0.0615\n",
      "Epoch 11/50\n",
      "1152/1152 [==============================] - 8s 7ms/sample - loss: 0.0061 - mean_absolute_error: 0.0603\n",
      "Epoch 12/50\n",
      "1152/1152 [==============================] - 8s 7ms/sample - loss: 0.0060 - mean_absolute_error: 0.0599\n",
      "Epoch 13/50\n",
      "1152/1152 [==============================] - 8s 7ms/sample - loss: 0.0063 - mean_absolute_error: 0.0601\n",
      "Epoch 14/50\n",
      "1152/1152 [==============================] - 8s 7ms/sample - loss: 0.0051 - mean_absolute_error: 0.0561\n",
      "Epoch 15/50\n",
      "1152/1152 [==============================] - 8s 7ms/sample - loss: 0.0050 - mean_absolute_error: 0.0528\n",
      "Epoch 16/50\n",
      "1152/1152 [==============================] - 8s 7ms/sample - loss: 0.0046 - mean_absolute_error: 0.0522\n",
      "Epoch 17/50\n",
      "1152/1152 [==============================] - 8s 7ms/sample - loss: 0.0051 - mean_absolute_error: 0.0536\n",
      "Epoch 18/50\n",
      "1152/1152 [==============================] - 8s 7ms/sample - loss: 0.0048 - mean_absolute_error: 0.0531\n",
      "Epoch 19/50\n",
      "1152/1152 [==============================] - 8s 7ms/sample - loss: 0.0044 - mean_absolute_error: 0.0500\n",
      "Epoch 20/50\n",
      "1152/1152 [==============================] - 8s 7ms/sample - loss: 0.0042 - mean_absolute_error: 0.0489\n",
      "Epoch 21/50\n",
      "1152/1152 [==============================] - 8s 7ms/sample - loss: 0.0042 - mean_absolute_error: 0.0499\n",
      "Epoch 22/50\n",
      "1152/1152 [==============================] - 8s 7ms/sample - loss: 0.0041 - mean_absolute_error: 0.0483\n",
      "Epoch 23/50\n",
      "1152/1152 [==============================] - 8s 7ms/sample - loss: 0.0040 - mean_absolute_error: 0.0477\n",
      "Epoch 24/50\n",
      "1152/1152 [==============================] - 8s 7ms/sample - loss: 0.0036 - mean_absolute_error: 0.0454\n",
      "Epoch 25/50\n",
      "1152/1152 [==============================] - 8s 7ms/sample - loss: 0.0039 - mean_absolute_error: 0.0480\n",
      "Epoch 26/50\n",
      "1152/1152 [==============================] - 8s 7ms/sample - loss: 0.0035 - mean_absolute_error: 0.0446\n",
      "Epoch 27/50\n",
      "1152/1152 [==============================] - 8s 7ms/sample - loss: 0.0037 - mean_absolute_error: 0.0453\n",
      "Epoch 28/50\n",
      "1152/1152 [==============================] - 8s 7ms/sample - loss: 0.0037 - mean_absolute_error: 0.0465\n",
      "Epoch 29/50\n",
      "1152/1152 [==============================] - 8s 7ms/sample - loss: 0.0037 - mean_absolute_error: 0.0458\n",
      "Epoch 30/50\n",
      "1152/1152 [==============================] - 8s 7ms/sample - loss: 0.0032 - mean_absolute_error: 0.0436\n",
      "Epoch 31/50\n",
      "1152/1152 [==============================] - 8s 7ms/sample - loss: 0.0030 - mean_absolute_error: 0.0399\n",
      "Epoch 32/50\n",
      "1152/1152 [==============================] - 8s 7ms/sample - loss: 0.0032 - mean_absolute_error: 0.0428\n",
      "Epoch 33/50\n",
      "1152/1152 [==============================] - 8s 7ms/sample - loss: 0.0033 - mean_absolute_error: 0.0431\n",
      "Epoch 34/50\n",
      "1152/1152 [==============================] - 8s 7ms/sample - loss: 0.0028 - mean_absolute_error: 0.0408\n",
      "Epoch 35/50\n",
      "1152/1152 [==============================] - 8s 7ms/sample - loss: 0.0029 - mean_absolute_error: 0.0414\n",
      "Epoch 36/50\n",
      "1152/1152 [==============================] - 8s 7ms/sample - loss: 0.0029 - mean_absolute_error: 0.0406\n",
      "Epoch 37/50\n",
      "1152/1152 [==============================] - 8s 7ms/sample - loss: 0.0028 - mean_absolute_error: 0.0404\n",
      "Epoch 38/50\n",
      "1152/1152 [==============================] - 8s 7ms/sample - loss: 0.0028 - mean_absolute_error: 0.0408\n",
      "Epoch 39/50\n",
      "1152/1152 [==============================] - 8s 7ms/sample - loss: 0.0028 - mean_absolute_error: 0.0400\n",
      "Epoch 40/50\n",
      "1152/1152 [==============================] - 8s 7ms/sample - loss: 0.0027 - mean_absolute_error: 0.0398\n",
      "Epoch 41/50\n",
      "1152/1152 [==============================] - 8s 7ms/sample - loss: 0.0023 - mean_absolute_error: 0.0379\n",
      "Epoch 42/50\n",
      "1152/1152 [==============================] - 8s 7ms/sample - loss: 0.0025 - mean_absolute_error: 0.0386\n",
      "Epoch 43/50\n",
      "1152/1152 [==============================] - 8s 7ms/sample - loss: 0.0023 - mean_absolute_error: 0.0377\n",
      "Epoch 44/50\n",
      "1152/1152 [==============================] - 8s 7ms/sample - loss: 0.0025 - mean_absolute_error: 0.0383\n",
      "Epoch 45/50\n",
      "1152/1152 [==============================] - 8s 7ms/sample - loss: 0.0025 - mean_absolute_error: 0.0381\n",
      "Epoch 46/50\n",
      "1152/1152 [==============================] - 8s 7ms/sample - loss: 0.0024 - mean_absolute_error: 0.0369\n",
      "Epoch 47/50\n",
      "1152/1152 [==============================] - 8s 7ms/sample - loss: 0.0022 - mean_absolute_error: 0.0368\n",
      "Epoch 48/50\n",
      "1152/1152 [==============================] - 8s 7ms/sample - loss: 0.0021 - mean_absolute_error: 0.0350\n",
      "Epoch 49/50\n",
      "1152/1152 [==============================] - 8s 7ms/sample - loss: 0.0025 - mean_absolute_error: 0.0371\n",
      "Epoch 50/50\n",
      "1152/1152 [==============================] - 8s 7ms/sample - loss: 0.0023 - mean_absolute_error: 0.0360\n"
     ]
    },
    {
     "data": {
      "text/plain": [
       "<tensorflow.python.keras.callbacks.History at 0x1293780f98>"
      ]
     },
     "execution_count": 139,
     "metadata": {},
     "output_type": "execute_result"
    }
   ],
   "source": [
    "# Ajustar os dados de entrada de treino aos dados de saida para treinar o modelo.\n",
    "model.fit(X_train, y_train, epochs=50, batch_size=32)"
   ]
  },
  {
   "cell_type": "markdown",
   "metadata": {},
   "source": [
    "## Obter os dados de teste"
   ]
  },
  {
   "cell_type": "code",
   "execution_count": 140,
   "metadata": {},
   "outputs": [],
   "source": [
    "data_test = pd.read_csv(\"petr4-teste.csv\")"
   ]
  },
  {
   "cell_type": "code",
   "execution_count": 141,
   "metadata": {},
   "outputs": [
    {
     "data": {
      "text/html": [
       "<div>\n",
       "<style scoped>\n",
       "    .dataframe tbody tr th:only-of-type {\n",
       "        vertical-align: middle;\n",
       "    }\n",
       "\n",
       "    .dataframe tbody tr th {\n",
       "        vertical-align: top;\n",
       "    }\n",
       "\n",
       "    .dataframe thead th {\n",
       "        text-align: right;\n",
       "    }\n",
       "</style>\n",
       "<table border=\"1\" class=\"dataframe\">\n",
       "  <thead>\n",
       "    <tr style=\"text-align: right;\">\n",
       "      <th></th>\n",
       "      <th>Date</th>\n",
       "      <th>Open</th>\n",
       "      <th>High</th>\n",
       "      <th>Low</th>\n",
       "      <th>Close</th>\n",
       "      <th>Adj Close</th>\n",
       "      <th>Volume</th>\n",
       "    </tr>\n",
       "  </thead>\n",
       "  <tbody>\n",
       "    <tr>\n",
       "      <th>0</th>\n",
       "      <td>2018-01-02</td>\n",
       "      <td>16.190001</td>\n",
       "      <td>16.549999</td>\n",
       "      <td>16.190001</td>\n",
       "      <td>16.549999</td>\n",
       "      <td>16.516966</td>\n",
       "      <td>33461800</td>\n",
       "    </tr>\n",
       "    <tr>\n",
       "      <th>1</th>\n",
       "      <td>2018-01-03</td>\n",
       "      <td>16.490000</td>\n",
       "      <td>16.719999</td>\n",
       "      <td>16.370001</td>\n",
       "      <td>16.700001</td>\n",
       "      <td>16.666668</td>\n",
       "      <td>55940900</td>\n",
       "    </tr>\n",
       "    <tr>\n",
       "      <th>2</th>\n",
       "      <td>2018-01-04</td>\n",
       "      <td>16.780001</td>\n",
       "      <td>16.959999</td>\n",
       "      <td>16.620001</td>\n",
       "      <td>16.730000</td>\n",
       "      <td>16.696608</td>\n",
       "      <td>37064900</td>\n",
       "    </tr>\n",
       "    <tr>\n",
       "      <th>3</th>\n",
       "      <td>2018-01-05</td>\n",
       "      <td>16.700001</td>\n",
       "      <td>16.860001</td>\n",
       "      <td>16.570000</td>\n",
       "      <td>16.830000</td>\n",
       "      <td>16.796408</td>\n",
       "      <td>26958200</td>\n",
       "    </tr>\n",
       "    <tr>\n",
       "      <th>4</th>\n",
       "      <td>2018-01-08</td>\n",
       "      <td>16.740000</td>\n",
       "      <td>17.030001</td>\n",
       "      <td>16.709999</td>\n",
       "      <td>17.030001</td>\n",
       "      <td>16.996010</td>\n",
       "      <td>28400000</td>\n",
       "    </tr>\n",
       "  </tbody>\n",
       "</table>\n",
       "</div>"
      ],
      "text/plain": [
       "         Date       Open       High        Low      Close  Adj Close    Volume\n",
       "0  2018-01-02  16.190001  16.549999  16.190001  16.549999  16.516966  33461800\n",
       "1  2018-01-03  16.490000  16.719999  16.370001  16.700001  16.666668  55940900\n",
       "2  2018-01-04  16.780001  16.959999  16.620001  16.730000  16.696608  37064900\n",
       "3  2018-01-05  16.700001  16.860001  16.570000  16.830000  16.796408  26958200\n",
       "4  2018-01-08  16.740000  17.030001  16.709999  17.030001  16.996010  28400000"
      ]
     },
     "execution_count": 141,
     "metadata": {},
     "output_type": "execute_result"
    }
   ],
   "source": [
    "data_test.head()"
   ]
  },
  {
   "cell_type": "code",
   "execution_count": 142,
   "metadata": {},
   "outputs": [
    {
     "data": {
      "text/plain": [
       "(22, 7)"
      ]
     },
     "execution_count": 142,
     "metadata": {},
     "output_type": "execute_result"
    }
   ],
   "source": [
    "data_test.shape"
   ]
  },
  {
   "cell_type": "code",
   "execution_count": 143,
   "metadata": {},
   "outputs": [],
   "source": [
    "# data_train tem os dados desde 2013-01-02 até 2017-12-29\n",
    "# data_teste tem os dados desde 2018-01-02 até 2018-01-31\n",
    "# data tem dos dados desde 2013-01-02 até 2018-01-31\n",
    "\n",
    "data = pd.concat((data_train[\"Open\"], data_test[\"Open\"]), axis=0)"
   ]
  },
  {
   "cell_type": "code",
   "execution_count": 144,
   "metadata": {},
   "outputs": [],
   "source": [
    "# dados desde 2017-08-28 até 2018-01-31\n",
    "data_open_test = data[len(data)-len(data_test)-90:].values"
   ]
  },
  {
   "cell_type": "code",
   "execution_count": 145,
   "metadata": {},
   "outputs": [
    {
     "data": {
      "text/plain": [
       "112"
      ]
     },
     "execution_count": 145,
     "metadata": {},
     "output_type": "execute_result"
    }
   ],
   "source": [
    "# 22+90=112 dias de preços\n",
    "# O X_test contem os 22 dias da base de dados de teste mais os 90 dias anteriores. Esses 90 dias anteriores são necessários \n",
    "# para se poderem fazer previssões.\n",
    "len(data_open_test)"
   ]
  },
  {
   "cell_type": "code",
   "execution_count": 146,
   "metadata": {},
   "outputs": [
    {
     "data": {
      "text/plain": [
       "(112,)"
      ]
     },
     "execution_count": 146,
     "metadata": {},
     "output_type": "execute_result"
    }
   ],
   "source": [
    "data_open_test.shape"
   ]
  },
  {
   "cell_type": "code",
   "execution_count": 147,
   "metadata": {},
   "outputs": [],
   "source": [
    "# Alterar a forma do array para poder ser utilizada a normalização\n",
    "# -1 significa que o array não tem colunas\n",
    "data_open_test = data_open_test.reshape(-1,1)"
   ]
  },
  {
   "cell_type": "code",
   "execution_count": 148,
   "metadata": {},
   "outputs": [
    {
     "data": {
      "text/plain": [
       "(112, 1)"
      ]
     },
     "execution_count": 148,
     "metadata": {},
     "output_type": "execute_result"
    }
   ],
   "source": [
    "data_open_test.shape"
   ]
  },
  {
   "cell_type": "markdown",
   "metadata": {},
   "source": [
    "## Pré-Processamento dos dados de teste - Normalização das Variaveis"
   ]
  },
  {
   "cell_type": "code",
   "execution_count": 149,
   "metadata": {},
   "outputs": [],
   "source": [
    "# Array com a variavel Open normalizada.\n",
    "# Não é necessário o fit_transform porque os dados já foram ajustados anteriormente na outra normalização.\n",
    "\n",
    "open_norm_test = scaler.transform(data_open_test)"
   ]
  },
  {
   "cell_type": "markdown",
   "metadata": {},
   "source": [
    "## Divisão dos dados de teste"
   ]
  },
  {
   "cell_type": "code",
   "execution_count": 150,
   "metadata": {},
   "outputs": [],
   "source": [
    "X_test = []\n",
    "y_test = []"
   ]
  },
  {
   "cell_type": "code",
   "execution_count": 151,
   "metadata": {},
   "outputs": [],
   "source": [
    "for i in range(90, 112):\n",
    "    X_test.append(open_norm_test[i-90:i, 0])\n",
    "    y_test.append(open_norm_test[i,0])"
   ]
  },
  {
   "cell_type": "code",
   "execution_count": 152,
   "metadata": {},
   "outputs": [],
   "source": [
    "# Converter os vectores em arrays\n",
    "X_test, y_test = np.array(X_test), np.array(y_test)"
   ]
  },
  {
   "cell_type": "code",
   "execution_count": 153,
   "metadata": {},
   "outputs": [
    {
     "data": {
      "text/plain": [
       "0.5809109011627908"
      ]
     },
     "execution_count": 153,
     "metadata": {},
     "output_type": "execute_result"
    }
   ],
   "source": [
    "# X_test[0]: preço nos primeiros 90 dias. Utilizado para prever o preço no dia 91.\n",
    "# X_test[1]: preços entre o dia 1 e dia 91. Utilizado para prever o preço no dia 92.\n",
    "# X_test[2]: preço entre o dia 2 e dia 92. Utilizado para prever o preço no dia 93.\n",
    "\n",
    "X_test[1,89]"
   ]
  },
  {
   "cell_type": "code",
   "execution_count": 154,
   "metadata": {},
   "outputs": [
    {
     "data": {
      "text/plain": [
       "array([0.5809109])"
      ]
     },
     "execution_count": 154,
     "metadata": {},
     "output_type": "execute_result"
    }
   ],
   "source": [
    "# y_test[0:1]: preço no dia 91.\n",
    "# y_test[1:2] preço no dia 92.\n",
    "\n",
    "y_test[0:1]"
   ]
  },
  {
   "cell_type": "code",
   "execution_count": 155,
   "metadata": {},
   "outputs": [],
   "source": [
    "# A camada de entrada tem de ser um tensor 3d (input_shape, timesteps, input_dim)\n",
    "# input_shape: 22 registros. Número de registros totais de teste\n",
    "# timesteps: 90 registros. Número de registros utilizados para fazer a previsão.\n",
    "#input_dim: 1 indicador(apenas 1 variavel de entrada)\n",
    "\n",
    "X_test = np.reshape(X_test, (X_test.shape[0], X_test.shape[1], 1))"
   ]
  },
  {
   "cell_type": "code",
   "execution_count": 156,
   "metadata": {},
   "outputs": [
    {
     "data": {
      "text/plain": [
       "(22, 90, 1)"
      ]
     },
     "execution_count": 156,
     "metadata": {},
     "output_type": "execute_result"
    }
   ],
   "source": [
    "X_test.shape"
   ]
  },
  {
   "cell_type": "markdown",
   "metadata": {},
   "source": [
    "## Previsão e Avaliação do Modelo RNN"
   ]
  },
  {
   "cell_type": "code",
   "execution_count": 157,
   "metadata": {},
   "outputs": [],
   "source": [
    "# Prever os dados de teste para avaliar o modelo\n",
    "predictions = model.predict(X_test)"
   ]
  },
  {
   "cell_type": "code",
   "execution_count": 158,
   "metadata": {},
   "outputs": [],
   "source": [
    "# Reverter a normalização do X_test para comparar os valores das acções\n",
    "predictions = scaler.inverse_transform(predictions)"
   ]
  },
  {
   "cell_type": "code",
   "execution_count": 159,
   "metadata": {},
   "outputs": [],
   "source": [
    "# Reverter a normalização do y_test para comparar os valores das acções\n",
    "# Alterar a forma do array para poder reverter a normalização\n",
    "y_test = scaler.inverse_transform(y_test.reshape(-1,1))"
   ]
  },
  {
   "cell_type": "code",
   "execution_count": 168,
   "metadata": {},
   "outputs": [
    {
     "data": {
      "text/html": [
       "<div>\n",
       "<style scoped>\n",
       "    .dataframe tbody tr th:only-of-type {\n",
       "        vertical-align: middle;\n",
       "    }\n",
       "\n",
       "    .dataframe tbody tr th {\n",
       "        vertical-align: top;\n",
       "    }\n",
       "\n",
       "    .dataframe thead th {\n",
       "        text-align: right;\n",
       "    }\n",
       "</style>\n",
       "<table border=\"1\" class=\"dataframe\">\n",
       "  <thead>\n",
       "    <tr style=\"text-align: right;\">\n",
       "      <th></th>\n",
       "      <th>Predictions</th>\n",
       "      <th>y_test</th>\n",
       "    </tr>\n",
       "  </thead>\n",
       "  <tbody>\n",
       "    <tr>\n",
       "      <th>0</th>\n",
       "      <td>16.003515</td>\n",
       "      <td>16.190001</td>\n",
       "    </tr>\n",
       "    <tr>\n",
       "      <th>1</th>\n",
       "      <td>16.085693</td>\n",
       "      <td>16.490000</td>\n",
       "    </tr>\n",
       "    <tr>\n",
       "      <th>2</th>\n",
       "      <td>16.214394</td>\n",
       "      <td>16.780001</td>\n",
       "    </tr>\n",
       "    <tr>\n",
       "      <th>3</th>\n",
       "      <td>16.440117</td>\n",
       "      <td>16.700001</td>\n",
       "    </tr>\n",
       "    <tr>\n",
       "      <th>4</th>\n",
       "      <td>16.633940</td>\n",
       "      <td>16.740000</td>\n",
       "    </tr>\n",
       "  </tbody>\n",
       "</table>\n",
       "</div>"
      ],
      "text/plain": [
       "   Predictions     y_test\n",
       "0    16.003515  16.190001\n",
       "1    16.085693  16.490000\n",
       "2    16.214394  16.780001\n",
       "3    16.440117  16.700001\n",
       "4    16.633940  16.740000"
      ]
     },
     "execution_count": 168,
     "metadata": {},
     "output_type": "execute_result"
    }
   ],
   "source": [
    "pd.DataFrame({\"Predictions\": predictions[:,0], \"y_test\":y_test[:,0]}).head()"
   ]
  },
  {
   "cell_type": "markdown",
   "metadata": {},
   "source": [
    "### Avaliação do Modelo"
   ]
  },
  {
   "cell_type": "code",
   "execution_count": 161,
   "metadata": {},
   "outputs": [],
   "source": [
    "from sklearn import metrics"
   ]
  },
  {
   "cell_type": "code",
   "execution_count": 162,
   "metadata": {},
   "outputs": [
    {
     "name": "stdout",
     "output_type": "stream",
     "text": [
      "MAE 0.36132987777987435\n",
      "MSE 0.22163797579401148\n",
      "RMSE 0.47078442603171516\n"
     ]
    }
   ],
   "source": [
    "# O MSE é muito mais elevado porque penaliza os desvios grandes(são elevados ao quadrado).\n",
    "# O MAE de 0.36 significa que o preço das acções varia +- 0.36 reais. \n",
    "print(\"MAE\", metrics.mean_absolute_error(y_test, predictions))\n",
    "print(\"MSE\", metrics.mean_squared_error(y_test, predictions))\n",
    "print(\"RMSE\", np.sqrt(metrics.mean_squared_error(y_test, predictions)))"
   ]
  },
  {
   "cell_type": "code",
   "execution_count": 163,
   "metadata": {},
   "outputs": [
    {
     "data": {
      "text/plain": [
       "17.513216"
      ]
     },
     "execution_count": 163,
     "metadata": {},
     "output_type": "execute_result"
    }
   ],
   "source": [
    "predictions.mean()"
   ]
  },
  {
   "cell_type": "code",
   "execution_count": 164,
   "metadata": {},
   "outputs": [
    {
     "data": {
      "text/plain": [
       "17.87454563636364"
      ]
     },
     "execution_count": 164,
     "metadata": {},
     "output_type": "execute_result"
    }
   ],
   "source": [
    "y_test.mean()"
   ]
  },
  {
   "cell_type": "markdown",
   "metadata": {},
   "source": [
    "### Resíduos"
   ]
  },
  {
   "cell_type": "code",
   "execution_count": 165,
   "metadata": {},
   "outputs": [
    {
     "data": {
      "text/plain": [
       "Text(0.5, 0, 'y_test-predictions')"
      ]
     },
     "execution_count": 165,
     "metadata": {},
     "output_type": "execute_result"
    },
    {
     "data": {
      "image/png": "[encoded data removed]",
      "text/plain": [
       "<Figure size 720x360 with 1 Axes>"
      ]
     },
     "metadata": {
      "needs_background": "light"
     },
     "output_type": "display_data"
    }
   ],
   "source": [
    "# Histograma de Residuos \n",
    "# O gráfico não parece aproximar-se de uma distriuição normal, onde os residuos são proximos de zero.\n",
    "\n",
    "plt.figure(figsize=(10,5))\n",
    "sns.distplot(y_test-predictions)\n",
    "plt.xlabel(\"y_test-predictions\")"
   ]
  },
  {
   "cell_type": "markdown",
   "metadata": {},
   "source": [
    "### Gráfico preço real vs preço previsto"
   ]
  },
  {
   "cell_type": "code",
   "execution_count": 166,
   "metadata": {},
   "outputs": [
    {
     "data": {
      "image/png": "[encoded data removed]",
      "text/plain": [
       "<Figure size 864x432 with 1 Axes>"
      ]
     },
     "metadata": {
      "needs_background": "light"
     },
     "output_type": "display_data"
    }
   ],
   "source": [
    "plt.figure(figsize=(12,6))\n",
    "plt.plot(predictions, color=\"red\", label=\"preço previsto\")\n",
    "plt.plot(y_test, color=\"blue\", label=\"preço real\")\n",
    "plt.title(\"Preço das acções\")\n",
    "plt.xlabel(\"Tempo\")\n",
    "plt.ylabel(\"Preço\")\n",
    "plt.legend()\n",
    "plt.show()"
   ]
  },
  {
   "cell_type": "code",
   "execution_count": null,
   "metadata": {},
   "outputs": [],
   "source": []
  }
 ],
 "metadata": {
  "kernelspec": {
   "display_name": "Python 3",
   "language": "python",
   "name": "python3"
  },
  "language_info": {
   "codemirror_mode": {
    "name": "ipython",
    "version": 3
   },
   "file_extension": ".py",
   "mimetype": "text/x-python",
   "name": "python",
   "nbconvert_exporter": "python",
   "pygments_lexer": "ipython3",
   "version": "3.7.3"
  }
 },
 "nbformat": 4,
 "nbformat_minor": 2
}
