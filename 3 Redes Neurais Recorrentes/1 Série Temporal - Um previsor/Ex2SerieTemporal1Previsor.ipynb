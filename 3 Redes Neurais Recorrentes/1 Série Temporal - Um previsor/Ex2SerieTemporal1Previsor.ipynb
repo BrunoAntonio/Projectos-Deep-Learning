{
 "cells": [
  {
   "cell_type": "markdown",
   "metadata": {},
   "source": [
    "# Rede Neural Recorrente - Série Temporal com 1 previsor"
   ]
  },
  {
   "cell_type": "code",
   "execution_count": 3,
   "metadata": {},
   "outputs": [],
   "source": [
    "import pandas as pd\n",
    "import numpy as np\n",
    "\n",
    "import matplotlib.pyplot as plt\n",
    "import seaborn as sns\n",
    "\n",
    "import tensorflow as tf\n",
    "from tensorflow.keras import layers, models\n",
    "\n",
    "%matplotlib inline"
   ]
  },
  {
   "cell_type": "markdown",
   "metadata": {},
   "source": [
    "## Obter os dados de treino"
   ]
  },
  {
   "cell_type": "code",
   "execution_count": 5,
   "metadata": {},
   "outputs": [],
   "source": [
    "data_train = pd.read_csv(\"petr4_treinamento_ex.csv\")"
   ]
  },
  {
   "cell_type": "code",
   "execution_count": 6,
   "metadata": {},
   "outputs": [
    {
     "data": {
      "text/html": [
       "<div>\n",
       "<style scoped>\n",
       "    .dataframe tbody tr th:only-of-type {\n",
       "        vertical-align: middle;\n",
       "    }\n",
       "\n",
       "    .dataframe tbody tr th {\n",
       "        vertical-align: top;\n",
       "    }\n",
       "\n",
       "    .dataframe thead th {\n",
       "        text-align: right;\n",
       "    }\n",
       "</style>\n",
       "<table border=\"1\" class=\"dataframe\">\n",
       "  <thead>\n",
       "    <tr style=\"text-align: right;\">\n",
       "      <th></th>\n",
       "      <th>Date</th>\n",
       "      <th>Open</th>\n",
       "      <th>High</th>\n",
       "      <th>Low</th>\n",
       "      <th>Close</th>\n",
       "      <th>Adj Close</th>\n",
       "      <th>Volume</th>\n",
       "    </tr>\n",
       "  </thead>\n",
       "  <tbody>\n",
       "    <tr>\n",
       "      <th>0</th>\n",
       "      <td>2013-01-02</td>\n",
       "      <td>19.990000</td>\n",
       "      <td>20.209999</td>\n",
       "      <td>19.690001</td>\n",
       "      <td>19.690001</td>\n",
       "      <td>18.086271</td>\n",
       "      <td>30182600.0</td>\n",
       "    </tr>\n",
       "    <tr>\n",
       "      <th>1</th>\n",
       "      <td>2013-01-03</td>\n",
       "      <td>19.809999</td>\n",
       "      <td>20.400000</td>\n",
       "      <td>19.700001</td>\n",
       "      <td>20.400000</td>\n",
       "      <td>18.738441</td>\n",
       "      <td>30552600.0</td>\n",
       "    </tr>\n",
       "    <tr>\n",
       "      <th>2</th>\n",
       "      <td>2013-01-04</td>\n",
       "      <td>20.330000</td>\n",
       "      <td>20.620001</td>\n",
       "      <td>20.170000</td>\n",
       "      <td>20.430000</td>\n",
       "      <td>18.766001</td>\n",
       "      <td>36141000.0</td>\n",
       "    </tr>\n",
       "    <tr>\n",
       "      <th>3</th>\n",
       "      <td>2013-01-07</td>\n",
       "      <td>20.480000</td>\n",
       "      <td>20.670000</td>\n",
       "      <td>19.950001</td>\n",
       "      <td>20.080000</td>\n",
       "      <td>18.444506</td>\n",
       "      <td>28069600.0</td>\n",
       "    </tr>\n",
       "    <tr>\n",
       "      <th>4</th>\n",
       "      <td>2013-01-08</td>\n",
       "      <td>20.110001</td>\n",
       "      <td>20.230000</td>\n",
       "      <td>19.459999</td>\n",
       "      <td>19.500000</td>\n",
       "      <td>17.911745</td>\n",
       "      <td>29091300.0</td>\n",
       "    </tr>\n",
       "  </tbody>\n",
       "</table>\n",
       "</div>"
      ],
      "text/plain": [
       "         Date       Open       High        Low      Close  Adj Close  \\\n",
       "0  2013-01-02  19.990000  20.209999  19.690001  19.690001  18.086271   \n",
       "1  2013-01-03  19.809999  20.400000  19.700001  20.400000  18.738441   \n",
       "2  2013-01-04  20.330000  20.620001  20.170000  20.430000  18.766001   \n",
       "3  2013-01-07  20.480000  20.670000  19.950001  20.080000  18.444506   \n",
       "4  2013-01-08  20.110001  20.230000  19.459999  19.500000  17.911745   \n",
       "\n",
       "       Volume  \n",
       "0  30182600.0  \n",
       "1  30552600.0  \n",
       "2  36141000.0  \n",
       "3  28069600.0  \n",
       "4  29091300.0  "
      ]
     },
     "execution_count": 6,
     "metadata": {},
     "output_type": "execute_result"
    }
   ],
   "source": [
    "data_train.head()"
   ]
  },
  {
   "cell_type": "markdown",
   "metadata": {},
   "source": [
    "## Pré-Processamento dos dados de treino - Apagar dados Ausentes"
   ]
  },
  {
   "cell_type": "code",
   "execution_count": 7,
   "metadata": {},
   "outputs": [
    {
     "data": {
      "text/plain": [
       "Date         0\n",
       "Open         3\n",
       "High         3\n",
       "Low          3\n",
       "Close        3\n",
       "Adj Close    3\n",
       "Volume       3\n",
       "dtype: int64"
      ]
     },
     "execution_count": 7,
     "metadata": {},
     "output_type": "execute_result"
    }
   ],
   "source": [
    "# Só existem valores ausentes nos dados de treino\n",
    "data_train.isnull().sum()"
   ]
  },
  {
   "cell_type": "code",
   "execution_count": 8,
   "metadata": {},
   "outputs": [
    {
     "data": {
      "text/plain": [
       "(1345, 7)"
      ]
     },
     "execution_count": 8,
     "metadata": {},
     "output_type": "execute_result"
    }
   ],
   "source": [
    "# Tamanho original do dataset de treino\n",
    "data_train.shape"
   ]
  },
  {
   "cell_type": "code",
   "execution_count": 9,
   "metadata": {},
   "outputs": [],
   "source": [
    "# Como apenas 3 linhas têm valores ausentes optou-se por apagar essas linhas.\n",
    "data_train = data_train.dropna()"
   ]
  },
  {
   "cell_type": "code",
   "execution_count": 10,
   "metadata": {},
   "outputs": [
    {
     "data": {
      "text/plain": [
       "(1342, 7)"
      ]
     },
     "execution_count": 10,
     "metadata": {},
     "output_type": "execute_result"
    }
   ],
   "source": [
    "# Confirmação de ter-se removido apenas 3 linhas\n",
    "data_train.shape"
   ]
  },
  {
   "cell_type": "code",
   "execution_count": 11,
   "metadata": {},
   "outputs": [
    {
     "data": {
      "text/plain": [
       "Date         0\n",
       "Open         0\n",
       "High         0\n",
       "Low          0\n",
       "Close        0\n",
       "Adj Close    0\n",
       "Volume       0\n",
       "dtype: int64"
      ]
     },
     "execution_count": 11,
     "metadata": {},
     "output_type": "execute_result"
    }
   ],
   "source": [
    "# Confirmação da anão existencia de valores nulos\n",
    "data_train.isnull().sum()"
   ]
  },
  {
   "cell_type": "markdown",
   "metadata": {},
   "source": [
    "## Pré-Processamento dos dados de treino- Normalização das Variaveis"
   ]
  },
  {
   "cell_type": "code",
   "execution_count": 12,
   "metadata": {},
   "outputs": [],
   "source": [
    "from sklearn.preprocessing import MinMaxScaler"
   ]
  },
  {
   "cell_type": "code",
   "execution_count": 13,
   "metadata": {},
   "outputs": [],
   "source": [
    "# Nas redes neurais recorrentes, como cada neuronio aponta para ele mesmo(possui loops), ou seja, o valor da função de ativação \n",
    "# é passado para as camadas subsequentes e também para a própria camada. Assim sendo a rede neural recorrente pode ser \n",
    "# considerada como várias cópias de si mesma. \n",
    "# Utiliza-se a normalização para que o poder computacional necessário não seja tão grande.\n",
    "\n",
    "# StandardScaler: Assume que as variaveis seguem uma distribuição normal. Após a normalização o desvio padrão das variaveis\n",
    "# será 1 e a media 0. É util quando se têm valores negativos. Após a sua aplicação todas as variaveis têm a mesma escala.\n",
    "\n",
    "# MinMaxScaler: Espreme as variaveis numa escala de -1 a 1 (se existirem valores negativos). É utilizado quando a distribuição\n",
    "# não é gausiana. Funciona bem se o desio padrão for pequeno e é sensivel a outliers.\n",
    "\n",
    "scaler = MinMaxScaler(feature_range=(0,1))"
   ]
  },
  {
   "cell_type": "code",
   "execution_count": 14,
   "metadata": {},
   "outputs": [
    {
     "data": {
      "text/plain": [
       "MinMaxScaler(copy=True, feature_range=(0, 1))"
      ]
     },
     "execution_count": 14,
     "metadata": {},
     "output_type": "execute_result"
    }
   ],
   "source": [
    "# Normalizar a variavel de entrada\n",
    "# Apenas se vai normalizar a variavel Open, porque irá ser a unica variavel de entrada utilizada para fazer o treino do modelo.\n",
    "scaler.fit(data_train.drop([\"Date\", \"High\", \"Low\", \"Close\", \"Adj Close\", \"Volume\"], axis=1))"
   ]
  },
  {
   "cell_type": "code",
   "execution_count": 15,
   "metadata": {},
   "outputs": [],
   "source": [
    "# Array com a variavel Open normalizada\n",
    "open_norm_train = scaler.fit_transform(data_train.drop([\"Date\", \"High\", \"Low\", \"Close\", \"Adj Close\", \"Volume\"], axis=1))"
   ]
  },
  {
   "cell_type": "markdown",
   "metadata": {},
   "source": [
    "## Divisão dos dados de treino"
   ]
  },
  {
   "cell_type": "code",
   "execution_count": 16,
   "metadata": {},
   "outputs": [
    {
     "data": {
      "text/plain": [
       "array([[0.68207343],\n",
       "       [0.67429801],\n",
       "       [0.69676026],\n",
       "       [0.70323974],\n",
       "       [0.68725706]])"
      ]
     },
     "execution_count": 16,
     "metadata": {},
     "output_type": "execute_result"
    }
   ],
   "source": [
    "# Utilizar apenas o preço de abertura para prever o preço das acções.\n",
    "open_norm_train[0:5]"
   ]
  },
  {
   "cell_type": "code",
   "execution_count": 17,
   "metadata": {},
   "outputs": [],
   "source": [
    "# Prever o preço das acções com base nos preços de abertura nos 90 dias anteriores.\n",
    "\n",
    "X_train = [] # vector com os preços nos 90 dias anteriores.\n",
    "y_train = [] # vector com o preço da acção no dia 91."
   ]
  },
  {
   "cell_type": "code",
   "execution_count": 18,
   "metadata": {},
   "outputs": [],
   "source": [
    "# Só é possivel prever o preço das acções desde o dia 90 até ao dia 1242. Porque só se tem registro de 1242 dias e \n",
    "# estabeleceu-se como critério utilizar os 90 dias anteriores para fazer uma previsão.\n",
    "\n",
    "for i in range(90, 1242):\n",
    "    X_train.append(open_norm_train[i-90:i,0])\n",
    "    y_train.append(open_norm_train[i, 0])"
   ]
  },
  {
   "cell_type": "code",
   "execution_count": 19,
   "metadata": {},
   "outputs": [],
   "source": [
    "# Converter os vectores em arrays\n",
    "X_train, y_train = np.array(X_train), np.array(y_train)"
   ]
  },
  {
   "cell_type": "code",
   "execution_count": 20,
   "metadata": {},
   "outputs": [
    {
     "data": {
      "text/plain": [
       "(1152, 90)"
      ]
     },
     "execution_count": 20,
     "metadata": {},
     "output_type": "execute_result"
    }
   ],
   "source": [
    "X_train.shape"
   ]
  },
  {
   "cell_type": "code",
   "execution_count": 21,
   "metadata": {},
   "outputs": [
    {
     "data": {
      "text/plain": [
       "array([0.69330454, 0.68941685, 0.67429801, 0.66220307, 0.66090713])"
      ]
     },
     "execution_count": 21,
     "metadata": {},
     "output_type": "execute_result"
    }
   ],
   "source": [
    "# X_train[0]: preço nos primeiros 90 dias. Utilizado para prever o preço no dia 91.\n",
    "# X_train[1]: preços entre o dia 1 e dia 91. Utilizado para prever o preço no dia 92.\n",
    "# X_train[2]: preço entre o dia 2 e dia 92. Utilizado para prever o preço no dia 93.\n",
    "\n",
    "X_train[0,84:89]"
   ]
  },
  {
   "cell_type": "code",
   "execution_count": 22,
   "metadata": {},
   "outputs": [
    {
     "data": {
      "text/plain": [
       "array([0.69071279])"
      ]
     },
     "execution_count": 22,
     "metadata": {},
     "output_type": "execute_result"
    }
   ],
   "source": [
    "# y_train[0:1]: preço no dia 91.\n",
    "# y_train[1:2] preço no dia 92.\n",
    "y_train[2:3]"
   ]
  },
  {
   "cell_type": "code",
   "execution_count": 23,
   "metadata": {},
   "outputs": [],
   "source": [
    "# A camada de entrada tem de ser um tensor 3d (input_shape, timesteps, input_dim)\n",
    "# input_shape: 1152 registros. Número de registros totais\n",
    "# timesteps: 90 registros. Número de registros utilizados para fazer a previsão.\n",
    "#input_dim: 1 indicador(apenas 1 variavel de entrada)\n",
    "\n",
    "X_train = np.reshape(X_train, (X_train.shape[0], X_train.shape[1], 1))"
   ]
  },
  {
   "cell_type": "code",
   "execution_count": 24,
   "metadata": {},
   "outputs": [
    {
     "data": {
      "text/plain": [
       "(1152, 90, 1)"
      ]
     },
     "execution_count": 24,
     "metadata": {},
     "output_type": "execute_result"
    }
   ],
   "source": [
    "X_train.shape"
   ]
  },
  {
   "cell_type": "markdown",
   "metadata": {},
   "source": [
    "## Modelo Rede Neural Recorrente"
   ]
  },
  {
   "cell_type": "code",
   "execution_count": 25,
   "metadata": {},
   "outputs": [],
   "source": [
    "# sequential - A informação é passada de uma camada para a camada seguinte\n",
    "\n",
    "#-------------------------------------------------------------------------------------------------------------------------------\n",
    "# Camada LSTM\n",
    "\n",
    "# LSTM - Long short term memory. AS redes neurais simples têm dificuldade em \"aprender\" alguns tipos de padrões mais complexos.\n",
    "# Nesses casos pode-se utilizar o tipo de rede neural recorrente LSTM que aprende \"dependencias\" de longo prazo.\n",
    "\n",
    "# As redes neurais recorrentes simples armazenam as informações no tempo atraves de loops( o neuronio apenas aponta para ele \n",
    "# mesmo e para a camada seguinte). Isto permte que a informação persista.\n",
    "# As redes neurais recorrentes LSTM para alem disso têm celulas de memoria e manipulam essas celulas de modo a filtrar e \n",
    "# armazenar a informação importante nessas celulas.\n",
    "\n",
    "# As redes neurais recorrentes ajudam no problema do gradiente desaparecendo(vanish gradient). No ajuste dos pesos ao se\n",
    "# utilizar a descida do gradiente e a sua actualização atraves de backpropagation em primeiro faz-se os calculos da camada\n",
    "# de entrada para a camada de saida. Os pesos são depois actalizados a partir da camada de saida para a camada de entrada. Os\n",
    "# pesos vão sendo actualizados utilizando o learning rate(maiores alterações nas 1ªs camadas). Caso se tenha muitos loops\n",
    "# as ultimas actualizações do gradiente são muito pequenas, o que faz com que o peso não tenha alteração no seu valor.\n",
    "\n",
    "# Número de celulas de memoria(units): Número de vezes(loops) em que a informação é passada ao mesmo neuronio e a camada \n",
    "# seguinte (numero de cópias da camada). Deve ser um valor alto para adicinonar mais dimensionalidade e decorar a tendencia ao \n",
    "# longo do tempo.\n",
    "\n",
    "# Return_sequence: True. Apenas se utilizada quando se tem mais de uma camada LSTM. Indica que a informação será passada para a\n",
    "# camada seguinte.\n",
    "\n",
    "# input_shape: Número de registros utilizados para fazer a previsão(90) e número de variaveis de entrada(1).\n",
    "#-------------------------------------------------------------------------------------------------------------------------------\n",
    "# Camada densa\n",
    "\n",
    "# Todos os neuronios da ultima camada( segunda camada LSTM) estão conectados à camada de saida. Nas camadas LSTM isso tambem\n",
    "# acontece.\n",
    "\n",
    "# units: 1. Só se quer prever o valor Open.\n",
    "# activation: linear. É um problema de regressão. Como os valores estão normalizados(entre 0 e 1) caso se utiliza-se a função\n",
    "# sigmoid tambem se retornaria valores entre 0 e 1.\n",
    "#-------------------------------------------------------------------------------------------------------------------------------\n",
    "\n",
    "model = models.Sequential()\n",
    "model.add(layers.LSTM(units=100, return_sequences=True, input_shape=(X_train.shape[1], 1)))\n",
    "model.add(layers.Dropout(0.3))\n",
    "\n",
    "model.add(layers.LSTM(units=50, return_sequences=True))\n",
    "model.add(layers.Dropout(0.3))\n",
    "\n",
    "model.add(layers.LSTM(units=50, return_sequences=True))\n",
    "model.add(layers.Dropout(0.3))\n",
    "\n",
    "model.add(layers.LSTM(units=50))\n",
    "model.add(layers.Dropout(0.3))\n",
    "\n",
    "model.add(layers.Dense(units=1, activation=\"linear\"))"
   ]
  },
  {
   "cell_type": "markdown",
   "metadata": {},
   "source": [
    "## Compilação e Ajuste do modelo RNN"
   ]
  },
  {
   "cell_type": "code",
   "execution_count": 26,
   "metadata": {},
   "outputs": [],
   "source": [
    "# optimizer: pode-se utilizar o RMSprop, indicado para redes neurais recorrentes, ou o adam que obtem resultados semelhantes.\n",
    "# loss: mean_squared_error é o parametro utilizado para problemas de regressão.\n",
    "\n",
    "# Compilação do modelo\n",
    "model.compile(optimizer=\"rmsprop\", loss=\"mean_squared_error\", metrics=[\"mean_absolute_error\"])"
   ]
  },
  {
   "cell_type": "code",
   "execution_count": 27,
   "metadata": {},
   "outputs": [
    {
     "name": "stdout",
     "output_type": "stream",
     "text": [
      "Train on 1152 samples\n",
      "Epoch 1/50\n",
      "1152/1152 [==============================] - 11s 10ms/sample - loss: 0.0266 - mean_absolute_error: 0.1199\n",
      "Epoch 2/50\n",
      "1152/1152 [==============================] - 9s 8ms/sample - loss: 0.0124 - mean_absolute_error: 0.0865\n",
      "Epoch 3/50\n",
      "1152/1152 [==============================] - 8s 7ms/sample - loss: 0.0113 - mean_absolute_error: 0.0823\n",
      "Epoch 4/50\n",
      "1152/1152 [==============================] - 8s 7ms/sample - loss: 0.0092 - mean_absolute_error: 0.0746\n",
      "Epoch 5/50\n",
      "1152/1152 [==============================] - 8s 7ms/sample - loss: 0.0079 - mean_absolute_error: 0.0693\n",
      "Epoch 6/50\n",
      "1152/1152 [==============================] - 8s 7ms/sample - loss: 0.0082 - mean_absolute_error: 0.0695\n",
      "Epoch 7/50\n",
      "1152/1152 [==============================] - 8s 7ms/sample - loss: 0.0072 - mean_absolute_error: 0.0648\n",
      "Epoch 8/50\n",
      "1152/1152 [==============================] - 8s 7ms/sample - loss: 0.0064 - mean_absolute_error: 0.0624\n",
      "Epoch 9/50\n",
      "1152/1152 [==============================] - 8s 7ms/sample - loss: 0.0061 - mean_absolute_error: 0.0587\n",
      "Epoch 10/50\n",
      "1152/1152 [==============================] - 8s 7ms/sample - loss: 0.0064 - mean_absolute_error: 0.0596\n",
      "Epoch 11/50\n",
      "1152/1152 [==============================] - 8s 7ms/sample - loss: 0.0056 - mean_absolute_error: 0.0580\n",
      "Epoch 12/50\n",
      "1152/1152 [==============================] - 8s 7ms/sample - loss: 0.0052 - mean_absolute_error: 0.0535\n",
      "Epoch 13/50\n",
      "1152/1152 [==============================] - 8s 7ms/sample - loss: 0.0045 - mean_absolute_error: 0.0509\n",
      "Epoch 14/50\n",
      "1152/1152 [==============================] - 8s 7ms/sample - loss: 0.0041 - mean_absolute_error: 0.0487\n",
      "Epoch 15/50\n",
      "1152/1152 [==============================] - 9s 7ms/sample - loss: 0.0043 - mean_absolute_error: 0.0494\n",
      "Epoch 16/50\n",
      "1152/1152 [==============================] - 8s 7ms/sample - loss: 0.0044 - mean_absolute_error: 0.0501\n",
      "Epoch 17/50\n",
      "1152/1152 [==============================] - 8s 7ms/sample - loss: 0.0038 - mean_absolute_error: 0.0462\n",
      "Epoch 18/50\n",
      "1152/1152 [==============================] - 9s 7ms/sample - loss: 0.0039 - mean_absolute_error: 0.0472\n",
      "Epoch 19/50\n",
      "1152/1152 [==============================] - 9s 8ms/sample - loss: 0.0037 - mean_absolute_error: 0.0471\n",
      "Epoch 20/50\n",
      "1152/1152 [==============================] - 9s 8ms/sample - loss: 0.0031 - mean_absolute_error: 0.0419\n",
      "Epoch 21/50\n",
      "1152/1152 [==============================] - 9s 8ms/sample - loss: 0.0030 - mean_absolute_error: 0.0411\n",
      "Epoch 22/50\n",
      "1152/1152 [==============================] - 8s 7ms/sample - loss: 0.0030 - mean_absolute_error: 0.0419\n",
      "Epoch 23/50\n",
      "1152/1152 [==============================] - 9s 8ms/sample - loss: 0.0031 - mean_absolute_error: 0.0427\n",
      "Epoch 24/50\n",
      "1152/1152 [==============================] - 9s 8ms/sample - loss: 0.0032 - mean_absolute_error: 0.0432\n",
      "Epoch 25/50\n",
      "1152/1152 [==============================] - 9s 8ms/sample - loss: 0.0028 - mean_absolute_error: 0.0396\n",
      "Epoch 26/50\n",
      "1152/1152 [==============================] - 9s 8ms/sample - loss: 0.0026 - mean_absolute_error: 0.0389\n",
      "Epoch 27/50\n",
      "1152/1152 [==============================] - 9s 8ms/sample - loss: 0.0027 - mean_absolute_error: 0.0398\n",
      "Epoch 28/50\n",
      "1152/1152 [==============================] - 9s 8ms/sample - loss: 0.0025 - mean_absolute_error: 0.0387\n",
      "Epoch 29/50\n",
      "1152/1152 [==============================] - 9s 8ms/sample - loss: 0.0028 - mean_absolute_error: 0.0399\n",
      "Epoch 30/50\n",
      "1152/1152 [==============================] - 9s 8ms/sample - loss: 0.0025 - mean_absolute_error: 0.0377\n",
      "Epoch 31/50\n",
      "1152/1152 [==============================] - 9s 8ms/sample - loss: 0.0025 - mean_absolute_error: 0.0377\n",
      "Epoch 32/50\n",
      "1152/1152 [==============================] - 9s 7ms/sample - loss: 0.0024 - mean_absolute_error: 0.0373\n",
      "Epoch 33/50\n",
      "1152/1152 [==============================] - 8s 7ms/sample - loss: 0.0022 - mean_absolute_error: 0.0356\n",
      "Epoch 34/50\n",
      "1152/1152 [==============================] - 9s 8ms/sample - loss: 0.0024 - mean_absolute_error: 0.0373\n",
      "Epoch 35/50\n",
      "1152/1152 [==============================] - 9s 8ms/sample - loss: 0.0021 - mean_absolute_error: 0.0345\n",
      "Epoch 36/50\n",
      "1152/1152 [==============================] - 9s 8ms/sample - loss: 0.0022 - mean_absolute_error: 0.0360\n",
      "Epoch 37/50\n",
      "1152/1152 [==============================] - 9s 7ms/sample - loss: 0.0023 - mean_absolute_error: 0.0359\n",
      "Epoch 38/50\n",
      "1152/1152 [==============================] - 8s 7ms/sample - loss: 0.0020 - mean_absolute_error: 0.0343\n",
      "Epoch 39/50\n",
      "1152/1152 [==============================] - 9s 8ms/sample - loss: 0.0022 - mean_absolute_error: 0.0349\n",
      "Epoch 40/50\n",
      "1152/1152 [==============================] - 9s 8ms/sample - loss: 0.0020 - mean_absolute_error: 0.0336\n",
      "Epoch 41/50\n",
      "1152/1152 [==============================] - 8s 7ms/sample - loss: 0.0019 - mean_absolute_error: 0.0331\n",
      "Epoch 42/50\n",
      "1152/1152 [==============================] - 8s 7ms/sample - loss: 0.0019 - mean_absolute_error: 0.0341\n",
      "Epoch 43/50\n",
      "1152/1152 [==============================] - 8s 7ms/sample - loss: 0.0020 - mean_absolute_error: 0.0336\n",
      "Epoch 44/50\n",
      "1152/1152 [==============================] - 8s 7ms/sample - loss: 0.0017 - mean_absolute_error: 0.0314\n",
      "Epoch 45/50\n",
      "1152/1152 [==============================] - 9s 7ms/sample - loss: 0.0018 - mean_absolute_error: 0.0320\n",
      "Epoch 46/50\n",
      "1152/1152 [==============================] - 9s 8ms/sample - loss: 0.0019 - mean_absolute_error: 0.0334\n",
      "Epoch 47/50\n",
      "1152/1152 [==============================] - 9s 8ms/sample - loss: 0.0017 - mean_absolute_error: 0.0316\n",
      "Epoch 48/50\n",
      "1152/1152 [==============================] - 9s 8ms/sample - loss: 0.0019 - mean_absolute_error: 0.0325\n",
      "Epoch 49/50\n",
      "1152/1152 [==============================] - 9s 8ms/sample - loss: 0.0017 - mean_absolute_error: 0.0315\n",
      "Epoch 50/50\n",
      "1152/1152 [==============================] - 9s 8ms/sample - loss: 0.0016 - mean_absolute_error: 0.0303\n"
     ]
    },
    {
     "data": {
      "text/plain": [
       "<tensorflow.python.keras.callbacks.History at 0x649fecbfd0>"
      ]
     },
     "execution_count": 27,
     "metadata": {},
     "output_type": "execute_result"
    }
   ],
   "source": [
    "# Ajustar os dados de entrada de treino aos dados de saida para treinar o modelo.\n",
    "model.fit(X_train, y_train, epochs=50, batch_size=32)"
   ]
  },
  {
   "cell_type": "markdown",
   "metadata": {},
   "source": [
    "## Obter os dados de teste"
   ]
  },
  {
   "cell_type": "code",
   "execution_count": 41,
   "metadata": {},
   "outputs": [],
   "source": [
    "data_test = pd.read_csv(\"petr4_teste_ex.csv\")"
   ]
  },
  {
   "cell_type": "code",
   "execution_count": 42,
   "metadata": {},
   "outputs": [
    {
     "data": {
      "text/html": [
       "<div>\n",
       "<style scoped>\n",
       "    .dataframe tbody tr th:only-of-type {\n",
       "        vertical-align: middle;\n",
       "    }\n",
       "\n",
       "    .dataframe tbody tr th {\n",
       "        vertical-align: top;\n",
       "    }\n",
       "\n",
       "    .dataframe thead th {\n",
       "        text-align: right;\n",
       "    }\n",
       "</style>\n",
       "<table border=\"1\" class=\"dataframe\">\n",
       "  <thead>\n",
       "    <tr style=\"text-align: right;\">\n",
       "      <th></th>\n",
       "      <th>Date</th>\n",
       "      <th>Open</th>\n",
       "      <th>High</th>\n",
       "      <th>Low</th>\n",
       "      <th>Close</th>\n",
       "      <th>Adj Close</th>\n",
       "      <th>Volume</th>\n",
       "    </tr>\n",
       "  </thead>\n",
       "  <tbody>\n",
       "    <tr>\n",
       "      <th>0</th>\n",
       "      <td>2018-05-28</td>\n",
       "      <td>19.200001</td>\n",
       "      <td>19.200001</td>\n",
       "      <td>16.910000</td>\n",
       "      <td>16.910000</td>\n",
       "      <td>16.910000</td>\n",
       "      <td>134504900</td>\n",
       "    </tr>\n",
       "    <tr>\n",
       "      <th>1</th>\n",
       "      <td>2018-05-29</td>\n",
       "      <td>18.000000</td>\n",
       "      <td>19.440001</td>\n",
       "      <td>17.600000</td>\n",
       "      <td>19.299999</td>\n",
       "      <td>19.299999</td>\n",
       "      <td>181509800</td>\n",
       "    </tr>\n",
       "    <tr>\n",
       "      <th>2</th>\n",
       "      <td>2018-05-30</td>\n",
       "      <td>18.389999</td>\n",
       "      <td>19.969999</td>\n",
       "      <td>18.129999</td>\n",
       "      <td>18.980000</td>\n",
       "      <td>18.980000</td>\n",
       "      <td>125430000</td>\n",
       "    </tr>\n",
       "    <tr>\n",
       "      <th>3</th>\n",
       "      <td>2018-06-01</td>\n",
       "      <td>19.559999</td>\n",
       "      <td>19.750000</td>\n",
       "      <td>14.900000</td>\n",
       "      <td>16.160000</td>\n",
       "      <td>16.160000</td>\n",
       "      <td>216954700</td>\n",
       "    </tr>\n",
       "    <tr>\n",
       "      <th>4</th>\n",
       "      <td>2018-06-04</td>\n",
       "      <td>17.290001</td>\n",
       "      <td>17.639999</td>\n",
       "      <td>17.049999</td>\n",
       "      <td>17.530001</td>\n",
       "      <td>17.530001</td>\n",
       "      <td>93547600</td>\n",
       "    </tr>\n",
       "  </tbody>\n",
       "</table>\n",
       "</div>"
      ],
      "text/plain": [
       "         Date       Open       High        Low      Close  Adj Close  \\\n",
       "0  2018-05-28  19.200001  19.200001  16.910000  16.910000  16.910000   \n",
       "1  2018-05-29  18.000000  19.440001  17.600000  19.299999  19.299999   \n",
       "2  2018-05-30  18.389999  19.969999  18.129999  18.980000  18.980000   \n",
       "3  2018-06-01  19.559999  19.750000  14.900000  16.160000  16.160000   \n",
       "4  2018-06-04  17.290001  17.639999  17.049999  17.530001  17.530001   \n",
       "\n",
       "      Volume  \n",
       "0  134504900  \n",
       "1  181509800  \n",
       "2  125430000  \n",
       "3  216954700  \n",
       "4   93547600  "
      ]
     },
     "execution_count": 42,
     "metadata": {},
     "output_type": "execute_result"
    }
   ],
   "source": [
    "data_test.head()"
   ]
  },
  {
   "cell_type": "code",
   "execution_count": 43,
   "metadata": {},
   "outputs": [
    {
     "data": {
      "text/plain": [
       "(19, 7)"
      ]
     },
     "execution_count": 43,
     "metadata": {},
     "output_type": "execute_result"
    }
   ],
   "source": [
    "data_test.shape"
   ]
  },
  {
   "cell_type": "code",
   "execution_count": 44,
   "metadata": {},
   "outputs": [],
   "source": [
    "# data_train tem os dados desde 2013-01-02 até 2017-12-29\n",
    "# data_teste tem os dados desde 2018-01-02 até 2018-01-31\n",
    "# data tem dos dados desde 2013-01-02 até 2018-01-31\n",
    "\n",
    "data = pd.concat((data_train[\"Open\"], data_test[\"Open\"]), axis=0)\n",
    "#data_data = pd.concat((data_train[\"Date\"], data_test[\"Date\"]), axis=0)\n",
    "#data = pd.DataFrame({\"Data\":data_data, \"Open\":data_open})\n",
    "#data.head()"
   ]
  },
  {
   "cell_type": "code",
   "execution_count": 45,
   "metadata": {},
   "outputs": [],
   "source": [
    "# dados desde 2017-08-28 até 2018-01-31\n",
    "data_open_test = data[len(data)-len(data_test)-90:].values"
   ]
  },
  {
   "cell_type": "code",
   "execution_count": 46,
   "metadata": {},
   "outputs": [
    {
     "data": {
      "text/plain": [
       "109"
      ]
     },
     "execution_count": 46,
     "metadata": {},
     "output_type": "execute_result"
    }
   ],
   "source": [
    "# 19+90=109 dias de preços\n",
    "# O X_test contem os 22 dias da base de dados de teste mais os 90 dias anteriores. Esses 90 dias anteriores são necessários \n",
    "# para se poderem fazer previssões.\n",
    "len(data_open_test)"
   ]
  },
  {
   "cell_type": "code",
   "execution_count": 47,
   "metadata": {},
   "outputs": [
    {
     "data": {
      "text/plain": [
       "(109,)"
      ]
     },
     "execution_count": 47,
     "metadata": {},
     "output_type": "execute_result"
    }
   ],
   "source": [
    "data_open_test.shape"
   ]
  },
  {
   "cell_type": "code",
   "execution_count": 48,
   "metadata": {},
   "outputs": [],
   "source": [
    "# Alterar a forma do array para poder ser utilizada a normalização\n",
    "# -1 significa que o array não tem colunas\n",
    "data_open_test = data_open_test.reshape(-1,1)"
   ]
  },
  {
   "cell_type": "code",
   "execution_count": 49,
   "metadata": {},
   "outputs": [
    {
     "data": {
      "text/plain": [
       "(109, 1)"
      ]
     },
     "execution_count": 49,
     "metadata": {},
     "output_type": "execute_result"
    }
   ],
   "source": [
    "data_open_test.shape"
   ]
  },
  {
   "cell_type": "markdown",
   "metadata": {},
   "source": [
    "## Pré-Processamento dos dados de teste - Normalização das Variaveis"
   ]
  },
  {
   "cell_type": "code",
   "execution_count": 50,
   "metadata": {},
   "outputs": [],
   "source": [
    "# Array com a variavel Open normalizada.\n",
    "# Não é necessário o fit_transform porque os dados já foram ajustados anteriormente na outra normalização.\n",
    "\n",
    "open_norm_test = scaler.transform(data_open_test)"
   ]
  },
  {
   "cell_type": "markdown",
   "metadata": {},
   "source": [
    "## Divisão dos dados de teste"
   ]
  },
  {
   "cell_type": "code",
   "execution_count": 63,
   "metadata": {},
   "outputs": [],
   "source": [
    "X_test = []\n",
    "y_test = []"
   ]
  },
  {
   "cell_type": "code",
   "execution_count": 64,
   "metadata": {},
   "outputs": [],
   "source": [
    "for i in range(90, 109):\n",
    "    X_test.append(open_norm_test[i-90:i, 0])\n",
    "    y_test.append(open_norm_test[i,0])"
   ]
  },
  {
   "cell_type": "code",
   "execution_count": 65,
   "metadata": {},
   "outputs": [],
   "source": [
    "# Converter os vectores em arrays\n",
    "X_test, y_test = np.array(X_test), np.array(y_test)"
   ]
  },
  {
   "cell_type": "code",
   "execution_count": 66,
   "metadata": {},
   "outputs": [
    {
     "data": {
      "text/plain": [
       "0.6479482073434125"
      ]
     },
     "execution_count": 66,
     "metadata": {},
     "output_type": "execute_result"
    }
   ],
   "source": [
    "# X_test[0]: preço nos primeiros 90 dias. Utilizado para prever o preço no dia 91.\n",
    "# X_test[1]: preços entre o dia 1 e dia 91. Utilizado para prever o preço no dia 92.\n",
    "# X_test[2]: preço entre o dia 2 e dia 92. Utilizado para prever o preço no dia 93.\n",
    "\n",
    "X_test[1,89]"
   ]
  },
  {
   "cell_type": "code",
   "execution_count": 67,
   "metadata": {},
   "outputs": [
    {
     "data": {
      "text/plain": [
       "array([0.64794821])"
      ]
     },
     "execution_count": 67,
     "metadata": {},
     "output_type": "execute_result"
    }
   ],
   "source": [
    "# y_test[0:1]: preço no dia 91.\n",
    "# y_test[1:2] preço no dia 92.\n",
    "\n",
    "y_test[0:1]"
   ]
  },
  {
   "cell_type": "code",
   "execution_count": 68,
   "metadata": {},
   "outputs": [],
   "source": [
    "# A camada de entrada tem de ser um tensor 3d (input_shape, timesteps, input_dim)\n",
    "# input_shape: 19 registros. Número de registros totais de teste\n",
    "# timesteps: 90 registros. Número de registros utilizados para fazer a previsão.\n",
    "#input_dim: 1 indicador(apenas 1 variavel de entrada)\n",
    "\n",
    "X_test = np.reshape(X_test, (X_test.shape[0], X_test.shape[1], 1))"
   ]
  },
  {
   "cell_type": "code",
   "execution_count": 69,
   "metadata": {},
   "outputs": [
    {
     "data": {
      "text/plain": [
       "(19, 90, 1)"
      ]
     },
     "execution_count": 69,
     "metadata": {},
     "output_type": "execute_result"
    }
   ],
   "source": [
    "X_test.shape"
   ]
  },
  {
   "cell_type": "markdown",
   "metadata": {},
   "source": [
    "## Previsão e Avaliação do Modelo RNN"
   ]
  },
  {
   "cell_type": "code",
   "execution_count": 70,
   "metadata": {},
   "outputs": [],
   "source": [
    "# Prever os dados de teste para avaliar o modelo\n",
    "predictions = model.predict(X_test)"
   ]
  },
  {
   "cell_type": "code",
   "execution_count": 71,
   "metadata": {},
   "outputs": [],
   "source": [
    "# Reverter a normalização do X_test para comparar os valores das acções\n",
    "predictions = scaler.inverse_transform(predictions)"
   ]
  },
  {
   "cell_type": "code",
   "execution_count": 72,
   "metadata": {},
   "outputs": [],
   "source": [
    "# Reverter a normalização do y_test para comparar os valores das acções\n",
    "# Alterar a forma do array para poder reverter a normalização\n",
    "y_test = scaler.inverse_transform(y_test.reshape(-1,1))"
   ]
  },
  {
   "cell_type": "code",
   "execution_count": 73,
   "metadata": {},
   "outputs": [
    {
     "data": {
      "text/html": [
       "<div>\n",
       "<style scoped>\n",
       "    .dataframe tbody tr th:only-of-type {\n",
       "        vertical-align: middle;\n",
       "    }\n",
       "\n",
       "    .dataframe tbody tr th {\n",
       "        vertical-align: top;\n",
       "    }\n",
       "\n",
       "    .dataframe thead th {\n",
       "        text-align: right;\n",
       "    }\n",
       "</style>\n",
       "<table border=\"1\" class=\"dataframe\">\n",
       "  <thead>\n",
       "    <tr style=\"text-align: right;\">\n",
       "      <th></th>\n",
       "      <th>Predictions</th>\n",
       "      <th>y_test</th>\n",
       "    </tr>\n",
       "  </thead>\n",
       "  <tbody>\n",
       "    <tr>\n",
       "      <th>0</th>\n",
       "      <td>20.186380</td>\n",
       "      <td>19.200001</td>\n",
       "    </tr>\n",
       "    <tr>\n",
       "      <th>1</th>\n",
       "      <td>19.314875</td>\n",
       "      <td>18.000000</td>\n",
       "    </tr>\n",
       "    <tr>\n",
       "      <th>2</th>\n",
       "      <td>18.750294</td>\n",
       "      <td>18.389999</td>\n",
       "    </tr>\n",
       "    <tr>\n",
       "      <th>3</th>\n",
       "      <td>18.492102</td>\n",
       "      <td>19.559999</td>\n",
       "    </tr>\n",
       "    <tr>\n",
       "      <th>4</th>\n",
       "      <td>18.891275</td>\n",
       "      <td>17.290001</td>\n",
       "    </tr>\n",
       "  </tbody>\n",
       "</table>\n",
       "</div>"
      ],
      "text/plain": [
       "   Predictions     y_test\n",
       "0    20.186380  19.200001\n",
       "1    19.314875  18.000000\n",
       "2    18.750294  18.389999\n",
       "3    18.492102  19.559999\n",
       "4    18.891275  17.290001"
      ]
     },
     "execution_count": 73,
     "metadata": {},
     "output_type": "execute_result"
    }
   ],
   "source": [
    "pd.DataFrame({\"Predictions\": predictions[:,0], \"y_test\":y_test[:,0]}).head()"
   ]
  },
  {
   "cell_type": "markdown",
   "metadata": {},
   "source": [
    "### Avaliação do Modelo"
   ]
  },
  {
   "cell_type": "code",
   "execution_count": 74,
   "metadata": {},
   "outputs": [],
   "source": [
    "from sklearn import metrics"
   ]
  },
  {
   "cell_type": "code",
   "execution_count": 75,
   "metadata": {},
   "outputs": [
    {
     "name": "stdout",
     "output_type": "stream",
     "text": [
      "MAE 0.8770988576210424\n",
      "MSE 0.9095797654403155\n",
      "RMSE 0.9537189132235533\n"
     ]
    }
   ],
   "source": [
    "# O MSE é muito mais elevado porque penaliza os desvios grandes(são elevados ao quadrado).\n",
    "# O MAE de 0.88 significa que o preço das acções varia +- 0.88 reais. \n",
    "print(\"MAE\", metrics.mean_absolute_error(y_test, predictions))\n",
    "print(\"MSE\", metrics.mean_squared_error(y_test, predictions))\n",
    "print(\"RMSE\", np.sqrt(metrics.mean_squared_error(y_test, predictions)))"
   ]
  },
  {
   "cell_type": "code",
   "execution_count": 76,
   "metadata": {},
   "outputs": [
    {
     "data": {
      "text/plain": [
       "16.936283"
      ]
     },
     "execution_count": 76,
     "metadata": {},
     "output_type": "execute_result"
    }
   ],
   "source": [
    "predictions.mean()"
   ]
  },
  {
   "cell_type": "code",
   "execution_count": 77,
   "metadata": {},
   "outputs": [
    {
     "data": {
      "text/plain": [
       "16.379473684210524"
      ]
     },
     "execution_count": 77,
     "metadata": {},
     "output_type": "execute_result"
    }
   ],
   "source": [
    "y_test.mean()"
   ]
  },
  {
   "cell_type": "markdown",
   "metadata": {},
   "source": [
    "### Resíduos"
   ]
  },
  {
   "cell_type": "code",
   "execution_count": 78,
   "metadata": {},
   "outputs": [
    {
     "data": {
      "text/plain": [
       "Text(0.5, 0, 'y_test-predictions')"
      ]
     },
     "execution_count": 78,
     "metadata": {},
     "output_type": "execute_result"
    },
    {
     "data": {
      "image/png": "[encoded data removed]",
      "text/plain": [
       "<Figure size 720x360 with 1 Axes>"
      ]
     },
     "metadata": {
      "needs_background": "light"
     },
     "output_type": "display_data"
    }
   ],
   "source": [
    "# Histograma de Residuos \n",
    "# O gráfico não parece aproximar-se de uma distriuição normal, onde os residuos são proximos de zero.\n",
    "\n",
    "plt.figure(figsize=(10,5))\n",
    "sns.distplot(y_test-predictions)\n",
    "plt.xlabel(\"y_test-predictions\")"
   ]
  },
  {
   "cell_type": "markdown",
   "metadata": {},
   "source": [
    "### Gráfico preço real vs preço previsto"
   ]
  },
  {
   "cell_type": "code",
   "execution_count": 79,
   "metadata": {},
   "outputs": [
    {
     "data": {
      "image/png": "[encoded data removed]",
      "text/plain": [
       "<Figure size 864x432 with 1 Axes>"
      ]
     },
     "metadata": {
      "needs_background": "light"
     },
     "output_type": "display_data"
    }
   ],
   "source": [
    "plt.figure(figsize=(12,6))\n",
    "plt.plot(predictions, color=\"red\", label=\"preço previsto\")\n",
    "plt.plot(y_test, color=\"blue\", label=\"preço real\")\n",
    "plt.title(\"Preço das acções\")\n",
    "plt.xlabel(\"Tempo\")\n",
    "plt.ylabel(\"Preço\")\n",
    "plt.legend()\n",
    "plt.show()"
   ]
  },
  {
   "cell_type": "code",
   "execution_count": null,
   "metadata": {},
   "outputs": [],
   "source": []
  }
 ],
 "metadata": {
  "kernelspec": {
   "display_name": "Python 3",
   "language": "python",
   "name": "python3"
  },
  "language_info": {
   "codemirror_mode": {
    "name": "ipython",
    "version": 3
   },
   "file_extension": ".py",
   "mimetype": "text/x-python",
   "name": "python",
   "nbconvert_exporter": "python",
   "pygments_lexer": "ipython3",
   "version": "3.7.3"
  }
 },
 "nbformat": 4,
 "nbformat_minor": 2
}
