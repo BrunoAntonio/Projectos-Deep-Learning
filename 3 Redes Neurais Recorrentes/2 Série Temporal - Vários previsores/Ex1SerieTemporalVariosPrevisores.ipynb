{
 "cells": [
  {
   "cell_type": "markdown",
   "metadata": {},
   "source": [
    "# Rede Neural Recorrente - Série Temporal com vários previsores"
   ]
  },
  {
   "cell_type": "code",
   "execution_count": 1,
   "metadata": {},
   "outputs": [],
   "source": [
    "import pandas as pd\n",
    "import numpy as np\n",
    "\n",
    "import matplotlib.pyplot as plt\n",
    "import seaborn as sns\n",
    "\n",
    "import tensorflow as tf\n",
    "from tensorflow.keras import layers, models, callbacks\n",
    "\n",
    "%matplotlib inline"
   ]
  },
  {
   "cell_type": "markdown",
   "metadata": {},
   "source": [
    "## Obter os dados de treino"
   ]
  },
  {
   "cell_type": "code",
   "execution_count": 2,
   "metadata": {},
   "outputs": [],
   "source": [
    "data_train = pd.read_csv(\"petr4-treinamento.csv\")"
   ]
  },
  {
   "cell_type": "code",
   "execution_count": 3,
   "metadata": {},
   "outputs": [
    {
     "data": {
      "text/html": [
       "<div>\n",
       "<style scoped>\n",
       "    .dataframe tbody tr th:only-of-type {\n",
       "        vertical-align: middle;\n",
       "    }\n",
       "\n",
       "    .dataframe tbody tr th {\n",
       "        vertical-align: top;\n",
       "    }\n",
       "\n",
       "    .dataframe thead th {\n",
       "        text-align: right;\n",
       "    }\n",
       "</style>\n",
       "<table border=\"1\" class=\"dataframe\">\n",
       "  <thead>\n",
       "    <tr style=\"text-align: right;\">\n",
       "      <th></th>\n",
       "      <th>Date</th>\n",
       "      <th>Open</th>\n",
       "      <th>High</th>\n",
       "      <th>Low</th>\n",
       "      <th>Close</th>\n",
       "      <th>Adj Close</th>\n",
       "      <th>Volume</th>\n",
       "    </tr>\n",
       "  </thead>\n",
       "  <tbody>\n",
       "    <tr>\n",
       "      <th>0</th>\n",
       "      <td>2013-01-02</td>\n",
       "      <td>19.990000</td>\n",
       "      <td>20.209999</td>\n",
       "      <td>19.690001</td>\n",
       "      <td>19.690001</td>\n",
       "      <td>18.086271</td>\n",
       "      <td>30182600.0</td>\n",
       "    </tr>\n",
       "    <tr>\n",
       "      <th>1</th>\n",
       "      <td>2013-01-03</td>\n",
       "      <td>19.809999</td>\n",
       "      <td>20.400000</td>\n",
       "      <td>19.700001</td>\n",
       "      <td>20.400000</td>\n",
       "      <td>18.738441</td>\n",
       "      <td>30552600.0</td>\n",
       "    </tr>\n",
       "    <tr>\n",
       "      <th>2</th>\n",
       "      <td>2013-01-04</td>\n",
       "      <td>20.330000</td>\n",
       "      <td>20.620001</td>\n",
       "      <td>20.170000</td>\n",
       "      <td>20.430000</td>\n",
       "      <td>18.766001</td>\n",
       "      <td>36141000.0</td>\n",
       "    </tr>\n",
       "    <tr>\n",
       "      <th>3</th>\n",
       "      <td>2013-01-07</td>\n",
       "      <td>20.480000</td>\n",
       "      <td>20.670000</td>\n",
       "      <td>19.950001</td>\n",
       "      <td>20.080000</td>\n",
       "      <td>18.444506</td>\n",
       "      <td>28069600.0</td>\n",
       "    </tr>\n",
       "    <tr>\n",
       "      <th>4</th>\n",
       "      <td>2013-01-08</td>\n",
       "      <td>20.110001</td>\n",
       "      <td>20.230000</td>\n",
       "      <td>19.459999</td>\n",
       "      <td>19.500000</td>\n",
       "      <td>17.911745</td>\n",
       "      <td>29091300.0</td>\n",
       "    </tr>\n",
       "  </tbody>\n",
       "</table>\n",
       "</div>"
      ],
      "text/plain": [
       "         Date       Open       High        Low      Close  Adj Close  \\\n",
       "0  2013-01-02  19.990000  20.209999  19.690001  19.690001  18.086271   \n",
       "1  2013-01-03  19.809999  20.400000  19.700001  20.400000  18.738441   \n",
       "2  2013-01-04  20.330000  20.620001  20.170000  20.430000  18.766001   \n",
       "3  2013-01-07  20.480000  20.670000  19.950001  20.080000  18.444506   \n",
       "4  2013-01-08  20.110001  20.230000  19.459999  19.500000  17.911745   \n",
       "\n",
       "       Volume  \n",
       "0  30182600.0  \n",
       "1  30552600.0  \n",
       "2  36141000.0  \n",
       "3  28069600.0  \n",
       "4  29091300.0  "
      ]
     },
     "execution_count": 3,
     "metadata": {},
     "output_type": "execute_result"
    }
   ],
   "source": [
    "data_train.head()"
   ]
  },
  {
   "cell_type": "markdown",
   "metadata": {},
   "source": [
    "## Pré-Processamento dos dados de treino - Apagar dados Ausentes"
   ]
  },
  {
   "cell_type": "code",
   "execution_count": 4,
   "metadata": {},
   "outputs": [
    {
     "data": {
      "text/plain": [
       "Date         0\n",
       "Open         3\n",
       "High         3\n",
       "Low          3\n",
       "Close        3\n",
       "Adj Close    3\n",
       "Volume       3\n",
       "dtype: int64"
      ]
     },
     "execution_count": 4,
     "metadata": {},
     "output_type": "execute_result"
    }
   ],
   "source": [
    "# Só existem valores ausentes nos dados de treino\n",
    "data_train.isnull().sum()"
   ]
  },
  {
   "cell_type": "code",
   "execution_count": 5,
   "metadata": {},
   "outputs": [
    {
     "data": {
      "text/plain": [
       "(1245, 7)"
      ]
     },
     "execution_count": 5,
     "metadata": {},
     "output_type": "execute_result"
    }
   ],
   "source": [
    "# Tamanho original do dataset de treino\n",
    "data_train.shape"
   ]
  },
  {
   "cell_type": "code",
   "execution_count": 6,
   "metadata": {},
   "outputs": [],
   "source": [
    "# Como apenas 3 linhas têm valores ausentes optou-se por apagar essas linhas.\n",
    "data_train = data_train.dropna()"
   ]
  },
  {
   "cell_type": "code",
   "execution_count": 7,
   "metadata": {},
   "outputs": [
    {
     "data": {
      "text/plain": [
       "(1242, 7)"
      ]
     },
     "execution_count": 7,
     "metadata": {},
     "output_type": "execute_result"
    }
   ],
   "source": [
    "# Confirmação de ter-se removido apenas 3 linhas\n",
    "data_train.shape"
   ]
  },
  {
   "cell_type": "code",
   "execution_count": 8,
   "metadata": {},
   "outputs": [
    {
     "data": {
      "text/plain": [
       "Date         0\n",
       "Open         0\n",
       "High         0\n",
       "Low          0\n",
       "Close        0\n",
       "Adj Close    0\n",
       "Volume       0\n",
       "dtype: int64"
      ]
     },
     "execution_count": 8,
     "metadata": {},
     "output_type": "execute_result"
    }
   ],
   "source": [
    "# Confirmação da anão existencia de valores nulos\n",
    "data_train.isnull().sum()"
   ]
  },
  {
   "cell_type": "markdown",
   "metadata": {},
   "source": [
    "## Pré-Processamento dos dados de treino- Normalização das Variaveis"
   ]
  },
  {
   "cell_type": "code",
   "execution_count": 9,
   "metadata": {},
   "outputs": [],
   "source": [
    "from sklearn.preprocessing import MinMaxScaler"
   ]
  },
  {
   "cell_type": "code",
   "execution_count": 10,
   "metadata": {},
   "outputs": [],
   "source": [
    "scaler = MinMaxScaler(feature_range=(0,1))"
   ]
  },
  {
   "cell_type": "code",
   "execution_count": 11,
   "metadata": {},
   "outputs": [
    {
     "data": {
      "text/plain": [
       "MinMaxScaler(copy=True, feature_range=(0, 1))"
      ]
     },
     "execution_count": 11,
     "metadata": {},
     "output_type": "execute_result"
    }
   ],
   "source": [
    "# Normalizar as variaveis\n",
    "# Vão-se mormalizar todas as variaveis menos a data porque vão ser utilizadas para fazer o treino do modelo.\n",
    "scaler.fit(data_train.drop([\"Date\"], axis=1))"
   ]
  },
  {
   "cell_type": "code",
   "execution_count": 12,
   "metadata": {},
   "outputs": [],
   "source": [
    "# Array com as variaveis normalizadas\n",
    "open_norm_train = scaler.fit_transform(data_train.drop([\"Date\"], axis=1))"
   ]
  },
  {
   "cell_type": "code",
   "execution_count": 13,
   "metadata": {},
   "outputs": [
    {
     "data": {
      "text/plain": [
       "(1242, 6)"
      ]
     },
     "execution_count": 13,
     "metadata": {},
     "output_type": "execute_result"
    }
   ],
   "source": [
    "open_norm_train.shape"
   ]
  },
  {
   "cell_type": "code",
   "execution_count": 14,
   "metadata": {},
   "outputs": [
    {
     "data": {
      "text/plain": [
       "array([0.76501938, 0.7562984 , 0.78149225, ..., 0.57122093, 0.57655039,\n",
       "       0.57655039])"
      ]
     },
     "execution_count": 14,
     "metadata": {},
     "output_type": "execute_result"
    }
   ],
   "source": [
    "open_norm_train[:,0]"
   ]
  },
  {
   "cell_type": "markdown",
   "metadata": {},
   "source": [
    "## Divisão dos dados de treino"
   ]
  },
  {
   "cell_type": "code",
   "execution_count": 15,
   "metadata": {},
   "outputs": [
    {
     "data": {
      "text/plain": [
       "(1242, 6)"
      ]
     },
     "execution_count": 15,
     "metadata": {},
     "output_type": "execute_result"
    }
   ],
   "source": [
    "# Utilizar todas as variaveis para prever o preço de abertura das acções.\n",
    "open_norm_train.shape"
   ]
  },
  {
   "cell_type": "code",
   "execution_count": 16,
   "metadata": {},
   "outputs": [],
   "source": [
    "# Prever o preço das acções com base nos preços de abertura nos 90 dias anteriores.\n",
    "\n",
    "X_train = [] # vector com os preços e volume nos 90 dias anteriores.\n",
    "y_train = [] # vector com o preço de abertura da acção no dia 91."
   ]
  },
  {
   "cell_type": "code",
   "execution_count": 17,
   "metadata": {},
   "outputs": [],
   "source": [
    "# Só é possivel prever o preço das acções desde o dia 90 até ao dia 1242. Porque só se tem registro de 1242 dias e \n",
    "# estabeleceu-se como critério utilizar os 90 dias anteriores para fazer uma previsão.\n",
    "\n",
    "for i in range(90, 1242):\n",
    "    X_train.append(open_norm_train[i-90:i,0:6]) # valores dos preços e volume\n",
    "    y_train.append(open_norm_train[i, 0]) # valor do preço de abertura"
   ]
  },
  {
   "cell_type": "code",
   "execution_count": 18,
   "metadata": {},
   "outputs": [],
   "source": [
    "# Converter os vectores(listas) em arrays\n",
    "X_train, y_train = np.array(X_train), np.array(y_train)"
   ]
  },
  {
   "cell_type": "code",
   "execution_count": 19,
   "metadata": {},
   "outputs": [
    {
     "data": {
      "text/plain": [
       "(1152, 90, 6)"
      ]
     },
     "execution_count": 19,
     "metadata": {},
     "output_type": "execute_result"
    }
   ],
   "source": [
    "# 1152 registros com os 90 dias anteriores para as 6 variaveis utilizadas para fazer a previsão.\n",
    "# Para prever o preço nestes 1152 dias utilizam-se os 90 dias anteriores a cada dia a prever.\n",
    "X_train.shape"
   ]
  },
  {
   "cell_type": "code",
   "execution_count": 20,
   "metadata": {},
   "outputs": [
    {
     "data": {
      "text/plain": [
       "array([0.76501938, 0.7562984 , 0.78149225, 0.78875969, 0.77083338,\n",
       "       0.74806197, 0.75436047, 0.75823643, 0.76598837, 0.76598837,\n",
       "       0.76017437, 0.75872098, 0.75581391, 0.74467054, 0.7374031 ,\n",
       "       0.7374031 , 0.73498067, 0.75242248, 0.73401163, 0.71656977,\n",
       "       0.68120155, 0.67538755, 0.67635659, 0.63372098, 0.66521318,\n",
       "       0.65649225, 0.64680228, 0.66618222, 0.65843028, 0.64970935,\n",
       "       0.65116274, 0.66424419, 0.67344961, 0.64292631, 0.64486434,\n",
       "       0.62257747, 0.60949617, 0.60998067, 0.60852713, 0.59593023,\n",
       "       0.61143411, 0.60222863, 0.64922481, 0.68362398, 0.70687989,\n",
       "       0.68265509, 0.70978682, 0.70784879, 0.71608527, 0.73643411,\n",
       "       0.7122093 , 0.7122093 , 0.7194767 , 0.70348832, 0.69525189,\n",
       "       0.70397287, 0.70397287, 0.69767442, 0.68168605, 0.68168605,\n",
       "       0.65310078, 0.66618222, 0.64825581, 0.66182175, 0.64341085,\n",
       "       0.67877902, 0.69137592, 0.66569772, 0.65406982, 0.64292631,\n",
       "       0.64147292, 0.63565891, 0.67587209, 0.68653106, 0.70300383,\n",
       "       0.71996119, 0.73982553, 0.76550388, 0.74854651, 0.75823643,\n",
       "       0.78924419, 0.76598837, 0.78488372, 0.80184109, 0.77761628,\n",
       "       0.77325581, 0.7562984 , 0.74273261, 0.74127907, 0.74224806])"
      ]
     },
     "execution_count": 20,
     "metadata": {},
     "output_type": "execute_result"
    }
   ],
   "source": [
    "# X_train[0,:,0]: preços de abertura nos primeiros 90 dias. Utilizado para prever o preço de abertura no dia 91.\n",
    "# X_train[0,:,1]: preços de máximo nos primeiros 90 dias. Utilizado para prever o preço de abertura no dia 91.\n",
    "# X_train[0,:,2]: preços de minimo nos primeiros 90 dias. Utilizado para prever o preço de abertura no dia 91.\n",
    "# X_train[0,:,3]: preços de fecho nos primeiros 90 dias. Utilizado para prever o preço de abertura no dia 91.\n",
    "# X_train[0,:,4]: preços de fecho ajustado nos primeiros 90 dias. Utilizado para prever o preço de abertura no dia 91.\n",
    "# X_train[0,:,5]: volume transaccionado nos primeiros 90 dias. Utilizado para prever o preço de abertura no dia 91.\n",
    "# X_train[1,:,5]: volume transaccionado entre o dia 1 e 91. Utilizado para prever o preço de abertura no dia 92.\n",
    "\n",
    "X_train[0,:,0]"
   ]
  },
  {
   "cell_type": "code",
   "execution_count": 21,
   "metadata": {},
   "outputs": [
    {
     "data": {
      "text/plain": [
       "array([0.76114341])"
      ]
     },
     "execution_count": 21,
     "metadata": {},
     "output_type": "execute_result"
    }
   ],
   "source": [
    "# y_train[0:1]: preço de abertura (normalizado) no dia 91.\n",
    "# y_train[1:2] preço de abertura (normalizado) no dia 92.\n",
    "y_train[0:1]"
   ]
  },
  {
   "cell_type": "code",
   "execution_count": 22,
   "metadata": {},
   "outputs": [],
   "source": [
    "# A camada de entrada tem de ser um tensor 3d (input_shape, timesteps, input_dim)\n",
    "# input_shape: 1152 registros. Número de registros totais\n",
    "# timesteps: 90 registros. Número de registros utilizados para fazer a previsão.\n",
    "#input_dim: 6 indicador(6 variaveis de entrada utilizadas para fazer a previsão).\n",
    "\n",
    "# Não é necessário porque o array já está no formato correcto\n",
    "#X_train = np.reshape(X_train, (X_train.shape[0], X_train.shape[1], 6))"
   ]
  },
  {
   "cell_type": "markdown",
   "metadata": {},
   "source": [
    "## Modelo Rede Neural Recorrente"
   ]
  },
  {
   "cell_type": "code",
   "execution_count": 23,
   "metadata": {},
   "outputs": [],
   "source": [
    "# sequential - A informação é passada de uma camada para a camada seguinte\n",
    "\n",
    "#-------------------------------------------------------------------------------------------------------------------------------\n",
    "# Camada LSTM\n",
    "\n",
    "# LSTM - Long short term memory. AS redes neurais simples têm dificuldade em \"aprender\" alguns tipos de padrões mais complexos.\n",
    "# Nesses casos pode-se utilizar o tipo de rede neural recorrente LSTM que aprende \"dependencias\" de longo prazo.\n",
    "\n",
    "# As redes neurais recorrentes simples armazenam as informações no tempo atraves de loops( o neuronio apenas aponta para ele \n",
    "# mesmo e para a camada seguinte). Isto permte que a informação persista.\n",
    "# As redes neurais recorrentes LSTM para alem disso têm celulas de memoria e manipulam essas celulas de modo a filtrar e \n",
    "# armazenar a informação importante nessas celulas.\n",
    "\n",
    "# As redes neurais recorrentes ajudam no problema do gradiente desaparecendo(vanish gradient). No ajuste dos pesos ao se\n",
    "# utilizar a descida do gradiente e a sua actualização atraves de backpropagation em primeiro faz-se os calculos da camada\n",
    "# de entrada para a camada de saida. Os pesos são depois actalizados a partir da camada de saida para a camada de entrada. Os\n",
    "# pesos vão sendo actualizados utilizando o learning rate(maiores alterações nas 1ªs camadas). Caso se tenha muitos loops\n",
    "# as ultimas actualizações do gradiente são muito pequenas, o que faz com que o peso não tenha alteração no seu valor.\n",
    "\n",
    "# Número de celulas de memoria(units): Número de vezes(loops) em que a informação é passada ao mesmo neuronio e a camada \n",
    "# seguinte (numero de cópias da camada). Deve ser um valor alto para adicinonar mais dimensionalidade e decorar a tendencia ao \n",
    "# longo do tempo.\n",
    "\n",
    "# Return_sequence: True. Apenas se utilizada quando se tem mais de uma camada LSTM. Indica que a informação será passada para a\n",
    "# camada seguinte.\n",
    "\n",
    "# input_shape: Número de registros utilizados para fazer a previsão(90) e número de variaveis de entrada(6).\n",
    "#-------------------------------------------------------------------------------------------------------------------------------\n",
    "# Camada densa\n",
    "\n",
    "# Todos os neuronios da ultima camada( segunda camada LSTM) estão conectados à camada de saida. Nas camadas LSTM isso tambem\n",
    "# acontece.\n",
    "\n",
    "# units: 1. Só se quer prever o valor Open.\n",
    "# activation: linear. É um problema de regressão. Como os valores estão normalizados(entre 0 e 1) caso se utiliza-se a função\n",
    "# sigmoid tambem se retornaria valores entre 0 e 1.\n",
    "#-------------------------------------------------------------------------------------------------------------------------------\n",
    "\n",
    "model = models.Sequential()\n",
    "model.add(layers.LSTM(units=100, return_sequences=True, input_shape=(X_train.shape[1], 6)))\n",
    "model.add(layers.Dropout(0.3))\n",
    "\n",
    "model.add(layers.LSTM(units=50, return_sequences=True))\n",
    "model.add(layers.Dropout(0.3))\n",
    "\n",
    "model.add(layers.LSTM(units=50, return_sequences=True))\n",
    "model.add(layers.Dropout(0.3))\n",
    "\n",
    "model.add(layers.LSTM(units=50))\n",
    "model.add(layers.Dropout(0.3))\n",
    "\n",
    "model.add(layers.Dense(units=1, activation=\"sigmoid\"))"
   ]
  },
  {
   "cell_type": "markdown",
   "metadata": {},
   "source": [
    "## Compilação e Ajuste do modelo RNN"
   ]
  },
  {
   "cell_type": "code",
   "execution_count": 24,
   "metadata": {},
   "outputs": [],
   "source": [
    "# optimizer: pode-se utilizar o RMSprop, indicado para redes neurais recorrentes, ou o adam que obtem resultados semelhantes.\n",
    "# loss: mean_squared_error é o parametro utilizado para problemas de regressão.\n",
    "\n",
    "# Compilação do modelo\n",
    "model.compile(optimizer=\"adam\", loss=\"mean_squared_error\", metrics=[\"mean_absolute_error\"])"
   ]
  },
  {
   "cell_type": "code",
   "execution_count": 25,
   "metadata": {},
   "outputs": [],
   "source": [
    "# callbacks: contem um conjunto de funções que podem ser aplicadas durante o treino. São usadas para se ter uma visão das fases\n",
    "# internas e estatisticas do modelo.\n",
    "\n",
    "# EarlyStopping: Pára o treino se uma quantidade definida parar de melhorar.Por exemplo se durante 30 épocas o valor da loss \n",
    "\n",
    "# function não melhorar, o treino é parado.\n",
    "# monitor: função a avaliar\n",
    "# min_delta: valor minimo definido da function para se continuar o treino. Se esse valor não for atingido durante \"patiente\" \n",
    "# épocas o treino pára.\n",
    "# patience: número de epocas em que a função não melhorar. Se durante estas epocas a função não melhorar o treino pára.\n",
    "\n",
    "es = callbacks.EarlyStopping(monitor=\"loss\", min_delta=1e-10, patience=10, verbose=1)"
   ]
  },
  {
   "cell_type": "code",
   "execution_count": 26,
   "metadata": {},
   "outputs": [],
   "source": [
    "# ReduceLROnPlateau(): Reduz a taxa de aprendizagem quando uma função pára de melhorar.\n",
    "# Se a loss function não melhorar depois de, por exemplo 2 ou 3 epocas, reduz a taxa de aprendizagem para melhorar o valor da\n",
    "# função.\n",
    "\n",
    "# factor: factor pelo qual a learning rateé reduzida, factorxlr()\n",
    "# min_delta: \n",
    "\n",
    "rlr = callbacks.ReduceLROnPlateau(monitor=\"loss\", patience=5, factor=0.2, verbose=1)"
   ]
  },
  {
   "cell_type": "code",
   "execution_count": 27,
   "metadata": {},
   "outputs": [],
   "source": [
    "# Gráva o modelo no fim de cada época\n",
    "\n",
    "# monitor: função a avaliar\n",
    "# save_best_only: grava apenas o modelo com o melhor resultado\n",
    "\n",
    "ncp = callbacks.ModelCheckpoint(monitor=\"loss\", save_best_only=True, filepath=\"pesos.h5\", verbose=1)"
   ]
  },
  {
   "cell_type": "code",
   "execution_count": 28,
   "metadata": {},
   "outputs": [
    {
     "name": "stdout",
     "output_type": "stream",
     "text": [
      "Train on 1152 samples\n",
      "Epoch 1/100\n",
      "1120/1152 [============================>.] - ETA: 0s - loss: 0.0193 - mean_absolute_error: 0.1054\n",
      "Epoch 00001: loss improved from inf to 0.01891, saving model to pesos.h5\n",
      "1152/1152 [==============================] - 11s 9ms/sample - loss: 0.0189 - mean_absolute_error: 0.1042\n",
      "Epoch 2/100\n",
      "1120/1152 [============================>.] - ETA: 0s - loss: 0.0053 - mean_absolute_error: 0.0580\n",
      "Epoch 00002: loss improved from 0.01891 to 0.00526, saving model to pesos.h5\n",
      "1152/1152 [==============================] - 9s 7ms/sample - loss: 0.0053 - mean_absolute_error: 0.0575\n",
      "Epoch 3/100\n",
      "1120/1152 [============================>.] - ETA: 0s - loss: 0.0040 - mean_absolute_error: 0.0496\n",
      "Epoch 00003: loss improved from 0.00526 to 0.00404, saving model to pesos.h5\n",
      "1152/1152 [==============================] - 9s 8ms/sample - loss: 0.0040 - mean_absolute_error: 0.0497\n",
      "Epoch 4/100\n",
      "1120/1152 [============================>.] - ETA: 0s - loss: 0.0042 - mean_absolute_error: 0.0507\n",
      "Epoch 00004: loss did not improve from 0.00404\n",
      "1152/1152 [==============================] - 8s 7ms/sample - loss: 0.0042 - mean_absolute_error: 0.0507\n",
      "Epoch 5/100\n",
      "1120/1152 [============================>.] - ETA: 0s - loss: 0.0038 - mean_absolute_error: 0.0476\n",
      "Epoch 00005: loss improved from 0.00404 to 0.00379, saving model to pesos.h5\n",
      "1152/1152 [==============================] - 9s 7ms/sample - loss: 0.0038 - mean_absolute_error: 0.0475\n",
      "Epoch 6/100\n",
      "1120/1152 [============================>.] - ETA: 0s - loss: 0.0037 - mean_absolute_error: 0.0467\n",
      "Epoch 00006: loss improved from 0.00379 to 0.00366, saving model to pesos.h5\n",
      "1152/1152 [==============================] - 9s 7ms/sample - loss: 0.0037 - mean_absolute_error: 0.0464\n",
      "Epoch 7/100\n",
      "1120/1152 [============================>.] - ETA: 0s - loss: 0.0031 - mean_absolute_error: 0.0430\n",
      "Epoch 00007: loss improved from 0.00366 to 0.00309, saving model to pesos.h5\n",
      "1152/1152 [==============================] - 9s 7ms/sample - loss: 0.0031 - mean_absolute_error: 0.0428\n",
      "Epoch 8/100\n",
      "1120/1152 [============================>.] - ETA: 0s - loss: 0.0030 - mean_absolute_error: 0.0424\n",
      "Epoch 00008: loss improved from 0.00309 to 0.00303, saving model to pesos.h5\n",
      "1152/1152 [==============================] - 9s 7ms/sample - loss: 0.0030 - mean_absolute_error: 0.0423\n",
      "Epoch 9/100\n",
      "1120/1152 [============================>.] - ETA: 0s - loss: 0.0032 - mean_absolute_error: 0.0439\n",
      "Epoch 00009: loss did not improve from 0.00303\n",
      "1152/1152 [==============================] - 9s 7ms/sample - loss: 0.0032 - mean_absolute_error: 0.0436\n",
      "Epoch 10/100\n",
      "1120/1152 [============================>.] - ETA: 0s - loss: 0.0030 - mean_absolute_error: 0.0415\n",
      "Epoch 00010: loss improved from 0.00303 to 0.00295, saving model to pesos.h5\n",
      "1152/1152 [==============================] - 9s 7ms/sample - loss: 0.0029 - mean_absolute_error: 0.0412\n",
      "Epoch 11/100\n",
      "1120/1152 [============================>.] - ETA: 0s - loss: 0.0026 - mean_absolute_error: 0.0389\n",
      "Epoch 00011: loss improved from 0.00295 to 0.00253, saving model to pesos.h5\n",
      "1152/1152 [==============================] - 9s 7ms/sample - loss: 0.0025 - mean_absolute_error: 0.0387\n",
      "Epoch 12/100\n",
      "1120/1152 [============================>.] - ETA: 0s - loss: 0.0023 - mean_absolute_error: 0.0366\n",
      "Epoch 00012: loss improved from 0.00253 to 0.00229, saving model to pesos.h5\n",
      "1152/1152 [==============================] - 9s 8ms/sample - loss: 0.0023 - mean_absolute_error: 0.0365\n",
      "Epoch 13/100\n",
      "1120/1152 [============================>.] - ETA: 0s - loss: 0.0026 - mean_absolute_error: 0.0397\n",
      "Epoch 00013: loss did not improve from 0.00229\n",
      "1152/1152 [==============================] - 8s 7ms/sample - loss: 0.0026 - mean_absolute_error: 0.0395\n",
      "Epoch 14/100\n",
      "1120/1152 [============================>.] - ETA: 0s - loss: 0.0023 - mean_absolute_error: 0.0365\n",
      "Epoch 00014: loss improved from 0.00229 to 0.00225, saving model to pesos.h5\n",
      "1152/1152 [==============================] - 9s 7ms/sample - loss: 0.0022 - mean_absolute_error: 0.0364\n",
      "Epoch 15/100\n",
      "1120/1152 [============================>.] - ETA: 0s - loss: 0.0022 - mean_absolute_error: 0.0355\n",
      "Epoch 00015: loss improved from 0.00225 to 0.00217, saving model to pesos.h5\n",
      "1152/1152 [==============================] - 9s 8ms/sample - loss: 0.0022 - mean_absolute_error: 0.0356\n",
      "Epoch 16/100\n",
      "1120/1152 [============================>.] - ETA: 0s - loss: 0.0021 - mean_absolute_error: 0.0357\n",
      "Epoch 00016: loss improved from 0.00217 to 0.00213, saving model to pesos.h5\n",
      "1152/1152 [==============================] - 9s 8ms/sample - loss: 0.0021 - mean_absolute_error: 0.0356\n",
      "Epoch 17/100\n",
      "1120/1152 [============================>.] - ETA: 0s - loss: 0.0018 - mean_absolute_error: 0.0330\n",
      "Epoch 00017: loss improved from 0.00213 to 0.00187, saving model to pesos.h5\n",
      "1152/1152 [==============================] - 8s 7ms/sample - loss: 0.0019 - mean_absolute_error: 0.0333\n",
      "Epoch 18/100\n",
      "1120/1152 [============================>.] - ETA: 0s - loss: 0.0020 - mean_absolute_error: 0.0345\n",
      "Epoch 00018: loss did not improve from 0.00187\n",
      "1152/1152 [==============================] - 8s 7ms/sample - loss: 0.0020 - mean_absolute_error: 0.0343\n",
      "Epoch 19/100\n",
      "1120/1152 [============================>.] - ETA: 0s - loss: 0.0020 - mean_absolute_error: 0.0335\n",
      "Epoch 00019: loss did not improve from 0.00187\n",
      "1152/1152 [==============================] - 9s 8ms/sample - loss: 0.0019 - mean_absolute_error: 0.0336\n",
      "Epoch 20/100\n",
      "1120/1152 [============================>.] - ETA: 0s - loss: 0.0019 - mean_absolute_error: 0.0336\n",
      "Epoch 00020: loss did not improve from 0.00187\n",
      "1152/1152 [==============================] - 9s 7ms/sample - loss: 0.0019 - mean_absolute_error: 0.0334\n",
      "Epoch 21/100\n",
      "1120/1152 [============================>.] - ETA: 0s - loss: 0.0018 - mean_absolute_error: 0.0322\n",
      "Epoch 00021: loss improved from 0.00187 to 0.00181, saving model to pesos.h5\n",
      "1152/1152 [==============================] - 8s 7ms/sample - loss: 0.0018 - mean_absolute_error: 0.0322\n",
      "Epoch 22/100\n",
      "1120/1152 [============================>.] - ETA: 0s - loss: 0.0018 - mean_absolute_error: 0.0319\n",
      "Epoch 00022: loss improved from 0.00181 to 0.00176, saving model to pesos.h5\n",
      "1152/1152 [==============================] - 8s 7ms/sample - loss: 0.0018 - mean_absolute_error: 0.0321\n",
      "Epoch 23/100\n",
      "1120/1152 [============================>.] - ETA: 0s - loss: 0.0017 - mean_absolute_error: 0.0312\n",
      "Epoch 00023: loss improved from 0.00176 to 0.00170, saving model to pesos.h5\n",
      "1152/1152 [==============================] - 9s 7ms/sample - loss: 0.0017 - mean_absolute_error: 0.0312\n",
      "Epoch 24/100\n",
      "1120/1152 [============================>.] - ETA: 0s - loss: 0.0016 - mean_absolute_error: 0.0307\n",
      "Epoch 00024: loss improved from 0.00170 to 0.00163, saving model to pesos.h5\n",
      "1152/1152 [==============================] - 9s 7ms/sample - loss: 0.0016 - mean_absolute_error: 0.0307\n",
      "Epoch 25/100\n",
      "1120/1152 [============================>.] - ETA: 0s - loss: 0.0015 - mean_absolute_error: 0.0290\n",
      "Epoch 00025: loss improved from 0.00163 to 0.00150, saving model to pesos.h5\n",
      "1152/1152 [==============================] - 9s 8ms/sample - loss: 0.0015 - mean_absolute_error: 0.0288\n",
      "Epoch 26/100\n",
      "1120/1152 [============================>.] - ETA: 0s - loss: 0.0016 - mean_absolute_error: 0.0305\n",
      "Epoch 00026: loss did not improve from 0.00150\n",
      "1152/1152 [==============================] - 9s 7ms/sample - loss: 0.0016 - mean_absolute_error: 0.0305\n",
      "Epoch 27/100\n",
      "1120/1152 [============================>.] - ETA: 0s - loss: 0.0017 - mean_absolute_error: 0.0312\n",
      "Epoch 00027: loss did not improve from 0.00150\n",
      "1152/1152 [==============================] - 9s 7ms/sample - loss: 0.0017 - mean_absolute_error: 0.0313\n",
      "Epoch 28/100\n",
      "1120/1152 [============================>.] - ETA: 0s - loss: 0.0018 - mean_absolute_error: 0.0325\n",
      "Epoch 00028: loss did not improve from 0.00150\n",
      "1152/1152 [==============================] - 9s 8ms/sample - loss: 0.0018 - mean_absolute_error: 0.0324\n",
      "Epoch 29/100\n",
      "1120/1152 [============================>.] - ETA: 0s - loss: 0.0014 - mean_absolute_error: 0.0280\n",
      "Epoch 00029: loss improved from 0.00150 to 0.00140, saving model to pesos.h5\n",
      "1152/1152 [==============================] - 9s 7ms/sample - loss: 0.0014 - mean_absolute_error: 0.0280\n"
     ]
    },
    {
     "name": "stdout",
     "output_type": "stream",
     "text": [
      "Epoch 30/100\n",
      "1120/1152 [============================>.] - ETA: 0s - loss: 0.0015 - mean_absolute_error: 0.0297\n",
      "Epoch 00030: loss did not improve from 0.00140\n",
      "1152/1152 [==============================] - 9s 8ms/sample - loss: 0.0015 - mean_absolute_error: 0.0298\n",
      "Epoch 31/100\n",
      "1120/1152 [============================>.] - ETA: 0s - loss: 0.0014 - mean_absolute_error: 0.0286\n",
      "Epoch 00031: loss did not improve from 0.00140\n",
      "1152/1152 [==============================] - 9s 7ms/sample - loss: 0.0014 - mean_absolute_error: 0.0285\n",
      "Epoch 32/100\n",
      "1120/1152 [============================>.] - ETA: 0s - loss: 0.0013 - mean_absolute_error: 0.0276\n",
      "Epoch 00032: loss improved from 0.00140 to 0.00136, saving model to pesos.h5\n",
      "1152/1152 [==============================] - 9s 7ms/sample - loss: 0.0014 - mean_absolute_error: 0.0278\n",
      "Epoch 33/100\n",
      "1120/1152 [============================>.] - ETA: 0s - loss: 0.0014 - mean_absolute_error: 0.0282\n",
      "Epoch 00033: loss did not improve from 0.00136\n",
      "1152/1152 [==============================] - 9s 7ms/sample - loss: 0.0014 - mean_absolute_error: 0.0281\n",
      "Epoch 34/100\n",
      "1120/1152 [============================>.] - ETA: 0s - loss: 0.0015 - mean_absolute_error: 0.0286\n",
      "Epoch 00034: ReduceLROnPlateau reducing learning rate to 0.00020000000949949026.\n",
      "\n",
      "Epoch 00034: loss did not improve from 0.00136\n",
      "1152/1152 [==============================] - 9s 8ms/sample - loss: 0.0015 - mean_absolute_error: 0.0287\n",
      "Epoch 35/100\n",
      "1120/1152 [============================>.] - ETA: 0s - loss: 0.0014 - mean_absolute_error: 0.0275\n",
      "Epoch 00035: loss did not improve from 0.00136\n",
      "1152/1152 [==============================] - 9s 8ms/sample - loss: 0.0014 - mean_absolute_error: 0.0276\n",
      "Epoch 36/100\n",
      "1120/1152 [============================>.] - ETA: 0s - loss: 0.0012 - mean_absolute_error: 0.0262\n",
      "Epoch 00036: loss improved from 0.00136 to 0.00124, saving model to pesos.h5\n",
      "1152/1152 [==============================] - 9s 8ms/sample - loss: 0.0012 - mean_absolute_error: 0.0262\n",
      "Epoch 37/100\n",
      "1120/1152 [============================>.] - ETA: 0s - loss: 0.0012 - mean_absolute_error: 0.0266\n",
      "Epoch 00037: loss improved from 0.00124 to 0.00122, saving model to pesos.h5\n",
      "1152/1152 [==============================] - 9s 7ms/sample - loss: 0.0012 - mean_absolute_error: 0.0265\n",
      "Epoch 38/100\n",
      "1120/1152 [============================>.] - ETA: 0s - loss: 0.0013 - mean_absolute_error: 0.0269\n",
      "Epoch 00038: loss did not improve from 0.00122\n",
      "1152/1152 [==============================] - 9s 8ms/sample - loss: 0.0013 - mean_absolute_error: 0.0270\n",
      "Epoch 39/100\n",
      "1120/1152 [============================>.] - ETA: 0s - loss: 0.0011 - mean_absolute_error: 0.0248\n",
      "Epoch 00039: loss improved from 0.00122 to 0.00115, saving model to pesos.h5\n",
      "1152/1152 [==============================] - 9s 8ms/sample - loss: 0.0011 - mean_absolute_error: 0.0249\n",
      "Epoch 40/100\n",
      "1120/1152 [============================>.] - ETA: 0s - loss: 0.0012 - mean_absolute_error: 0.0255\n",
      "Epoch 00040: loss did not improve from 0.00115\n",
      "1152/1152 [==============================] - 9s 8ms/sample - loss: 0.0012 - mean_absolute_error: 0.0254\n",
      "Epoch 41/100\n",
      "1120/1152 [============================>.] - ETA: 0s - loss: 0.0012 - mean_absolute_error: 0.0256\n",
      "Epoch 00041: ReduceLROnPlateau reducing learning rate to 4.0000001899898055e-05.\n",
      "\n",
      "Epoch 00041: loss did not improve from 0.00115\n",
      "1152/1152 [==============================] - 8s 7ms/sample - loss: 0.0012 - mean_absolute_error: 0.0255\n",
      "Epoch 42/100\n",
      "1120/1152 [============================>.] - ETA: 0s - loss: 0.0012 - mean_absolute_error: 0.0251\n",
      "Epoch 00042: loss did not improve from 0.00115\n",
      "1152/1152 [==============================] - 9s 7ms/sample - loss: 0.0012 - mean_absolute_error: 0.0251\n",
      "Epoch 43/100\n",
      "1120/1152 [============================>.] - ETA: 0s - loss: 0.0012 - mean_absolute_error: 0.0254\n",
      "Epoch 00043: loss did not improve from 0.00115\n",
      "1152/1152 [==============================] - 9s 8ms/sample - loss: 0.0011 - mean_absolute_error: 0.0252\n",
      "Epoch 44/100\n",
      "1120/1152 [============================>.] - ETA: 0s - loss: 0.0012 - mean_absolute_error: 0.0253\n",
      "Epoch 00044: loss did not improve from 0.00115\n",
      "1152/1152 [==============================] - 9s 8ms/sample - loss: 0.0012 - mean_absolute_error: 0.0252\n",
      "Epoch 45/100\n",
      "1120/1152 [============================>.] - ETA: 0s - loss: 0.0011 - mean_absolute_error: 0.0246\n",
      "Epoch 00045: loss improved from 0.00115 to 0.00109, saving model to pesos.h5\n",
      "1152/1152 [==============================] - 9s 8ms/sample - loss: 0.0011 - mean_absolute_error: 0.0245\n",
      "Epoch 46/100\n",
      "1120/1152 [============================>.] - ETA: 0s - loss: 0.0011 - mean_absolute_error: 0.0248\n",
      "Epoch 00046: loss did not improve from 0.00109\n",
      "1152/1152 [==============================] - 9s 8ms/sample - loss: 0.0011 - mean_absolute_error: 0.0248\n",
      "Epoch 47/100\n",
      "1120/1152 [============================>.] - ETA: 0s - loss: 0.0011 - mean_absolute_error: 0.0251\n",
      "Epoch 00047: loss did not improve from 0.00109\n",
      "1152/1152 [==============================] - 9s 8ms/sample - loss: 0.0011 - mean_absolute_error: 0.0251\n",
      "Epoch 48/100\n",
      "1120/1152 [============================>.] - ETA: 0s - loss: 0.0012 - mean_absolute_error: 0.0250\n",
      "Epoch 00048: loss did not improve from 0.00109\n",
      "1152/1152 [==============================] - 9s 8ms/sample - loss: 0.0012 - mean_absolute_error: 0.0250\n",
      "Epoch 49/100\n",
      "1120/1152 [============================>.] - ETA: 0s - loss: 0.0012 - mean_absolute_error: 0.0255\n",
      "Epoch 00049: loss did not improve from 0.00109\n",
      "1152/1152 [==============================] - 9s 7ms/sample - loss: 0.0012 - mean_absolute_error: 0.0255\n",
      "Epoch 50/100\n",
      "1120/1152 [============================>.] - ETA: 0s - loss: 0.0011 - mean_absolute_error: 0.0246\n",
      "Epoch 00050: ReduceLROnPlateau reducing learning rate to 8.000000525498762e-06.\n",
      "\n",
      "Epoch 00050: loss did not improve from 0.00109\n",
      "1152/1152 [==============================] - 9s 8ms/sample - loss: 0.0011 - mean_absolute_error: 0.0247\n",
      "Epoch 51/100\n",
      "1120/1152 [============================>.] - ETA: 0s - loss: 0.0011 - mean_absolute_error: 0.0247\n",
      "Epoch 00051: loss did not improve from 0.00109\n",
      "1152/1152 [==============================] - 9s 8ms/sample - loss: 0.0011 - mean_absolute_error: 0.0246\n",
      "Epoch 52/100\n",
      "1120/1152 [============================>.] - ETA: 0s - loss: 0.0012 - mean_absolute_error: 0.0253\n",
      "Epoch 00052: loss did not improve from 0.00109\n",
      "1152/1152 [==============================] - 9s 8ms/sample - loss: 0.0012 - mean_absolute_error: 0.0253\n",
      "Epoch 53/100\n",
      "1120/1152 [============================>.] - ETA: 0s - loss: 0.0012 - mean_absolute_error: 0.0254\n",
      "Epoch 00053: loss did not improve from 0.00109\n",
      "1152/1152 [==============================] - 9s 7ms/sample - loss: 0.0012 - mean_absolute_error: 0.0252\n",
      "Epoch 54/100\n",
      "1120/1152 [============================>.] - ETA: 0s - loss: 0.0012 - mean_absolute_error: 0.0252\n",
      "Epoch 00054: loss did not improve from 0.00109\n",
      "1152/1152 [==============================] - 9s 8ms/sample - loss: 0.0012 - mean_absolute_error: 0.0252\n",
      "Epoch 55/100\n",
      "1120/1152 [============================>.] - ETA: 0s - loss: 0.0012 - mean_absolute_error: 0.0254\n",
      "Epoch 00055: ReduceLROnPlateau reducing learning rate to 1.6000001778593287e-06.\n",
      "\n",
      "Epoch 00055: loss did not improve from 0.00109\n",
      "1152/1152 [==============================] - 9s 8ms/sample - loss: 0.0011 - mean_absolute_error: 0.0253\n",
      "Epoch 00055: early stopping\n"
     ]
    },
    {
     "data": {
      "text/plain": [
       "<tensorflow.python.keras.callbacks.History at 0xbe4ccde7f0>"
      ]
     },
     "execution_count": 28,
     "metadata": {},
     "output_type": "execute_result"
    }
   ],
   "source": [
    "# Ajustar os dados de entrada de treino aos dados de saida para treinar o modelo.\n",
    "model.fit(X_train, y_train, epochs=100, batch_size=32, callbacks=[es, rlr, ncp])"
   ]
  },
  {
   "cell_type": "markdown",
   "metadata": {},
   "source": [
    "## Obter os dados de teste"
   ]
  },
  {
   "cell_type": "code",
   "execution_count": 29,
   "metadata": {},
   "outputs": [],
   "source": [
    "data_test = pd.read_csv(\"petr4-teste.csv\")"
   ]
  },
  {
   "cell_type": "code",
   "execution_count": 30,
   "metadata": {},
   "outputs": [
    {
     "data": {
      "text/html": [
       "<div>\n",
       "<style scoped>\n",
       "    .dataframe tbody tr th:only-of-type {\n",
       "        vertical-align: middle;\n",
       "    }\n",
       "\n",
       "    .dataframe tbody tr th {\n",
       "        vertical-align: top;\n",
       "    }\n",
       "\n",
       "    .dataframe thead th {\n",
       "        text-align: right;\n",
       "    }\n",
       "</style>\n",
       "<table border=\"1\" class=\"dataframe\">\n",
       "  <thead>\n",
       "    <tr style=\"text-align: right;\">\n",
       "      <th></th>\n",
       "      <th>Date</th>\n",
       "      <th>Open</th>\n",
       "      <th>High</th>\n",
       "      <th>Low</th>\n",
       "      <th>Close</th>\n",
       "      <th>Adj Close</th>\n",
       "      <th>Volume</th>\n",
       "    </tr>\n",
       "  </thead>\n",
       "  <tbody>\n",
       "    <tr>\n",
       "      <th>0</th>\n",
       "      <td>2018-01-02</td>\n",
       "      <td>16.190001</td>\n",
       "      <td>16.549999</td>\n",
       "      <td>16.190001</td>\n",
       "      <td>16.549999</td>\n",
       "      <td>16.516966</td>\n",
       "      <td>33461800</td>\n",
       "    </tr>\n",
       "    <tr>\n",
       "      <th>1</th>\n",
       "      <td>2018-01-03</td>\n",
       "      <td>16.490000</td>\n",
       "      <td>16.719999</td>\n",
       "      <td>16.370001</td>\n",
       "      <td>16.700001</td>\n",
       "      <td>16.666668</td>\n",
       "      <td>55940900</td>\n",
       "    </tr>\n",
       "    <tr>\n",
       "      <th>2</th>\n",
       "      <td>2018-01-04</td>\n",
       "      <td>16.780001</td>\n",
       "      <td>16.959999</td>\n",
       "      <td>16.620001</td>\n",
       "      <td>16.730000</td>\n",
       "      <td>16.696608</td>\n",
       "      <td>37064900</td>\n",
       "    </tr>\n",
       "    <tr>\n",
       "      <th>3</th>\n",
       "      <td>2018-01-05</td>\n",
       "      <td>16.700001</td>\n",
       "      <td>16.860001</td>\n",
       "      <td>16.570000</td>\n",
       "      <td>16.830000</td>\n",
       "      <td>16.796408</td>\n",
       "      <td>26958200</td>\n",
       "    </tr>\n",
       "    <tr>\n",
       "      <th>4</th>\n",
       "      <td>2018-01-08</td>\n",
       "      <td>16.740000</td>\n",
       "      <td>17.030001</td>\n",
       "      <td>16.709999</td>\n",
       "      <td>17.030001</td>\n",
       "      <td>16.996010</td>\n",
       "      <td>28400000</td>\n",
       "    </tr>\n",
       "  </tbody>\n",
       "</table>\n",
       "</div>"
      ],
      "text/plain": [
       "         Date       Open       High        Low      Close  Adj Close    Volume\n",
       "0  2018-01-02  16.190001  16.549999  16.190001  16.549999  16.516966  33461800\n",
       "1  2018-01-03  16.490000  16.719999  16.370001  16.700001  16.666668  55940900\n",
       "2  2018-01-04  16.780001  16.959999  16.620001  16.730000  16.696608  37064900\n",
       "3  2018-01-05  16.700001  16.860001  16.570000  16.830000  16.796408  26958200\n",
       "4  2018-01-08  16.740000  17.030001  16.709999  17.030001  16.996010  28400000"
      ]
     },
     "execution_count": 30,
     "metadata": {},
     "output_type": "execute_result"
    }
   ],
   "source": [
    "data_test.head()"
   ]
  },
  {
   "cell_type": "code",
   "execution_count": 31,
   "metadata": {},
   "outputs": [
    {
     "data": {
      "text/plain": [
       "(22, 7)"
      ]
     },
     "execution_count": 31,
     "metadata": {},
     "output_type": "execute_result"
    }
   ],
   "source": [
    "data_test.shape"
   ]
  },
  {
   "cell_type": "code",
   "execution_count": 32,
   "metadata": {},
   "outputs": [],
   "source": [
    "# lista com os dados totais\n",
    "data_total = [data_train, data_test]"
   ]
  },
  {
   "cell_type": "code",
   "execution_count": 33,
   "metadata": {},
   "outputs": [],
   "source": [
    "# Converter a lista data_total em dataframe\n",
    "data_total = pd.concat(data_total)"
   ]
  },
  {
   "cell_type": "code",
   "execution_count": 34,
   "metadata": {},
   "outputs": [
    {
     "data": {
      "text/plain": [
       "(1264, 7)"
      ]
     },
     "execution_count": 34,
     "metadata": {},
     "output_type": "execute_result"
    }
   ],
   "source": [
    "# data_train tem os dados desde 2013-01-02 até 2017-12-29\n",
    "# data_teste tem os dados desde 2018-01-02 até 2018-01-31\n",
    "# data tem dos dados desde 2013-01-02 até 2018-01-31\n",
    "\n",
    "# 1242+22 = 1264 registros com 7 variaveis\n",
    "data_total.shape"
   ]
  },
  {
   "cell_type": "code",
   "execution_count": 35,
   "metadata": {},
   "outputs": [],
   "source": [
    "# Retirar a variavel date que não é utilizada para fazer previsões\n",
    "data_total = data_total.drop(\"Date\", axis=1)"
   ]
  },
  {
   "cell_type": "code",
   "execution_count": 36,
   "metadata": {},
   "outputs": [],
   "source": [
    "# dados desde 2017-08-28 até 2018-01-31\n",
    "data_total_test = data_total[len(data_total) - len(data_test)-90:].values"
   ]
  },
  {
   "cell_type": "code",
   "execution_count": 37,
   "metadata": {},
   "outputs": [
    {
     "data": {
      "text/plain": [
       "(112, 6)"
      ]
     },
     "execution_count": 37,
     "metadata": {},
     "output_type": "execute_result"
    }
   ],
   "source": [
    "# 22+90=112 dias de preços e volume\n",
    "# O X_test contem os 22 dias da base de dados de teste mais os 90 dias anteriores. Esses 90 dias anteriores são necessários \n",
    "# para se poderem fazer previssões.\n",
    "data_total_test.shape"
   ]
  },
  {
   "cell_type": "code",
   "execution_count": 81,
   "metadata": {},
   "outputs": [
    {
     "data": {
      "text/plain": [
       "13.76"
      ]
     },
     "execution_count": 81,
     "metadata": {},
     "output_type": "execute_result"
    }
   ],
   "source": [
    "data_total_test[1,0]"
   ]
  },
  {
   "cell_type": "markdown",
   "metadata": {},
   "source": [
    "## Pré-Processamento dos dados de teste - Normalização das Variaveis"
   ]
  },
  {
   "cell_type": "code",
   "execution_count": 38,
   "metadata": {},
   "outputs": [],
   "source": [
    "# Normalizar as variaveis de entrada\n",
    "# Não é necessário fazer o fit porque já foi feito anteriormente no treino.\n",
    "data_total_test_norm =scaler.transform(data_total_test)"
   ]
  },
  {
   "cell_type": "code",
   "execution_count": 41,
   "metadata": {},
   "outputs": [
    {
     "data": {
      "text/plain": [
       "(112, 6)"
      ]
     },
     "execution_count": 41,
     "metadata": {},
     "output_type": "execute_result"
    }
   ],
   "source": [
    "data_total_test_norm.shape"
   ]
  },
  {
   "cell_type": "code",
   "execution_count": 89,
   "metadata": {},
   "outputs": [
    {
     "data": {
      "text/plain": [
       "array([0.46317829, 0.46463178, 0.45203488, 0.46753876])"
      ]
     },
     "execution_count": 89,
     "metadata": {},
     "output_type": "execute_result"
    }
   ],
   "source": [
    "# Variavel Open normalizada com o scaler\n",
    "data_total_test_norm[1:5,0]"
   ]
  },
  {
   "cell_type": "code",
   "execution_count": 43,
   "metadata": {},
   "outputs": [],
   "source": [
    "# O array predictions é tem a dimensão (112,1). Quando se inverter a normalização tem de se utilizar um normalizador que esteja\n",
    "# ajustado por essa dimensão.\n",
    "# O scaler está ajustado para a dimensão (112,6) por isso não pode ser utilizado para reverter a normalização do array \n",
    "# predictions.\n",
    "\n",
    "scaler_prediction = MinMaxScaler()"
   ]
  },
  {
   "cell_type": "code",
   "execution_count": 44,
   "metadata": {},
   "outputs": [],
   "source": [
    "# Ajustar e normalizar a variavel Open\n",
    "# Tem de se utilizar a mesma base de dados de treino para que a escala seja a mesma.\n",
    "\n",
    "pred = scaler_prediction.fit_transform(data_train.drop([\"Date\", \"High\", \"Low\", \"Close\", \"Adj Close\", \"Volume\"], axis=1))"
   ]
  },
  {
   "cell_type": "code",
   "execution_count": 92,
   "metadata": {},
   "outputs": [
    {
     "data": {
      "text/plain": [
       "array([[0.46317829],\n",
       "       [0.46463178],\n",
       "       [0.45203488],\n",
       "       [0.46753876]])"
      ]
     },
     "execution_count": 92,
     "metadata": {},
     "output_type": "execute_result"
    }
   ],
   "source": [
    "# A variavel Open normalizada é igual fazendo a normalização com o scaler ou com o scaler_prediction.\n",
    "pred[1153:1157]"
   ]
  },
  {
   "cell_type": "code",
   "execution_count": 51,
   "metadata": {},
   "outputs": [
    {
     "data": {
      "text/plain": [
       "(1242, 1)"
      ]
     },
     "execution_count": 51,
     "metadata": {},
     "output_type": "execute_result"
    }
   ],
   "source": [
    "pred.shape"
   ]
  },
  {
   "cell_type": "markdown",
   "metadata": {},
   "source": [
    "## Divisão dos dados de teste"
   ]
  },
  {
   "cell_type": "code",
   "execution_count": 52,
   "metadata": {},
   "outputs": [],
   "source": [
    "# Prever o preço de abertura das acções com base nos preços de abertura nos 90 dias anteriores.\n",
    "\n",
    "X_test = [] # vector com os preços e volume nos 90 dias anteriores.\n",
    "y_test = [] # vector com o preço de abertura da acção no dia 91."
   ]
  },
  {
   "cell_type": "code",
   "execution_count": 53,
   "metadata": {},
   "outputs": [],
   "source": [
    "for i in range(90, 112):\n",
    "    X_test.append(data_total_test_norm[i-90:i, 0:6]) # valores dos preços e volume\n",
    "    y_test.append(data_total_test_norm[i,0]) # valor do preço de abertura"
   ]
  },
  {
   "cell_type": "code",
   "execution_count": 54,
   "metadata": {},
   "outputs": [],
   "source": [
    "# Converter as listas em arrays\n",
    "X_test, y_test = np.array(X_test), np.array(y_test)"
   ]
  },
  {
   "cell_type": "code",
   "execution_count": 55,
   "metadata": {},
   "outputs": [
    {
     "data": {
      "text/plain": [
       "(22, 90, 6)"
      ]
     },
     "execution_count": 55,
     "metadata": {},
     "output_type": "execute_result"
    }
   ],
   "source": [
    "# 22 registros com os 90 dias anteriores para as 6 variaveis utilizadas para fazer a previsão.\n",
    "# Para prever o preço nestes 22 dias utilizam-se os 90 dias anteriores a cada dia a prever.\n",
    "X_test.shape"
   ]
  },
  {
   "cell_type": "code",
   "execution_count": 56,
   "metadata": {},
   "outputs": [
    {
     "data": {
      "text/plain": [
       "array([0.47141473, 0.46317829, 0.46463178, 0.45203488, 0.46753876,\n",
       "       0.47286822, 0.50242248, 0.50629845, 0.52422481, 0.52810078,\n",
       "       0.51744186, 0.52228682, 0.52034884, 0.5247093 , 0.52664729,\n",
       "       0.52422481, 0.52810078, 0.53536822, 0.56443798, 0.55232558,\n",
       "       0.56153101, 0.56492248, 0.55717054, 0.54118217, 0.54748062,\n",
       "       0.53246124, 0.55232558, 0.56686047, 0.56589147, 0.55523256,\n",
       "       0.55281008, 0.57800383, 0.57994186, 0.5755814 , 0.58284884,\n",
       "       0.57945736, 0.57848832, 0.58236429, 0.57170543, 0.5809109 ,\n",
       "       0.58575586, 0.58575586, 0.59738377, 0.60949617, 0.60901163,\n",
       "       0.6187015 , 0.61531008, 0.61967054, 0.61531008, 0.61821701,\n",
       "       0.62257747, 0.63517437, 0.60513571, 0.61482553, 0.6061046 ,\n",
       "       0.60513571, 0.60271313, 0.54021318, 0.55329457, 0.56782946,\n",
       "       0.57267442, 0.57897287, 0.57606589, 0.57073643, 0.58381783,\n",
       "       0.57218992, 0.56831395, 0.56540698, 0.5377907 , 0.53972868,\n",
       "       0.55474806, 0.54748062, 0.53391473, 0.5377907 , 0.54796512,\n",
       "       0.54651163, 0.54069767, 0.55474806, 0.52810078, 0.52567829,\n",
       "       0.53100775, 0.53197674, 0.53343023, 0.53827519, 0.55959302,\n",
       "       0.55959302, 0.55959302, 0.57122093, 0.57655039, 0.57655039])"
      ]
     },
     "execution_count": 56,
     "metadata": {},
     "output_type": "execute_result"
    }
   ],
   "source": [
    "# X_test[0,:,0]: preços de abertura nos primeiros 90 dias. Utilizado para prever o preço de abertura no dia 91.\n",
    "# X_test[0,:,1]: preços de máximo nos primeiros 90 dias. Utilizado para prever o preço de abertura no dia 91.\n",
    "# X_test[0,:,2]: preços de minimo nos primeiros 90 dias. Utilizado para prever o preço de abertura no dia 91.\n",
    "# X_test[0,:,3]: preços de fecho nos primeiros 90 dias. Utilizado para prever o preço de abertura no dia 91.\n",
    "# X_test[0,:,4]: preços de fecho ajustado nos primeiros 90 dias. Utilizado para prever o preço de abertura no dia 91.\n",
    "# X_test[0,:,5]: volume transaccionado nos primeiros 90 dias. Utilizado para prever o preço de abertura no dia 91.\n",
    "# X_test[1,:,5]: volume transaccionado entre o dia 1 e 91. Utilizado para prever o preço de abertura no dia 92.\n",
    "\n",
    "X_test[0,:,0]"
   ]
  },
  {
   "cell_type": "code",
   "execution_count": 57,
   "metadata": {},
   "outputs": [
    {
     "data": {
      "text/plain": [
       "array([0.5809109])"
      ]
     },
     "execution_count": 57,
     "metadata": {},
     "output_type": "execute_result"
    }
   ],
   "source": [
    "# y_test[0:1]: preço de abertura (normalizado) no dia 91.\n",
    "# y_test[1:2] preço de abertura (normalizado) no dia 92.\n",
    "y_test[0:1]"
   ]
  },
  {
   "cell_type": "code",
   "execution_count": 58,
   "metadata": {},
   "outputs": [],
   "source": [
    "# A camada de entrada tem de ser um tensor 3d (input_shape, timesteps, input_dim)\n",
    "# input_shape: 22 registros. Número de registros totais de teste\n",
    "# timesteps: 90 registros. Número de registros utilizados para fazer a previsão.\n",
    "#input_dim: 6 indicador(apenas 6 variavel de entrada)\n",
    "\n",
    "# Não é necessário porque o array já está no formato correcto\n",
    "X_test = np.reshape(X_test, (X_test.shape[0], X_test.shape[1], 6))"
   ]
  },
  {
   "cell_type": "markdown",
   "metadata": {},
   "source": [
    "## Previsão e Avaliação do Modelo RNN"
   ]
  },
  {
   "cell_type": "code",
   "execution_count": 59,
   "metadata": {},
   "outputs": [],
   "source": [
    "# Prever os dados de teste para avaliar o modelo\n",
    "predictions = model.predict(X_test)"
   ]
  },
  {
   "cell_type": "code",
   "execution_count": 60,
   "metadata": {},
   "outputs": [],
   "source": [
    "# Reverter a normalização do X_test para comparar os valores das acções\n",
    "predictions = scaler_prediction.inverse_transform(predictions)"
   ]
  },
  {
   "cell_type": "code",
   "execution_count": 61,
   "metadata": {},
   "outputs": [],
   "source": [
    "# Reverter a normalização do y_test para comparar os valores das acções\n",
    "y_test = scaler_prediction.inverse_transform(y_test.reshape(-1,1))"
   ]
  },
  {
   "cell_type": "code",
   "execution_count": 62,
   "metadata": {},
   "outputs": [
    {
     "data": {
      "text/html": [
       "<div>\n",
       "<style scoped>\n",
       "    .dataframe tbody tr th:only-of-type {\n",
       "        vertical-align: middle;\n",
       "    }\n",
       "\n",
       "    .dataframe tbody tr th {\n",
       "        vertical-align: top;\n",
       "    }\n",
       "\n",
       "    .dataframe thead th {\n",
       "        text-align: right;\n",
       "    }\n",
       "</style>\n",
       "<table border=\"1\" class=\"dataframe\">\n",
       "  <thead>\n",
       "    <tr style=\"text-align: right;\">\n",
       "      <th></th>\n",
       "      <th>Predictions</th>\n",
       "      <th>y_test</th>\n",
       "    </tr>\n",
       "  </thead>\n",
       "  <tbody>\n",
       "    <tr>\n",
       "      <th>0</th>\n",
       "      <td>16.130117</td>\n",
       "      <td>16.190001</td>\n",
       "    </tr>\n",
       "    <tr>\n",
       "      <th>1</th>\n",
       "      <td>16.215849</td>\n",
       "      <td>16.490000</td>\n",
       "    </tr>\n",
       "    <tr>\n",
       "      <th>2</th>\n",
       "      <td>16.376980</td>\n",
       "      <td>16.780001</td>\n",
       "    </tr>\n",
       "    <tr>\n",
       "      <th>3</th>\n",
       "      <td>16.598076</td>\n",
       "      <td>16.700001</td>\n",
       "    </tr>\n",
       "    <tr>\n",
       "      <th>4</th>\n",
       "      <td>16.802332</td>\n",
       "      <td>16.740000</td>\n",
       "    </tr>\n",
       "  </tbody>\n",
       "</table>\n",
       "</div>"
      ],
      "text/plain": [
       "   Predictions     y_test\n",
       "0    16.130117  16.190001\n",
       "1    16.215849  16.490000\n",
       "2    16.376980  16.780001\n",
       "3    16.598076  16.700001\n",
       "4    16.802332  16.740000"
      ]
     },
     "execution_count": 62,
     "metadata": {},
     "output_type": "execute_result"
    }
   ],
   "source": [
    "pd.DataFrame({\"Predictions\": predictions[:,0], \"y_test\":y_test[:,0]}).head()"
   ]
  },
  {
   "cell_type": "markdown",
   "metadata": {},
   "source": [
    "### Avaliação do Modelo"
   ]
  },
  {
   "cell_type": "code",
   "execution_count": 63,
   "metadata": {},
   "outputs": [],
   "source": [
    "from sklearn import metrics"
   ]
  },
  {
   "cell_type": "code",
   "execution_count": 64,
   "metadata": {},
   "outputs": [
    {
     "name": "stdout",
     "output_type": "stream",
     "text": [
      "MAE 0.2603642565252136\n",
      "MSE 0.13638905150793906\n",
      "RMSE 0.36930888360278996\n"
     ]
    }
   ],
   "source": [
    "# O MSE é muito mais elevado porque penaliza os desvios grandes(são elevados ao quadrado).\n",
    "# O MAE de 0.36 significa que o preço das acções varia +- 0.36 reais. \n",
    "print(\"MAE\", metrics.mean_absolute_error(y_test, predictions))\n",
    "print(\"MSE\", metrics.mean_squared_error(y_test, predictions))\n",
    "print(\"RMSE\", np.sqrt(metrics.mean_squared_error(y_test, predictions)))"
   ]
  },
  {
   "cell_type": "code",
   "execution_count": 65,
   "metadata": {},
   "outputs": [
    {
     "data": {
      "text/plain": [
       "17.658825"
      ]
     },
     "execution_count": 65,
     "metadata": {},
     "output_type": "execute_result"
    }
   ],
   "source": [
    "predictions.mean()"
   ]
  },
  {
   "cell_type": "code",
   "execution_count": 66,
   "metadata": {},
   "outputs": [
    {
     "data": {
      "text/plain": [
       "17.874545636363635"
      ]
     },
     "execution_count": 66,
     "metadata": {},
     "output_type": "execute_result"
    }
   ],
   "source": [
    "data_test[\"Open\"].mean()"
   ]
  },
  {
   "cell_type": "markdown",
   "metadata": {},
   "source": [
    "### Resíduos"
   ]
  },
  {
   "cell_type": "code",
   "execution_count": 67,
   "metadata": {},
   "outputs": [
    {
     "data": {
      "text/plain": [
       "Text(0.5, 0, 'y_test-predictions')"
      ]
     },
     "execution_count": 67,
     "metadata": {},
     "output_type": "execute_result"
    },
    {
     "data": {
      "image/png": "[encoded data removed]",
      "text/plain": [
       "<Figure size 720x360 with 1 Axes>"
      ]
     },
     "metadata": {
      "needs_background": "light"
     },
     "output_type": "display_data"
    }
   ],
   "source": [
    "# Histograma de Residuos \n",
    "# O gráfico não parece aproximar-se de uma distriuição normal, onde os residuos são proximos de zero.\n",
    "\n",
    "plt.figure(figsize=(10,5))\n",
    "sns.distplot(y_test-predictions)\n",
    "plt.xlabel(\"y_test-predictions\")"
   ]
  },
  {
   "cell_type": "markdown",
   "metadata": {},
   "source": [
    "### Gráfico preço real vs preço previsto"
   ]
  },
  {
   "cell_type": "code",
   "execution_count": 68,
   "metadata": {},
   "outputs": [
    {
     "data": {
      "image/png": "[encoded data removed]",
      "text/plain": [
       "<Figure size 864x432 with 1 Axes>"
      ]
     },
     "metadata": {
      "needs_background": "light"
     },
     "output_type": "display_data"
    }
   ],
   "source": [
    "plt.figure(figsize=(12,6))\n",
    "plt.plot(predictions, color=\"red\", label=\"preço previsto\")\n",
    "plt.plot(y_test, color=\"blue\", label=\"preço real\")\n",
    "plt.title(\"Preço das acções\")\n",
    "plt.xlabel(\"Tempo\")\n",
    "plt.ylabel(\"Preço\")\n",
    "plt.legend()\n",
    "plt.show()"
   ]
  },
  {
   "cell_type": "code",
   "execution_count": null,
   "metadata": {},
   "outputs": [],
   "source": []
  }
 ],
 "metadata": {
  "kernelspec": {
   "display_name": "Python 3",
   "language": "python",
   "name": "python3"
  },
  "language_info": {
   "codemirror_mode": {
    "name": "ipython",
    "version": 3
   },
   "file_extension": ".py",
   "mimetype": "text/x-python",
   "name": "python",
   "nbconvert_exporter": "python",
   "pygments_lexer": "ipython3",
   "version": "3.7.3"
  }
 },
 "nbformat": 4,
 "nbformat_minor": 2
}
