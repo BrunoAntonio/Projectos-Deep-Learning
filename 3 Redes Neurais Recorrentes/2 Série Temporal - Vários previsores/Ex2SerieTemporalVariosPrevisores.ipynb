{
 "cells": [
  {
   "cell_type": "markdown",
   "metadata": {},
   "source": [
    "# Rede Neural Recorrente - Série Temporal com vários previsores"
   ]
  },
  {
   "cell_type": "code",
   "execution_count": 1,
   "metadata": {},
   "outputs": [],
   "source": [
    "import pandas as pd\n",
    "import numpy as np\n",
    "\n",
    "import matplotlib.pyplot as plt\n",
    "import seaborn as sns\n",
    "\n",
    "import tensorflow as tf\n",
    "from tensorflow.keras import layers, models, callbacks\n",
    "\n",
    "%matplotlib inline"
   ]
  },
  {
   "cell_type": "markdown",
   "metadata": {},
   "source": [
    "## Obter os dados de treino"
   ]
  },
  {
   "cell_type": "code",
   "execution_count": 2,
   "metadata": {},
   "outputs": [],
   "source": [
    "data_train = pd.read_csv(\"poluicao.csv\")"
   ]
  },
  {
   "cell_type": "code",
   "execution_count": 3,
   "metadata": {},
   "outputs": [
    {
     "data": {
      "text/html": [
       "<div>\n",
       "<style scoped>\n",
       "    .dataframe tbody tr th:only-of-type {\n",
       "        vertical-align: middle;\n",
       "    }\n",
       "\n",
       "    .dataframe tbody tr th {\n",
       "        vertical-align: top;\n",
       "    }\n",
       "\n",
       "    .dataframe thead th {\n",
       "        text-align: right;\n",
       "    }\n",
       "</style>\n",
       "<table border=\"1\" class=\"dataframe\">\n",
       "  <thead>\n",
       "    <tr style=\"text-align: right;\">\n",
       "      <th></th>\n",
       "      <th>No</th>\n",
       "      <th>year</th>\n",
       "      <th>month</th>\n",
       "      <th>day</th>\n",
       "      <th>hour</th>\n",
       "      <th>pm2.5</th>\n",
       "      <th>DEWP</th>\n",
       "      <th>TEMP</th>\n",
       "      <th>PRES</th>\n",
       "      <th>cbwd</th>\n",
       "      <th>Iws</th>\n",
       "      <th>Is</th>\n",
       "      <th>Ir</th>\n",
       "    </tr>\n",
       "  </thead>\n",
       "  <tbody>\n",
       "    <tr>\n",
       "      <th>0</th>\n",
       "      <td>1</td>\n",
       "      <td>2010</td>\n",
       "      <td>1</td>\n",
       "      <td>1</td>\n",
       "      <td>0</td>\n",
       "      <td>NaN</td>\n",
       "      <td>-21</td>\n",
       "      <td>-11.0</td>\n",
       "      <td>1021.0</td>\n",
       "      <td>NW</td>\n",
       "      <td>1.79</td>\n",
       "      <td>0</td>\n",
       "      <td>0</td>\n",
       "    </tr>\n",
       "    <tr>\n",
       "      <th>1</th>\n",
       "      <td>2</td>\n",
       "      <td>2010</td>\n",
       "      <td>1</td>\n",
       "      <td>1</td>\n",
       "      <td>1</td>\n",
       "      <td>NaN</td>\n",
       "      <td>-21</td>\n",
       "      <td>-12.0</td>\n",
       "      <td>1020.0</td>\n",
       "      <td>NW</td>\n",
       "      <td>4.92</td>\n",
       "      <td>0</td>\n",
       "      <td>0</td>\n",
       "    </tr>\n",
       "    <tr>\n",
       "      <th>2</th>\n",
       "      <td>3</td>\n",
       "      <td>2010</td>\n",
       "      <td>1</td>\n",
       "      <td>1</td>\n",
       "      <td>2</td>\n",
       "      <td>NaN</td>\n",
       "      <td>-21</td>\n",
       "      <td>-11.0</td>\n",
       "      <td>1019.0</td>\n",
       "      <td>NW</td>\n",
       "      <td>6.71</td>\n",
       "      <td>0</td>\n",
       "      <td>0</td>\n",
       "    </tr>\n",
       "    <tr>\n",
       "      <th>3</th>\n",
       "      <td>4</td>\n",
       "      <td>2010</td>\n",
       "      <td>1</td>\n",
       "      <td>1</td>\n",
       "      <td>3</td>\n",
       "      <td>NaN</td>\n",
       "      <td>-21</td>\n",
       "      <td>-14.0</td>\n",
       "      <td>1019.0</td>\n",
       "      <td>NW</td>\n",
       "      <td>9.84</td>\n",
       "      <td>0</td>\n",
       "      <td>0</td>\n",
       "    </tr>\n",
       "    <tr>\n",
       "      <th>4</th>\n",
       "      <td>5</td>\n",
       "      <td>2010</td>\n",
       "      <td>1</td>\n",
       "      <td>1</td>\n",
       "      <td>4</td>\n",
       "      <td>NaN</td>\n",
       "      <td>-20</td>\n",
       "      <td>-12.0</td>\n",
       "      <td>1018.0</td>\n",
       "      <td>NW</td>\n",
       "      <td>12.97</td>\n",
       "      <td>0</td>\n",
       "      <td>0</td>\n",
       "    </tr>\n",
       "  </tbody>\n",
       "</table>\n",
       "</div>"
      ],
      "text/plain": [
       "   No  year  month  day  hour  pm2.5  DEWP  TEMP    PRES cbwd    Iws  Is  Ir\n",
       "0   1  2010      1    1     0    NaN   -21 -11.0  1021.0   NW   1.79   0   0\n",
       "1   2  2010      1    1     1    NaN   -21 -12.0  1020.0   NW   4.92   0   0\n",
       "2   3  2010      1    1     2    NaN   -21 -11.0  1019.0   NW   6.71   0   0\n",
       "3   4  2010      1    1     3    NaN   -21 -14.0  1019.0   NW   9.84   0   0\n",
       "4   5  2010      1    1     4    NaN   -20 -12.0  1018.0   NW  12.97   0   0"
      ]
     },
     "execution_count": 3,
     "metadata": {},
     "output_type": "execute_result"
    }
   ],
   "source": [
    "data_train.head()"
   ]
  },
  {
   "cell_type": "code",
   "execution_count": 4,
   "metadata": {},
   "outputs": [
    {
     "data": {
      "text/plain": [
       "(43824, 13)"
      ]
     },
     "execution_count": 4,
     "metadata": {},
     "output_type": "execute_result"
    }
   ],
   "source": [
    "data_train.shape"
   ]
  },
  {
   "cell_type": "markdown",
   "metadata": {},
   "source": [
    "## Pré-Processamento dos dados de treino - Apagar dados Ausentes"
   ]
  },
  {
   "cell_type": "code",
   "execution_count": 5,
   "metadata": {},
   "outputs": [
    {
     "data": {
      "text/plain": [
       "No          0\n",
       "year        0\n",
       "month       0\n",
       "day         0\n",
       "hour        0\n",
       "pm2.5    2067\n",
       "DEWP        0\n",
       "TEMP        0\n",
       "PRES        0\n",
       "cbwd        0\n",
       "Iws         0\n",
       "Is          0\n",
       "Ir          0\n",
       "dtype: int64"
      ]
     },
     "execution_count": 5,
     "metadata": {},
     "output_type": "execute_result"
    }
   ],
   "source": [
    "data_train.isnull().sum()"
   ]
  },
  {
   "cell_type": "code",
   "execution_count": 6,
   "metadata": {},
   "outputs": [],
   "source": [
    "# Como apenas 2067 linhas em 43824 têm valores ausentes optou-se por apagar essas linhas.\n",
    "data_train = data_train.dropna()"
   ]
  },
  {
   "cell_type": "code",
   "execution_count": 7,
   "metadata": {},
   "outputs": [
    {
     "data": {
      "text/plain": [
       "(41757, 13)"
      ]
     },
     "execution_count": 7,
     "metadata": {},
     "output_type": "execute_result"
    }
   ],
   "source": [
    "# Confirmação de ter-se removido apenas 3 linhas\n",
    "data_train.shape"
   ]
  },
  {
   "cell_type": "code",
   "execution_count": 8,
   "metadata": {},
   "outputs": [
    {
     "data": {
      "text/plain": [
       "No       0\n",
       "year     0\n",
       "month    0\n",
       "day      0\n",
       "hour     0\n",
       "pm2.5    0\n",
       "DEWP     0\n",
       "TEMP     0\n",
       "PRES     0\n",
       "cbwd     0\n",
       "Iws      0\n",
       "Is       0\n",
       "Ir       0\n",
       "dtype: int64"
      ]
     },
     "execution_count": 8,
     "metadata": {},
     "output_type": "execute_result"
    }
   ],
   "source": [
    "# Confirmação da anão existencia de valores nulos\n",
    "data_train.isnull().sum()"
   ]
  },
  {
   "cell_type": "code",
   "execution_count": 30,
   "metadata": {},
   "outputs": [
    {
     "data": {
      "text/plain": [
       "34    140.0\n",
       "35    152.0\n",
       "36    148.0\n",
       "37    164.0\n",
       "38    158.0\n",
       "Name: pm2.5, dtype: float64"
      ]
     },
     "execution_count": 30,
     "metadata": {},
     "output_type": "execute_result"
    }
   ],
   "source": [
    "data_train[\"pm2.5\"].iloc[10:15]"
   ]
  },
  {
   "cell_type": "markdown",
   "metadata": {},
   "source": [
    "## Pré-Processamento dos dados de treino- Normalização das Variaveis"
   ]
  },
  {
   "cell_type": "code",
   "execution_count": 10,
   "metadata": {},
   "outputs": [],
   "source": [
    "from sklearn.preprocessing import MinMaxScaler"
   ]
  },
  {
   "cell_type": "code",
   "execution_count": 11,
   "metadata": {},
   "outputs": [],
   "source": [
    "scaler = MinMaxScaler(feature_range=(0,1))"
   ]
  },
  {
   "cell_type": "code",
   "execution_count": 12,
   "metadata": {},
   "outputs": [
    {
     "name": "stderr",
     "output_type": "stream",
     "text": [
      "C:\\Users\\Bruno\\Anaconda3\\lib\\site-packages\\sklearn\\preprocessing\\data.py:334: DataConversionWarning: Data with input dtype int64, float64 were all converted to float64 by MinMaxScaler.\n",
      "  return self.partial_fit(X, y)\n"
     ]
    },
    {
     "data": {
      "text/plain": [
       "MinMaxScaler(copy=True, feature_range=(0, 1))"
      ]
     },
     "execution_count": 12,
     "metadata": {},
     "output_type": "execute_result"
    }
   ],
   "source": [
    "# Normalizar das variaveis de entrada\n",
    "# Vão-se mormalizar todas as variaveis utilizadas para fazer o treino do modelo.\n",
    "\n",
    "# \"No\" é o número do registro\n",
    "# \"Year\", \"month\", \"day\" e \"hour\" são as informações temporais que não são utilizadas para análise\n",
    "# \"Cbwd\" é um atributo de texto que não está relacionado com as previsões\n",
    "\n",
    "# Deveria ter passado algumas variaveis para float, mas o MinMAxScaler fez isso automaticamente.\n",
    "scaler.fit(data_train.drop([\"No\", \"year\", \"month\", \"day\", \"hour\", \"pm2.5\", \"cbwd\"], axis=1))"
   ]
  },
  {
   "cell_type": "code",
   "execution_count": 13,
   "metadata": {},
   "outputs": [
    {
     "name": "stderr",
     "output_type": "stream",
     "text": [
      "C:\\Users\\Bruno\\Anaconda3\\lib\\site-packages\\sklearn\\preprocessing\\data.py:334: DataConversionWarning: Data with input dtype int64, float64 were all converted to float64 by MinMaxScaler.\n",
      "  return self.partial_fit(X, y)\n"
     ]
    }
   ],
   "source": [
    "# Array com as variaveis de entrada normalizadas.\n",
    "X_train_norm = scaler.fit_transform(data_train.drop([\"No\", \"year\", \"month\", \"day\", \"hour\", \"pm2.5\", \"cbwd\"], axis=1))"
   ]
  },
  {
   "cell_type": "code",
   "execution_count": 14,
   "metadata": {},
   "outputs": [
    {
     "data": {
      "text/plain": [
       "(41757, 6)"
      ]
     },
     "execution_count": 14,
     "metadata": {},
     "output_type": "execute_result"
    }
   ],
   "source": [
    "X_train_norm.shape"
   ]
  },
  {
   "cell_type": "code",
   "execution_count": 15,
   "metadata": {},
   "outputs": [],
   "source": [
    "# Ajustar e normalizar a variavel de saida.\n",
    "# É necessário ajustar porque o scaler foi ajustado anteriormente a um array (41757,6) e quer-se ajustar a um array (41757,1).\n",
    "y_train_norm = scaler.fit_transform(data_train.drop([\"No\",\"year\",\"month\",\"day\",\"hour\",\"DEWP\",\"TEMP\",\"PRES\",\"cbwd\",\n",
    "                                                     \"Iws\",\"Is\",\"Ir\"], axis=1))"
   ]
  },
  {
   "cell_type": "code",
   "execution_count": 16,
   "metadata": {},
   "outputs": [
    {
     "data": {
      "text/plain": [
       "(41757, 1)"
      ]
     },
     "execution_count": 16,
     "metadata": {},
     "output_type": "execute_result"
    }
   ],
   "source": [
    "y_train_norm.shape"
   ]
  },
  {
   "cell_type": "code",
   "execution_count": 17,
   "metadata": {},
   "outputs": [
    {
     "data": {
      "text/plain": [
       "array([[0.12977867],\n",
       "       [0.14889336],\n",
       "       [0.15995976],\n",
       "       [0.18209256],\n",
       "       [0.138833  ]])"
      ]
     },
     "execution_count": 17,
     "metadata": {},
     "output_type": "execute_result"
    }
   ],
   "source": [
    "y_train_norm[0:5]"
   ]
  },
  {
   "cell_type": "code",
   "execution_count": 25,
   "metadata": {},
   "outputs": [
    {
     "data": {
      "text/plain": [
       "array([[129.],\n",
       "       [148.],\n",
       "       [159.],\n",
       "       ...,\n",
       "       [ 10.],\n",
       "       [  8.],\n",
       "       [ 12.]])"
      ]
     },
     "execution_count": 25,
     "metadata": {},
     "output_type": "execute_result"
    }
   ],
   "source": [
    "a = scaler.inverse_transform(y_train_norm)\n",
    "a"
   ]
  },
  {
   "cell_type": "markdown",
   "metadata": {},
   "source": [
    "## Divisão dos dados de treino"
   ]
  },
  {
   "cell_type": "code",
   "execution_count": 19,
   "metadata": {},
   "outputs": [],
   "source": [
    "# Prever o nivel de pluição com base nas 10 horas anteriores.\n",
    "\n",
    "X_train = [] # vector com os dados dos 10 dias anteriores.\n",
    "y_train = [] # vector com o nivel de pluição no dia 11."
   ]
  },
  {
   "cell_type": "code",
   "execution_count": 21,
   "metadata": {},
   "outputs": [],
   "source": [
    "# Só é possivel prever o nivel de pluição desda a 10ª hora até à hora 41757. Porque só se tem registro de 41757 horas e \n",
    "# estabeleceu-se como critério utilizar as 10 horas anteriores para fazer uma previsão.\n",
    "\n",
    "for i in range(10, 41757):\n",
    "    X_train.append(X_train_norm[i-10:i,0:6]) # valores das variaveis de entrada\n",
    "    y_train.append(y_train_norm[i, 0]) # valor do nivel da pluição"
   ]
  },
  {
   "cell_type": "code",
   "execution_count": 22,
   "metadata": {},
   "outputs": [],
   "source": [
    "# Converter os vectores(listas) em arrays\n",
    "X_train, y_train = np.array(X_train), np.array(y_train)"
   ]
  },
  {
   "cell_type": "code",
   "execution_count": 23,
   "metadata": {},
   "outputs": [
    {
     "data": {
      "text/plain": [
       "(41747, 10, 6)"
      ]
     },
     "execution_count": 23,
     "metadata": {},
     "output_type": "execute_result"
    }
   ],
   "source": [
    "# 41747 registros com as 10 horas anteriores para as 6 variaveis utilizadas para fazer a previsão.\n",
    "# Para prever a pluição nessas 41747 horas utilizam-se as 10 horas anteriores a cada hora a prever.\n",
    "X_train.shape"
   ]
  },
  {
   "cell_type": "code",
   "execution_count": 24,
   "metadata": {},
   "outputs": [
    {
     "data": {
      "text/plain": [
       "array([0.35294118, 0.36764706, 0.42647059, 0.48529412, 0.48529412,\n",
       "       0.48529412, 0.48529412, 0.48529412, 0.47058824, 0.48529412])"
      ]
     },
     "execution_count": 24,
     "metadata": {},
     "output_type": "execute_result"
    }
   ],
   "source": [
    "# X_train[0,:,0]: DEWP nos primeiros 10 dias. Utilizado para prever o nivel de poluição no 10º dia.\n",
    "# X_train[0,:,1]: TEMP nos primeiros 10 dias. Utilizado para prever o nivel de poluição no 10º dia.\n",
    "# X_train[0,:,2]: PRES nos primeiros 10 dias. Utilizado para prever o nivel de poluição no 10º dia.\n",
    "# X_train[0,:,3]: Iws nos primeiros 10 dias. Utilizado para prever o nivel de poluição no 10º dia.\n",
    "# X_train[0,:,4]: ls nos primeiros 10 dias. Utilizado para prever o nivel de poluição no 10º dia.\n",
    "# X_train[0,:,5]: lr nos primeiros 10 dias. Utilizado para prever o nivel de poluição no 10º dia.\n",
    "# X_train[0,:,5]: DEWP entre a hora 1 e 11. Utilizado para prever o nivel de poluição no 11º dia.\n",
    "\n",
    "X_train[0,:,0]"
   ]
  },
  {
   "cell_type": "code",
   "execution_count": 25,
   "metadata": {},
   "outputs": [
    {
     "data": {
      "text/plain": [
       "array([0.14084507])"
      ]
     },
     "execution_count": 25,
     "metadata": {},
     "output_type": "execute_result"
    }
   ],
   "source": [
    "# y_train[0:1]: nivel de poluição (normalizado) no dia 11º dia.\n",
    "# y_train[1:2] nivel de poluição (normalizado) no dia 12º dia.\n",
    "y_train[0:1]"
   ]
  },
  {
   "cell_type": "markdown",
   "metadata": {},
   "source": [
    "## Modelo Rede Neural Recorrente"
   ]
  },
  {
   "cell_type": "code",
   "execution_count": 26,
   "metadata": {},
   "outputs": [],
   "source": [
    "# sequential - A informação é passada de uma camada para a camada seguinte\n",
    "\n",
    "#-------------------------------------------------------------------------------------------------------------------------------\n",
    "# Camada LSTM\n",
    "\n",
    "# LSTM - Long short term memory. AS redes neurais simples têm dificuldade em \"aprender\" alguns tipos de padrões mais complexos.\n",
    "# Nesses casos pode-se utilizar o tipo de rede neural recorrente LSTM que aprende \"dependencias\" de longo prazo.\n",
    "\n",
    "# As redes neurais recorrentes simples armazenam as informações no tempo atraves de loops( o neuronio apenas aponta para ele \n",
    "# mesmo e para a camada seguinte). Isto permte que a informação persista.\n",
    "# As redes neurais recorrentes LSTM para alem disso têm celulas de memoria e manipulam essas celulas de modo a filtrar e \n",
    "# armazenar a informação importante nessas celulas.\n",
    "\n",
    "# As redes neurais recorrentes ajudam no problema do gradiente desaparecendo(vanish gradient). No ajuste dos pesos ao se\n",
    "# utilizar a descida do gradiente e a sua actualização atraves de backpropagation em primeiro faz-se os calculos da camada\n",
    "# de entrada para a camada de saida. Os pesos são depois actalizados a partir da camada de saida para a camada de entrada. Os\n",
    "# pesos vão sendo actualizados utilizando o learning rate(maiores alterações nas 1ªs camadas). Caso se tenha muitos loops\n",
    "# as ultimas actualizações do gradiente são muito pequenas, o que faz com que o peso não tenha alteração no seu valor.\n",
    "\n",
    "# Número de celulas de memoria(units): Número de vezes(loops) em que a informação é passada ao mesmo neuronio e a camada \n",
    "# seguinte (numero de cópias da camada). Deve ser um valor alto para adicinonar mais dimensionalidade e decorar a tendencia ao \n",
    "# longo do tempo.\n",
    "\n",
    "# Return_sequence: True. Apenas se utilizada quando se tem mais de uma camada LSTM. Indica que a informação será passada para a\n",
    "# camada seguinte.\n",
    "\n",
    "# input_shape: Número de registros utilizados para fazer a previsão(90) e número de variaveis de entrada(6).\n",
    "#-------------------------------------------------------------------------------------------------------------------------------\n",
    "# Camada densa\n",
    "\n",
    "# Todos os neuronios da ultima camada( segunda camada LSTM) estão conectados à camada de saida. Nas camadas LSTM isso tambem\n",
    "# acontece.\n",
    "\n",
    "# units: 1. Só se quer prever o valor do nivel de poluição.\n",
    "# activation: linear. É um problema de regressão. Como os valores estão normalizados(entre 0 e 1) caso se utiliza-se a função\n",
    "# sigmoid tambem se retornaria valores entre 0 e 1.\n",
    "#-------------------------------------------------------------------------------------------------------------------------------\n",
    "\n",
    "model = models.Sequential()\n",
    "model.add(layers.LSTM(units=100, return_sequences=True, input_shape=(X_train.shape[1], 6)))\n",
    "model.add(layers.Dropout(0.3))\n",
    "\n",
    "model.add(layers.LSTM(units=50, return_sequences=True))\n",
    "model.add(layers.Dropout(0.3))\n",
    "\n",
    "model.add(layers.LSTM(units=50, return_sequences=True))\n",
    "model.add(layers.Dropout(0.3))\n",
    "\n",
    "model.add(layers.LSTM(units=50))\n",
    "model.add(layers.Dropout(0.3))\n",
    "\n",
    "model.add(layers.Dense(units=1, activation=\"linear\"))"
   ]
  },
  {
   "cell_type": "code",
   "execution_count": 27,
   "metadata": {},
   "outputs": [],
   "source": [
    "# optimizer: pode-se utilizar o RMSprop, indicado para redes neurais recorrentes, ou o adam que obtem resultados semelhantes.\n",
    "# loss: mean_squared_error é o parametro utilizado para problemas de regressão.\n",
    "\n",
    "# Compilação do modelo\n",
    "model.compile(optimizer=\"RMSprop\", loss=\"mean_squared_error\", metrics=[\"mean_absolute_error\"])"
   ]
  },
  {
   "cell_type": "code",
   "execution_count": 28,
   "metadata": {},
   "outputs": [
    {
     "name": "stdout",
     "output_type": "stream",
     "text": [
      "Train on 41747 samples\n",
      "Epoch 1/100\n",
      "41747/41747 [==============================] - 33s 780us/sample - loss: 0.0073 - mean_absolute_error: 0.0620\n",
      "Epoch 2/100\n",
      "41747/41747 [==============================] - 26s 633us/sample - loss: 0.0061 - mean_absolute_error: 0.0559\n",
      "Epoch 3/100\n",
      "41747/41747 [==============================] - 27s 651us/sample - loss: 0.0057 - mean_absolute_error: 0.0536\n",
      "Epoch 4/100\n",
      "41747/41747 [==============================] - 28s 664us/sample - loss: 0.0056 - mean_absolute_error: 0.0525\n",
      "Epoch 5/100\n",
      "41747/41747 [==============================] - 28s 667us/sample - loss: 0.0054 - mean_absolute_error: 0.0517\n",
      "Epoch 6/100\n",
      "41747/41747 [==============================] - 29s 686us/sample - loss: 0.0054 - mean_absolute_error: 0.0515\n",
      "Epoch 7/100\n",
      "41747/41747 [==============================] - 30s 711us/sample - loss: 0.0052 - mean_absolute_error: 0.0507\n",
      "Epoch 8/100\n",
      "41747/41747 [==============================] - 29s 699us/sample - loss: 0.0052 - mean_absolute_error: 0.0505\n",
      "Epoch 9/100\n",
      "41747/41747 [==============================] - 29s 691us/sample - loss: 0.0052 - mean_absolute_error: 0.0503\n",
      "Epoch 10/100\n",
      "41747/41747 [==============================] - 27s 638us/sample - loss: 0.0051 - mean_absolute_error: 0.0499\n",
      "Epoch 11/100\n",
      "41747/41747 [==============================] - 26s 617us/sample - loss: 0.0051 - mean_absolute_error: 0.0498\n",
      "Epoch 12/100\n",
      "41747/41747 [==============================] - 26s 630us/sample - loss: 0.0050 - mean_absolute_error: 0.0496\n",
      "Epoch 13/100\n",
      "41747/41747 [==============================] - 26s 633us/sample - loss: 0.0050 - mean_absolute_error: 0.0494\n",
      "Epoch 14/100\n",
      "41747/41747 [==============================] - 27s 647us/sample - loss: 0.0050 - mean_absolute_error: 0.0493\n",
      "Epoch 15/100\n",
      "41747/41747 [==============================] - 26s 634us/sample - loss: 0.0049 - mean_absolute_error: 0.0490\n",
      "Epoch 16/100\n",
      "41747/41747 [==============================] - 27s 639us/sample - loss: 0.0049 - mean_absolute_error: 0.0488\n",
      "Epoch 17/100\n",
      "41747/41747 [==============================] - 28s 681us/sample - loss: 0.0049 - mean_absolute_error: 0.0487\n",
      "Epoch 18/100\n",
      "41747/41747 [==============================] - 28s 666us/sample - loss: 0.0048 - mean_absolute_error: 0.0485\n",
      "Epoch 19/100\n",
      "41747/41747 [==============================] - 28s 669us/sample - loss: 0.0048 - mean_absolute_error: 0.0483 - loss: 0 - ETA: 3s - loss: 0.0048 - - ETA: 1s - loss: 0.0048 - mean_absolute_error:  - ETA: 0s - loss: 0.0048 - mean_absolute_err\n",
      "Epoch 20/100\n",
      "41747/41747 [==============================] - 28s 668us/sample - loss: 0.0048 - mean_absolute_error: 0.0482\n",
      "Epoch 21/100\n",
      "41747/41747 [==============================] - 28s 681us/sample - loss: 0.0047 - mean_absolute_error: 0.0479\n",
      "Epoch 22/100\n",
      "41747/41747 [==============================] - 28s 678us/sample - loss: 0.0047 - mean_absolute_error: 0.0476\n",
      "Epoch 23/100\n",
      "41747/41747 [==============================] - 28s 677us/sample - loss: 0.0046 - mean_absolute_error: 0.0474\n",
      "Epoch 24/100\n",
      "41747/41747 [==============================] - 28s 681us/sample - loss: 0.0046 - mean_absolute_error: 0.0473\n",
      "Epoch 25/100\n",
      "41747/41747 [==============================] - 28s 666us/sample - loss: 0.0046 - mean_absolute_error: 0.0470\n",
      "Epoch 26/100\n",
      "41747/41747 [==============================] - 28s 667us/sample - loss: 0.0045 - mean_absolute_error: 0.0469\n",
      "Epoch 27/100\n",
      "41747/41747 [==============================] - 28s 680us/sample - loss: 0.0045 - mean_absolute_error: 0.0467\n",
      "Epoch 28/100\n",
      "41747/41747 [==============================] - 28s 679us/sample - loss: 0.0045 - mean_absolute_error: 0.0466\n",
      "Epoch 29/100\n",
      "41747/41747 [==============================] - 28s 681us/sample - loss: 0.0045 - mean_absolute_error: 0.0464 - loss: 0.0045 - mean_absolu\n",
      "Epoch 30/100\n",
      "41747/41747 [==============================] - 28s 679us/sample - loss: 0.0044 - mean_absolute_error: 0.0462 - loss: 0.0045 - mean_absolut - ETA: 1s - loss: 0.0044 - mean_abs\n",
      "Epoch 31/100\n",
      "41747/41747 [==============================] - 28s 680us/sample - loss: 0.0044 - mean_absolute_error: 0.0460\n",
      "Epoch 32/100\n",
      "41747/41747 [==============================] - 28s 679us/sample - loss: 0.0044 - mean_absolute_error: 0.0459: 3s - loss: 0.0044 - mean_absolute_error: 0.0 - ETA: 2s - loss: 0.\n",
      "Epoch 33/100\n",
      "41747/41747 [==============================] - 28s 678us/sample - loss: 0.0043 - mean_absolute_error: 0.0456\n",
      "Epoch 34/100\n",
      "41747/41747 [==============================] - 28s 674us/sample - loss: 0.0043 - mean_absolute_error: 0.0457\n",
      "Epoch 35/100\n",
      "41747/41747 [==============================] - 29s 686us/sample - loss: 0.0043 - mean_absolute_error: 0.0455\n",
      "Epoch 36/100\n",
      "41747/41747 [==============================] - 28s 678us/sample - loss: 0.0043 - mean_absolute_error: 0.0453 - loss: 0.0043 - mean_absolute_e - ETA: 0s - loss: 0.0043 - mean_absolute_error: 0\n",
      "Epoch 37/100\n",
      "41747/41747 [==============================] - 28s 681us/sample - loss: 0.0043 - mean_absolute_error: 0.0454\n",
      "Epoch 38/100\n",
      "41747/41747 [==============================] - 28s 676us/sample - loss: 0.0042 - mean_absolute_error: 0.0449 - loss: 0.0042 - mean_absolute_e\n",
      "Epoch 39/100\n",
      "41747/41747 [==============================] - 28s 675us/sample - loss: 0.0042 - mean_absolute_error: 0.0449\n",
      "Epoch 40/100\n",
      "41747/41747 [==============================] - 28s 670us/sample - loss: 0.0042 - mean_absolute_error: 0.0447\n",
      "Epoch 41/100\n",
      "41747/41747 [==============================] - 28s 671us/sample - loss: 0.0042 - mean_absolute_error: 0.0447\n",
      "Epoch 42/100\n",
      "41747/41747 [==============================] - 28s 671us/sample - loss: 0.0041 - mean_absolute_error: 0.0446\n",
      "Epoch 43/100\n",
      "41747/41747 [==============================] - 28s 669us/sample - loss: 0.0041 - mean_absolute_error: 0.0443\n",
      "Epoch 44/100\n",
      "41747/41747 [==============================] - 28s 668us/sample - loss: 0.0041 - mean_absolute_error: 0.0442\n",
      "Epoch 45/100\n",
      "41747/41747 [==============================] - 27s 656us/sample - loss: 0.0041 - mean_absolute_error: 0.0442\n",
      "Epoch 46/100\n",
      "41747/41747 [==============================] - 27s 654us/sample - loss: 0.0041 - mean_absolute_error: 0.0440\n",
      "Epoch 47/100\n",
      "41747/41747 [==============================] - 27s 654us/sample - loss: 0.0040 - mean_absolute_error: 0.0438\n",
      "Epoch 48/100\n",
      "41747/41747 [==============================] - 27s 655us/sample - loss: 0.0040 - mean_absolute_error: 0.0436\n",
      "Epoch 49/100\n",
      "41747/41747 [==============================] - 28s 676us/sample - loss: 0.0040 - mean_absolute_error: 0.0438\n",
      "Epoch 50/100\n",
      "41747/41747 [==============================] - 28s 672us/sample - loss: 0.0039 - mean_absolute_error: 0.0435 - loss: 0.0040 - mean_\n",
      "Epoch 51/100\n",
      "41747/41747 [==============================] - 28s 673us/sample - loss: 0.0039 - mean_absolute_error: 0.0433\n",
      "Epoch 52/100\n",
      "41747/41747 [==============================] - 28s 669us/sample - loss: 0.0039 - mean_absolute_error: 0.0432\n",
      "Epoch 53/100\n",
      "41747/41747 [==============================] - 28s 663us/sample - loss: 0.0039 - mean_absolute_error: 0.0430\n",
      "Epoch 54/100\n",
      "41747/41747 [==============================] - 28s 661us/sample - loss: 0.0039 - mean_absolute_error: 0.0431 - loss: 0.0039 - mean_absolute_erro - ETA: 5s - loss: 0.0 - ETA: 2s - loss: 0.003\n",
      "Epoch 55/100\n",
      "41747/41747 [==============================] - 28s 665us/sample - loss: 0.0038 - mean_absolute_error: 0.0429\n",
      "Epoch 56/100\n",
      "41747/41747 [==============================] - 28s 678us/sample - loss: 0.0038 - mean_absolute_error: 0.0427\n",
      "Epoch 57/100\n",
      "41747/41747 [==============================] - 28s 673us/sample - loss: 0.0038 - mean_absolute_error: 0.0426 - loss: 0.0038 - mean_absolute_ - ETA: 1s - loss: 0.0038 - mean_absolute - ETA: 0s - loss: 0.0038 - mean_absolute_erro\n",
      "Epoch 58/100\n",
      "41747/41747 [==============================] - 28s 673us/sample - loss: 0.0038 - mean_absolute_error: 0.0425\n",
      "Epoch 59/100\n",
      "41747/41747 [==============================] - 28s 667us/sample - loss: 0.0037 - mean_absolute_error: 0.0422\n",
      "Epoch 60/100\n",
      "41747/41747 [==============================] - 28s 682us/sample - loss: 0.0037 - mean_absolute_error: 0.0421\n",
      "Epoch 61/100\n",
      "41747/41747 [==============================] - 28s 670us/sample - loss: 0.0037 - mean_absolute_error: 0.0421\n",
      "Epoch 62/100\n",
      "41747/41747 [==============================] - 29s 687us/sample - loss: 0.0037 - mean_absolute_error: 0.0421s  - ETA: 6s - loss: 0.0037 - mean_absolute_error - ETA: 6s -  - ETA: 3s - l\n",
      "Epoch 63/100\n",
      "41747/41747 [==============================] - 28s 672us/sample - loss: 0.0037 - mean_absolute_error: 0.0418\n",
      "Epoch 64/100\n",
      "41747/41747 [==============================] - 28s 665us/sample - loss: 0.0037 - mean_absolute_error: 0.0416 - loss:\n",
      "Epoch 65/100\n",
      "41747/41747 [==============================] - 27s 658us/sample - loss: 0.0036 - mean_absolute_error: 0.0417\n",
      "Epoch 66/100\n",
      "41747/41747 [==============================] - 28s 668us/sample - loss: 0.0036 - mean_absolute_error: 0.0416\n",
      "Epoch 67/100\n",
      "41747/41747 [==============================] - 28s 667us/sample - loss: 0.0036 - mean_absolute_error: 0.0413 - loss: 0.0036 - mean_absolute_e\n",
      "Epoch 68/100\n",
      "41747/41747 [==============================] - 28s 676us/sample - loss: 0.0036 - mean_absolute_error: 0.0414 - loss: 0.0035 - mean_absolute_error: 0 - ETA: 6s - loss: 0.00 - ETA: 3s - loss:  - ETA: 0s - loss: 0.0036 - mean_absolute_error: \n",
      "Epoch 69/100\n",
      "41747/41747 [==============================] - 28s 675us/sample - loss: 0.0036 - mean_absolute_error: 0.0412\n",
      "Epoch 70/100\n",
      "41747/41747 [==============================] - 27s 652us/sample - loss: 0.0035 - mean_absolute_error: 0.0410\n",
      "Epoch 71/100\n",
      "41747/41747 [==============================] - 28s 678us/sample - loss: 0.0035 - mean_absolute_error: 0.0407\n",
      "Epoch 72/100\n",
      "41747/41747 [==============================] - 28s 673us/sample - loss: 0.0035 - mean_absolute_error: 0.0407 - loss: 0.0035 - mean_absolut\n",
      "Epoch 73/100\n",
      "41747/41747 [==============================] - 29s 684us/sample - loss: 0.0034 - mean_absolute_error: 0.0406\n",
      "Epoch 74/100\n",
      "41747/41747 [==============================] - 28s 672us/sample - loss: 0.0035 - mean_absolute_error: 0.0409\n",
      "Epoch 75/100\n",
      "41747/41747 [==============================] - 28s 675us/sample - loss: 0.0034 - mean_absolute_error: 0.0404\n",
      "Epoch 76/100\n",
      "41747/41747 [==============================] - 28s 680us/sample - loss: 0.0034 - mean_absolute_error: 0.0403\n",
      "Epoch 77/100\n",
      "41747/41747 [==============================] - 28s 673us/sample - loss: 0.0034 - mean_absolute_error: 0.0403\n",
      "Epoch 78/100\n",
      "41747/41747 [==============================] - 28s 672us/sample - loss: 0.0034 - mean_absolute_error: 0.0403\n",
      "Epoch 79/100\n",
      "41747/41747 [==============================] - 28s 673us/sample - loss: 0.0033 - mean_absolute_error: 0.0399\n",
      "Epoch 80/100\n",
      "41747/41747 [==============================] - 28s 672us/sample - loss: 0.0033 - mean_absolute_error: 0.0400\n",
      "Epoch 81/100\n",
      "41747/41747 [==============================] - 29s 694us/sample - loss: 0.0033 - mean_absolute_error: 0.0399 - loss: 0.0033 - mean_abso\n",
      "Epoch 82/100\n",
      "41747/41747 [==============================] - 28s 676us/sample - loss: 0.0033 - mean_absolute_error: 0.0397\n",
      "Epoch 83/100\n",
      "41747/41747 [==============================] - 28s 678us/sample - loss: 0.0033 - mean_absolute_error: 0.0397s - loss - ETA: 2s - loss: 0.0\n",
      "Epoch 84/100\n",
      "41747/41747 [==============================] - 28s 678us/sample - loss: 0.0032 - mean_absolute_error: 0.0395\n",
      "Epoch 85/100\n",
      "41747/41747 [==============================] - 29s 697us/sample - loss: 0.0032 - mean_absolute_error: 0.0392 - loss: 0.0032 - mean_ab - ETA: - ETA: 0s - loss: 0.0032 - mean_absolute_err\n",
      "Epoch 86/100\n",
      "41747/41747 [==============================] - 28s 683us/sample - loss: 0.0032 - mean_absolute_error: 0.0391\n",
      "Epoch 87/100\n",
      "41747/41747 [==============================] - 28s 682us/sample - loss: 0.0032 - mean_absolute_error: 0.0391\n",
      "Epoch 88/100\n",
      "41747/41747 [==============================] - 29s 683us/sample - loss: 0.0032 - mean_absolute_error: 0.0391 - los\n",
      "Epoch 89/100\n",
      "41747/41747 [==============================] - 28s 675us/sample - loss: 0.0032 - mean_absolute_error: 0.0391\n",
      "Epoch 90/100\n",
      "41747/41747 [==============================] - 28s 674us/sample - loss: 0.0031 - mean_absolute_error: 0.0387\n",
      "Epoch 91/100\n",
      "41747/41747 [==============================] - 28s 672us/sample - loss: 0.0031 - mean_absolute_error: 0.0386\n",
      "Epoch 92/100\n",
      "41747/41747 [==============================] - 28s 666us/sample - loss: 0.0031 - mean_absolute_error: 0.0386\n",
      "Epoch 93/100\n",
      "41747/41747 [==============================] - 28s 666us/sample - loss: 0.0031 - mean_absolute_error: 0.0385\n",
      "Epoch 94/100\n",
      "41747/41747 [==============================] - 28s 670us/sample - loss: 0.0031 - mean_absolute_error: 0.0385 - loss: 0.0031 - mean_absolute_e\n",
      "Epoch 95/100\n",
      "41747/41747 [==============================] - 28s 682us/sample - loss: 0.0031 - mean_absolute_error: 0.0383 - loss: 0.0030 - mean_absolute_error: 0.03 - ETA: 4s - l - ETA: 1s - loss: 0.0030 - mean_absolu\n",
      "Epoch 96/100\n",
      "41747/41747 [==============================] - 28s 672us/sample - loss: 0.0030 - mean_absolute_error: 0.0382 - loss: 0.0031 - mean_absolute_error: 0 - E\n",
      "Epoch 97/100\n",
      "41747/41747 [==============================] - 28s 663us/sample - loss: 0.0030 - mean_absolute_error: 0.0381\n",
      "Epoch 98/100\n",
      "41747/41747 [==============================] - 27s 656us/sample - loss: 0.0030 - mean_absolute_error: 0.0381\n",
      "Epoch 99/100\n",
      "41747/41747 [==============================] - 27s 651us/sample - loss: 0.0030 - mean_absolute_error: 0.0379\n",
      "Epoch 100/100\n",
      "41747/41747 [==============================] - 27s 654us/sample - loss: 0.0030 - mean_absolute_error: 0.0378\n"
     ]
    },
    {
     "data": {
      "text/plain": [
       "<tensorflow.python.keras.callbacks.History at 0x4b6e305668>"
      ]
     },
     "execution_count": 28,
     "metadata": {},
     "output_type": "execute_result"
    }
   ],
   "source": [
    "# Ajustar os dados de entrada de treino aos dados de saida para treinar o modelo.\n",
    "model.fit(X_train, y_train, epochs=100, batch_size=64)"
   ]
  },
  {
   "cell_type": "markdown",
   "metadata": {},
   "source": [
    "## Previsão e Avaliação do Modelo RNN"
   ]
  },
  {
   "cell_type": "code",
   "execution_count": 53,
   "metadata": {},
   "outputs": [],
   "source": [
    "# Prever os dados de teste para avaliar o modelo\n",
    "\n",
    "# A previsão deveria ser feita para os dados de treino para avaliar o comportamento do modelo para dados não vistos.\n",
    "# Neste caso utilizaram-se os dados de treino para fazer previsões e avaliar o modelo(apesar do modelo já ter sido avaliado\n",
    "# para estes dados enquanto o modelo era ajustado).\n",
    "# Deveria dividir a base de dados original em traino e teste ou efectuar a cross-validation.\n",
    "predictions = model.predict(X_train)"
   ]
  },
  {
   "cell_type": "code",
   "execution_count": 55,
   "metadata": {},
   "outputs": [],
   "source": [
    "# Reverter a normalização do X_test para comparar os valores das acções\n",
    "predictions = scaler.inverse_transform(predictions)"
   ]
  },
  {
   "cell_type": "code",
   "execution_count": 56,
   "metadata": {},
   "outputs": [],
   "source": [
    "# Reverter a normalização do y_test para comparar os valores da poluição\n",
    "y_test = scaler.inverse_transform(y_train.reshape(-1,1))http://localhost:8888/notebooks/Desktop/Python/Deep%20Learning%20com%20python%20az%20curso%20completo/Notebooks%20Meus/3%20Redes%20Neurais%20Recorrentes/2%20S%C3%A9rie%20Temporal%20-%20V%C3%A1rios%20previsores/Ex2SerieTemporalVariosPrevisores.ipynb#"
   ]
  },
  {
   "cell_type": "code",
   "execution_count": 59,
   "metadata": {},
   "outputs": [
    {
     "data": {
      "text/html": [
       "<div>\n",
       "<style scoped>\n",
       "    .dataframe tbody tr th:only-of-type {\n",
       "        vertical-align: middle;\n",
       "    }\n",
       "\n",
       "    .dataframe tbody tr th {\n",
       "        vertical-align: top;\n",
       "    }\n",
       "\n",
       "    .dataframe thead th {\n",
       "        text-align: right;\n",
       "    }\n",
       "</style>\n",
       "<table border=\"1\" class=\"dataframe\">\n",
       "  <thead>\n",
       "    <tr style=\"text-align: right;\">\n",
       "      <th></th>\n",
       "      <th>Predictions</th>\n",
       "      <th>y_test</th>\n",
       "    </tr>\n",
       "  </thead>\n",
       "  <tbody>\n",
       "    <tr>\n",
       "      <th>0</th>\n",
       "      <td>100.011406</td>\n",
       "      <td>140.0</td>\n",
       "    </tr>\n",
       "    <tr>\n",
       "      <th>1</th>\n",
       "      <td>100.493668</td>\n",
       "      <td>152.0</td>\n",
       "    </tr>\n",
       "    <tr>\n",
       "      <th>2</th>\n",
       "      <td>128.220535</td>\n",
       "      <td>148.0</td>\n",
       "    </tr>\n",
       "    <tr>\n",
       "      <th>3</th>\n",
       "      <td>151.347778</td>\n",
       "      <td>164.0</td>\n",
       "    </tr>\n",
       "    <tr>\n",
       "      <th>4</th>\n",
       "      <td>134.658813</td>\n",
       "      <td>158.0</td>\n",
       "    </tr>\n",
       "  </tbody>\n",
       "</table>\n",
       "</div>"
      ],
      "text/plain": [
       "   Predictions  y_test\n",
       "0   100.011406   140.0\n",
       "1   100.493668   152.0\n",
       "2   128.220535   148.0\n",
       "3   151.347778   164.0\n",
       "4   134.658813   158.0"
      ]
     },
     "execution_count": 59,
     "metadata": {},
     "output_type": "execute_result"
    }
   ],
   "source": [
    "pd.DataFrame({\"Predictions\": predictions[:,0], \"y_test\":y_test[:,0]}).head()"
   ]
  },
  {
   "cell_type": "markdown",
   "metadata": {},
   "source": [
    "### Avaliação do Modelo"
   ]
  },
  {
   "cell_type": "code",
   "execution_count": 60,
   "metadata": {},
   "outputs": [],
   "source": [
    "from sklearn import metrics"
   ]
  },
  {
   "cell_type": "code",
   "execution_count": 61,
   "metadata": {},
   "outputs": [
    {
     "name": "stdout",
     "output_type": "stream",
     "text": [
      "MAE 35.05902072611028\n",
      "MSE 2549.2246715260185\n",
      "RMSE 50.48984721234576\n"
     ]
    }
   ],
   "source": [
    "# O MSE é muito mais elevado porque penaliza os desvios grandes(são elevados ao quadrado).\n",
    "# O MAE de 35 significa que a poluição varia +- 35 unidades. \n",
    "print(\"MAE\", metrics.mean_absolute_error(y_test, predictions))\n",
    "print(\"MSE\", metrics.mean_squared_error(y_test, predictions))\n",
    "print(\"RMSE\", np.sqrt(metrics.mean_squared_error(y_test, predictions)))"
   ]
  },
  {
   "cell_type": "code",
   "execution_count": 62,
   "metadata": {},
   "outputs": [],
   "source": [
    "### Resíduos"
   ]
  },
  {
   "cell_type": "code",
   "execution_count": 63,
   "metadata": {},
   "outputs": [
    {
     "data": {
      "text/plain": [
       "Text(0.5, 0, 'y_test-predictions')"
      ]
     },
     "execution_count": 63,
     "metadata": {},
     "output_type": "execute_result"
    },
    {
     "data": {
      "image/png": "[encoded data removed]",
      "text/plain": [
       "<Figure size 720x360 with 1 Axes>"
      ]
     },
     "metadata": {
      "needs_background": "light"
     },
     "output_type": "display_data"
    }
   ],
   "source": [
    "# Histograma de Residuos \n",
    "# O gráfico parece aproximar-se de uma distriuição normal, onde os residuos são proximos de zero.\n",
    "\n",
    "plt.figure(figsize=(10,5))\n",
    "sns.distplot(y_test-predictions)\n",
    "plt.xlabel(\"y_test-predictions\")"
   ]
  },
  {
   "cell_type": "code",
   "execution_count": 64,
   "metadata": {},
   "outputs": [],
   "source": [
    "### Gráfico poluição real vs poluição prevista"
   ]
  },
  {
   "cell_type": "code",
   "execution_count": 65,
   "metadata": {},
   "outputs": [
    {
     "data": {
      "image/png": "[encoded data removed]",
      "text/plain": [
       "<Figure size 432x288 with 1 Axes>"
      ]
     },
     "metadata": {
      "needs_background": "light"
     },
     "output_type": "display_data"
    }
   ],
   "source": [
    "# O gráfico gerado será de barras porque tem-se muitos registros\n",
    "plt.plot(y_test, color = 'red', label = 'Poluição real')\n",
    "plt.plot(predictions, color = 'blue', label = 'Previsões')\n",
    "plt.title('Previsão poluição')\n",
    "plt.xlabel('Horas')\n",
    "plt.ylabel('Valor poluição')\n",
    "plt.legend()\n",
    "plt.show()"
   ]
  },
  {
   "cell_type": "code",
   "execution_count": null,
   "metadata": {},
   "outputs": [],
   "source": []
  }
 ],
 "metadata": {
  "kernelspec": {
   "display_name": "Python 3",
   "language": "python",
   "name": "python3"
  },
  "language_info": {
   "codemirror_mode": {
    "name": "ipython",
    "version": 3
   },
   "file_extension": ".py",
   "mimetype": "text/x-python",
   "name": "python",
   "nbconvert_exporter": "python",
   "pygments_lexer": "ipython3",
   "version": "3.7.3"
  }
 },
 "nbformat": 4,
 "nbformat_minor": 2
}
