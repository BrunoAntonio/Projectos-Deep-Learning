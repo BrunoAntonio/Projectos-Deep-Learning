{
 "cells": [
  {
   "cell_type": "markdown",
   "metadata": {},
   "source": [
    "# Rede Neural Recorrente - Série Temporal com várias saidas e um previsor"
   ]
  },
  {
   "cell_type": "code",
   "execution_count": 139,
   "metadata": {},
   "outputs": [],
   "source": [
    "import pandas as pd\n",
    "import numpy as np\n",
    "\n",
    "import matplotlib.pyplot as plt\n",
    "import seaborn as sns\n",
    "\n",
    "import tensorflow as tf\n",
    "from tensorflow.keras import layers, models, callbacks\n",
    "\n",
    "%matplotlib inline"
   ]
  },
  {
   "cell_type": "code",
   "execution_count": 140,
   "metadata": {},
   "outputs": [],
   "source": [
    "data_train = pd.read_csv(\"petr4-treinamento.csv\")"
   ]
  },
  {
   "cell_type": "code",
   "execution_count": 141,
   "metadata": {},
   "outputs": [
    {
     "data": {
      "text/html": [
       "<div>\n",
       "<style scoped>\n",
       "    .dataframe tbody tr th:only-of-type {\n",
       "        vertical-align: middle;\n",
       "    }\n",
       "\n",
       "    .dataframe tbody tr th {\n",
       "        vertical-align: top;\n",
       "    }\n",
       "\n",
       "    .dataframe thead th {\n",
       "        text-align: right;\n",
       "    }\n",
       "</style>\n",
       "<table border=\"1\" class=\"dataframe\">\n",
       "  <thead>\n",
       "    <tr style=\"text-align: right;\">\n",
       "      <th></th>\n",
       "      <th>Date</th>\n",
       "      <th>Open</th>\n",
       "      <th>High</th>\n",
       "      <th>Low</th>\n",
       "      <th>Close</th>\n",
       "      <th>Adj Close</th>\n",
       "      <th>Volume</th>\n",
       "    </tr>\n",
       "  </thead>\n",
       "  <tbody>\n",
       "    <tr>\n",
       "      <th>0</th>\n",
       "      <td>2013-01-02</td>\n",
       "      <td>19.990000</td>\n",
       "      <td>20.209999</td>\n",
       "      <td>19.690001</td>\n",
       "      <td>19.690001</td>\n",
       "      <td>18.086271</td>\n",
       "      <td>30182600.0</td>\n",
       "    </tr>\n",
       "    <tr>\n",
       "      <th>1</th>\n",
       "      <td>2013-01-03</td>\n",
       "      <td>19.809999</td>\n",
       "      <td>20.400000</td>\n",
       "      <td>19.700001</td>\n",
       "      <td>20.400000</td>\n",
       "      <td>18.738441</td>\n",
       "      <td>30552600.0</td>\n",
       "    </tr>\n",
       "    <tr>\n",
       "      <th>2</th>\n",
       "      <td>2013-01-04</td>\n",
       "      <td>20.330000</td>\n",
       "      <td>20.620001</td>\n",
       "      <td>20.170000</td>\n",
       "      <td>20.430000</td>\n",
       "      <td>18.766001</td>\n",
       "      <td>36141000.0</td>\n",
       "    </tr>\n",
       "    <tr>\n",
       "      <th>3</th>\n",
       "      <td>2013-01-07</td>\n",
       "      <td>20.480000</td>\n",
       "      <td>20.670000</td>\n",
       "      <td>19.950001</td>\n",
       "      <td>20.080000</td>\n",
       "      <td>18.444506</td>\n",
       "      <td>28069600.0</td>\n",
       "    </tr>\n",
       "    <tr>\n",
       "      <th>4</th>\n",
       "      <td>2013-01-08</td>\n",
       "      <td>20.110001</td>\n",
       "      <td>20.230000</td>\n",
       "      <td>19.459999</td>\n",
       "      <td>19.500000</td>\n",
       "      <td>17.911745</td>\n",
       "      <td>29091300.0</td>\n",
       "    </tr>\n",
       "  </tbody>\n",
       "</table>\n",
       "</div>"
      ],
      "text/plain": [
       "         Date       Open       High        Low      Close  Adj Close  \\\n",
       "0  2013-01-02  19.990000  20.209999  19.690001  19.690001  18.086271   \n",
       "1  2013-01-03  19.809999  20.400000  19.700001  20.400000  18.738441   \n",
       "2  2013-01-04  20.330000  20.620001  20.170000  20.430000  18.766001   \n",
       "3  2013-01-07  20.480000  20.670000  19.950001  20.080000  18.444506   \n",
       "4  2013-01-08  20.110001  20.230000  19.459999  19.500000  17.911745   \n",
       "\n",
       "       Volume  \n",
       "0  30182600.0  \n",
       "1  30552600.0  \n",
       "2  36141000.0  \n",
       "3  28069600.0  \n",
       "4  29091300.0  "
      ]
     },
     "execution_count": 141,
     "metadata": {},
     "output_type": "execute_result"
    }
   ],
   "source": [
    "data_train.head()"
   ]
  },
  {
   "cell_type": "markdown",
   "metadata": {},
   "source": [
    "## Pré-Processamento dos dados de treino - Apagar dados Ausentes"
   ]
  },
  {
   "cell_type": "code",
   "execution_count": 142,
   "metadata": {},
   "outputs": [
    {
     "data": {
      "text/plain": [
       "Date         0\n",
       "Open         3\n",
       "High         3\n",
       "Low          3\n",
       "Close        3\n",
       "Adj Close    3\n",
       "Volume       3\n",
       "dtype: int64"
      ]
     },
     "execution_count": 142,
     "metadata": {},
     "output_type": "execute_result"
    }
   ],
   "source": [
    "# Só existem valores ausentes nos dados de treino\n",
    "data_train.isnull().sum()"
   ]
  },
  {
   "cell_type": "code",
   "execution_count": 143,
   "metadata": {},
   "outputs": [
    {
     "data": {
      "text/plain": [
       "(1245, 7)"
      ]
     },
     "execution_count": 143,
     "metadata": {},
     "output_type": "execute_result"
    }
   ],
   "source": [
    "# Tamanho original do dataset de treino\n",
    "data_train.shape"
   ]
  },
  {
   "cell_type": "code",
   "execution_count": 144,
   "metadata": {},
   "outputs": [],
   "source": [
    "# Como apenas 3 linhas têm valores ausentes optou-se por apagar essas linhas.\n",
    "data_train = data_train.dropna()"
   ]
  },
  {
   "cell_type": "code",
   "execution_count": 145,
   "metadata": {},
   "outputs": [
    {
     "data": {
      "text/plain": [
       "(1242, 7)"
      ]
     },
     "execution_count": 145,
     "metadata": {},
     "output_type": "execute_result"
    }
   ],
   "source": [
    "# Confirmação de ter-se removido apenas 3 linhas\n",
    "data_train.shape"
   ]
  },
  {
   "cell_type": "code",
   "execution_count": 146,
   "metadata": {},
   "outputs": [
    {
     "data": {
      "text/plain": [
       "Date         0\n",
       "Open         0\n",
       "High         0\n",
       "Low          0\n",
       "Close        0\n",
       "Adj Close    0\n",
       "Volume       0\n",
       "dtype: int64"
      ]
     },
     "execution_count": 146,
     "metadata": {},
     "output_type": "execute_result"
    }
   ],
   "source": [
    "# Confirmação da anão existencia de valores nulos\n",
    "data_train.isnull().sum()"
   ]
  },
  {
   "cell_type": "markdown",
   "metadata": {},
   "source": [
    "## Pré-Processamento dos dados de treino- Normalização das Variaveis"
   ]
  },
  {
   "cell_type": "code",
   "execution_count": 147,
   "metadata": {},
   "outputs": [],
   "source": [
    "from sklearn.preprocessing import MinMaxScaler"
   ]
  },
  {
   "cell_type": "code",
   "execution_count": 148,
   "metadata": {},
   "outputs": [],
   "source": [
    "scaler = MinMaxScaler(feature_range=(0,1))"
   ]
  },
  {
   "cell_type": "code",
   "execution_count": 149,
   "metadata": {},
   "outputs": [
    {
     "data": {
      "text/plain": [
       "MinMaxScaler(copy=True, feature_range=(0, 1))"
      ]
     },
     "execution_count": 149,
     "metadata": {},
     "output_type": "execute_result"
    }
   ],
   "source": [
    "# Vai-se prever valor de abertura e valor máximo com base no valor de abertura\n",
    "\n",
    "# Ajustar a variavel Open para fazer a sua normalização\n",
    "# Apenas se vai normalizar a variavel Open, porque irá ser a unica variavel de entrada utilizada para fazer o treino do modelo.\n",
    "scaler.fit(data_train.drop([\"Date\", \"High\", \"Low\", \"Close\", \"Adj Close\", \"Volume\"], axis=1))"
   ]
  },
  {
   "cell_type": "code",
   "execution_count": 150,
   "metadata": {},
   "outputs": [],
   "source": [
    "# Normalização da variavel Open \n",
    "open_norm_train = scaler.transform(data_train.drop([\"Date\", \"High\", \"Low\", \"Close\", \"Adj Close\", \"Volume\"], axis=1))"
   ]
  },
  {
   "cell_type": "code",
   "execution_count": 151,
   "metadata": {},
   "outputs": [
    {
     "data": {
      "text/plain": [
       "array([[0.76501938],\n",
       "       [0.7562984 ],\n",
       "       [0.78149225],\n",
       "       [0.78875969],\n",
       "       [0.77083338]])"
      ]
     },
     "execution_count": 151,
     "metadata": {},
     "output_type": "execute_result"
    }
   ],
   "source": [
    "open_norm_train[0:5]"
   ]
  },
  {
   "cell_type": "code",
   "execution_count": 152,
   "metadata": {},
   "outputs": [],
   "source": [
    "# Ajuste e normalização da variavel de saida Higth\n",
    "higth_norm_train = scaler.fit_transform(data_train.drop([\"Date\", \"Open\", \"Low\", \"Close\", \"Adj Close\", \"Volume\"], axis=1))"
   ]
  },
  {
   "cell_type": "code",
   "execution_count": 153,
   "metadata": {},
   "outputs": [
    {
     "data": {
      "text/plain": [
       "array([[0.77266112],\n",
       "       [0.78187106],\n",
       "       [0.79253519],\n",
       "       [0.7949588 ],\n",
       "       [0.77363063]])"
      ]
     },
     "execution_count": 153,
     "metadata": {},
     "output_type": "execute_result"
    }
   ],
   "source": [
    "higth_norm_train[0:5]"
   ]
  },
  {
   "cell_type": "markdown",
   "metadata": {},
   "source": [
    "## Divisão dos dados de treino"
   ]
  },
  {
   "cell_type": "code",
   "execution_count": 154,
   "metadata": {},
   "outputs": [],
   "source": [
    "# Prever o preço das acções com base nos preços de abertura nos 90 dias anteriores.\n",
    "\n",
    "X_train = [] # vector com os preços de abertura nos 90 dias anteriores.\n",
    "y_train_open = [] # vector com o preço de abertura da acção no dia 91.\n",
    "y_train_higth = [] # vector com o preço máximo da acção no dia 91."
   ]
  },
  {
   "cell_type": "code",
   "execution_count": 155,
   "metadata": {},
   "outputs": [],
   "source": [
    "# Só é possivel prever o preço das acções desde o dia 90 até ao dia 1242. Porque só se tem registro de 1242 dias e \n",
    "# estabeleceu-se como critério utilizar os 90 dias anteriores para fazer uma previsão.\n",
    "\n",
    "for i in range(90, 1242):\n",
    "    X_train.append(open_norm_train[i-90:i,0])\n",
    "    y_train_open.append(open_norm_train[i, 0])\n",
    "    y_train_higth.append(higth_norm_train[i, 0])"
   ]
  },
  {
   "cell_type": "code",
   "execution_count": 156,
   "metadata": {},
   "outputs": [],
   "source": [
    "# Converter as listas em arrays\n",
    "X_train, y_train_open, y_train_higth = np.array(X_train), np.array(y_train_open), np.array(y_train_higth)"
   ]
  },
  {
   "cell_type": "code",
   "execution_count": 157,
   "metadata": {},
   "outputs": [
    {
     "data": {
      "text/plain": [
       "(1152, 90)"
      ]
     },
     "execution_count": 157,
     "metadata": {},
     "output_type": "execute_result"
    }
   ],
   "source": [
    "X_train.shape"
   ]
  },
  {
   "cell_type": "code",
   "execution_count": 158,
   "metadata": {},
   "outputs": [
    {
     "data": {
      "text/plain": [
       "array([0.77325581, 0.7562984 , 0.74273261, 0.74127907, 0.74224806])"
      ]
     },
     "execution_count": 158,
     "metadata": {},
     "output_type": "execute_result"
    }
   ],
   "source": [
    "# X_train[0]: preço de abertura nos primeiros 90 dias. Utilizado para prever o preço no dia 91.\n",
    "# X_train[1]: preços de abertura entre o dia 1 e dia 91. Utilizado para prever o preço no dia 92.\n",
    "# X_train[2]: preço de abertura entre o dia 2 e dia 92. Utilizado para prever o preço no dia 93.\n",
    "\n",
    "X_train[0,85:90]"
   ]
  },
  {
   "cell_type": "code",
   "execution_count": 159,
   "metadata": {},
   "outputs": [
    {
     "data": {
      "text/plain": [
       "array([0.76114341])"
      ]
     },
     "execution_count": 159,
     "metadata": {},
     "output_type": "execute_result"
    }
   ],
   "source": [
    "# y_train[0:1]: preço de abertura no dia 91.\n",
    "# y_train[1:2] preço de abertura no dia 92.\n",
    "y_train_open[0:1]"
   ]
  },
  {
   "cell_type": "code",
   "execution_count": 160,
   "metadata": {},
   "outputs": [
    {
     "data": {
      "text/plain": [
       "array([0.76490543])"
      ]
     },
     "execution_count": 160,
     "metadata": {},
     "output_type": "execute_result"
    }
   ],
   "source": [
    "# y_train[0:1]: preço máximo no dia 91.\n",
    "# y_train[1:2] preço máximo no dia 92.\n",
    "y_train_higth[0:1]"
   ]
  },
  {
   "cell_type": "code",
   "execution_count": 161,
   "metadata": {},
   "outputs": [],
   "source": [
    "# A camada de entrada tem de ser um tensor 3d (input_shape, timesteps, input_dim).\n",
    "# input_shape: 1152 registros. Número de registros totais.\n",
    "# timesteps: 90 registros. Número de registros utilizados para fazer a previsão.\n",
    "#input_dim: 1 indicador(apenas 1 variavel de entrada).\n",
    "\n",
    "X_train = np.reshape(X_train, (X_train.shape[0], X_train.shape[1], 1))"
   ]
  },
  {
   "cell_type": "code",
   "execution_count": 162,
   "metadata": {},
   "outputs": [
    {
     "data": {
      "text/plain": [
       "(1152, 90, 1)"
      ]
     },
     "execution_count": 162,
     "metadata": {},
     "output_type": "execute_result"
    }
   ],
   "source": [
    "X_train.shape"
   ]
  },
  {
   "cell_type": "code",
   "execution_count": 163,
   "metadata": {},
   "outputs": [],
   "source": [
    "# Como vector de saida terá a forma (1152,2) porque vai-se prever 2 variaveis, então o y_train tem de ter o mesmo formato para\n",
    "# que se possa fazer a comparação.\n",
    "y_train = np.column_stack((y_train_open, y_train_higth))"
   ]
  },
  {
   "cell_type": "code",
   "execution_count": 164,
   "metadata": {},
   "outputs": [
    {
     "data": {
      "text/plain": [
       "(1152, 2)"
      ]
     },
     "execution_count": 164,
     "metadata": {},
     "output_type": "execute_result"
    }
   ],
   "source": [
    "y_train.shape"
   ]
  },
  {
   "cell_type": "markdown",
   "metadata": {},
   "source": [
    "## Modelo Rede Neural Recorrente"
   ]
  },
  {
   "cell_type": "code",
   "execution_count": 165,
   "metadata": {},
   "outputs": [],
   "source": [
    "# sequential - A informação é passada de uma camada para a camada seguinte\n",
    "\n",
    "#-------------------------------------------------------------------------------------------------------------------------------\n",
    "# Camada LSTM\n",
    "\n",
    "# LSTM - Long short term memory. AS redes neurais simples têm dificuldade em \"aprender\" alguns tipos de padrões mais complexos.\n",
    "# Nesses casos pode-se utilizar o tipo de rede neural recorrente LSTM que aprende \"dependencias\" de longo prazo.\n",
    "\n",
    "# As redes neurais recorrentes simples armazenam as informações no tempo atraves de loops( o neuronio apenas aponta para ele \n",
    "# mesmo e para a camada seguinte). Isto permte que a informação persista.\n",
    "# As redes neurais recorrentes LSTM para alem disso têm celulas de memoria e manipulam essas celulas de modo a filtrar e \n",
    "# armazenar a informação importante nessas celulas.\n",
    "\n",
    "# As redes neurais recorrentes ajudam no problema do gradiente desaparecendo(vanish gradient). No ajuste dos pesos ao se\n",
    "# utilizar a descida do gradiente e a sua actualização atraves de backpropagation em primeiro faz-se os calculos da camada\n",
    "# de entrada para a camada de saida. Os pesos são depois actalizados a partir da camada de saida para a camada de entrada. Os\n",
    "# pesos vão sendo actualizados utilizando o learning rate(maiores alterações nas 1ªs camadas). Caso se tenha muitos loops\n",
    "# as ultimas actualizações do gradiente são muito pequenas, o que faz com que o peso não tenha alteração no seu valor.\n",
    "\n",
    "# Número de celulas de memoria(units): Número de vezes(loops) em que a informação é passada ao mesmo neuronio e a camada \n",
    "# seguinte (numero de cópias da camada). Deve ser um valor alto para adicinonar mais dimensionalidade e decorar a tendencia ao \n",
    "# longo do tempo.\n",
    "\n",
    "# Return_sequence: True. Apenas se utilizada quando se tem mais de uma camada LSTM. Indica que a informação será passada para a\n",
    "# camada seguinte.\n",
    "\n",
    "# input_shape: Número de registros utilizados para fazer a previsão(90) e número de variaveis de entrada(1).\n",
    "#-------------------------------------------------------------------------------------------------------------------------------\n",
    "# Camada densa\n",
    "\n",
    "# Todos os neuronios da ultima camada( segunda camada LSTM) estão conectados à camada de saida. Nas camadas LSTM isso tambem\n",
    "# acontece.\n",
    "\n",
    "# units: 2. Quer-se prever o valor Open e Higth.\n",
    "# activation: linear. É um problema de regressão. Como os valores estão normalizados(entre 0 e 1) caso se utiliza-se a função\n",
    "# sigmoid tambem se retornaria valores entre 0 e 1.\n",
    "#-------------------------------------------------------------------------------------------------------------------------------\n",
    "\n",
    "model = models.Sequential()\n",
    "model.add(layers.LSTM(units=100, return_sequences=True, input_shape=(X_train.shape[1], 1)))\n",
    "model.add(layers.Dropout(0.3))\n",
    "\n",
    "model.add(layers.LSTM(units=50, return_sequences=True))\n",
    "model.add(layers.Dropout(0.3))\n",
    "\n",
    "model.add(layers.LSTM(units=50, return_sequences=True))\n",
    "model.add(layers.Dropout(0.3))\n",
    "\n",
    "model.add(layers.LSTM(units=50))\n",
    "model.add(layers.Dropout(0.3))\n",
    "\n",
    "model.add(layers.Dense(units=2, activation=\"linear\"))"
   ]
  },
  {
   "cell_type": "markdown",
   "metadata": {},
   "source": [
    "## Compilação e Ajuste do modelo RNN"
   ]
  },
  {
   "cell_type": "code",
   "execution_count": 166,
   "metadata": {},
   "outputs": [],
   "source": [
    "# optimizer: pode-se utilizar o RMSprop, indicado para redes neurais recorrentes, ou o adam que obtem resultados semelhantes.\n",
    "# loss: mean_squared_error é o parametro utilizado para problemas de regressão.\n",
    "\n",
    "# Compilação do modelo\n",
    "model.compile(optimizer=\"rmsprop\", loss=\"mean_squared_error\", metrics=[\"mean_absolute_error\"])"
   ]
  },
  {
   "cell_type": "code",
   "execution_count": 167,
   "metadata": {},
   "outputs": [
    {
     "name": "stdout",
     "output_type": "stream",
     "text": [
      "Train on 1152 samples\n",
      "Epoch 1/100\n",
      "1152/1152 [==============================] - 11s 10ms/sample - loss: 0.0384 - mean_absolute_error: 0.1470\n",
      "Epoch 2/100\n",
      "1152/1152 [==============================] - 8s 7ms/sample - loss: 0.0204 - mean_absolute_error: 0.1109\n",
      "Epoch 3/100\n",
      "1152/1152 [==============================] - 8s 7ms/sample - loss: 0.0171 - mean_absolute_error: 0.1013\n",
      "Epoch 4/100\n",
      "1152/1152 [==============================] - 8s 7ms/sample - loss: 0.0129 - mean_absolute_error: 0.0867\n",
      "Epoch 5/100\n",
      "1152/1152 [==============================] - 8s 7ms/sample - loss: 0.0125 - mean_absolute_error: 0.0859\n",
      "Epoch 6/100\n",
      "1152/1152 [==============================] - 8s 7ms/sample - loss: 0.0112 - mean_absolute_error: 0.0807\n",
      "Epoch 7/100\n",
      "1152/1152 [==============================] - 8s 7ms/sample - loss: 0.0097 - mean_absolute_error: 0.0752\n",
      "Epoch 8/100\n",
      "1152/1152 [==============================] - 8s 7ms/sample - loss: 0.0087 - mean_absolute_error: 0.0712\n",
      "Epoch 9/100\n",
      "1152/1152 [==============================] - 8s 7ms/sample - loss: 0.0075 - mean_absolute_error: 0.0654\n",
      "Epoch 10/100\n",
      "1152/1152 [==============================] - 9s 8ms/sample - loss: 0.0082 - mean_absolute_error: 0.0676\n",
      "Epoch 11/100\n",
      "1152/1152 [==============================] - 9s 8ms/sample - loss: 0.0072 - mean_absolute_error: 0.0647\n",
      "Epoch 12/100\n",
      "1152/1152 [==============================] - 8s 7ms/sample - loss: 0.0067 - mean_absolute_error: 0.0616\n",
      "Epoch 13/100\n",
      "1152/1152 [==============================] - 8s 7ms/sample - loss: 0.0068 - mean_absolute_error: 0.0625\n",
      "Epoch 14/100\n",
      "1152/1152 [==============================] - 9s 8ms/sample - loss: 0.0057 - mean_absolute_error: 0.0573\n",
      "Epoch 15/100\n",
      "1152/1152 [==============================] - 9s 7ms/sample - loss: 0.0057 - mean_absolute_error: 0.0576\n",
      "Epoch 16/100\n",
      "1152/1152 [==============================] - 8s 7ms/sample - loss: 0.0048 - mean_absolute_error: 0.0527\n",
      "Epoch 17/100\n",
      "1152/1152 [==============================] - 8s 7ms/sample - loss: 0.0054 - mean_absolute_error: 0.0549\n",
      "Epoch 18/100\n",
      "1152/1152 [==============================] - 8s 7ms/sample - loss: 0.0050 - mean_absolute_error: 0.0536\n",
      "Epoch 19/100\n",
      "1152/1152 [==============================] - 8s 7ms/sample - loss: 0.0048 - mean_absolute_error: 0.0522\n",
      "Epoch 20/100\n",
      "1152/1152 [==============================] - 8s 7ms/sample - loss: 0.0041 - mean_absolute_error: 0.0485\n",
      "Epoch 21/100\n",
      "1152/1152 [==============================] - 8s 7ms/sample - loss: 0.0044 - mean_absolute_error: 0.0509\n",
      "Epoch 22/100\n",
      "1152/1152 [==============================] - 8s 7ms/sample - loss: 0.0041 - mean_absolute_error: 0.0483\n",
      "Epoch 23/100\n",
      "1152/1152 [==============================] - 8s 7ms/sample - loss: 0.0040 - mean_absolute_error: 0.0483\n",
      "Epoch 24/100\n",
      "1152/1152 [==============================] - 8s 7ms/sample - loss: 0.0039 - mean_absolute_error: 0.0472\n",
      "Epoch 25/100\n",
      "1152/1152 [==============================] - 9s 8ms/sample - loss: 0.0038 - mean_absolute_error: 0.0468\n",
      "Epoch 26/100\n",
      "1152/1152 [==============================] - 8s 7ms/sample - loss: 0.0034 - mean_absolute_error: 0.0446\n",
      "Epoch 27/100\n",
      "1152/1152 [==============================] - 9s 8ms/sample - loss: 0.0038 - mean_absolute_error: 0.0462\n",
      "Epoch 28/100\n",
      "1152/1152 [==============================] - 9s 8ms/sample - loss: 0.0034 - mean_absolute_error: 0.0443\n",
      "Epoch 29/100\n",
      "1152/1152 [==============================] - 8s 7ms/sample - loss: 0.0035 - mean_absolute_error: 0.0445\n",
      "Epoch 30/100\n",
      "1152/1152 [==============================] - 8s 7ms/sample - loss: 0.0034 - mean_absolute_error: 0.0441\n",
      "Epoch 31/100\n",
      "1152/1152 [==============================] - 8s 7ms/sample - loss: 0.0035 - mean_absolute_error: 0.0444\n",
      "Epoch 32/100\n",
      "1152/1152 [==============================] - 8s 7ms/sample - loss: 0.0030 - mean_absolute_error: 0.0412\n",
      "Epoch 33/100\n",
      "1152/1152 [==============================] - 8s 7ms/sample - loss: 0.0032 - mean_absolute_error: 0.0423\n",
      "Epoch 34/100\n",
      "1152/1152 [==============================] - 8s 7ms/sample - loss: 0.0028 - mean_absolute_error: 0.0402\n",
      "Epoch 35/100\n",
      "1152/1152 [==============================] - 8s 7ms/sample - loss: 0.0029 - mean_absolute_error: 0.0413\n",
      "Epoch 36/100\n",
      "1152/1152 [==============================] - 8s 7ms/sample - loss: 0.0028 - mean_absolute_error: 0.0398\n",
      "Epoch 37/100\n",
      "1152/1152 [==============================] - 8s 7ms/sample - loss: 0.0027 - mean_absolute_error: 0.0395\n",
      "Epoch 38/100\n",
      "1152/1152 [==============================] - 8s 7ms/sample - loss: 0.0028 - mean_absolute_error: 0.0392\n",
      "Epoch 39/100\n",
      "1152/1152 [==============================] - 8s 7ms/sample - loss: 0.0026 - mean_absolute_error: 0.0386\n",
      "Epoch 40/100\n",
      "1152/1152 [==============================] - 8s 7ms/sample - loss: 0.0025 - mean_absolute_error: 0.0381\n",
      "Epoch 41/100\n",
      "1152/1152 [==============================] - 8s 7ms/sample - loss: 0.0026 - mean_absolute_error: 0.0382\n",
      "Epoch 42/100\n",
      "1152/1152 [==============================] - 8s 7ms/sample - loss: 0.0025 - mean_absolute_error: 0.0381\n",
      "Epoch 43/100\n",
      "1152/1152 [==============================] - 8s 7ms/sample - loss: 0.0025 - mean_absolute_error: 0.0380\n",
      "Epoch 44/100\n",
      "1152/1152 [==============================] - 8s 7ms/sample - loss: 0.0023 - mean_absolute_error: 0.0362\n",
      "Epoch 45/100\n",
      "1152/1152 [==============================] - 8s 7ms/sample - loss: 0.0022 - mean_absolute_error: 0.0350\n",
      "Epoch 46/100\n",
      "1152/1152 [==============================] - 8s 7ms/sample - loss: 0.0024 - mean_absolute_error: 0.0375\n",
      "Epoch 47/100\n",
      "1152/1152 [==============================] - 8s 7ms/sample - loss: 0.0022 - mean_absolute_error: 0.0365\n",
      "Epoch 48/100\n",
      "1152/1152 [==============================] - 8s 7ms/sample - loss: 0.0023 - mean_absolute_error: 0.0359\n",
      "Epoch 49/100\n",
      "1152/1152 [==============================] - 8s 7ms/sample - loss: 0.0024 - mean_absolute_error: 0.0370\n",
      "Epoch 50/100\n",
      "1152/1152 [==============================] - 8s 7ms/sample - loss: 0.0020 - mean_absolute_error: 0.0347\n",
      "Epoch 51/100\n",
      "1152/1152 [==============================] - 8s 7ms/sample - loss: 0.0021 - mean_absolute_error: 0.0348\n",
      "Epoch 52/100\n",
      "1152/1152 [==============================] - 8s 7ms/sample - loss: 0.0021 - mean_absolute_error: 0.0347\n",
      "Epoch 53/100\n",
      "1152/1152 [==============================] - 8s 7ms/sample - loss: 0.0020 - mean_absolute_error: 0.0340\n",
      "Epoch 54/100\n",
      "1152/1152 [==============================] - 8s 7ms/sample - loss: 0.0020 - mean_absolute_error: 0.0333\n",
      "Epoch 55/100\n",
      "1152/1152 [==============================] - 8s 7ms/sample - loss: 0.0022 - mean_absolute_error: 0.0357\n",
      "Epoch 56/100\n",
      "1152/1152 [==============================] - 8s 7ms/sample - loss: 0.0021 - mean_absolute_error: 0.0339\n",
      "Epoch 57/100\n",
      "1152/1152 [==============================] - 8s 7ms/sample - loss: 0.0020 - mean_absolute_error: 0.0336\n",
      "Epoch 58/100\n",
      "1152/1152 [==============================] - 8s 7ms/sample - loss: 0.0019 - mean_absolute_error: 0.0333\n",
      "Epoch 59/100\n",
      "1152/1152 [==============================] - 8s 7ms/sample - loss: 0.0019 - mean_absolute_error: 0.0329\n",
      "Epoch 60/100\n",
      "1152/1152 [==============================] - 8s 7ms/sample - loss: 0.0019 - mean_absolute_error: 0.0334\n",
      "Epoch 61/100\n",
      "1152/1152 [==============================] - 8s 7ms/sample - loss: 0.0019 - mean_absolute_error: 0.0330\n",
      "Epoch 62/100\n",
      "1152/1152 [==============================] - 8s 7ms/sample - loss: 0.0018 - mean_absolute_error: 0.0311\n",
      "Epoch 63/100\n",
      "1152/1152 [==============================] - 8s 7ms/sample - loss: 0.0018 - mean_absolute_error: 0.0325\n",
      "Epoch 64/100\n",
      "1152/1152 [==============================] - 8s 7ms/sample - loss: 0.0018 - mean_absolute_error: 0.0315\n",
      "Epoch 65/100\n",
      "1152/1152 [==============================] - 8s 7ms/sample - loss: 0.0018 - mean_absolute_error: 0.0317\n",
      "Epoch 66/100\n",
      "1152/1152 [==============================] - 8s 7ms/sample - loss: 0.0018 - mean_absolute_error: 0.0312\n",
      "Epoch 67/100\n",
      "1152/1152 [==============================] - 8s 7ms/sample - loss: 0.0017 - mean_absolute_error: 0.0308\n",
      "Epoch 68/100\n",
      "1152/1152 [==============================] - 8s 7ms/sample - loss: 0.0017 - mean_absolute_error: 0.0319\n",
      "Epoch 69/100\n",
      "1152/1152 [==============================] - 8s 7ms/sample - loss: 0.0017 - mean_absolute_error: 0.0314\n",
      "Epoch 70/100\n",
      "1152/1152 [==============================] - 8s 7ms/sample - loss: 0.0019 - mean_absolute_error: 0.0319\n",
      "Epoch 71/100\n",
      "1152/1152 [==============================] - 8s 7ms/sample - loss: 0.0017 - mean_absolute_error: 0.0314\n",
      "Epoch 72/100\n",
      "1152/1152 [==============================] - 8s 7ms/sample - loss: 0.0017 - mean_absolute_error: 0.0310\n",
      "Epoch 73/100\n",
      "1152/1152 [==============================] - 8s 7ms/sample - loss: 0.0016 - mean_absolute_error: 0.0301\n",
      "Epoch 74/100\n",
      "1152/1152 [==============================] - 8s 7ms/sample - loss: 0.0018 - mean_absolute_error: 0.0319\n",
      "Epoch 75/100\n",
      "1152/1152 [==============================] - 8s 7ms/sample - loss: 0.0017 - mean_absolute_error: 0.0308\n",
      "Epoch 76/100\n",
      "1152/1152 [==============================] - 8s 7ms/sample - loss: 0.0017 - mean_absolute_error: 0.0309\n",
      "Epoch 77/100\n",
      "1152/1152 [==============================] - 8s 7ms/sample - loss: 0.0016 - mean_absolute_error: 0.0303\n",
      "Epoch 78/100\n",
      "1152/1152 [==============================] - 8s 7ms/sample - loss: 0.0016 - mean_absolute_error: 0.0306\n",
      "Epoch 79/100\n",
      "1152/1152 [==============================] - 8s 7ms/sample - loss: 0.0015 - mean_absolute_error: 0.0295\n",
      "Epoch 80/100\n",
      "1152/1152 [==============================] - 8s 7ms/sample - loss: 0.0018 - mean_absolute_error: 0.0320\n",
      "Epoch 81/100\n",
      "1152/1152 [==============================] - 8s 7ms/sample - loss: 0.0016 - mean_absolute_error: 0.0296\n",
      "Epoch 82/100\n",
      "1152/1152 [==============================] - 8s 7ms/sample - loss: 0.0016 - mean_absolute_error: 0.0302\n",
      "Epoch 83/100\n",
      "1152/1152 [==============================] - 8s 7ms/sample - loss: 0.0017 - mean_absolute_error: 0.0306\n",
      "Epoch 84/100\n",
      "1152/1152 [==============================] - 8s 7ms/sample - loss: 0.0018 - mean_absolute_error: 0.0311\n",
      "Epoch 85/100\n",
      "1152/1152 [==============================] - 8s 7ms/sample - loss: 0.0015 - mean_absolute_error: 0.0291\n",
      "Epoch 86/100\n",
      "1152/1152 [==============================] - 8s 7ms/sample - loss: 0.0016 - mean_absolute_error: 0.0301\n",
      "Epoch 87/100\n",
      "1152/1152 [==============================] - 8s 7ms/sample - loss: 0.0015 - mean_absolute_error: 0.0295\n",
      "Epoch 88/100\n",
      "1152/1152 [==============================] - 8s 7ms/sample - loss: 0.0015 - mean_absolute_error: 0.0295\n",
      "Epoch 89/100\n",
      "1152/1152 [==============================] - 8s 7ms/sample - loss: 0.0017 - mean_absolute_error: 0.0306\n",
      "Epoch 90/100\n",
      "1152/1152 [==============================] - 8s 7ms/sample - loss: 0.0015 - mean_absolute_error: 0.0287\n",
      "Epoch 91/100\n",
      "1152/1152 [==============================] - 8s 7ms/sample - loss: 0.0016 - mean_absolute_error: 0.0294\n",
      "Epoch 92/100\n",
      "1152/1152 [==============================] - 8s 7ms/sample - loss: 0.0015 - mean_absolute_error: 0.0292\n",
      "Epoch 93/100\n",
      "1152/1152 [==============================] - 8s 7ms/sample - loss: 0.0015 - mean_absolute_error: 0.0290\n",
      "Epoch 94/100\n",
      "1152/1152 [==============================] - 8s 7ms/sample - loss: 0.0016 - mean_absolute_error: 0.0294\n",
      "Epoch 95/100\n",
      "1152/1152 [==============================] - 8s 7ms/sample - loss: 0.0014 - mean_absolute_error: 0.0278\n",
      "Epoch 96/100\n",
      "1152/1152 [==============================] - 8s 7ms/sample - loss: 0.0016 - mean_absolute_error: 0.0298\n",
      "Epoch 97/100\n",
      "1152/1152 [==============================] - 8s 7ms/sample - loss: 0.0016 - mean_absolute_error: 0.0298\n",
      "Epoch 98/100\n",
      "1152/1152 [==============================] - 8s 7ms/sample - loss: 0.0015 - mean_absolute_error: 0.0285\n",
      "Epoch 99/100\n",
      "1152/1152 [==============================] - 8s 7ms/sample - loss: 0.0016 - mean_absolute_error: 0.0293\n",
      "Epoch 100/100\n",
      "1152/1152 [==============================] - 8s 7ms/sample - loss: 0.0014 - mean_absolute_error: 0.0287\n"
     ]
    },
    {
     "data": {
      "text/plain": [
       "<tensorflow.python.keras.callbacks.History at 0x40186dcf28>"
      ]
     },
     "execution_count": 167,
     "metadata": {},
     "output_type": "execute_result"
    }
   ],
   "source": [
    "# Ajustar os dados de entrada de treino aos dados de saida para treinar o modelo.\n",
    "model.fit(X_train, y_train, epochs=100, batch_size=32)"
   ]
  },
  {
   "cell_type": "markdown",
   "metadata": {},
   "source": [
    "## Obter os dados de teste"
   ]
  },
  {
   "cell_type": "code",
   "execution_count": 168,
   "metadata": {},
   "outputs": [],
   "source": [
    "data_test = pd.read_csv(\"petr4-teste.csv\")"
   ]
  },
  {
   "cell_type": "code",
   "execution_count": 169,
   "metadata": {},
   "outputs": [
    {
     "data": {
      "text/html": [
       "<div>\n",
       "<style scoped>\n",
       "    .dataframe tbody tr th:only-of-type {\n",
       "        vertical-align: middle;\n",
       "    }\n",
       "\n",
       "    .dataframe tbody tr th {\n",
       "        vertical-align: top;\n",
       "    }\n",
       "\n",
       "    .dataframe thead th {\n",
       "        text-align: right;\n",
       "    }\n",
       "</style>\n",
       "<table border=\"1\" class=\"dataframe\">\n",
       "  <thead>\n",
       "    <tr style=\"text-align: right;\">\n",
       "      <th></th>\n",
       "      <th>Date</th>\n",
       "      <th>Open</th>\n",
       "      <th>High</th>\n",
       "      <th>Low</th>\n",
       "      <th>Close</th>\n",
       "      <th>Adj Close</th>\n",
       "      <th>Volume</th>\n",
       "    </tr>\n",
       "  </thead>\n",
       "  <tbody>\n",
       "    <tr>\n",
       "      <th>0</th>\n",
       "      <td>2018-01-02</td>\n",
       "      <td>16.190001</td>\n",
       "      <td>16.549999</td>\n",
       "      <td>16.190001</td>\n",
       "      <td>16.549999</td>\n",
       "      <td>16.516966</td>\n",
       "      <td>33461800</td>\n",
       "    </tr>\n",
       "    <tr>\n",
       "      <th>1</th>\n",
       "      <td>2018-01-03</td>\n",
       "      <td>16.490000</td>\n",
       "      <td>16.719999</td>\n",
       "      <td>16.370001</td>\n",
       "      <td>16.700001</td>\n",
       "      <td>16.666668</td>\n",
       "      <td>55940900</td>\n",
       "    </tr>\n",
       "    <tr>\n",
       "      <th>2</th>\n",
       "      <td>2018-01-04</td>\n",
       "      <td>16.780001</td>\n",
       "      <td>16.959999</td>\n",
       "      <td>16.620001</td>\n",
       "      <td>16.730000</td>\n",
       "      <td>16.696608</td>\n",
       "      <td>37064900</td>\n",
       "    </tr>\n",
       "    <tr>\n",
       "      <th>3</th>\n",
       "      <td>2018-01-05</td>\n",
       "      <td>16.700001</td>\n",
       "      <td>16.860001</td>\n",
       "      <td>16.570000</td>\n",
       "      <td>16.830000</td>\n",
       "      <td>16.796408</td>\n",
       "      <td>26958200</td>\n",
       "    </tr>\n",
       "    <tr>\n",
       "      <th>4</th>\n",
       "      <td>2018-01-08</td>\n",
       "      <td>16.740000</td>\n",
       "      <td>17.030001</td>\n",
       "      <td>16.709999</td>\n",
       "      <td>17.030001</td>\n",
       "      <td>16.996010</td>\n",
       "      <td>28400000</td>\n",
       "    </tr>\n",
       "  </tbody>\n",
       "</table>\n",
       "</div>"
      ],
      "text/plain": [
       "         Date       Open       High        Low      Close  Adj Close    Volume\n",
       "0  2018-01-02  16.190001  16.549999  16.190001  16.549999  16.516966  33461800\n",
       "1  2018-01-03  16.490000  16.719999  16.370001  16.700001  16.666668  55940900\n",
       "2  2018-01-04  16.780001  16.959999  16.620001  16.730000  16.696608  37064900\n",
       "3  2018-01-05  16.700001  16.860001  16.570000  16.830000  16.796408  26958200\n",
       "4  2018-01-08  16.740000  17.030001  16.709999  17.030001  16.996010  28400000"
      ]
     },
     "execution_count": 169,
     "metadata": {},
     "output_type": "execute_result"
    }
   ],
   "source": [
    "data_test.head()"
   ]
  },
  {
   "cell_type": "code",
   "execution_count": 170,
   "metadata": {},
   "outputs": [
    {
     "data": {
      "text/plain": [
       "(22, 7)"
      ]
     },
     "execution_count": 170,
     "metadata": {},
     "output_type": "execute_result"
    }
   ],
   "source": [
    "data_test.shape"
   ]
  },
  {
   "cell_type": "code",
   "execution_count": 171,
   "metadata": {},
   "outputs": [],
   "source": [
    "# data_train tem os dados desde 2013-01-02 até 2017-12-29\n",
    "# data_teste tem os dados desde 2018-01-02 até 2018-01-31\n",
    "# data tem dos dados desde 2013-01-02 até 2018-01-31\n",
    "\n",
    "data = pd.concat((data_train[\"Open\"], data_test[\"Open\"]), axis=0)"
   ]
  },
  {
   "cell_type": "code",
   "execution_count": 172,
   "metadata": {},
   "outputs": [],
   "source": [
    "# dados desde 2017-08-28 até 2018-01-31\n",
    "data_open_test = data[len(data)-len(data_test)-90:].values"
   ]
  },
  {
   "cell_type": "code",
   "execution_count": 173,
   "metadata": {},
   "outputs": [
    {
     "data": {
      "text/plain": [
       "112"
      ]
     },
     "execution_count": 173,
     "metadata": {},
     "output_type": "execute_result"
    }
   ],
   "source": [
    "# 22+90=112 dias de preços\n",
    "# O X_test contem os 22 dias da base de dados de teste mais os 90 dias anteriores. Esses 90 dias anteriores são necessários \n",
    "# para se poderem fazer previssões.\n",
    "len(data_open_test)"
   ]
  },
  {
   "cell_type": "code",
   "execution_count": 174,
   "metadata": {},
   "outputs": [
    {
     "data": {
      "text/plain": [
       "(112,)"
      ]
     },
     "execution_count": 174,
     "metadata": {},
     "output_type": "execute_result"
    }
   ],
   "source": [
    "data_open_test.shape"
   ]
  },
  {
   "cell_type": "code",
   "execution_count": 175,
   "metadata": {},
   "outputs": [],
   "source": [
    "# Alterar a forma do array para poder ser utilizada a normalização\n",
    "# -1 significa que o array não tem colunas\n",
    "data_open_test = data_open_test.reshape(-1,1)"
   ]
  },
  {
   "cell_type": "code",
   "execution_count": 176,
   "metadata": {},
   "outputs": [
    {
     "data": {
      "text/plain": [
       "(112, 1)"
      ]
     },
     "execution_count": 176,
     "metadata": {},
     "output_type": "execute_result"
    }
   ],
   "source": [
    "data_open_test.shape"
   ]
  },
  {
   "cell_type": "code",
   "execution_count": 177,
   "metadata": {},
   "outputs": [],
   "source": [
    "# data_train tem os dados do preço máxmo desde 2013-01-02 até 2017-12-29\n",
    "# data_teste tem os dados do preço máxmo desde 2018-01-02 até 2018-01-31\n",
    "# data tem dos dados desde do preço máxmo 2013-01-02 até 2018-01-31\n",
    "\n",
    "data_high = pd.concat((data_train[\"High\"], data_test[\"High\"]), axis=0)"
   ]
  },
  {
   "cell_type": "code",
   "execution_count": 178,
   "metadata": {},
   "outputs": [],
   "source": [
    "# dados desde 2017-08-28 até 2018-01-31 do preço máximo\n",
    "data_high_test = data_high[len(data_high)-len(data_test)-90:].values"
   ]
  },
  {
   "cell_type": "code",
   "execution_count": 179,
   "metadata": {},
   "outputs": [
    {
     "data": {
      "text/plain": [
       "112"
      ]
     },
     "execution_count": 179,
     "metadata": {},
     "output_type": "execute_result"
    }
   ],
   "source": [
    "# 22+90=112 dias de preços\n",
    "# O y_test contem os 22 dias da base de dados de teste mais os 90 dias anteriores. Esses 90 dias anteriores são necessários \n",
    "# para se poderem fazer previssões.\n",
    "len(data_high_test)"
   ]
  },
  {
   "cell_type": "code",
   "execution_count": 180,
   "metadata": {},
   "outputs": [],
   "source": [
    "# Alterar a forma do array para poder ser utilizada a normalização\n",
    "# -1 significa que o array não tem colunas\n",
    "data_high_test = data_high_test.reshape(-1,1)"
   ]
  },
  {
   "cell_type": "markdown",
   "metadata": {},
   "source": [
    "## Pré-Processamento dos dados de teste - Normalização das Variaveis"
   ]
  },
  {
   "cell_type": "code",
   "execution_count": 181,
   "metadata": {},
   "outputs": [],
   "source": [
    "# Array com a variavel Open normalizada.\n",
    "# Não é necessário o fit_transform porque os dados já foram ajustados anteriormente na outra normalização.\n",
    "\n",
    "open_norm_test = scaler.transform(data_open_test)"
   ]
  },
  {
   "cell_type": "code",
   "execution_count": 182,
   "metadata": {},
   "outputs": [
    {
     "data": {
      "text/plain": [
       "array([[0.46825012],\n",
       "       [0.46000969],\n",
       "       [0.46146389],\n",
       "       [0.44886088]])"
      ]
     },
     "execution_count": 182,
     "metadata": {},
     "output_type": "execute_result"
    }
   ],
   "source": [
    "open_norm_test[0:4]"
   ]
  },
  {
   "cell_type": "code",
   "execution_count": 183,
   "metadata": {},
   "outputs": [],
   "source": [
    "# Ajuste e normalização da variavel de saida Higth\n",
    "high_norm_test = scaler.transform(data_high_test)"
   ]
  },
  {
   "cell_type": "code",
   "execution_count": 184,
   "metadata": {},
   "outputs": [
    {
     "data": {
      "text/plain": [
       "array([[0.47309743],\n",
       "       [0.46437227],\n",
       "       [0.46679593],\n",
       "       [0.46049443]])"
      ]
     },
     "execution_count": 184,
     "metadata": {},
     "output_type": "execute_result"
    }
   ],
   "source": [
    "high_norm_test[0:4]"
   ]
  },
  {
   "cell_type": "code",
   "execution_count": 185,
   "metadata": {},
   "outputs": [],
   "source": [
    "X_test = []\n",
    "y_test_open = []\n",
    "y_test_high = []"
   ]
  },
  {
   "cell_type": "code",
   "execution_count": 186,
   "metadata": {},
   "outputs": [],
   "source": [
    "for i in range(90, 112):\n",
    "    X_test.append(open_norm_test[i-90:i, 0])\n",
    "    y_test_open.append(open_norm_test[i,0])\n",
    "    y_test_high.append(high_norm_test[i,0])"
   ]
  },
  {
   "cell_type": "code",
   "execution_count": 187,
   "metadata": {},
   "outputs": [],
   "source": [
    "# Converter as listas em arrays\n",
    "X_test, y_test_open, y_test_high = np.array(X_test), np.array(y_test_open), np.array(y_test_high) "
   ]
  },
  {
   "cell_type": "code",
   "execution_count": 188,
   "metadata": {},
   "outputs": [
    {
     "data": {
      "text/plain": [
       "0.5777993698497335"
      ]
     },
     "execution_count": 188,
     "metadata": {},
     "output_type": "execute_result"
    }
   ],
   "source": [
    "# X_test[0]: preço de abertura nos primeiros 90 dias. Utilizado para prever o preço no dia 91.\n",
    "# X_test[1]: preços de abertura entre o dia 1 e dia 91. Utilizado para prever o preço no dia 92.\n",
    "# X_test[2]: preço de abertura entre o dia 2 e dia 92. Utilizado para prever o preço no dia 93.\n",
    "\n",
    "X_test[1,89]"
   ]
  },
  {
   "cell_type": "code",
   "execution_count": 189,
   "metadata": {},
   "outputs": [
    {
     "data": {
      "text/plain": [
       "array([0.57779937])"
      ]
     },
     "execution_count": 189,
     "metadata": {},
     "output_type": "execute_result"
    }
   ],
   "source": [
    "# y_test_open[0:1]: preço de abertura no dia 91.\n",
    "# y_test_open[1:2] preço de abertura no dia 92.\n",
    "\n",
    "y_test_open[0:1]"
   ]
  },
  {
   "cell_type": "code",
   "execution_count": 190,
   "metadata": {},
   "outputs": [
    {
     "data": {
      "text/plain": [
       "array([0.59524959])"
      ]
     },
     "execution_count": 190,
     "metadata": {},
     "output_type": "execute_result"
    }
   ],
   "source": [
    "# y_test_high[0:1]: preço máximo no dia 91.\n",
    "# y_test_high[1:2] preço máximo no dia 92.\n",
    "\n",
    "y_test_high[0:1]"
   ]
  },
  {
   "cell_type": "code",
   "execution_count": 191,
   "metadata": {},
   "outputs": [],
   "source": [
    "# A camada de entrada tem de ser um tensor 3d (input_shape, timesteps, input_dim)\n",
    "# input_shape: 22 registros. Número de registros totais de teste\n",
    "# timesteps: 90 registros. Número de registros utilizados para fazer a previsão.\n",
    "#input_dim: 1 indicador(apenas 1 variavel de entrada)\n",
    "\n",
    "X_test = np.reshape(X_test, (X_test.shape[0], X_test.shape[1], 1))"
   ]
  },
  {
   "cell_type": "code",
   "execution_count": 192,
   "metadata": {},
   "outputs": [
    {
     "data": {
      "text/plain": [
       "(22, 90, 1)"
      ]
     },
     "execution_count": 192,
     "metadata": {},
     "output_type": "execute_result"
    }
   ],
   "source": [
    "X_test.shape"
   ]
  },
  {
   "cell_type": "markdown",
   "metadata": {},
   "source": [
    "## Previsão e Avaliação do Modelo RNN"
   ]
  },
  {
   "cell_type": "code",
   "execution_count": 193,
   "metadata": {},
   "outputs": [],
   "source": [
    "# Prever os dados de teste para avaliar o modelo\n",
    "predictions = model.predict(X_test)"
   ]
  },
  {
   "cell_type": "code",
   "execution_count": 194,
   "metadata": {},
   "outputs": [],
   "source": [
    "# Reverter a normalização do X_test para comparar os valores das acções\n",
    "predictions = scaler.inverse_transform(predictions)"
   ]
  },
  {
   "cell_type": "code",
   "execution_count": 195,
   "metadata": {},
   "outputs": [],
   "source": [
    "# Reverter a normalização do y_test para comparar os valores das acções\n",
    "# Alterar a forma do array para poder reverter a normalização\n",
    "y_test_open = scaler.inverse_transform(y_test_open.reshape(-1,1))"
   ]
  },
  {
   "cell_type": "code",
   "execution_count": 196,
   "metadata": {},
   "outputs": [],
   "source": [
    "y_test_high = scaler.inverse_transform(y_test_high.reshape(-1,1))"
   ]
  },
  {
   "cell_type": "code",
   "execution_count": 197,
   "metadata": {},
   "outputs": [
    {
     "data": {
      "text/html": [
       "<div>\n",
       "<style scoped>\n",
       "    .dataframe tbody tr th:only-of-type {\n",
       "        vertical-align: middle;\n",
       "    }\n",
       "\n",
       "    .dataframe tbody tr th {\n",
       "        vertical-align: top;\n",
       "    }\n",
       "\n",
       "    .dataframe thead th {\n",
       "        text-align: right;\n",
       "    }\n",
       "</style>\n",
       "<table border=\"1\" class=\"dataframe\">\n",
       "  <thead>\n",
       "    <tr style=\"text-align: right;\">\n",
       "      <th></th>\n",
       "      <th>Predictions Open</th>\n",
       "      <th>y_test_open</th>\n",
       "    </tr>\n",
       "  </thead>\n",
       "  <tbody>\n",
       "    <tr>\n",
       "      <th>0</th>\n",
       "      <td>16.112314</td>\n",
       "      <td>16.190001</td>\n",
       "    </tr>\n",
       "    <tr>\n",
       "      <th>1</th>\n",
       "      <td>16.164841</td>\n",
       "      <td>16.490000</td>\n",
       "    </tr>\n",
       "    <tr>\n",
       "      <th>2</th>\n",
       "      <td>16.395468</td>\n",
       "      <td>16.780001</td>\n",
       "    </tr>\n",
       "    <tr>\n",
       "      <th>3</th>\n",
       "      <td>16.699278</td>\n",
       "      <td>16.700001</td>\n",
       "    </tr>\n",
       "    <tr>\n",
       "      <th>4</th>\n",
       "      <td>16.735205</td>\n",
       "      <td>16.740000</td>\n",
       "    </tr>\n",
       "  </tbody>\n",
       "</table>\n",
       "</div>"
      ],
      "text/plain": [
       "   Predictions Open  y_test_open\n",
       "0         16.112314    16.190001\n",
       "1         16.164841    16.490000\n",
       "2         16.395468    16.780001\n",
       "3         16.699278    16.700001\n",
       "4         16.735205    16.740000"
      ]
     },
     "execution_count": 197,
     "metadata": {},
     "output_type": "execute_result"
    }
   ],
   "source": [
    "pd.DataFrame({\"Predictions Open\": predictions[:,0], \"y_test_open\":y_test_open[:,0]}).head()"
   ]
  },
  {
   "cell_type": "code",
   "execution_count": 198,
   "metadata": {},
   "outputs": [
    {
     "data": {
      "text/html": [
       "<div>\n",
       "<style scoped>\n",
       "    .dataframe tbody tr th:only-of-type {\n",
       "        vertical-align: middle;\n",
       "    }\n",
       "\n",
       "    .dataframe tbody tr th {\n",
       "        vertical-align: top;\n",
       "    }\n",
       "\n",
       "    .dataframe thead th {\n",
       "        text-align: right;\n",
       "    }\n",
       "</style>\n",
       "<table border=\"1\" class=\"dataframe\">\n",
       "  <thead>\n",
       "    <tr style=\"text-align: right;\">\n",
       "      <th></th>\n",
       "      <th>Predictions High</th>\n",
       "      <th>y_test_high</th>\n",
       "    </tr>\n",
       "  </thead>\n",
       "  <tbody>\n",
       "    <tr>\n",
       "      <th>0</th>\n",
       "      <td>16.277990</td>\n",
       "      <td>16.549999</td>\n",
       "    </tr>\n",
       "    <tr>\n",
       "      <th>1</th>\n",
       "      <td>16.332066</td>\n",
       "      <td>16.719999</td>\n",
       "    </tr>\n",
       "    <tr>\n",
       "      <th>2</th>\n",
       "      <td>16.566010</td>\n",
       "      <td>16.959999</td>\n",
       "    </tr>\n",
       "    <tr>\n",
       "      <th>3</th>\n",
       "      <td>16.874109</td>\n",
       "      <td>16.860001</td>\n",
       "    </tr>\n",
       "    <tr>\n",
       "      <th>4</th>\n",
       "      <td>16.911707</td>\n",
       "      <td>17.030001</td>\n",
       "    </tr>\n",
       "  </tbody>\n",
       "</table>\n",
       "</div>"
      ],
      "text/plain": [
       "   Predictions High  y_test_high\n",
       "0         16.277990    16.549999\n",
       "1         16.332066    16.719999\n",
       "2         16.566010    16.959999\n",
       "3         16.874109    16.860001\n",
       "4         16.911707    17.030001"
      ]
     },
     "execution_count": 198,
     "metadata": {},
     "output_type": "execute_result"
    }
   ],
   "source": [
    "pd.DataFrame({\"Predictions High\": predictions[:,1], \"y_test_high\":y_test_high[:,0]}).head()"
   ]
  },
  {
   "cell_type": "markdown",
   "metadata": {},
   "source": [
    "### Avaliação do Modelo"
   ]
  },
  {
   "cell_type": "code",
   "execution_count": 199,
   "metadata": {},
   "outputs": [],
   "source": [
    "from sklearn import metrics"
   ]
  },
  {
   "cell_type": "code",
   "execution_count": 200,
   "metadata": {},
   "outputs": [
    {
     "name": "stdout",
     "output_type": "stream",
     "text": [
      "MAE 0.2464337527299364\n",
      "MSE 0.11771575061159859\n",
      "RMSE 0.3430972903005773\n"
     ]
    }
   ],
   "source": [
    "# O MSE é muito mais elevado porque penaliza os desvios grandes(são elevados ao quadrado).\n",
    "# O MAE de 1.26 significa que o preço das acções de abertura varia +- 1.26 reais. \n",
    "print(\"MAE\", metrics.mean_absolute_error(y_test_open, predictions[:,0]))\n",
    "print(\"MSE\", metrics.mean_squared_error(y_test_open, predictions[:,0]))\n",
    "print(\"RMSE\", np.sqrt(metrics.mean_squared_error(y_test_open, predictions[:,0])))"
   ]
  },
  {
   "cell_type": "code",
   "execution_count": 201,
   "metadata": {},
   "outputs": [
    {
     "name": "stdout",
     "output_type": "stream",
     "text": [
      "MAE 0.32574839430930425\n",
      "MSE 0.19493127846435082\n",
      "RMSE 0.44151022464304357\n"
     ]
    }
   ],
   "source": [
    "# O MSE é muito mais elevado porque penaliza os desvios grandes(são elevados ao quadrado).\n",
    "# O MAE de 1.26 significa que o preço máximo das acções varia +- 1.37 reais. \n",
    "print(\"MAE\", metrics.mean_absolute_error(y_test_high, predictions[:,1]))\n",
    "print(\"MSE\", metrics.mean_squared_error(y_test_high, predictions[:,1]))\n",
    "print(\"RMSE\", np.sqrt(metrics.mean_squared_error(y_test_high, predictions[:,1])))"
   ]
  },
  {
   "cell_type": "markdown",
   "metadata": {},
   "source": [
    "### Resíduos"
   ]
  },
  {
   "cell_type": "code",
   "execution_count": 202,
   "metadata": {},
   "outputs": [
    {
     "data": {
      "text/plain": [
       "Text(0.5, 0, 'y_test-predictions')"
      ]
     },
     "execution_count": 202,
     "metadata": {},
     "output_type": "execute_result"
    },
    {
     "data": {
      "image/png": "[encoded data removed]",
      "text/plain": [
       "<Figure size 720x360 with 1 Axes>"
      ]
     },
     "metadata": {
      "needs_background": "light"
     },
     "output_type": "display_data"
    }
   ],
   "source": [
    "# Histograma de Residuos \n",
    "# O gráfico não parece aproximar-se de uma distriuição normal, onde os residuos são proximos de zero.\n",
    "\n",
    "plt.figure(figsize=(10,5))\n",
    "sns.distplot(y_test_open[:,0]-predictions[:,0])\n",
    "plt.xlabel(\"y_test-predictions\")"
   ]
  },
  {
   "cell_type": "markdown",
   "metadata": {},
   "source": [
    "### Gráfico preço real vs preço previsto"
   ]
  },
  {
   "cell_type": "code",
   "execution_count": 207,
   "metadata": {},
   "outputs": [
    {
     "data": {
      "image/png": "[encoded data removed]",
      "text/plain": [
       "<Figure size 864x432 with 1 Axes>"
      ]
     },
     "metadata": {
      "needs_background": "light"
     },
     "output_type": "display_data"
    }
   ],
   "source": [
    "plt.figure(figsize=(12,6))\n",
    "plt.plot(predictions[:,0], color=\"red\", label=\"preço abertura previsto\")\n",
    "plt.plot(y_test_open, color=\"blue\", label=\"preço abertura real\")\n",
    "\n",
    "plt.plot(predictions[:,1], color=\"green\", label=\"preço máximo previsto\")\n",
    "plt.plot(y_test_high, color=\"yellow\", label=\"preço máximo real\")\n",
    "\n",
    "plt.title(\"Preço das acções\")\n",
    "plt.xlabel(\"Tempo\")\n",
    "plt.ylabel(\"Preço\")\n",
    "plt.legend()\n",
    "plt.show()"
   ]
  },
  {
   "cell_type": "code",
   "execution_count": null,
   "metadata": {},
   "outputs": [],
   "source": []
  }
 ],
 "metadata": {
  "kernelspec": {
   "display_name": "Python 3",
   "language": "python",
   "name": "python3"
  },
  "language_info": {
   "codemirror_mode": {
    "name": "ipython",
    "version": 3
   },
   "file_extension": ".py",
   "mimetype": "text/x-python",
   "name": "python",
   "nbconvert_exporter": "python",
   "pygments_lexer": "ipython3",
   "version": "3.7.3"
  }
 },
 "nbformat": 4,
 "nbformat_minor": 2
}
