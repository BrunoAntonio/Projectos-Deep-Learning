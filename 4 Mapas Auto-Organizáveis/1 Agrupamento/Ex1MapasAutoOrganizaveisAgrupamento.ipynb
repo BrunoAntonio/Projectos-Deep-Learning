{
 "cells": [
  {
   "cell_type": "markdown",
   "metadata": {},
   "source": [
    "# Mapas Auto-Organizáveis(SOM) - Agrupamento"
   ]
  },
  {
   "cell_type": "code",
   "execution_count": 2,
   "metadata": {},
   "outputs": [],
   "source": [
    "import pandas as pd\n",
    "from minisom import MiniSom"
   ]
  },
  {
   "cell_type": "markdown",
   "metadata": {},
   "source": [
    "## Obter os dados"
   ]
  },
  {
   "cell_type": "code",
   "execution_count": 3,
   "metadata": {},
   "outputs": [],
   "source": [
    "base = pd.read_csv(\"wines.csv\")"
   ]
  },
  {
   "cell_type": "code",
   "execution_count": 4,
   "metadata": {},
   "outputs": [
    {
     "data": {
      "text/html": [
       "<div>\n",
       "<style scoped>\n",
       "    .dataframe tbody tr th:only-of-type {\n",
       "        vertical-align: middle;\n",
       "    }\n",
       "\n",
       "    .dataframe tbody tr th {\n",
       "        vertical-align: top;\n",
       "    }\n",
       "\n",
       "    .dataframe thead th {\n",
       "        text-align: right;\n",
       "    }\n",
       "</style>\n",
       "<table border=\"1\" class=\"dataframe\">\n",
       "  <thead>\n",
       "    <tr style=\"text-align: right;\">\n",
       "      <th></th>\n",
       "      <th>Class</th>\n",
       "      <th>Alcohol</th>\n",
       "      <th>Malic acid</th>\n",
       "      <th>Ash</th>\n",
       "      <th>Alcalinity of ash</th>\n",
       "      <th>Magnesium</th>\n",
       "      <th>Total phenols</th>\n",
       "      <th>Flavanoids</th>\n",
       "      <th>Nonflavanoid phenols</th>\n",
       "      <th>Proanthocyanins</th>\n",
       "      <th>Color intensity</th>\n",
       "      <th>Hue</th>\n",
       "      <th>OD280/OD315 of diluted wines</th>\n",
       "      <th>Proline</th>\n",
       "    </tr>\n",
       "  </thead>\n",
       "  <tbody>\n",
       "    <tr>\n",
       "      <th>0</th>\n",
       "      <td>1</td>\n",
       "      <td>14.23</td>\n",
       "      <td>1.71</td>\n",
       "      <td>2.43</td>\n",
       "      <td>15.6</td>\n",
       "      <td>127</td>\n",
       "      <td>2.80</td>\n",
       "      <td>3.06</td>\n",
       "      <td>0.28</td>\n",
       "      <td>2.29</td>\n",
       "      <td>5.64</td>\n",
       "      <td>1.04</td>\n",
       "      <td>3.92</td>\n",
       "      <td>1065</td>\n",
       "    </tr>\n",
       "    <tr>\n",
       "      <th>1</th>\n",
       "      <td>1</td>\n",
       "      <td>13.20</td>\n",
       "      <td>1.78</td>\n",
       "      <td>2.14</td>\n",
       "      <td>11.2</td>\n",
       "      <td>100</td>\n",
       "      <td>2.65</td>\n",
       "      <td>2.76</td>\n",
       "      <td>0.26</td>\n",
       "      <td>1.28</td>\n",
       "      <td>4.38</td>\n",
       "      <td>1.05</td>\n",
       "      <td>3.40</td>\n",
       "      <td>1050</td>\n",
       "    </tr>\n",
       "  </tbody>\n",
       "</table>\n",
       "</div>"
      ],
      "text/plain": [
       "   Class  Alcohol  Malic acid   Ash   Alcalinity of ash  Magnesium  \\\n",
       "0      1    14.23        1.71  2.43                15.6        127   \n",
       "1      1    13.20        1.78  2.14                11.2        100   \n",
       "\n",
       "   Total phenols  Flavanoids  Nonflavanoid phenols  Proanthocyanins  \\\n",
       "0           2.80        3.06                  0.28             2.29   \n",
       "1           2.65        2.76                  0.26             1.28   \n",
       "\n",
       "   Color intensity   Hue  OD280/OD315 of diluted wines  Proline  \n",
       "0             5.64  1.04                          3.92     1065  \n",
       "1             4.38  1.05                          3.40     1050  "
      ]
     },
     "execution_count": 4,
     "metadata": {},
     "output_type": "execute_result"
    }
   ],
   "source": [
    "base.head(2)"
   ]
  },
  {
   "cell_type": "markdown",
   "metadata": {},
   "source": [
    "## Divisão dos dados"
   ]
  },
  {
   "cell_type": "code",
   "execution_count": 5,
   "metadata": {},
   "outputs": [],
   "source": [
    "# Como é um problema de agrupamento não-supervisionado apenas não se vai utilizar a variavel Class.\n",
    "X = base.drop([\"Class\"] , axis=1)"
   ]
  },
  {
   "cell_type": "code",
   "execution_count": 6,
   "metadata": {},
   "outputs": [
    {
     "data": {
      "text/plain": [
       "(178, 13)"
      ]
     },
     "execution_count": 6,
     "metadata": {},
     "output_type": "execute_result"
    }
   ],
   "source": [
    "X.shape"
   ]
  },
  {
   "cell_type": "code",
   "execution_count": 7,
   "metadata": {},
   "outputs": [
    {
     "data": {
      "text/html": [
       "<div>\n",
       "<style scoped>\n",
       "    .dataframe tbody tr th:only-of-type {\n",
       "        vertical-align: middle;\n",
       "    }\n",
       "\n",
       "    .dataframe tbody tr th {\n",
       "        vertical-align: top;\n",
       "    }\n",
       "\n",
       "    .dataframe thead th {\n",
       "        text-align: right;\n",
       "    }\n",
       "</style>\n",
       "<table border=\"1\" class=\"dataframe\">\n",
       "  <thead>\n",
       "    <tr style=\"text-align: right;\">\n",
       "      <th></th>\n",
       "      <th>Alcohol</th>\n",
       "      <th>Malic acid</th>\n",
       "      <th>Ash</th>\n",
       "      <th>Alcalinity of ash</th>\n",
       "      <th>Magnesium</th>\n",
       "      <th>Total phenols</th>\n",
       "      <th>Flavanoids</th>\n",
       "      <th>Nonflavanoid phenols</th>\n",
       "      <th>Proanthocyanins</th>\n",
       "      <th>Color intensity</th>\n",
       "      <th>Hue</th>\n",
       "      <th>OD280/OD315 of diluted wines</th>\n",
       "      <th>Proline</th>\n",
       "    </tr>\n",
       "  </thead>\n",
       "  <tbody>\n",
       "    <tr>\n",
       "      <th>0</th>\n",
       "      <td>14.23</td>\n",
       "      <td>1.71</td>\n",
       "      <td>2.43</td>\n",
       "      <td>15.6</td>\n",
       "      <td>127</td>\n",
       "      <td>2.80</td>\n",
       "      <td>3.06</td>\n",
       "      <td>0.28</td>\n",
       "      <td>2.29</td>\n",
       "      <td>5.64</td>\n",
       "      <td>1.04</td>\n",
       "      <td>3.92</td>\n",
       "      <td>1065</td>\n",
       "    </tr>\n",
       "    <tr>\n",
       "      <th>1</th>\n",
       "      <td>13.20</td>\n",
       "      <td>1.78</td>\n",
       "      <td>2.14</td>\n",
       "      <td>11.2</td>\n",
       "      <td>100</td>\n",
       "      <td>2.65</td>\n",
       "      <td>2.76</td>\n",
       "      <td>0.26</td>\n",
       "      <td>1.28</td>\n",
       "      <td>4.38</td>\n",
       "      <td>1.05</td>\n",
       "      <td>3.40</td>\n",
       "      <td>1050</td>\n",
       "    </tr>\n",
       "  </tbody>\n",
       "</table>\n",
       "</div>"
      ],
      "text/plain": [
       "   Alcohol  Malic acid   Ash   Alcalinity of ash  Magnesium  Total phenols  \\\n",
       "0    14.23        1.71  2.43                15.6        127           2.80   \n",
       "1    13.20        1.78  2.14                11.2        100           2.65   \n",
       "\n",
       "   Flavanoids  Nonflavanoid phenols  Proanthocyanins  Color intensity   Hue  \\\n",
       "0        3.06                  0.28             2.29             5.64  1.04   \n",
       "1        2.76                  0.26             1.28             4.38  1.05   \n",
       "\n",
       "   OD280/OD315 of diluted wines  Proline  \n",
       "0                          3.92     1065  \n",
       "1                          3.40     1050  "
      ]
     },
     "execution_count": 7,
     "metadata": {},
     "output_type": "execute_result"
    }
   ],
   "source": [
    "X.head(2)"
   ]
  },
  {
   "cell_type": "code",
   "execution_count": 8,
   "metadata": {},
   "outputs": [],
   "source": [
    "y = base[\"Class\"]"
   ]
  },
  {
   "cell_type": "code",
   "execution_count": 9,
   "metadata": {},
   "outputs": [
    {
     "data": {
      "text/plain": [
       "0    1\n",
       "1    1\n",
       "Name: Class, dtype: int64"
      ]
     },
     "execution_count": 9,
     "metadata": {},
     "output_type": "execute_result"
    }
   ],
   "source": [
    "y.head(2)"
   ]
  },
  {
   "cell_type": "code",
   "execution_count": 10,
   "metadata": {},
   "outputs": [
    {
     "data": {
      "text/plain": [
       "2    71\n",
       "1    59\n",
       "3    48\n",
       "Name: Class, dtype: int64"
      ]
     },
     "execution_count": 10,
     "metadata": {},
     "output_type": "execute_result"
    }
   ],
   "source": [
    "y.value_counts()"
   ]
  },
  {
   "cell_type": "markdown",
   "metadata": {},
   "source": [
    "## Pré-Processamento dos dados- Normalização das Variaveis"
   ]
  },
  {
   "cell_type": "code",
   "execution_count": 11,
   "metadata": {},
   "outputs": [],
   "source": [
    "from sklearn.preprocessing import MinMaxScaler"
   ]
  },
  {
   "cell_type": "code",
   "execution_count": 12,
   "metadata": {},
   "outputs": [],
   "source": [
    "# Passar os dados de entrada para uma escala de 0 a 1 para que o processamento dos dados seja mais rapido e tambem para não \n",
    "# haver variaveis que pela sua escala tenham mais influência no modelo(para não haver variáveis dominantes).\n",
    "scaler = MinMaxScaler(feature_range=(0,1))"
   ]
  },
  {
   "cell_type": "code",
   "execution_count": 13,
   "metadata": {},
   "outputs": [
    {
     "name": "stderr",
     "output_type": "stream",
     "text": [
      "C:\\Users\\Bruno\\Anaconda3\\lib\\site-packages\\sklearn\\preprocessing\\data.py:334: DataConversionWarning: Data with input dtype int64, float64 were all converted to float64 by MinMaxScaler.\n",
      "  return self.partial_fit(X, y)\n"
     ]
    },
    {
     "data": {
      "text/plain": [
       "MinMaxScaler(copy=True, feature_range=(0, 1))"
      ]
     },
     "execution_count": 13,
     "metadata": {},
     "output_type": "execute_result"
    }
   ],
   "source": [
    "# Ajustar a variavel X para fazer a sua normalização.\n",
    "scaler.fit(X)"
   ]
  },
  {
   "cell_type": "code",
   "execution_count": 14,
   "metadata": {},
   "outputs": [],
   "source": [
    "# Normalização da variavel X.\n",
    "X = scaler.transform(X)"
   ]
  },
  {
   "cell_type": "markdown",
   "metadata": {},
   "source": [
    "## Modelo do Mapa Auto-Organizável"
   ]
  },
  {
   "cell_type": "code",
   "execution_count": 15,
   "metadata": {},
   "outputs": [],
   "source": [
    "# Algoritmo utilizado para agrupamento(como o k-means) que utiliza redes neurais. Tambem pode ser utilizado para redução de\n",
    "# dimensionalidade\n",
    "\n",
    "# Tem uma camada de entrada(com os atributos de entrada) directamente ligada a camada de saida. Cada neuronio da camada\n",
    "# de entrada está directamente ligado a todos os neuronios da camada de saida(rede neural densa). A camada  de saida é uma \n",
    "# matriz.\n",
    "\n",
    "# Calculo do tamanho da matriz de saida (SOM-self organizing map):5xsqr(N), sendo N o nº de registros.\n",
    "# Por exemplo para 178 registros: 5xsqr(178) = 65,65 celulas = matriz 8x8.\n",
    "\n",
    "# A diferença para as redes neurais tradicionais reside no facto de não haverem cadamas ocultas nem se utilizar funções de \n",
    "# activação, nem se multiplicam os valores de entrada pelos pesos.\n",
    "# Nos mapas auto organizáveis os pesos representam o valor do atributo da camada de entrada.\n",
    "# por exemplo: \n",
    "# 1º registro: idade:21, salario: 1800\n",
    "# 2 registro: idadde:20, salario: 1500\n",
    "# Os pesos apenas representam nós. Por exemplo numa camada de entrada com 2 atributos. No nó 1(neuronio 1) da camada de saida\n",
    "# tem-se o valor do peso 1, relacionado com o 1º atributo do 1º registro e o valor do peso 2, relacionado com o 2º atributo do\n",
    "# 1º registro. Nó 1: (P1,1:P1,2). \n",
    "# No nó 2(neuronio 2) da camada de saida tem-se o valor do peso 1, relacionado com o 1º atributo do 2º registro e o valor do \n",
    "# peso 2, relacionado com o 2º atributo do 2º registro. Nó 2: (P2,1:P2,2).\n",
    "\n",
    "# 1º)----------------------------------------------------------------------------------------\n",
    "# Os nós sao inicializados aleatoriamente: pr ex. Nó 1: (30,3000) e Nó 2: (15,1000).\n",
    "# Calcula-se a distancia eucladiana entre cada registro da base de dados e cada nó inicializado aleatoriamente(como no k-means\n",
    "# com os registros da base de dados a funcionar de centrides).\n",
    "# Para o 1º registro e nó 1: sqr(21-30)^2+(1800-3000)^2=0.22\n",
    "# Para o 1º registro e nó 2: sqr(21-15)^2+(1800-1000)^2=0.10\n",
    "# Para o 2º registro e nó 1: sqr(20-30)^2+(1500-3000)^2\n",
    "# Para o 2º registro e nó 2: sqr(20-15)^2+(1500-1000)^2\n",
    "\n",
    "# 2º)----------------------------------------------------------------------------------------------------------\n",
    "# Selecciona-se o nó(ponto) que está mais proximo(mais semelhante) de cada registro e atribui-se o nome de BMU-best match unit\n",
    "# Para o 1º registro seria o nó 2(distancia de 0.10).\n",
    "\n",
    "# 3º)---------------------------------------------------------------------------------------------------------\n",
    "# De seguida para os nós que não forem escolhidos para BMU cacula-se a distancia eucladiana entre esse nó e os BMU existentes. \n",
    "# Considera-se que esse nó pertence ao agrupamento do BMU que estiver mais proximo.\n",
    "\n",
    "# Um registro da base de dados pode estar associado a somente um BMU, mas um BMU pode estar associado a vários registros\n",
    "\n",
    "# 4º)---------------------------------------------------------------------------------------------------------------\n",
    "# A aprendizagem do modelo é feita aproximando o valor dos BMU dos registros de entrada(inicialmente os valores dos BMU foram\n",
    "# obtidos através da inicialização aleatoria dos pesos).\n",
    "# Ao se aproximar os valores dos BMU aos registros de entrada , tambem se está a aproximar os nós restantes (que não foram \n",
    "# escolhidos para BMU) aos seus valores de entrada.\n",
    "\n",
    "# Esta aproximação entre o BMU e o registro é feita obtendo a diferença entre os dois valores e incrementando uma parcela desta\n",
    "# diferença no BMU ponderada por um fator chamado de taxa de aprendizagem que tem como objectivo suavizar o processo de ajuste \n",
    "# dos neurônios nos dados. Obtem-se assim o novo valor do nó para os BMU.\n",
    "# n,novo = n+a*(d-n)\n",
    "# Onde: \n",
    "# n,novo: é o novo valor neurónio do BMU\n",
    "# n: é o valor do neuronio do BMU\n",
    "# a: taxa de aprendizagem\n",
    "# d: registro\n",
    "# n: neuronio BMU\n",
    "\n",
    "# Se a=0.5, n,novo = (n+d)/2. A nova posição de n é a media da sua antiga posição com a posição do registro.\n",
    "# Se a=1, n,novo=d. A nova posição de n é a mesma possição do registro.\n",
    "\n",
    "# 5º)------------------------------------------------------------------------------------------------------------------\n",
    "# De seguida também os pontos vizinhos são aproximados do BMU. Na atualização dos vizinhos será considerado mais um fator de \n",
    "# ponderação descrito por uma função chamada função de vizinhança, que produzirá valores menores quando o BMU e o neuronio \n",
    "# vizinho forem mais distantes no espaço matricial (látice). Obtem-se o novo valor do nó para os pontos vizinhos dos BMU.\n",
    "\n",
    "# Na maioria dos casos ainda existe mais um parâmetro destas funções que é o raio que aumenta ou diminui os valores da função\n",
    "# de vizinhança.\n",
    "\n",
    "# n,novo = nv,novo = nv+a*(nBMU, nv)a*(d-nv)\n",
    "# Onde: \n",
    "# nv,novo: é o novo valor do neurónio de vizinhança\n",
    "# nv: é o valor do neuronio de vizinhança\n",
    "# a*(nBMU, nv): função de vizinhança\n",
    "# a: taxa de aprendizagem\n",
    "# d: registro\n",
    "# n: neuronio de vizinhança\n",
    "\n",
    "# 6º)------------------------------------------------------------------------------------------------------------------------\n",
    "# De seguida volta-se a repetir os passos iterativamente começando por calcular a distancia eucladiana entre cada registro da \n",
    "# base de dados e cada nó(com os valores dos nós obtidos na iteração anterior).\n",
    "# No número de epocas define-se quantas vezes se vai fazer o ajuste dos pesos.\n",
    "\n",
    "# Inicializar os pesos, criar os nós para cada célula/neurônio, calcular a distância de cada registro para nó e escolher o \n",
    "# neurônio BMU. De seguida trazer os neurônios para mais perto da camada de entrada.\n",
    "\n",
    "#------------------------------------------------------------------------------------------------------------------------------\n",
    "# x: numero de linhas da matriz de saida\n",
    "# y: numero de colunas da matriz de saida\n",
    "# input_ten: numero de variaveis de entrada\n",
    "# sigma: Alcançe do raio traçado com o centro nos BMU e utilizado para a actualização dos seus vizinhos. \n",
    "# learning_rate: taxa de aprendizagem utilizada para a actualização do BMU e aproximação do seu valor ao valor do registro (e\n",
    "# consequente actualização dos valores vizinhos).\n",
    "# random_seed: Obter sempre o mesmo resultado para o modelo. A inicialização dos pesos tem sempre o mesmo valor.\n",
    "\n",
    "# ransom_weights_init: Inicialização dos pesos da base de dados\n",
    "# train_random: Treinar o modelo (num_iteration = número de epocas)\n",
    "\n",
    "\n",
    "model = MiniSom(x=8, y=8, input_len=13, sigma=1, learning_rate=0.5, random_seed=2)\n",
    "model.random_weights_init(X)\n",
    "model.train_random(data=X, num_iteration=100)"
   ]
  },
  {
   "cell_type": "code",
   "execution_count": 16,
   "metadata": {},
   "outputs": [
    {
     "data": {
      "text/plain": [
       "array([[[0.69716149, 0.21460463, 0.60149763, 0.37662437, 0.34197589,\n",
       "         0.70656761, 0.59058384, 0.4177878 , 0.55295134, 0.34556729,\n",
       "         0.59542857, 0.65019771, 0.57136806],\n",
       "        [0.7726402 , 0.30966936, 0.57369301, 0.35737434, 0.3641168 ,\n",
       "         0.65972661, 0.56611775, 0.33971509, 0.52344021, 0.35007362,\n",
       "         0.48229736, 0.67074591, 0.57805005],\n",
       "        [0.65950019, 0.28013973, 0.61054095, 0.39770058, 0.37674389,\n",
       "         0.55744829, 0.4525994 , 0.42489874, 0.45126839, 0.29814223,\n",
       "         0.44370938, 0.60352009, 0.47271412],\n",
       "        [0.52751279, 0.36655544, 0.73740293, 0.58142833, 0.42930012,\n",
       "         0.54630863, 0.5235049 , 0.47588938, 0.44357238, 0.26419441,\n",
       "         0.43858028, 0.6776546 , 0.34908052],\n",
       "        [0.57906345, 0.45779776, 0.66743599, 0.56730682, 0.36250116,\n",
       "         0.43041549, 0.35491897, 0.54451787, 0.40457222, 0.29214094,\n",
       "         0.3848655 , 0.51226712, 0.30468309],\n",
       "        [0.62677491, 0.52017645, 0.61398718, 0.58811459, 0.29332693,\n",
       "         0.34167407, 0.18026006, 0.59696177, 0.3574424 , 0.53305179,\n",
       "         0.20143693, 0.28258312, 0.24613174],\n",
       "        [0.63213661, 0.48023021, 0.622508  , 0.61398481, 0.34623994,\n",
       "         0.2860755 , 0.13979013, 0.50197439, 0.30749109, 0.69302007,\n",
       "         0.13195613, 0.15415196, 0.23849674],\n",
       "        [0.55333597, 0.48170493, 0.63871251, 0.6462903 , 0.38679553,\n",
       "         0.22599012, 0.15068624, 0.342195  , 0.23691083, 0.64091962,\n",
       "         0.12004684, 0.11851528, 0.20887253]],\n",
       "\n",
       "       [[0.81717399, 0.20464506, 0.58172992, 0.24560373, 0.38325563,\n",
       "         0.77320068, 0.65110514, 0.37342395, 0.54991562, 0.43466357,\n",
       "         0.51558467, 0.67015484, 0.68867972],\n",
       "        [0.78228025, 0.24543146, 0.5725509 , 0.28932272, 0.40926375,\n",
       "         0.68169368, 0.58744834, 0.32788714, 0.52004685, 0.39255555,\n",
       "         0.47718788, 0.73604122, 0.60104704],\n",
       "        [0.68818613, 0.35085925, 0.58829968, 0.34468987, 0.40694024,\n",
       "         0.57261086, 0.51109594, 0.25789314, 0.45456497, 0.32301015,\n",
       "         0.43128311, 0.72388254, 0.47505607],\n",
       "        [0.57114139, 0.49047107, 0.62362249, 0.45638332, 0.36436803,\n",
       "         0.50275408, 0.437011  , 0.34866467, 0.42258886, 0.26936859,\n",
       "         0.41367051, 0.67077388, 0.37390681],\n",
       "        [0.51407202, 0.52903562, 0.64601654, 0.57465677, 0.32546484,\n",
       "         0.42594   , 0.35040243, 0.47892757, 0.38989679, 0.28593416,\n",
       "         0.34999091, 0.54140864, 0.26799807],\n",
       "        [0.58574757, 0.57831846, 0.61286185, 0.5900402 , 0.28690973,\n",
       "         0.32518432, 0.16377143, 0.62136775, 0.31659776, 0.51599848,\n",
       "         0.18794761, 0.26620164, 0.23291923],\n",
       "        [0.60922192, 0.57581099, 0.58828204, 0.5731838 , 0.3343717 ,\n",
       "         0.27708079, 0.10316312, 0.61954736, 0.27927898, 0.65342912,\n",
       "         0.12765698, 0.14822827, 0.25943167],\n",
       "        [0.56815995, 0.50342973, 0.60441563, 0.57491957, 0.3389152 ,\n",
       "         0.23654667, 0.1107584 , 0.53529084, 0.22392241, 0.61870539,\n",
       "         0.1513344 , 0.15517669, 0.22793857]],\n",
       "\n",
       "       [[0.74302537, 0.20029123, 0.55517526, 0.28323885, 0.39755056,\n",
       "         0.66799256, 0.57249498, 0.31970493, 0.47205506, 0.40895324,\n",
       "         0.4682771 , 0.6899925 , 0.67723153],\n",
       "        [0.75551942, 0.23661256, 0.56196925, 0.27358084, 0.44603092,\n",
       "         0.64499846, 0.56958426, 0.25148444, 0.48793069, 0.39083776,\n",
       "         0.45270355, 0.79279402, 0.58425107],\n",
       "        [0.67725433, 0.3814127 , 0.58150411, 0.29316093, 0.42932621,\n",
       "         0.58371116, 0.53247915, 0.19077549, 0.4441042 , 0.33262589,\n",
       "         0.42121841, 0.77442904, 0.45094763],\n",
       "        [0.57237109, 0.47958545, 0.58114031, 0.3808141 , 0.35175512,\n",
       "         0.52524733, 0.47581339, 0.24439268, 0.43014299, 0.28003388,\n",
       "         0.42723741, 0.72355454, 0.3952834 ],\n",
       "        [0.49189225, 0.49928829, 0.5666836 , 0.46874751, 0.31498964,\n",
       "         0.43340937, 0.37059301, 0.36962924, 0.38298819, 0.277818  ,\n",
       "         0.39645647, 0.57474766, 0.29231665],\n",
       "        [0.50560818, 0.57253797, 0.56085808, 0.54247384, 0.27640071,\n",
       "         0.34244247, 0.19561116, 0.57552114, 0.29306032, 0.41466666,\n",
       "         0.23094643, 0.30037558, 0.21373051],\n",
       "        [0.53239559, 0.60942419, 0.57100432, 0.54424623, 0.2848868 ,\n",
       "         0.28295682, 0.09870549, 0.6854239 , 0.23922096, 0.49090102,\n",
       "         0.16946591, 0.19578927, 0.243664  ],\n",
       "        [0.54525023, 0.50553992, 0.58739115, 0.51303182, 0.30724327,\n",
       "         0.22236239, 0.0786571 , 0.66450918, 0.18862294, 0.4249811 ,\n",
       "         0.21585415, 0.22496689, 0.2423208 ]],\n",
       "\n",
       "       [[0.67207827, 0.19175103, 0.51158018, 0.28875774, 0.35519837,\n",
       "         0.58722904, 0.50484254, 0.28362187, 0.37998148, 0.32746956,\n",
       "         0.44005505, 0.6856719 , 0.60998939],\n",
       "        [0.68284983, 0.21366683, 0.51730602, 0.28579639, 0.38267011,\n",
       "         0.60024141, 0.52276857, 0.26375199, 0.44562452, 0.35197315,\n",
       "         0.44468213, 0.74825755, 0.52807869],\n",
       "        [0.58602896, 0.30739791, 0.49065415, 0.31269602, 0.33966374,\n",
       "         0.5644127 , 0.50743052, 0.23992856, 0.45439309, 0.28877745,\n",
       "         0.48294327, 0.73194751, 0.37903447],\n",
       "        [0.46391934, 0.36972916, 0.46172832, 0.36544534, 0.27976193,\n",
       "         0.51654943, 0.45607211, 0.28901126, 0.44322232, 0.22565473,\n",
       "         0.51211687, 0.66182274, 0.2828587 ],\n",
       "        [0.4195099 , 0.3708847 , 0.47298582, 0.41887318, 0.29086195,\n",
       "         0.43004047, 0.3748371 , 0.35486369, 0.38018973, 0.24067097,\n",
       "         0.47824292, 0.55098532, 0.24685032],\n",
       "        [0.39383349, 0.42670541, 0.4924724 , 0.45982865, 0.30935968,\n",
       "         0.31873819, 0.23167874, 0.51751105, 0.27638632, 0.3081655 ,\n",
       "         0.3665041 , 0.35236042, 0.18660094],\n",
       "        [0.44397559, 0.45707268, 0.51004354, 0.46351932, 0.30864214,\n",
       "         0.28403673, 0.16389965, 0.57265751, 0.23811179, 0.34207464,\n",
       "         0.29288597, 0.32768091, 0.23056441],\n",
       "        [0.48618937, 0.41356535, 0.55461105, 0.47142237, 0.3005989 ,\n",
       "         0.26157445, 0.14656841, 0.54246381, 0.20188568, 0.33264287,\n",
       "         0.29132561, 0.37675126, 0.27907659]],\n",
       "\n",
       "       [[0.5960199 , 0.25966183, 0.48211326, 0.35378789, 0.34623549,\n",
       "         0.48088705, 0.43428725, 0.28850735, 0.34629027, 0.36210555,\n",
       "         0.38367678, 0.58430102, 0.42370295],\n",
       "        [0.55967123, 0.19819856, 0.43277889, 0.33158851, 0.27769317,\n",
       "         0.53121389, 0.45872222, 0.28341705, 0.41003442, 0.29009547,\n",
       "         0.47295036, 0.66943027, 0.34986895],\n",
       "        [0.44865532, 0.21532865, 0.37619935, 0.33895714, 0.22869865,\n",
       "         0.53328129, 0.47034383, 0.2955795 , 0.45865624, 0.21346286,\n",
       "         0.56125149, 0.66071715, 0.23087246],\n",
       "        [0.36440706, 0.27934533, 0.38001408, 0.35454749, 0.21707407,\n",
       "         0.51396101, 0.44472886, 0.32455577, 0.46567803, 0.15396245,\n",
       "         0.59366964, 0.62883883, 0.15798281],\n",
       "        [0.32830772, 0.26177468, 0.41760285, 0.38204061, 0.26332963,\n",
       "         0.42174556, 0.37581114, 0.41558709, 0.36621649, 0.1723835 ,\n",
       "         0.57627031, 0.52921336, 0.16453591],\n",
       "        [0.2760212 , 0.26858338, 0.49619898, 0.40796944, 0.34146896,\n",
       "         0.30085623, 0.28269127, 0.54015867, 0.24015692, 0.18270052,\n",
       "         0.55259744, 0.40712409, 0.14062121],\n",
       "        [0.2868523 , 0.33754034, 0.49825229, 0.41394548, 0.36571486,\n",
       "         0.26911616, 0.23820313, 0.51583226, 0.23660063, 0.1892432 ,\n",
       "         0.45293557, 0.41446684, 0.17618709],\n",
       "        [0.37291499, 0.29975919, 0.51299428, 0.43386067, 0.35888444,\n",
       "         0.26537832, 0.23644703, 0.45833079, 0.2584709 , 0.21394652,\n",
       "         0.38883206, 0.41223426, 0.27696096]],\n",
       "\n",
       "       [[0.42373497, 0.1494787 , 0.39149981, 0.45037695, 0.23507563,\n",
       "         0.48608931, 0.38667869, 0.32472361, 0.37796995, 0.18811003,\n",
       "         0.4111294 , 0.65444639, 0.1832367 ],\n",
       "        [0.42705209, 0.15195416, 0.41589382, 0.43455995, 0.22475773,\n",
       "         0.49094424, 0.40429932, 0.26478312, 0.35388154, 0.20048487,\n",
       "         0.48695783, 0.66261865, 0.23351617],\n",
       "        [0.41716315, 0.16065475, 0.38509975, 0.40051007, 0.22093808,\n",
       "         0.49559472, 0.42018556, 0.29329205, 0.38796594, 0.19125185,\n",
       "         0.5396812 , 0.65174175, 0.19504135],\n",
       "        [0.37256204, 0.2209683 , 0.38906499, 0.39450853, 0.2285239 ,\n",
       "         0.45753013, 0.40917454, 0.36282127, 0.39865236, 0.16704262,\n",
       "         0.56070664, 0.60129822, 0.16019446],\n",
       "        [0.30284102, 0.22616084, 0.48570201, 0.43773161, 0.27510752,\n",
       "         0.35748417, 0.34068254, 0.52663951, 0.30761361, 0.17041426,\n",
       "         0.58367545, 0.50338303, 0.13031887],\n",
       "        [0.25306131, 0.22818842, 0.59377246, 0.4732697 , 0.32140597,\n",
       "         0.30382623, 0.30283549, 0.62067621, 0.24949138, 0.16490459,\n",
       "         0.64375916, 0.43996216, 0.13079065],\n",
       "        [0.25602883, 0.23367318, 0.53324271, 0.44925334, 0.33421263,\n",
       "         0.26966602, 0.27224124, 0.55046331, 0.26523154, 0.15520508,\n",
       "         0.52901933, 0.41707923, 0.15357835],\n",
       "        [0.30808786, 0.2610466 , 0.47974086, 0.44298228, 0.31166543,\n",
       "         0.24062089, 0.21387624, 0.49803509, 0.29666386, 0.18444861,\n",
       "         0.37959878, 0.3786064 , 0.21926644]],\n",
       "\n",
       "       [[0.47077479, 0.21713662, 0.50573613, 0.55191004, 0.20876233,\n",
       "         0.52157395, 0.30588487, 0.39653031, 0.3868338 , 0.37341869,\n",
       "         0.30528302, 0.49322308, 0.19456025],\n",
       "        [0.42329163, 0.18597296, 0.43862529, 0.4985181 , 0.24140956,\n",
       "         0.56243586, 0.40889777, 0.21806464, 0.33214371, 0.17848917,\n",
       "         0.41552846, 0.65029169, 0.22796078],\n",
       "        [0.44211162, 0.17343906, 0.45351692, 0.51326192, 0.25266112,\n",
       "         0.48688004, 0.38473235, 0.30973816, 0.30758846, 0.17517752,\n",
       "         0.46385956, 0.62646618, 0.2003899 ],\n",
       "        [0.40355097, 0.20934722, 0.44397253, 0.50908233, 0.24090465,\n",
       "         0.38200804, 0.34552637, 0.45426241, 0.3278404 , 0.19120399,\n",
       "         0.43856505, 0.57511295, 0.14395937],\n",
       "        [0.2951737 , 0.21376166, 0.50336017, 0.53245969, 0.23619566,\n",
       "         0.32556209, 0.32508267, 0.61616256, 0.32957296, 0.14457584,\n",
       "         0.51109029, 0.56497074, 0.10538035],\n",
       "        [0.21497809, 0.18767095, 0.55320905, 0.54974466, 0.24203342,\n",
       "         0.33900334, 0.31100374, 0.61711452, 0.33742028, 0.13173817,\n",
       "         0.62646835, 0.52993812, 0.12495595],\n",
       "        [0.23440837, 0.15204485, 0.54748161, 0.49222448, 0.26892517,\n",
       "         0.3281722 , 0.3049069 , 0.50011635, 0.35860406, 0.14381307,\n",
       "         0.50355006, 0.50307563, 0.15393663],\n",
       "        [0.28822487, 0.12416479, 0.5452654 , 0.4423942 , 0.298572  ,\n",
       "         0.39126679, 0.34706989, 0.3588599 , 0.4440479 , 0.17503006,\n",
       "         0.37448279, 0.5381529 , 0.23637825]],\n",
       "\n",
       "       [[0.32981926, 0.38990047, 0.38975978, 0.4931596 , 0.19073944,\n",
       "         0.43770021, 0.33630487, 0.3508434 , 0.35873711, 0.06225945,\n",
       "         0.36990698, 0.62877793, 0.15215418],\n",
       "        [0.37108272, 0.2617335 , 0.43617573, 0.54849926, 0.1944875 ,\n",
       "         0.51520021, 0.40543658, 0.31157405, 0.2864188 , 0.1234515 ,\n",
       "         0.36327851, 0.64184854, 0.11727833],\n",
       "        [0.50685499, 0.28101984, 0.4887607 , 0.60216006, 0.21120729,\n",
       "         0.43400684, 0.32993982, 0.36701452, 0.26960449, 0.22471838,\n",
       "         0.35444534, 0.53246984, 0.13183147],\n",
       "        [0.48611471, 0.21998294, 0.49972023, 0.54669986, 0.26294915,\n",
       "         0.40605932, 0.37099008, 0.41857073, 0.29763821, 0.18259557,\n",
       "         0.41318953, 0.63845351, 0.21203963],\n",
       "        [0.3670598 , 0.19280867, 0.5345659 , 0.54015394, 0.23991738,\n",
       "         0.3643051 , 0.34297949, 0.59040349, 0.36449544, 0.18519346,\n",
       "         0.43636646, 0.56646161, 0.19185275],\n",
       "        [0.29406263, 0.18638576, 0.53999335, 0.56061764, 0.20256215,\n",
       "         0.28958609, 0.27504291, 0.62931189, 0.37565671, 0.17468658,\n",
       "         0.44236161, 0.47289603, 0.13999736],\n",
       "        [0.20859719, 0.09769973, 0.57493523, 0.51169086, 0.21785312,\n",
       "         0.37505456, 0.33036458, 0.48416262, 0.42359442, 0.14743004,\n",
       "         0.42126046, 0.52514738, 0.14904322],\n",
       "        [0.19252498, 0.08720945, 0.57383015, 0.47444967, 0.23419335,\n",
       "         0.42761961, 0.37180516, 0.33390336, 0.49142414, 0.12681162,\n",
       "         0.36571837, 0.61865989, 0.18737855]]])"
      ]
     },
     "execution_count": 16,
     "metadata": {},
     "output_type": "execute_result"
    }
   ],
   "source": [
    "# Pesos do modelo\n",
    "# 832 pesos\n",
    "model._weights"
   ]
  },
  {
   "cell_type": "code",
   "execution_count": 17,
   "metadata": {},
   "outputs": [
    {
     "data": {
      "text/plain": [
       "array([[1.11646528, 1.23743738, 1.08212561, 1.00218461, 1.02784448,\n",
       "        1.29189662, 1.46606957, 1.49103863],\n",
       "       [1.36117948, 1.29524356, 1.20484356, 1.07671587, 1.03390165,\n",
       "        1.30226438, 1.46274167, 1.4197695 ],\n",
       "       [1.30187762, 1.31882689, 1.25577627, 1.12538481, 1.00906212,\n",
       "        1.18818251, 1.33671167, 1.28577558],\n",
       "       [1.21486118, 1.21101705, 1.07484159, 0.91286769, 0.87241104,\n",
       "        0.97702509, 1.09203637, 1.11828819],\n",
       "       [1.12188365, 1.0043121 , 0.84340028, 0.74517691, 0.70381468,\n",
       "        0.74993317, 0.85847553, 0.950582  ],\n",
       "       [0.87420318, 0.87162944, 0.81512137, 0.73770767, 0.66230602,\n",
       "        0.6707701 , 0.74803096, 0.89880376],\n",
       "       [0.98556109, 0.93364296, 0.86202691, 0.8010015 , 0.68445031,\n",
       "        0.64903043, 0.70926314, 0.84699485],\n",
       "       [0.86842213, 0.89064627, 0.96438437, 0.88705546, 0.75556676,\n",
       "        0.75715514, 0.72129982, 0.81020137]])"
      ]
     },
     "execution_count": 17,
     "metadata": {},
     "output_type": "execute_result"
    }
   ],
   "source": [
    "# Mapa Auto-Organizável 8x8\n",
    "model._activation_map"
   ]
  },
  {
   "cell_type": "code",
   "execution_count": 18,
   "metadata": {},
   "outputs": [],
   "source": [
    "# Quantas vezes cada um dos neurónios foram escolhidos como BMU.\n",
    "# O neurónio na possição (0,0) foi considerado 5 vezes como BMU.\n",
    "a=model.activation_response(X)"
   ]
  },
  {
   "cell_type": "code",
   "execution_count": 19,
   "metadata": {},
   "outputs": [
    {
     "data": {
      "text/plain": [
       "array([[ 5.,  3.,  5.,  4.,  0.,  0.,  5.,  9.],\n",
       "       [ 7.,  2.,  2.,  1.,  3.,  0.,  7.,  3.],\n",
       "       [ 7.,  9.,  2.,  2.,  1.,  2.,  9., 12.],\n",
       "       [ 5.,  5.,  2.,  1.,  0.,  0.,  1.,  1.],\n",
       "       [ 0.,  1.,  4.,  3.,  0.,  2.,  1.,  3.],\n",
       "       [ 2.,  2.,  2.,  2.,  0.,  3.,  0.,  2.],\n",
       "       [ 0.,  3.,  1.,  3.,  1.,  4.,  0.,  2.],\n",
       "       [ 4.,  4.,  1.,  0.,  3.,  6.,  1.,  3.]])"
      ]
     },
     "execution_count": 19,
     "metadata": {},
     "output_type": "execute_result"
    }
   ],
   "source": [
    "a"
   ]
  },
  {
   "cell_type": "markdown",
   "metadata": {},
   "source": [
    "## Visualização dos resultados"
   ]
  },
  {
   "cell_type": "code",
   "execution_count": 20,
   "metadata": {},
   "outputs": [],
   "source": [
    "from pylab import pcolor, colorbar, plot"
   ]
  },
  {
   "cell_type": "markdown",
   "metadata": {},
   "source": [
    "### Mapa da distância entre neurónios"
   ]
  },
  {
   "cell_type": "code",
   "execution_count": 21,
   "metadata": {},
   "outputs": [
    {
     "data": {
      "text/plain": [
       "<matplotlib.colorbar.Colorbar at 0xca41931cc0>"
      ]
     },
     "execution_count": 21,
     "metadata": {},
     "output_type": "execute_result"
    },
    {
     "data": {
      "image/png": "[encoded data removed]",
      "text/plain": [
       "<Figure size 432x288 with 2 Axes>"
      ]
     },
     "metadata": {
      "needs_background": "light"
     },
     "output_type": "display_data"
    }
   ],
   "source": [
    "# distance_map().T: Matriz transposta com os valores de distancia MID.\n",
    "# MID: Média da distancia eucladiana entre um neurónio e os neurónios à sua volta.\n",
    "\n",
    "# MID - mean inter neuron distance: usada para avaliar quanto um neurónio é parecido aos seus vizinhos.\n",
    "\n",
    "# Quanto maior o valor da distancia, maior a diferença entre o neurónio e os seus vizinhos\n",
    "# Como se está a utilizar valores entre 0 e 1. 1 é a maxima distancia possivel e 0 é a minima distancia possivel.\n",
    "\n",
    "# Quanto mais escuro(azul) menor é a distancia do neurónio para os vizinhos(o neurónio é mais semelhante aos vizinhos).\n",
    "# Usado para avaliar se um detrminado registro se enquadra no padrão. Por exemplo os neurónios amarelos não são tão confiaveis\n",
    "# por serem muito diferentes aos neurónios vizinhos. \n",
    "pcolor(model.distance_map().T)\n",
    "colorbar()"
   ]
  },
  {
   "cell_type": "markdown",
   "metadata": {},
   "source": [
    "## Mapa Auto-Organizável"
   ]
  },
  {
   "cell_type": "code",
   "execution_count": 22,
   "metadata": {},
   "outputs": [
    {
     "data": {
      "text/plain": [
       "array([0.56052632, 0.3201581 , 0.70053476, 0.41237113, 0.33695652,\n",
       "       0.62758621, 0.61181435, 0.32075472, 0.75709779, 0.37542662,\n",
       "       0.44715447, 0.6959707 , 0.64693295])"
      ]
     },
     "execution_count": 22,
     "metadata": {},
     "output_type": "execute_result"
    }
   ],
   "source": [
    "# Posição 1 dos dados de entrada(Linha 1 dos dados de entrada).\n",
    "X[2]"
   ]
  },
  {
   "cell_type": "code",
   "execution_count": 23,
   "metadata": {},
   "outputs": [
    {
     "data": {
      "text/plain": [
       "(0, 0)"
      ]
     },
     "execution_count": 23,
     "metadata": {},
     "output_type": "execute_result"
    }
   ],
   "source": [
    "# Neurónio BMU para a posição 1\n",
    "w = model.winner(X[2])\n",
    "w"
   ]
  },
  {
   "cell_type": "code",
   "execution_count": 24,
   "metadata": {},
   "outputs": [],
   "source": [
    "# Lista com os marcadores\n",
    "# \"o\" neurónio pertence à classe 0\n",
    "# \"s\" neurónio pertence à classe 1\n",
    "# \"d\" neurónio pertence à classe 2\n",
    "markers = [\"o\",\"s\",\"d\"]"
   ]
  },
  {
   "cell_type": "code",
   "execution_count": 25,
   "metadata": {},
   "outputs": [],
   "source": [
    "# Lista com as cores\n",
    "colors = [\"r\",\"g\",\"b\"]"
   ]
  },
  {
   "cell_type": "code",
   "execution_count": 26,
   "metadata": {},
   "outputs": [
    {
     "name": "stderr",
     "output_type": "stream",
     "text": [
      "C:\\Users\\Bruno\\Anaconda3\\lib\\site-packages\\ipykernel_launcher.py:3: SettingWithCopyWarning: \n",
      "A value is trying to be set on a copy of a slice from a DataFrame\n",
      "\n",
      "See the caveats in the documentation: http://pandas.pydata.org/pandas-docs/stable/indexing.html#indexing-view-versus-copy\n",
      "  This is separate from the ipykernel package so we can avoid doing imports until\n",
      "C:\\Users\\Bruno\\Anaconda3\\lib\\site-packages\\ipykernel_launcher.py:4: SettingWithCopyWarning: \n",
      "A value is trying to be set on a copy of a slice from a DataFrame\n",
      "\n",
      "See the caveats in the documentation: http://pandas.pydata.org/pandas-docs/stable/indexing.html#indexing-view-versus-copy\n",
      "  after removing the cwd from sys.path.\n",
      "C:\\Users\\Bruno\\Anaconda3\\lib\\site-packages\\ipykernel_launcher.py:5: SettingWithCopyWarning: \n",
      "A value is trying to be set on a copy of a slice from a DataFrame\n",
      "\n",
      "See the caveats in the documentation: http://pandas.pydata.org/pandas-docs/stable/indexing.html#indexing-view-versus-copy\n",
      "  \"\"\"\n"
     ]
    }
   ],
   "source": [
    "# Para se poder associar os marcadores e as cores à variavel y tem de se alterar o nome dos registros, porque a lista dos\n",
    "# marcadores e cores começam no indice 0.\n",
    "y[y==1] = 0\n",
    "y[y==2] = 1\n",
    "y[y==3] = 2"
   ]
  },
  {
   "cell_type": "code",
   "execution_count": 27,
   "metadata": {},
   "outputs": [
    {
     "data": {
      "text/plain": [
       "1    71\n",
       "0    59\n",
       "2    48\n",
       "Name: Class, dtype: int64"
      ]
     },
     "execution_count": 27,
     "metadata": {},
     "output_type": "execute_result"
    }
   ],
   "source": [
    "y.value_counts()"
   ]
  },
  {
   "cell_type": "code",
   "execution_count": 28,
   "metadata": {},
   "outputs": [
    {
     "data": {
      "image/png": "[encoded data removed]",
      "text/plain": [
       "<Figure size 432x288 with 2 Axes>"
      ]
     },
     "metadata": {
      "needs_background": "light"
     },
     "output_type": "display_data"
    }
   ],
   "source": [
    "# i: indice de X\n",
    "# x: linha inteira de X\n",
    "# w: BMU de cada linha\n",
    "\n",
    "# (+0.5)posicionar o simblo no meio do neurónio\n",
    "\n",
    "pcolor(model.distance_map().T)\n",
    "colorbar()\n",
    "\n",
    "for i,x in enumerate(X):\n",
    "    #print(i)\n",
    "    #print(x)\n",
    "    w = model.winner(x)\n",
    "    #print(w)\n",
    "    plot(w[0] + 0.5, w[1] + 0.5, markers[y[i]], markerfacecolor=\"None\", \n",
    "    markersize=10, markeredgecolor=colors[y[i]], markeredgewidth=2) "
   ]
  }
 ],
 "metadata": {
  "kernelspec": {
   "display_name": "Python 3",
   "language": "python",
   "name": "python3"
  },
  "language_info": {
   "codemirror_mode": {
    "name": "ipython",
    "version": 3
   },
   "file_extension": ".py",
   "mimetype": "text/x-python",
   "name": "python",
   "nbconvert_exporter": "python",
   "pygments_lexer": "ipython3",
   "version": "3.7.3"
  }
 },
 "nbformat": 4,
 "nbformat_minor": 2
}
