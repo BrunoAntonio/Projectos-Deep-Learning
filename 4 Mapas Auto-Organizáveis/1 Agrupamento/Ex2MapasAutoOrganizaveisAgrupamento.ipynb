{
 "cells": [
  {
   "cell_type": "markdown",
   "metadata": {},
   "source": [
    "# Mapas Auto-Organizáveis(SOM) - Agrupamento"
   ]
  },
  {
   "cell_type": "code",
   "execution_count": 52,
   "metadata": {},
   "outputs": [],
   "source": [
    "import pandas as pd\n",
    "from minisom import MiniSom"
   ]
  },
  {
   "cell_type": "markdown",
   "metadata": {},
   "source": [
    "## Obter os dados"
   ]
  },
  {
   "cell_type": "code",
   "execution_count": 88,
   "metadata": {},
   "outputs": [],
   "source": [
    "base_X = pd.read_csv(\"entradas-breast.csv\")"
   ]
  },
  {
   "cell_type": "code",
   "execution_count": null,
   "metadata": {},
   "outputs": [],
   "source": [
    "# Como é um problema de agrupamento não-supervisionado apenas não se vai utilizar a base_X.\n",
    "base_y = pd.read_csv(\"saidas-breast.csv\")"
   ]
  },
  {
   "cell_type": "markdown",
   "metadata": {},
   "source": [
    "## Divisão dos dados"
   ]
  },
  {
   "cell_type": "code",
   "execution_count": 89,
   "metadata": {},
   "outputs": [],
   "source": [
    "X = base_X.iloc[:, 0:30].values"
   ]
  },
  {
   "cell_type": "code",
   "execution_count": 91,
   "metadata": {},
   "outputs": [
    {
     "data": {
      "text/plain": [
       "(569, 30)"
      ]
     },
     "execution_count": 91,
     "metadata": {},
     "output_type": "execute_result"
    }
   ],
   "source": [
    "X.shape"
   ]
  },
  {
   "cell_type": "code",
   "execution_count": 93,
   "metadata": {},
   "outputs": [],
   "source": [
    "y = base_y.iloc[:,0].values"
   ]
  },
  {
   "cell_type": "code",
   "execution_count": 95,
   "metadata": {},
   "outputs": [
    {
     "data": {
      "text/plain": [
       "(569,)"
      ]
     },
     "execution_count": 95,
     "metadata": {},
     "output_type": "execute_result"
    }
   ],
   "source": [
    "y.shape"
   ]
  },
  {
   "cell_type": "markdown",
   "metadata": {},
   "source": [
    "## Pré-Processamento dos dados- Normalização das Variaveis"
   ]
  },
  {
   "cell_type": "code",
   "execution_count": 96,
   "metadata": {},
   "outputs": [],
   "source": [
    "from sklearn.preprocessing import MinMaxScaler"
   ]
  },
  {
   "cell_type": "code",
   "execution_count": 97,
   "metadata": {},
   "outputs": [],
   "source": [
    "# Passar os dados de entrada para uma escala de 0 a 1 para que o processamento dos dados seja mais rapido e tambem para não \n",
    "# haver variaveis que pela sua escala tenham mais influência no modelo(para não haver variáveis dominantes).\n",
    "scaler = MinMaxScaler(feature_range=(0,1))"
   ]
  },
  {
   "cell_type": "code",
   "execution_count": 98,
   "metadata": {},
   "outputs": [
    {
     "data": {
      "text/plain": [
       "MinMaxScaler(copy=True, feature_range=(0, 1))"
      ]
     },
     "execution_count": 98,
     "metadata": {},
     "output_type": "execute_result"
    }
   ],
   "source": [
    "# Ajustar a variavel X para fazer a sua normalização.\n",
    "scaler.fit(X)"
   ]
  },
  {
   "cell_type": "code",
   "execution_count": 99,
   "metadata": {},
   "outputs": [],
   "source": [
    "# Normalização da variavel X.\n",
    "X = scaler.transform(X)"
   ]
  },
  {
   "cell_type": "markdown",
   "metadata": {},
   "source": [
    "## Modelo do Mapa Auto-Organizável"
   ]
  },
  {
   "cell_type": "code",
   "execution_count": 100,
   "metadata": {},
   "outputs": [],
   "source": [
    "# Algoritmo utilizado para agrupamento(como o k-means) que utiliza redes neurais. Tambem pode ser utilizado para redução de\n",
    "# dimensionalidade\n",
    "\n",
    "# Tem uma camada de entrada(com os atributos de entrada) directamente ligada a camada de saida. Cada neuronio da camada\n",
    "# de entrada está directamente ligado a todos os neuronios da camada de saida(rede neural densa). A camada  de saida é uma \n",
    "# matriz.\n",
    "\n",
    "# Calculo do tamanho da matriz de saida (SOM-self organizing map):5xsqr(N), sendo N o nº de registros.\n",
    "# Por exemplo para 569 registros: 5xsqr(569) = 119,27 celulas = matriz 11x11.\n",
    "\n",
    "# A diferença para as redes neurais tradicionais reside no facto de não haverem cadamas ocultas nem se utilizar funções de \n",
    "# activação, nem se multiplicam os valores de entrada pelos pesos.\n",
    "# Nos mapas auto organizáveis os pesos representam o valor do atributo da camada de entrada.\n",
    "# por exemplo: \n",
    "# 1º registro: idade:21, salario: 1800\n",
    "# 2 registro: idadde:20, salario: 1500\n",
    "# Os pesos apenas representam nós. Por exemplo numa camada de entrada com 2 atributos. No nó 1(neuronio 1) da camada de saida\n",
    "# tem-se o valor do peso 1, relacionado com o 1º atributo do 1º registro e o valor do peso 2, relacionado com o 2º atributo do\n",
    "# 1º registro. Nó 1: (P1,1:P1,2). \n",
    "# No nó 2(neuronio 2) da camada de saida tem-se o valor do peso 1, relacionado com o 1º atributo do 2º registro e o valor do \n",
    "# peso 2, relacionado com o 2º atributo do 2º registro. Nó 2: (P2,1:P2,2).\n",
    "\n",
    "# 1º)----------------------------------------------------------------------------------------\n",
    "# Os nós sao inicializados aleatoriamente: pr ex. Nó 1: (30,3000) e Nó 2: (15,1000).\n",
    "# Calcula-se a distancia eucladiana entre cada registro da base de dados e cada nó inicializado aleatoriamente(como no k-means\n",
    "# com os registros da base de dados a funcionar de centrides).\n",
    "# Para o 1º registro e nó 1: sqr(21-30)^2+(1800-3000)^2=0.22\n",
    "# Para o 1º registro e nó 2: sqr(21-15)^2+(1800-1000)^2=0.10\n",
    "# Para o 2º registro e nó 1: sqr(20-30)^2+(1500-3000)^2\n",
    "# Para o 2º registro e nó 2: sqr(20-15)^2+(1500-1000)^2\n",
    "\n",
    "# 2º)----------------------------------------------------------------------------------------------------------\n",
    "# Selecciona-se o nó(ponto) que está mais proximo(mais semelhante) de cada registro e atribui-se o nome de BMU-best match unit\n",
    "# Para o 1º registro seria o nó 2(distancia de 0.10).\n",
    "\n",
    "# 3º)---------------------------------------------------------------------------------------------------------\n",
    "# De seguida para os nós que não forem escolhidos para BMU cacula-se a distancia eucladiana entre esse nó e os BMU existentes. \n",
    "# Considera-se que esse nó pertence ao agrupamento do BMU que estiver mais proximo.\n",
    "\n",
    "# Um registro da base de dados pode estar associado a somente um BMU, mas um BMU pode estar associado a vários registros\n",
    "\n",
    "# 4º)---------------------------------------------------------------------------------------------------------------\n",
    "# A aprendizagem do modelo é feita aproximando o valor dos BMU dos registros de entrada(inicialmente os valores dos BMU foram\n",
    "# obtidos através da inicialização aleatoria dos pesos).\n",
    "# Ao se aproximar os valores dos BMU aos registros de entrada , tambem se está a aproximar os nós restantes (que não foram \n",
    "# escolhidos para BMU) aos seus valores de entrada.\n",
    "\n",
    "# Esta aproximação entre o BMU e o registro é feita obtendo a diferença entre os dois valores e incrementando uma parcela desta\n",
    "# diferença no BMU ponderada por um fator chamado de taxa de aprendizagem que tem como objectivo suavizar o processo de ajuste \n",
    "# dos neurônios nos dados. Obtem-se assim o novo valor do nó para os BMU.\n",
    "# n,novo = n+a*(d-n)\n",
    "# Onde: \n",
    "# n,novo: é o novo valor neurónio do BMU\n",
    "# n: é o valor do neuronio do BMU\n",
    "# a: taxa de aprendizagem\n",
    "# d: registro\n",
    "# n: neuronio BMU\n",
    "\n",
    "# Se a=0.5, n,novo = (n+d)/2. A nova posição de n é a media da sua antiga posição com a posição do registro.\n",
    "# Se a=1, n,novo=d. A nova posição de n é a mesma possição do registro.\n",
    "\n",
    "# 5º)------------------------------------------------------------------------------------------------------------------\n",
    "# De seguida também os pontos vizinhos são aproximados do BMU. Na atualização dos vizinhos será considerado mais um fator de \n",
    "# ponderação descrito por uma função chamada função de vizinhança, que produzirá valores menores quando o BMU e o neuronio \n",
    "# vizinho forem mais distantes no espaço matricial (látice). Obtem-se o novo valor do nó para os pontos vizinhos dos BMU.\n",
    "\n",
    "# Na maioria dos casos ainda existe mais um parâmetro destas funções que é o raio que aumenta ou diminui os valores da função\n",
    "# de vizinhança.\n",
    "\n",
    "# n,novo = nv,novo = nv+a*(nBMU, nv)a*(d-nv)\n",
    "# Onde: \n",
    "# nv,novo: é o novo valor do neurónio de vizinhança\n",
    "# nv: é o valor do neuronio de vizinhança\n",
    "# a*(nBMU, nv): função de vizinhança\n",
    "# a: taxa de aprendizagem\n",
    "# d: registro\n",
    "# n: neuronio de vizinhança\n",
    "\n",
    "# 6º)------------------------------------------------------------------------------------------------------------------------\n",
    "# De seguida volta-se a repetir os passos iterativamente começando por calcular a distancia eucladiana entre cada registro da \n",
    "# base de dados e cada nó(com os valores dos nós obtidos na iteração anterior).\n",
    "# No número de epocas define-se quantas vezes se vai fazer o ajuste dos pesos.\n",
    "\n",
    "# Inicializar os pesos, criar os nós para cada célula/neurônio, calcular a distância de cada registro para nó e escolher o \n",
    "# neurônio BMU. De seguida trazer os neurônios para mais perto da camada de entrada.\n",
    "\n",
    "#------------------------------------------------------------------------------------------------------------------------------\n",
    "# x: numero de linhas da matriz de saida\n",
    "# y: numero de colunas da matriz de saida\n",
    "# input_ten: numero de variaveis de entrada\n",
    "# sigma: Alcançe do raio traçado com o centro nos BMU e utilizado para a actualização dos seus vizinhos. \n",
    "# learning_rate: taxa de aprendizagem utilizada para a actualização do BMU e aproximação do seu valor ao valor do registro (e\n",
    "# consequente actualização dos valores vizinhos).\n",
    "# random_seed: Obter sempre o mesmo resultado para o modelo. A inicialização dos pesos tem sempre o mesmo valor.\n",
    "\n",
    "# ransom_weights_init: Inicialização dos pesos da base de dados\n",
    "# train_random: Treinar o modelo (num_iteration = número de epocas)\n",
    "\n",
    "\n",
    "model = MiniSom(x=11, y=11, input_len=30, sigma=3, learning_rate=0.5, random_seed=0)\n",
    "model.random_weights_init(X)\n",
    "model.train_random(data=X, num_iteration=1000)"
   ]
  },
  {
   "cell_type": "markdown",
   "metadata": {},
   "source": [
    "## Visualização dos resultados"
   ]
  },
  {
   "cell_type": "markdown",
   "metadata": {},
   "source": [
    "### Mapa Auto-Organizável"
   ]
  },
  {
   "cell_type": "code",
   "execution_count": 101,
   "metadata": {},
   "outputs": [],
   "source": [
    "from pylab import pcolor, colorbar, plot"
   ]
  },
  {
   "cell_type": "code",
   "execution_count": 102,
   "metadata": {},
   "outputs": [],
   "source": [
    "# Lista com os marcadores\n",
    "# \"o\" neurónio pertence à classe 0\n",
    "# \"s\" neurónio pertence à classe 1\n",
    "markers = [\"o\",\"s\"]"
   ]
  },
  {
   "cell_type": "code",
   "execution_count": 103,
   "metadata": {},
   "outputs": [],
   "source": [
    "# Lista com as cores\n",
    "# \"r\" neurónio pertence à classe 0\n",
    "# \"g\" neurónio pertence à classe 1\n",
    "colors = [\"r\",\"g\"]"
   ]
  },
  {
   "cell_type": "code",
   "execution_count": 108,
   "metadata": {},
   "outputs": [
    {
     "data": {
      "image/png": "[encoded data removed]",
      "text/plain": [
       "<Figure size 432x288 with 2 Axes>"
      ]
     },
     "metadata": {
      "needs_background": "light"
     },
     "output_type": "display_data"
    }
   ],
   "source": [
    "# O processo de agrupamento nessa base de dados é mais complicado porque os dados são muito heterogêneos, o que origina vários\n",
    "# neurónios pertencentes às 2 classes.\n",
    "\n",
    "# i: indice de X\n",
    "# x: linha inteira de X\n",
    "# w: BMU de cada linha\n",
    "\n",
    "# (+0.5)posicionar o simblo no meio do neurónio\n",
    "\n",
    "pcolor(model.distance_map().T)\n",
    "colorbar()\n",
    "\n",
    "for i,x in enumerate(X):\n",
    "    #print(i)\n",
    "    #print(x)\n",
    "    w = model.winner(x)\n",
    "    #print(w)\n",
    "    plot(w[0] + 0.5, w[1] + 0.5, markers[y[i]], markerfacecolor=\"None\", \n",
    "    markersize=10, markeredgecolor=colors[y[i]], markeredgewidth=2) "
   ]
  },
  {
   "cell_type": "code",
   "execution_count": null,
   "metadata": {},
   "outputs": [],
   "source": []
  }
 ],
 "metadata": {
  "kernelspec": {
   "display_name": "Python 3",
   "language": "python",
   "name": "python3"
  },
  "language_info": {
   "codemirror_mode": {
    "name": "ipython",
    "version": 3
   },
   "file_extension": ".py",
   "mimetype": "text/x-python",
   "name": "python",
   "nbconvert_exporter": "python",
   "pygments_lexer": "ipython3",
   "version": "3.7.3"
  }
 },
 "nbformat": 4,
 "nbformat_minor": 2
}
