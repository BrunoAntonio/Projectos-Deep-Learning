{
 "cells": [
  {
   "cell_type": "markdown",
   "metadata": {},
   "source": [
    "# Mapas Auto-Organizáveis(SOM) - Outliers"
   ]
  },
  {
   "cell_type": "code",
   "execution_count": 1,
   "metadata": {},
   "outputs": [],
   "source": [
    "import pandas as pd\n",
    "import numpy as np\n",
    "from minisom import MiniSom"
   ]
  },
  {
   "cell_type": "markdown",
   "metadata": {},
   "source": [
    "## Obter os dados"
   ]
  },
  {
   "cell_type": "code",
   "execution_count": 2,
   "metadata": {},
   "outputs": [],
   "source": [
    "# 0: cliente aprovado para crédito.\n",
    "# 1: cliente não aprovado para crédito.\n",
    "# O objectivo é detectar os clientes que foram aprovados para crédito e que possam vir a fazer algum tipo de fraude\n",
    "\n",
    "data = pd.read_csv(\"credit-data.csv\")"
   ]
  },
  {
   "cell_type": "markdown",
   "metadata": {},
   "source": [
    "## Pré-Processamento dos dados - Valores ausentes"
   ]
  },
  {
   "cell_type": "code",
   "execution_count": 3,
   "metadata": {},
   "outputs": [
    {
     "data": {
      "text/plain": [
       "clientid    0\n",
       "income      0\n",
       "age         3\n",
       "loan        0\n",
       "default     0\n",
       "dtype: int64"
      ]
     },
     "execution_count": 3,
     "metadata": {},
     "output_type": "execute_result"
    }
   ],
   "source": [
    "# Só existem 3 valores ausentes nos dados\n",
    "data.isnull().sum()"
   ]
  },
  {
   "cell_type": "code",
   "execution_count": 4,
   "metadata": {},
   "outputs": [],
   "source": [
    "# Como apenas 3 linhas têm valores ausentes optou-se por apagar essas linhas.\n",
    "data = data.dropna()"
   ]
  },
  {
   "cell_type": "markdown",
   "metadata": {},
   "source": [
    "## Pré-Processamento dos dados - Valores inconsistentes"
   ]
  },
  {
   "cell_type": "code",
   "execution_count": 5,
   "metadata": {},
   "outputs": [
    {
     "data": {
      "text/html": [
       "<div>\n",
       "<style scoped>\n",
       "    .dataframe tbody tr th:only-of-type {\n",
       "        vertical-align: middle;\n",
       "    }\n",
       "\n",
       "    .dataframe tbody tr th {\n",
       "        vertical-align: top;\n",
       "    }\n",
       "\n",
       "    .dataframe thead th {\n",
       "        text-align: right;\n",
       "    }\n",
       "</style>\n",
       "<table border=\"1\" class=\"dataframe\">\n",
       "  <thead>\n",
       "    <tr style=\"text-align: right;\">\n",
       "      <th></th>\n",
       "      <th>clientid</th>\n",
       "      <th>income</th>\n",
       "      <th>age</th>\n",
       "      <th>loan</th>\n",
       "      <th>default</th>\n",
       "    </tr>\n",
       "  </thead>\n",
       "  <tbody>\n",
       "    <tr>\n",
       "      <th>15</th>\n",
       "      <td>16</td>\n",
       "      <td>50501.726689</td>\n",
       "      <td>-28.218361</td>\n",
       "      <td>3977.287432</td>\n",
       "      <td>0</td>\n",
       "    </tr>\n",
       "    <tr>\n",
       "      <th>21</th>\n",
       "      <td>22</td>\n",
       "      <td>32197.620701</td>\n",
       "      <td>-52.423280</td>\n",
       "      <td>4244.057136</td>\n",
       "      <td>0</td>\n",
       "    </tr>\n",
       "    <tr>\n",
       "      <th>26</th>\n",
       "      <td>27</td>\n",
       "      <td>63287.038908</td>\n",
       "      <td>-36.496976</td>\n",
       "      <td>9595.286289</td>\n",
       "      <td>0</td>\n",
       "    </tr>\n",
       "  </tbody>\n",
       "</table>\n",
       "</div>"
      ],
      "text/plain": [
       "    clientid        income        age         loan  default\n",
       "15        16  50501.726689 -28.218361  3977.287432        0\n",
       "21        22  32197.620701 -52.423280  4244.057136        0\n",
       "26        27  63287.038908 -36.496976  9595.286289        0"
      ]
     },
     "execution_count": 5,
     "metadata": {},
     "output_type": "execute_result"
    }
   ],
   "source": [
    "# Existem clientes com idade inferior a 0.\n",
    "# A sua idade será substituida pela média das idades\n",
    "data[data[\"age\"]<0]"
   ]
  },
  {
   "cell_type": "code",
   "execution_count": 6,
   "metadata": {},
   "outputs": [
    {
     "data": {
      "text/plain": [
       "40.80755937840458"
      ]
     },
     "execution_count": 6,
     "metadata": {},
     "output_type": "execute_result"
    }
   ],
   "source": [
    "data[\"age\"].mean()"
   ]
  },
  {
   "cell_type": "code",
   "execution_count": 7,
   "metadata": {},
   "outputs": [],
   "source": [
    "data.loc[data.age<0, \"age\"] = 40.92"
   ]
  },
  {
   "cell_type": "code",
   "execution_count": 8,
   "metadata": {},
   "outputs": [
    {
     "data": {
      "text/html": [
       "<div>\n",
       "<style scoped>\n",
       "    .dataframe tbody tr th:only-of-type {\n",
       "        vertical-align: middle;\n",
       "    }\n",
       "\n",
       "    .dataframe tbody tr th {\n",
       "        vertical-align: top;\n",
       "    }\n",
       "\n",
       "    .dataframe thead th {\n",
       "        text-align: right;\n",
       "    }\n",
       "</style>\n",
       "<table border=\"1\" class=\"dataframe\">\n",
       "  <thead>\n",
       "    <tr style=\"text-align: right;\">\n",
       "      <th></th>\n",
       "      <th>clientid</th>\n",
       "      <th>income</th>\n",
       "      <th>age</th>\n",
       "      <th>loan</th>\n",
       "      <th>default</th>\n",
       "    </tr>\n",
       "  </thead>\n",
       "  <tbody>\n",
       "  </tbody>\n",
       "</table>\n",
       "</div>"
      ],
      "text/plain": [
       "Empty DataFrame\n",
       "Columns: [clientid, income, age, loan, default]\n",
       "Index: []"
      ]
     },
     "execution_count": 8,
     "metadata": {},
     "output_type": "execute_result"
    }
   ],
   "source": [
    "# Confirmação de que já não existem clientes com idade inferior a 0.\n",
    "data[data[\"age\"]<0]"
   ]
  },
  {
   "cell_type": "markdown",
   "metadata": {},
   "source": [
    "## Divisão dos dados"
   ]
  },
  {
   "cell_type": "code",
   "execution_count": 9,
   "metadata": {},
   "outputs": [],
   "source": [
    "# Utiliza-se a coluna clienteid para ser possivel recuperar o nome do cliente que pode fazer uma fraude.\n",
    "X = data.iloc[:,0:4].values"
   ]
  },
  {
   "cell_type": "code",
   "execution_count": 10,
   "metadata": {},
   "outputs": [],
   "source": [
    "y = data.iloc[:,4].values"
   ]
  },
  {
   "cell_type": "markdown",
   "metadata": {},
   "source": [
    "## Normalização das Variaveis"
   ]
  },
  {
   "cell_type": "code",
   "execution_count": 11,
   "metadata": {},
   "outputs": [],
   "source": [
    "from sklearn.preprocessing import MinMaxScaler"
   ]
  },
  {
   "cell_type": "code",
   "execution_count": 12,
   "metadata": {},
   "outputs": [],
   "source": [
    "# Passar os dados de entrada para uma escala de 0 a 1 para que o processamento dos dados seja mais rapido e tambem para não \n",
    "# haver variaveis que pela sua escala tenham mais influência no modelo(para não haver variáveis dominantes).\n",
    "scaler = MinMaxScaler(feature_range=(0,1))"
   ]
  },
  {
   "cell_type": "code",
   "execution_count": 13,
   "metadata": {},
   "outputs": [
    {
     "data": {
      "text/plain": [
       "MinMaxScaler(copy=True, feature_range=(0, 1))"
      ]
     },
     "execution_count": 13,
     "metadata": {},
     "output_type": "execute_result"
    }
   ],
   "source": [
    "# Ajustar a variavel X para fazer a sua normalização.\n",
    "scaler.fit(X)"
   ]
  },
  {
   "cell_type": "code",
   "execution_count": 14,
   "metadata": {},
   "outputs": [],
   "source": [
    "# Normalização da variavel X.\n",
    "X = scaler.transform(X)"
   ]
  },
  {
   "cell_type": "markdown",
   "metadata": {},
   "source": [
    "## Modelo do Mapa Auto-Organizável"
   ]
  },
  {
   "cell_type": "code",
   "execution_count": 15,
   "metadata": {},
   "outputs": [],
   "source": [
    "# x: numero de linhas da matriz de saida\n",
    "# y: numero de colunas da matriz de saida\n",
    "# input_ten: número de variaveis de entrada\n",
    "# sigma: Alcançe do raio traçado com o centro nos BMU e utilizado para a actualização dos seus vizinhos. \n",
    "# learning_rate: taxa de aprendizagem utilizada para a actualização do BMU e aproximação do seu valor ao valor do registro (e\n",
    "# consequente actualização dos valores vizinhos).\n",
    "# random_seed: Obter sempre o mesmo resultado para o modelo. A inicialização dos pesos tem sempre o mesmo valor.\n",
    "\n",
    "# ransom_weights_init: Inicialização dos pesos da base de dados\n",
    "# train_random: Treinar o modelo (num_iteration = número de epocas)\n",
    "\n",
    "# 5xsqr(N), sendo N o nº de registros. Para 293 registros: 5xsqr(293) = 223 celulas = matriz 15x15.\n",
    "\n",
    "model = MiniSom(x=15, y=15, input_len=4, sigma=1, learning_rate=0.5, random_seed=0)\n",
    "model.random_weights_init(X)\n",
    "model.train_random(data=X, num_iteration=100)"
   ]
  },
  {
   "cell_type": "markdown",
   "metadata": {},
   "source": [
    "## Visualização dos resultados"
   ]
  },
  {
   "cell_type": "code",
   "execution_count": 16,
   "metadata": {},
   "outputs": [],
   "source": [
    "from pylab import pcolor, colorbar, plot"
   ]
  },
  {
   "cell_type": "markdown",
   "metadata": {},
   "source": [
    "### Mapa da distância entre neurónios"
   ]
  },
  {
   "cell_type": "code",
   "execution_count": 17,
   "metadata": {},
   "outputs": [
    {
     "data": {
      "text/plain": [
       "<matplotlib.colorbar.Colorbar at 0xbf59774390>"
      ]
     },
     "execution_count": 17,
     "metadata": {},
     "output_type": "execute_result"
    },
    {
     "data": {
      "image/png": "[encoded data removed]",
      "text/plain": [
       "<Figure size 432x288 with 2 Axes>"
      ]
     },
     "metadata": {
      "needs_background": "light"
     },
     "output_type": "display_data"
    }
   ],
   "source": [
    "# distance_map().T: Matriz transposta com os valores de distancia MID.\n",
    "# MID: Média da distancia eucladiana entre um neurónio e os neurónios à sua volta.\n",
    "\n",
    "# MID - mean inter neuron distance: usada para avaliar quanto um neurónio é parecido aos seus vizinhos.\n",
    "\n",
    "# Quanto maior o valor da distancia, maior a diferença entre o neurónio e os seus vizinhos\n",
    "# Como se está a utilizar valores entre 0 e 1. 1 é a maxima distancia possivel e 0 é a minima distancia possivel.\n",
    "\n",
    "# Quanto mais escuro(azul) menor é a distancia do neurónio para os vizinhos(o neurónio é mais semelhante aos vizinhos).\n",
    "# Usado para avaliar se um detrminado registro se enquadra no padrão. Por exemplo os neurónios amarelos não são tão confiaveis\n",
    "# por serem muito diferentes aos neurónios vizinhos. \n",
    "\n",
    "# Ou seja os registros a amarelo podem ser Outliers. Clientes com uma probabilidade alta de cometer algum tipo de fraude.\n",
    "\n",
    "pcolor(model.distance_map().T)\n",
    "colorbar()"
   ]
  },
  {
   "cell_type": "markdown",
   "metadata": {},
   "source": [
    "### Mapa Auto-Organizável"
   ]
  },
  {
   "cell_type": "code",
   "execution_count": 18,
   "metadata": {},
   "outputs": [],
   "source": [
    "# Lista com os marcadores\n",
    "# \"o\" neurónio pertence à classe 0\n",
    "# \"s\" neurónio pertence à classe 1\n",
    "markers = [\"o\",\"s\"]"
   ]
  },
  {
   "cell_type": "code",
   "execution_count": 19,
   "metadata": {},
   "outputs": [],
   "source": [
    "# Lista com as cores\n",
    "colors = [\"r\",\"g\"]"
   ]
  },
  {
   "cell_type": "code",
   "execution_count": 20,
   "metadata": {},
   "outputs": [
    {
     "data": {
      "image/png": "[encoded data removed]",
      "text/plain": [
       "<Figure size 432x288 with 2 Axes>"
      ]
     },
     "metadata": {
      "needs_background": "light"
     },
     "output_type": "display_data"
    }
   ],
   "source": [
    "# i: indice de X\n",
    "# x: linha inteira de X\n",
    "# w: BMU de cada linha\n",
    "\n",
    "# (+0.5)posicionar o simblo no meio do neurónio\n",
    "\n",
    "pcolor(model.distance_map().T)\n",
    "colorbar()\n",
    "\n",
    "for i,x in enumerate(X):\n",
    "    w = model.winner(x)\n",
    "    plot(w[0] + 0.5, w[1] + 0.5, markers[y[i]], markerfacecolor=\"None\", \n",
    "    markersize=10, markeredgecolor=colors[y[i]], markeredgewidth=2) "
   ]
  },
  {
   "cell_type": "code",
   "execution_count": 26,
   "metadata": {},
   "outputs": [],
   "source": [
    "# Sendo os neurónios da classe 0 os que têm os marcadores vermelhos e os outliers os neurónios amarelos, os clientes a quem foi\n",
    "# atribuido crédito(classe 0) com maior probabilidade de cometer fraude(outliers) são a junção dos 2. Neurónios amarelos com\n",
    "# marcadores vermelhos.\n",
    "\n",
    "# mapeamento: Dicionário com os registros que escolheram o neurónio como BMU.\n",
    "# suspeitos: Array com os neurónios suspeitos(Amarelos). Poderiam ter sidos escolhidos mais neurónios como o (3,9).\n",
    "# Os registros que escolheram esse neurónio(Amarelo) como BMU têm grande probabilidade de serem outliers. Caso se aumente o \n",
    "# número de épocas a possição dos nerónios amarelos é alterada.\n",
    "\n",
    "mapeamento = model.win_map(X) \n",
    "suspeitos = np.concatenate((mapeamento[(13,10)], mapeamento[(1,12)], ), axis=0) \n",
    "suspeitos = scaler.inverse_transform(suspeitos) # inverter a normalização para obter o clientid"
   ]
  },
  {
   "cell_type": "code",
   "execution_count": 32,
   "metadata": {},
   "outputs": [],
   "source": [
    "# classe: Classe a que pertencem os suspeitos.\n",
    "# Se pertencerem à classe 0 são clientes a quem o crédito foi aprovado e são clientes com alta probabilidade de cometer fraude.\n",
    "# Se pertencerem à classe 1 são clientes a quem o crédito não foi aprovado mas com alta probabilidade de cometer fraude.\n",
    "\n",
    "classe = []\n",
    "for i in range(len(data)):\n",
    "    for j in range(len(suspeitos)):\n",
    "        if data.iloc[i, 0] == int(round(suspeitos[j,0])):\n",
    "            classe.append(data.iloc[i,4])           "
   ]
  },
  {
   "cell_type": "code",
   "execution_count": 34,
   "metadata": {},
   "outputs": [
    {
     "data": {
      "text/plain": [
       "array([0, 0, 0, 0, 0, 0, 0, 0, 0, 0, 0, 0, 0, 0, 0, 0, 0, 0, 0, 0, 0, 0,\n",
       "       0, 0, 0, 0, 1, 1, 0, 1, 0, 0, 0, 1, 0, 0, 0, 0, 0, 1, 0],\n",
       "      dtype=int64)"
      ]
     },
     "execution_count": 34,
     "metadata": {},
     "output_type": "execute_result"
    }
   ],
   "source": [
    "classe = np.array(classe)\n",
    "classe"
   ]
  },
  {
   "cell_type": "code",
   "execution_count": 46,
   "metadata": {},
   "outputs": [],
   "source": [
    "suspeitos_final = np.column_stack((suspeitos, classe)) # juntar os suspeitos e a classe\n",
    "suspeitos_final = suspeitos_final[suspeitos_final[:,4].argsort()] # ordenar de forma crescente pela coluna 4"
   ]
  },
  {
   "cell_type": "code",
   "execution_count": 48,
   "metadata": {},
   "outputs": [
    {
     "data": {
      "text/html": [
       "<div>\n",
       "<style scoped>\n",
       "    .dataframe tbody tr th:only-of-type {\n",
       "        vertical-align: middle;\n",
       "    }\n",
       "\n",
       "    .dataframe tbody tr th {\n",
       "        vertical-align: top;\n",
       "    }\n",
       "\n",
       "    .dataframe thead th {\n",
       "        text-align: right;\n",
       "    }\n",
       "</style>\n",
       "<table border=\"1\" class=\"dataframe\">\n",
       "  <thead>\n",
       "    <tr style=\"text-align: right;\">\n",
       "      <th></th>\n",
       "      <th>clientid</th>\n",
       "      <th>income</th>\n",
       "      <th>age</th>\n",
       "      <th>loan</th>\n",
       "      <th>default</th>\n",
       "    </tr>\n",
       "  </thead>\n",
       "  <tbody>\n",
       "    <tr>\n",
       "      <th>0</th>\n",
       "      <td>1350.0</td>\n",
       "      <td>39393.140578</td>\n",
       "      <td>52.739274</td>\n",
       "      <td>5415.054667</td>\n",
       "      <td>0.0</td>\n",
       "    </tr>\n",
       "    <tr>\n",
       "      <th>1</th>\n",
       "      <td>1902.0</td>\n",
       "      <td>49048.757360</td>\n",
       "      <td>52.051794</td>\n",
       "      <td>6363.113668</td>\n",
       "      <td>0.0</td>\n",
       "    </tr>\n",
       "    <tr>\n",
       "      <th>2</th>\n",
       "      <td>1923.0</td>\n",
       "      <td>40506.944007</td>\n",
       "      <td>52.241514</td>\n",
       "      <td>5961.531816</td>\n",
       "      <td>0.0</td>\n",
       "    </tr>\n",
       "    <tr>\n",
       "      <th>3</th>\n",
       "      <td>1928.0</td>\n",
       "      <td>41183.824656</td>\n",
       "      <td>56.032365</td>\n",
       "      <td>7606.993239</td>\n",
       "      <td>0.0</td>\n",
       "    </tr>\n",
       "    <tr>\n",
       "      <th>4</th>\n",
       "      <td>1956.0</td>\n",
       "      <td>48500.268154</td>\n",
       "      <td>61.304800</td>\n",
       "      <td>7054.606149</td>\n",
       "      <td>0.0</td>\n",
       "    </tr>\n",
       "    <tr>\n",
       "      <th>5</th>\n",
       "      <td>1719.0</td>\n",
       "      <td>58809.292472</td>\n",
       "      <td>37.459189</td>\n",
       "      <td>5470.587846</td>\n",
       "      <td>0.0</td>\n",
       "    </tr>\n",
       "    <tr>\n",
       "      <th>6</th>\n",
       "      <td>1760.0</td>\n",
       "      <td>59568.624320</td>\n",
       "      <td>40.558919</td>\n",
       "      <td>7685.326744</td>\n",
       "      <td>0.0</td>\n",
       "    </tr>\n",
       "    <tr>\n",
       "      <th>7</th>\n",
       "      <td>1840.0</td>\n",
       "      <td>48614.849679</td>\n",
       "      <td>61.301293</td>\n",
       "      <td>5984.950784</td>\n",
       "      <td>0.0</td>\n",
       "    </tr>\n",
       "    <tr>\n",
       "      <th>8</th>\n",
       "      <td>1842.0</td>\n",
       "      <td>57745.358876</td>\n",
       "      <td>36.729610</td>\n",
       "      <td>5540.464047</td>\n",
       "      <td>0.0</td>\n",
       "    </tr>\n",
       "    <tr>\n",
       "      <th>9</th>\n",
       "      <td>1850.0</td>\n",
       "      <td>55763.427417</td>\n",
       "      <td>30.585448</td>\n",
       "      <td>7913.837734</td>\n",
       "      <td>0.0</td>\n",
       "    </tr>\n",
       "    <tr>\n",
       "      <th>10</th>\n",
       "      <td>1875.0</td>\n",
       "      <td>55320.780007</td>\n",
       "      <td>29.417216</td>\n",
       "      <td>5990.716973</td>\n",
       "      <td>0.0</td>\n",
       "    </tr>\n",
       "    <tr>\n",
       "      <th>11</th>\n",
       "      <td>1925.0</td>\n",
       "      <td>55881.541797</td>\n",
       "      <td>33.306685</td>\n",
       "      <td>8383.074165</td>\n",
       "      <td>0.0</td>\n",
       "    </tr>\n",
       "    <tr>\n",
       "      <th>12</th>\n",
       "      <td>1939.0</td>\n",
       "      <td>61236.396076</td>\n",
       "      <td>36.001692</td>\n",
       "      <td>6562.903837</td>\n",
       "      <td>0.0</td>\n",
       "    </tr>\n",
       "    <tr>\n",
       "      <th>13</th>\n",
       "      <td>1948.0</td>\n",
       "      <td>59299.162722</td>\n",
       "      <td>36.984277</td>\n",
       "      <td>4944.056264</td>\n",
       "      <td>0.0</td>\n",
       "    </tr>\n",
       "    <tr>\n",
       "      <th>14</th>\n",
       "      <td>1979.0</td>\n",
       "      <td>58533.884683</td>\n",
       "      <td>40.518963</td>\n",
       "      <td>7832.443321</td>\n",
       "      <td>0.0</td>\n",
       "    </tr>\n",
       "    <tr>\n",
       "      <th>15</th>\n",
       "      <td>1844.0</td>\n",
       "      <td>51768.005341</td>\n",
       "      <td>30.544511</td>\n",
       "      <td>6632.036203</td>\n",
       "      <td>0.0</td>\n",
       "    </tr>\n",
       "    <tr>\n",
       "      <th>16</th>\n",
       "      <td>1819.0</td>\n",
       "      <td>48765.128867</td>\n",
       "      <td>50.070417</td>\n",
       "      <td>5183.859126</td>\n",
       "      <td>0.0</td>\n",
       "    </tr>\n",
       "    <tr>\n",
       "      <th>17</th>\n",
       "      <td>1853.0</td>\n",
       "      <td>42465.669748</td>\n",
       "      <td>58.016570</td>\n",
       "      <td>7314.976322</td>\n",
       "      <td>0.0</td>\n",
       "    </tr>\n",
       "    <tr>\n",
       "      <th>18</th>\n",
       "      <td>1805.0</td>\n",
       "      <td>40262.597641</td>\n",
       "      <td>51.798858</td>\n",
       "      <td>6535.851950</td>\n",
       "      <td>0.0</td>\n",
       "    </tr>\n",
       "    <tr>\n",
       "      <th>19</th>\n",
       "      <td>1427.0</td>\n",
       "      <td>41243.805136</td>\n",
       "      <td>52.075268</td>\n",
       "      <td>4161.573148</td>\n",
       "      <td>0.0</td>\n",
       "    </tr>\n",
       "    <tr>\n",
       "      <th>20</th>\n",
       "      <td>1512.0</td>\n",
       "      <td>41049.974591</td>\n",
       "      <td>49.840941</td>\n",
       "      <td>5890.113644</td>\n",
       "      <td>0.0</td>\n",
       "    </tr>\n",
       "    <tr>\n",
       "      <th>21</th>\n",
       "      <td>1542.0</td>\n",
       "      <td>41052.365785</td>\n",
       "      <td>49.911707</td>\n",
       "      <td>4652.951748</td>\n",
       "      <td>0.0</td>\n",
       "    </tr>\n",
       "    <tr>\n",
       "      <th>22</th>\n",
       "      <td>1543.0</td>\n",
       "      <td>37895.181733</td>\n",
       "      <td>54.515149</td>\n",
       "      <td>6071.340205</td>\n",
       "      <td>0.0</td>\n",
       "    </tr>\n",
       "    <tr>\n",
       "      <th>23</th>\n",
       "      <td>1566.0</td>\n",
       "      <td>44984.899117</td>\n",
       "      <td>51.747212</td>\n",
       "      <td>4584.611816</td>\n",
       "      <td>0.0</td>\n",
       "    </tr>\n",
       "    <tr>\n",
       "      <th>24</th>\n",
       "      <td>1592.0</td>\n",
       "      <td>43489.828454</td>\n",
       "      <td>51.733790</td>\n",
       "      <td>6501.041226</td>\n",
       "      <td>0.0</td>\n",
       "    </tr>\n",
       "    <tr>\n",
       "      <th>25</th>\n",
       "      <td>1601.0</td>\n",
       "      <td>38157.029676</td>\n",
       "      <td>51.528140</td>\n",
       "      <td>5628.012004</td>\n",
       "      <td>0.0</td>\n",
       "    </tr>\n",
       "    <tr>\n",
       "      <th>26</th>\n",
       "      <td>1607.0</td>\n",
       "      <td>42749.990318</td>\n",
       "      <td>56.419095</td>\n",
       "      <td>4626.538637</td>\n",
       "      <td>0.0</td>\n",
       "    </tr>\n",
       "    <tr>\n",
       "      <th>27</th>\n",
       "      <td>1806.0</td>\n",
       "      <td>46427.499182</td>\n",
       "      <td>61.846535</td>\n",
       "      <td>5671.450560</td>\n",
       "      <td>0.0</td>\n",
       "    </tr>\n",
       "    <tr>\n",
       "      <th>28</th>\n",
       "      <td>1987.0</td>\n",
       "      <td>67994.988470</td>\n",
       "      <td>38.622259</td>\n",
       "      <td>7289.014109</td>\n",
       "      <td>0.0</td>\n",
       "    </tr>\n",
       "    <tr>\n",
       "      <th>29</th>\n",
       "      <td>1647.0</td>\n",
       "      <td>41916.692681</td>\n",
       "      <td>48.148708</td>\n",
       "      <td>6106.109586</td>\n",
       "      <td>0.0</td>\n",
       "    </tr>\n",
       "    <tr>\n",
       "      <th>30</th>\n",
       "      <td>1662.0</td>\n",
       "      <td>44037.243985</td>\n",
       "      <td>58.440507</td>\n",
       "      <td>5269.518403</td>\n",
       "      <td>0.0</td>\n",
       "    </tr>\n",
       "    <tr>\n",
       "      <th>31</th>\n",
       "      <td>1664.0</td>\n",
       "      <td>46573.244378</td>\n",
       "      <td>53.110794</td>\n",
       "      <td>5533.292189</td>\n",
       "      <td>0.0</td>\n",
       "    </tr>\n",
       "    <tr>\n",
       "      <th>32</th>\n",
       "      <td>1679.0</td>\n",
       "      <td>38337.829469</td>\n",
       "      <td>55.506953</td>\n",
       "      <td>5691.093490</td>\n",
       "      <td>0.0</td>\n",
       "    </tr>\n",
       "    <tr>\n",
       "      <th>33</th>\n",
       "      <td>1712.0</td>\n",
       "      <td>48933.209693</td>\n",
       "      <td>50.065783</td>\n",
       "      <td>5071.371891</td>\n",
       "      <td>0.0</td>\n",
       "    </tr>\n",
       "    <tr>\n",
       "      <th>34</th>\n",
       "      <td>1746.0</td>\n",
       "      <td>43721.251811</td>\n",
       "      <td>55.127708</td>\n",
       "      <td>5923.392464</td>\n",
       "      <td>0.0</td>\n",
       "    </tr>\n",
       "    <tr>\n",
       "      <th>35</th>\n",
       "      <td>1627.0</td>\n",
       "      <td>44896.256486</td>\n",
       "      <td>48.610681</td>\n",
       "      <td>3787.639141</td>\n",
       "      <td>0.0</td>\n",
       "    </tr>\n",
       "    <tr>\n",
       "      <th>36</th>\n",
       "      <td>1737.0</td>\n",
       "      <td>66370.693506</td>\n",
       "      <td>38.405505</td>\n",
       "      <td>5906.034309</td>\n",
       "      <td>1.0</td>\n",
       "    </tr>\n",
       "    <tr>\n",
       "      <th>37</th>\n",
       "      <td>1727.0</td>\n",
       "      <td>60974.587144</td>\n",
       "      <td>33.895749</td>\n",
       "      <td>6165.658820</td>\n",
       "      <td>1.0</td>\n",
       "    </tr>\n",
       "    <tr>\n",
       "      <th>38</th>\n",
       "      <td>1862.0</td>\n",
       "      <td>57513.817463</td>\n",
       "      <td>33.092020</td>\n",
       "      <td>6921.491029</td>\n",
       "      <td>1.0</td>\n",
       "    </tr>\n",
       "    <tr>\n",
       "      <th>39</th>\n",
       "      <td>1984.0</td>\n",
       "      <td>64466.760138</td>\n",
       "      <td>33.327144</td>\n",
       "      <td>8537.369666</td>\n",
       "      <td>1.0</td>\n",
       "    </tr>\n",
       "    <tr>\n",
       "      <th>40</th>\n",
       "      <td>1816.0</td>\n",
       "      <td>59046.457154</td>\n",
       "      <td>36.827120</td>\n",
       "      <td>8237.046829</td>\n",
       "      <td>1.0</td>\n",
       "    </tr>\n",
       "  </tbody>\n",
       "</table>\n",
       "</div>"
      ],
      "text/plain": [
       "    clientid        income        age         loan  default\n",
       "0     1350.0  39393.140578  52.739274  5415.054667      0.0\n",
       "1     1902.0  49048.757360  52.051794  6363.113668      0.0\n",
       "2     1923.0  40506.944007  52.241514  5961.531816      0.0\n",
       "3     1928.0  41183.824656  56.032365  7606.993239      0.0\n",
       "4     1956.0  48500.268154  61.304800  7054.606149      0.0\n",
       "5     1719.0  58809.292472  37.459189  5470.587846      0.0\n",
       "6     1760.0  59568.624320  40.558919  7685.326744      0.0\n",
       "7     1840.0  48614.849679  61.301293  5984.950784      0.0\n",
       "8     1842.0  57745.358876  36.729610  5540.464047      0.0\n",
       "9     1850.0  55763.427417  30.585448  7913.837734      0.0\n",
       "10    1875.0  55320.780007  29.417216  5990.716973      0.0\n",
       "11    1925.0  55881.541797  33.306685  8383.074165      0.0\n",
       "12    1939.0  61236.396076  36.001692  6562.903837      0.0\n",
       "13    1948.0  59299.162722  36.984277  4944.056264      0.0\n",
       "14    1979.0  58533.884683  40.518963  7832.443321      0.0\n",
       "15    1844.0  51768.005341  30.544511  6632.036203      0.0\n",
       "16    1819.0  48765.128867  50.070417  5183.859126      0.0\n",
       "17    1853.0  42465.669748  58.016570  7314.976322      0.0\n",
       "18    1805.0  40262.597641  51.798858  6535.851950      0.0\n",
       "19    1427.0  41243.805136  52.075268  4161.573148      0.0\n",
       "20    1512.0  41049.974591  49.840941  5890.113644      0.0\n",
       "21    1542.0  41052.365785  49.911707  4652.951748      0.0\n",
       "22    1543.0  37895.181733  54.515149  6071.340205      0.0\n",
       "23    1566.0  44984.899117  51.747212  4584.611816      0.0\n",
       "24    1592.0  43489.828454  51.733790  6501.041226      0.0\n",
       "25    1601.0  38157.029676  51.528140  5628.012004      0.0\n",
       "26    1607.0  42749.990318  56.419095  4626.538637      0.0\n",
       "27    1806.0  46427.499182  61.846535  5671.450560      0.0\n",
       "28    1987.0  67994.988470  38.622259  7289.014109      0.0\n",
       "29    1647.0  41916.692681  48.148708  6106.109586      0.0\n",
       "30    1662.0  44037.243985  58.440507  5269.518403      0.0\n",
       "31    1664.0  46573.244378  53.110794  5533.292189      0.0\n",
       "32    1679.0  38337.829469  55.506953  5691.093490      0.0\n",
       "33    1712.0  48933.209693  50.065783  5071.371891      0.0\n",
       "34    1746.0  43721.251811  55.127708  5923.392464      0.0\n",
       "35    1627.0  44896.256486  48.610681  3787.639141      0.0\n",
       "36    1737.0  66370.693506  38.405505  5906.034309      1.0\n",
       "37    1727.0  60974.587144  33.895749  6165.658820      1.0\n",
       "38    1862.0  57513.817463  33.092020  6921.491029      1.0\n",
       "39    1984.0  64466.760138  33.327144  8537.369666      1.0\n",
       "40    1816.0  59046.457154  36.827120  8237.046829      1.0"
      ]
     },
     "execution_count": 48,
     "metadata": {},
     "output_type": "execute_result"
    }
   ],
   "source": [
    "suspeitos_final = pd.DataFrame(suspeitos_final)\n",
    "suspeitos_final.columns = [\"clientid\",\"income\",\"age\",\"loan\",\"default\"]\n",
    "suspeitos_final"
   ]
  },
  {
   "cell_type": "code",
   "execution_count": null,
   "metadata": {},
   "outputs": [],
   "source": []
  }
 ],
 "metadata": {
  "kernelspec": {
   "display_name": "Python 3",
   "language": "python",
   "name": "python3"
  },
  "language_info": {
   "codemirror_mode": {
    "name": "ipython",
    "version": 3
   },
   "file_extension": ".py",
   "mimetype": "text/x-python",
   "name": "python",
   "nbconvert_exporter": "python",
   "pygments_lexer": "ipython3",
   "version": "3.7.3"
  }
 },
 "nbformat": 4,
 "nbformat_minor": 2
}
