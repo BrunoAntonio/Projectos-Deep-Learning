{
 "cells": [
  {
   "cell_type": "markdown",
   "metadata": {},
   "source": [
    "# Mapas Auto-Organizáveis(SOM) - Outliers"
   ]
  },
  {
   "cell_type": "code",
   "execution_count": 1,
   "metadata": {},
   "outputs": [],
   "source": [
    "import pandas as pd\n",
    "import numpy as np\n",
    "from minisom import MiniSom"
   ]
  },
  {
   "cell_type": "markdown",
   "metadata": {},
   "source": [
    "## Obter os dados"
   ]
  },
  {
   "cell_type": "code",
   "execution_count": 2,
   "metadata": {},
   "outputs": [],
   "source": [
    "base = pd.read_csv(\"personagens.csv\")"
   ]
  },
  {
   "cell_type": "code",
   "execution_count": 3,
   "metadata": {},
   "outputs": [
    {
     "data": {
      "text/html": [
       "<div>\n",
       "<style scoped>\n",
       "    .dataframe tbody tr th:only-of-type {\n",
       "        vertical-align: middle;\n",
       "    }\n",
       "\n",
       "    .dataframe tbody tr th {\n",
       "        vertical-align: top;\n",
       "    }\n",
       "\n",
       "    .dataframe thead th {\n",
       "        text-align: right;\n",
       "    }\n",
       "</style>\n",
       "<table border=\"1\" class=\"dataframe\">\n",
       "  <thead>\n",
       "    <tr style=\"text-align: right;\">\n",
       "      <th></th>\n",
       "      <th>laranja_camisa_bart</th>\n",
       "      <th>azul_calcao_bart</th>\n",
       "      <th>azul_sapato_bart</th>\n",
       "      <th>marrom_boca_homer</th>\n",
       "      <th>azul_calca_homer</th>\n",
       "      <th>cinza_sapato_homer</th>\n",
       "      <th>classe</th>\n",
       "    </tr>\n",
       "  </thead>\n",
       "  <tbody>\n",
       "    <tr>\n",
       "      <th>0</th>\n",
       "      <td>6.886102</td>\n",
       "      <td>3.495204</td>\n",
       "      <td>1.484984</td>\n",
       "      <td>0.000000</td>\n",
       "      <td>0.0</td>\n",
       "      <td>0.062954</td>\n",
       "      <td>Bart</td>\n",
       "    </tr>\n",
       "    <tr>\n",
       "      <th>1</th>\n",
       "      <td>5.004901</td>\n",
       "      <td>3.183889</td>\n",
       "      <td>1.000142</td>\n",
       "      <td>0.000000</td>\n",
       "      <td>0.0</td>\n",
       "      <td>0.033024</td>\n",
       "      <td>Bart</td>\n",
       "    </tr>\n",
       "    <tr>\n",
       "      <th>2</th>\n",
       "      <td>5.264620</td>\n",
       "      <td>5.029683</td>\n",
       "      <td>0.283567</td>\n",
       "      <td>0.000000</td>\n",
       "      <td>0.0</td>\n",
       "      <td>0.151573</td>\n",
       "      <td>Bart</td>\n",
       "    </tr>\n",
       "    <tr>\n",
       "      <th>3</th>\n",
       "      <td>0.000000</td>\n",
       "      <td>0.000000</td>\n",
       "      <td>0.000000</td>\n",
       "      <td>0.480168</td>\n",
       "      <td>0.0</td>\n",
       "      <td>0.021164</td>\n",
       "      <td>Bart</td>\n",
       "    </tr>\n",
       "    <tr>\n",
       "      <th>4</th>\n",
       "      <td>8.978929</td>\n",
       "      <td>3.459119</td>\n",
       "      <td>0.000000</td>\n",
       "      <td>0.000000</td>\n",
       "      <td>0.0</td>\n",
       "      <td>0.011593</td>\n",
       "      <td>Bart</td>\n",
       "    </tr>\n",
       "  </tbody>\n",
       "</table>\n",
       "</div>"
      ],
      "text/plain": [
       "   laranja_camisa_bart  azul_calcao_bart  azul_sapato_bart  marrom_boca_homer  \\\n",
       "0             6.886102          3.495204          1.484984           0.000000   \n",
       "1             5.004901          3.183889          1.000142           0.000000   \n",
       "2             5.264620          5.029683          0.283567           0.000000   \n",
       "3             0.000000          0.000000          0.000000           0.480168   \n",
       "4             8.978929          3.459119          0.000000           0.000000   \n",
       "\n",
       "   azul_calca_homer  cinza_sapato_homer classe  \n",
       "0               0.0            0.062954   Bart  \n",
       "1               0.0            0.033024   Bart  \n",
       "2               0.0            0.151573   Bart  \n",
       "3               0.0            0.021164   Bart  \n",
       "4               0.0            0.011593   Bart  "
      ]
     },
     "execution_count": 3,
     "metadata": {},
     "output_type": "execute_result"
    }
   ],
   "source": [
    "base.head()"
   ]
  },
  {
   "cell_type": "markdown",
   "metadata": {},
   "source": [
    "## Divisão dos dados"
   ]
  },
  {
   "cell_type": "code",
   "execution_count": 4,
   "metadata": {},
   "outputs": [],
   "source": [
    "X = base.iloc[:, 0:6].values"
   ]
  },
  {
   "cell_type": "code",
   "execution_count": 5,
   "metadata": {},
   "outputs": [],
   "source": [
    "y = base.iloc[:,6].values"
   ]
  },
  {
   "cell_type": "markdown",
   "metadata": {},
   "source": [
    "## Normalização das Variaveis"
   ]
  },
  {
   "cell_type": "code",
   "execution_count": 6,
   "metadata": {},
   "outputs": [],
   "source": [
    "from sklearn.preprocessing import MinMaxScaler"
   ]
  },
  {
   "cell_type": "code",
   "execution_count": 7,
   "metadata": {},
   "outputs": [],
   "source": [
    "# Passar os dados de entrada para uma escala de 0 a 1 para que o processamento dos dados seja mais rapido e tambem para não \n",
    "# haver variaveis que pela sua escala tenham mais influência no modelo(para não haver variáveis dominantes).\n",
    "scaler = MinMaxScaler(feature_range=(0,1))"
   ]
  },
  {
   "cell_type": "code",
   "execution_count": 8,
   "metadata": {},
   "outputs": [
    {
     "data": {
      "text/plain": [
       "MinMaxScaler(copy=True, feature_range=(0, 1))"
      ]
     },
     "execution_count": 8,
     "metadata": {},
     "output_type": "execute_result"
    }
   ],
   "source": [
    "# Ajustar a variavel X para fazer a sua normalização.\n",
    "scaler.fit(X)"
   ]
  },
  {
   "cell_type": "code",
   "execution_count": 9,
   "metadata": {},
   "outputs": [],
   "source": [
    "# Normalização da variavel X.\n",
    "X = scaler.transform(X)"
   ]
  },
  {
   "cell_type": "markdown",
   "metadata": {},
   "source": [
    "## Modelo do Mapa Auto-Organizável"
   ]
  },
  {
   "cell_type": "code",
   "execution_count": 10,
   "metadata": {},
   "outputs": [],
   "source": [
    "# x: numero de linhas da matriz de saida\n",
    "# y: numero de colunas da matriz de saida\n",
    "# input_ten: número de variaveis de entrada\n",
    "# sigma: Alcançe do raio traçado com o centro nos BMU e utilizado para a actualização dos seus vizinhos. \n",
    "# learning_rate: taxa de aprendizagem utilizada para a actualização do BMU e aproximação do seu valor ao valor do registro (e\n",
    "# consequente actualização dos valores vizinhos).\n",
    "# random_seed: Obter sempre o mesmo resultado para o modelo. A inicialização dos pesos tem sempre o mesmo valor.\n",
    "\n",
    "# ransom_weights_init: Inicialização dos pesos da base de dados\n",
    "# train_random: Treinar o modelo (num_iteration = número de epocas)\n",
    "\n",
    "# 5xsqr(N), sendo N o nº de registros. Para 1997 registros: 5xsqr(1997) = 85,58 celulas = matriz 9x9.\n",
    "\n",
    "model = MiniSom(x=9, y=9, input_len=6, sigma=1, learning_rate=0.5, random_seed=0)\n",
    "model.random_weights_init(X)\n",
    "model.train_random(data=X, num_iteration=500)"
   ]
  },
  {
   "cell_type": "markdown",
   "metadata": {},
   "source": [
    "## Visualização dos resultados"
   ]
  },
  {
   "cell_type": "code",
   "execution_count": 11,
   "metadata": {},
   "outputs": [],
   "source": [
    "from pylab import pcolor, colorbar, plot"
   ]
  },
  {
   "cell_type": "code",
   "execution_count": 12,
   "metadata": {},
   "outputs": [],
   "source": [
    "# Transformação das classes em números para associar com os markers e colors \n",
    "y[y == 'Bart'] = 0\n",
    "y[y == 'Homer'] = 1"
   ]
  },
  {
   "cell_type": "code",
   "execution_count": 13,
   "metadata": {},
   "outputs": [],
   "source": [
    "# Lista com os marcadores\n",
    "# \"o\" neurónio pertence à classe 0\n",
    "# \"s\" neurónio pertence à classe 1\n",
    "markers = [\"o\",\"s\"]"
   ]
  },
  {
   "cell_type": "code",
   "execution_count": 14,
   "metadata": {},
   "outputs": [],
   "source": [
    "# Lista com as cores\n",
    "colors = [\"r\",\"g\"]"
   ]
  },
  {
   "cell_type": "markdown",
   "metadata": {},
   "source": [
    "### Mapa Auto-Organizável"
   ]
  },
  {
   "cell_type": "code",
   "execution_count": 15,
   "metadata": {},
   "outputs": [
    {
     "data": {
      "image/png": "[encoded data removed]",
      "text/plain": [
       "<Figure size 432x288 with 2 Axes>"
      ]
     },
     "metadata": {
      "needs_background": "light"
     },
     "output_type": "display_data"
    }
   ],
   "source": [
    "# i: indice de X\n",
    "# x: linha inteira de X\n",
    "# w: BMU de cada linha\n",
    "\n",
    "# (+0.5)posicionar o simblo no meio do neurónio\n",
    "\n",
    "pcolor(model.distance_map().T)\n",
    "colorbar()\n",
    "\n",
    "for i,x in enumerate(X):\n",
    "    w = model.winner(x)\n",
    "    plot(w[0] + 0.5, w[1] + 0.5, markers[y[i]], markerfacecolor=\"None\", \n",
    "    markersize=10, markeredgecolor=colors[y[i]], markeredgewidth=2) "
   ]
  },
  {
   "cell_type": "code",
   "execution_count": 16,
   "metadata": {},
   "outputs": [],
   "source": [
    "# Sendo os outliers os neurónios amarelos, visualizando o mapa apenas existe uma coordenada dessa cor.\n",
    "# Os registros que escolheram esse neurónio como BMU têm grande probabilidade de serem outliers.\n",
    "\n",
    "# mapeamento: Dicionário com os registros que escolheram o neurónio como BMU.\n",
    "# suspeitos: Array com os neurónios suspeitos(Amarelos). Caso se aumente o número de épocas a possição dos nerónios amarelos é\n",
    "# alterada.\n",
    "\n",
    "mapeamento = model.win_map(X) \n",
    "suspeitos = mapeamento[(7,4)]\n",
    "suspeitos = scaler.inverse_transform(suspeitos) # inverter a normalização para obter o clientid"
   ]
  },
  {
   "cell_type": "code",
   "execution_count": 17,
   "metadata": {},
   "outputs": [],
   "source": [
    "# Para encontrar os possíveis outliers é necessário comparar cada uma das características da base original com a base de \n",
    "# suspeitos. Caso tivéssemos um atributo identificador para cada registro bastaria comparar o identificador.\n",
    "\n",
    "classe = []\n",
    "for i in range(len(base)):\n",
    "    for j in range(len(suspeitos)):\n",
    "       if ((base.iloc[i, 0] == suspeitos[j,0]) and\n",
    "          (base.iloc[i, 1] == suspeitos[j,1]) and\n",
    "          (base.iloc[i, 2] == suspeitos[j,2]) and\n",
    "          (base.iloc[i, 3] == suspeitos[j,3]) and\n",
    "          (base.iloc[i, 4] == suspeitos[j,4]) and\n",
    "          (base.iloc[i, 5] == suspeitos[j,5])):\n",
    "           classe.append(base.iloc[i,6])\n",
    "classe = np.asarray(classe)"
   ]
  },
  {
   "cell_type": "code",
   "execution_count": 18,
   "metadata": {},
   "outputs": [
    {
     "data": {
      "text/plain": [
       "array([0])"
      ]
     },
     "execution_count": 18,
     "metadata": {},
     "output_type": "execute_result"
    }
   ],
   "source": [
    "classe = np.array(classe)\n",
    "classe"
   ]
  },
  {
   "cell_type": "code",
   "execution_count": 19,
   "metadata": {},
   "outputs": [],
   "source": [
    "suspeitos_final = np.column_stack((suspeitos, classe)) # juntar os suspeitos e a classe\n",
    "suspeitos_final = suspeitos_final[suspeitos_final[:,4].argsort()] # ordenar de forma crescente pela coluna 4"
   ]
  },
  {
   "cell_type": "code",
   "execution_count": 20,
   "metadata": {},
   "outputs": [
    {
     "data": {
      "text/html": [
       "<div>\n",
       "<style scoped>\n",
       "    .dataframe tbody tr th:only-of-type {\n",
       "        vertical-align: middle;\n",
       "    }\n",
       "\n",
       "    .dataframe tbody tr th {\n",
       "        vertical-align: top;\n",
       "    }\n",
       "\n",
       "    .dataframe thead th {\n",
       "        text-align: right;\n",
       "    }\n",
       "</style>\n",
       "<table border=\"1\" class=\"dataframe\">\n",
       "  <thead>\n",
       "    <tr style=\"text-align: right;\">\n",
       "      <th></th>\n",
       "      <th>laranja_camisa_bart</th>\n",
       "      <th>azul_calcao_bart</th>\n",
       "      <th>azul_sapato_bart</th>\n",
       "      <th>marrom_boca_homer</th>\n",
       "      <th>azul_calca_homer</th>\n",
       "      <th>cinza_sapato_homer</th>\n",
       "      <th>classe</th>\n",
       "    </tr>\n",
       "  </thead>\n",
       "  <tbody>\n",
       "    <tr>\n",
       "      <th>0</th>\n",
       "      <td>4.658248</td>\n",
       "      <td>3.879911</td>\n",
       "      <td>1.197206</td>\n",
       "      <td>0.0</td>\n",
       "      <td>2.452788</td>\n",
       "      <td>0.009217</td>\n",
       "      <td>0.0</td>\n",
       "    </tr>\n",
       "  </tbody>\n",
       "</table>\n",
       "</div>"
      ],
      "text/plain": [
       "   laranja_camisa_bart  azul_calcao_bart  azul_sapato_bart  marrom_boca_homer  \\\n",
       "0             4.658248          3.879911          1.197206                0.0   \n",
       "\n",
       "   azul_calca_homer  cinza_sapato_homer  classe  \n",
       "0          2.452788            0.009217     0.0  "
      ]
     },
     "execution_count": 20,
     "metadata": {},
     "output_type": "execute_result"
    }
   ],
   "source": [
    "suspeitos_final = pd.DataFrame(suspeitos_final)\n",
    "suspeitos_final.columns = [\"laranja_camisa_bart\",\"azul_calcao_bart\",\"azul_sapato_bart\",\"marrom_boca_homer\",\"azul_calca_homer\",\"cinza_sapato_homer\",\"classe\"]\n",
    "suspeitos_final"
   ]
  }
 ],
 "metadata": {
  "kernelspec": {
   "display_name": "Python 3",
   "language": "python",
   "name": "python3"
  },
  "language_info": {
   "codemirror_mode": {
    "name": "ipython",
    "version": 3
   },
   "file_extension": ".py",
   "mimetype": "text/x-python",
   "name": "python",
   "nbconvert_exporter": "python",
   "pygments_lexer": "ipython3",
   "version": "3.7.3"
  }
 },
 "nbformat": 4,
 "nbformat_minor": 2
}
