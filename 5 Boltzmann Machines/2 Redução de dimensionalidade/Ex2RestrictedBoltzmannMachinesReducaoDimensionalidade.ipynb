{
 "cells": [
  {
   "cell_type": "markdown",
   "metadata": {},
   "source": [
    "# Restricted Boltzmann Machines - Redução da Dimensionalidade"
   ]
  },
  {
   "cell_type": "code",
   "execution_count": 26,
   "metadata": {},
   "outputs": [],
   "source": [
    "import numpy as np\n",
    "import pandas as pd\n",
    "import matplotlib.pyplot as plt\n",
    "from sklearn import datasets, metrics\n",
    "from sklearn.neural_network import BernoulliRBM\n",
    "from sklearn.model_selection import train_test_split\n",
    "# Importação da classe para rede neural utilizando o scikit-learn\n",
    "from sklearn.neural_network import MLPClassifier\n",
    "from sklearn.pipeline import Pipeline\n",
    "from sklearn.preprocessing import MinMaxScaler"
   ]
  },
  {
   "cell_type": "markdown",
   "metadata": {},
   "source": [
    "## Obter os dados"
   ]
  },
  {
   "cell_type": "code",
   "execution_count": 3,
   "metadata": {},
   "outputs": [],
   "source": [
    "base = datasets.load_digits()"
   ]
  },
  {
   "cell_type": "code",
   "execution_count": 4,
   "metadata": {},
   "outputs": [
    {
     "data": {
      "image/png": "[encoded data removed]",
      "text/plain": [
       "<Figure size 216x216 with 1 Axes>"
      ]
     },
     "metadata": {
      "needs_background": "light"
     },
     "output_type": "display_data"
    }
   ],
   "source": [
    "# 1º digito\n",
    "plt.figure(figsize=(3, 3))\n",
    "plt.imshow(base.images[-1], cmap=\"gray\")\n",
    "plt.show()"
   ]
  },
  {
   "cell_type": "code",
   "execution_count": 5,
   "metadata": {},
   "outputs": [
    {
     "data": {
      "text/plain": [
       "(8, 8)"
      ]
     },
     "execution_count": 5,
     "metadata": {},
     "output_type": "execute_result"
    }
   ],
   "source": [
    "# Matriz com os pixeis da imagem\n",
    "# Matriz 8x8\n",
    "pixeis = base.images[-1]\n",
    "pixeis.shape"
   ]
  },
  {
   "cell_type": "code",
   "execution_count": 6,
   "metadata": {},
   "outputs": [],
   "source": [
    "X = np.asarray(base.data)"
   ]
  },
  {
   "cell_type": "code",
   "execution_count": 7,
   "metadata": {},
   "outputs": [],
   "source": [
    "y = base.target"
   ]
  },
  {
   "cell_type": "markdown",
   "metadata": {},
   "source": [
    "# Pré-Processamento dos dados"
   ]
  },
  {
   "cell_type": "markdown",
   "metadata": {},
   "source": [
    "### Conversão dos dados para float32"
   ]
  },
  {
   "cell_type": "code",
   "execution_count": 9,
   "metadata": {},
   "outputs": [
    {
     "data": {
      "text/plain": [
       "array([], shape=(0, 64), dtype=float64)"
      ]
     },
     "execution_count": 9,
     "metadata": {},
     "output_type": "execute_result"
    }
   ],
   "source": [
    "# Como os dados vão ser convertidos para uma escala entre 0 e 1 tem-se de converter os dados de inteiro8 para float32 para que\n",
    "# os valores obtidos depois da normalização não sejam inteiros e consequentemente quase todos 0(por não haver números decimais).\n",
    "# Neste caso não era necessários porque os dados já são do tipo float64\n",
    "X[0:0]"
   ]
  },
  {
   "cell_type": "code",
   "execution_count": 10,
   "metadata": {},
   "outputs": [],
   "source": [
    "# Conversão dos dados em float 32.\n",
    "X = X.astype(\"float32\")"
   ]
  },
  {
   "cell_type": "code",
   "execution_count": 11,
   "metadata": {},
   "outputs": [
    {
     "data": {
      "text/plain": [
       "array([], shape=(0, 64), dtype=float32)"
      ]
     },
     "execution_count": 11,
     "metadata": {},
     "output_type": "execute_result"
    }
   ],
   "source": [
    "# Verificação.\n",
    "X[0:0]"
   ]
  },
  {
   "cell_type": "markdown",
   "metadata": {},
   "source": [
    "### Normalização dos pixeis"
   ]
  },
  {
   "cell_type": "code",
   "execution_count": 12,
   "metadata": {},
   "outputs": [
    {
     "data": {
      "text/plain": [
       "16.0"
      ]
     },
     "execution_count": 12,
     "metadata": {},
     "output_type": "execute_result"
    }
   ],
   "source": [
    "# passar os pixeis para uma escala de 0 a 1 para que o precessamento dos dados seja mais rapido\n",
    "# Isto pode ser feito através da tecnica min max normalization. Como cada pixel ocupa 1 byte e o byte consegue guardar 256\n",
    "# resultados possiveis(ou seja varia entre 0 e 255). \n",
    "# A normalização pode ser feita dividindo o pixel por 255 ou tambem se pode utilizar o skit-learn MinMaxScaler.\n",
    "\n",
    "# Pode-se ver que o valor máximo de um pixel é de 255\n",
    "X[9].max()"
   ]
  },
  {
   "cell_type": "code",
   "execution_count": 13,
   "metadata": {},
   "outputs": [],
   "source": [
    "# Normalizador\n",
    "scaler = MinMaxScaler(feature_range=(0,1))"
   ]
  },
  {
   "cell_type": "code",
   "execution_count": 14,
   "metadata": {},
   "outputs": [],
   "source": [
    "# Ajustar e normalizar as variaveis de entrada\n",
    "X = scaler.fit_transform(X)"
   ]
  },
  {
   "cell_type": "markdown",
   "metadata": {},
   "source": [
    "## Divisão treino-teste"
   ]
  },
  {
   "cell_type": "code",
   "execution_count": 15,
   "metadata": {},
   "outputs": [],
   "source": [
    "X_train, X_test, y_train, y_test = train_test_split(X, y, test_size = 0.2, random_state=0)"
   ]
  },
  {
   "cell_type": "code",
   "execution_count": 16,
   "metadata": {},
   "outputs": [
    {
     "data": {
      "text/plain": [
       "(1437, 64)"
      ]
     },
     "execution_count": 16,
     "metadata": {},
     "output_type": "execute_result"
    }
   ],
   "source": [
    "X_train.shape"
   ]
  },
  {
   "cell_type": "markdown",
   "metadata": {},
   "source": [
    "## Modelo da Restricted Boltzmann Machine"
   ]
  },
  {
   "cell_type": "code",
   "execution_count": 17,
   "metadata": {},
   "outputs": [],
   "source": [
    "# Não é necessário definir o número de neurónios na camada de entrada porque durante o treino o modelo sabe que são 64.\n",
    "# Matriz 8x8 pixeis=64 neurónios.\n",
    "\n",
    "# Processo de treino\n",
    "# Multiplicar os valores da camada de entrada pelos pesos(definidos aleatoriamente) para se obter os valores da camada oculta.\n",
    "# Com os valores da camada oculta reconstruir os valores da camada de entrada(registros)\n",
    "# Com os novos valores da camada de entrada obter os valores da camada oculta(multiplicando esses valores pelos pesos).\n",
    "# Com os novos valores da camada oculta reconstruir os valores da camada de entrada.\n",
    "# Estes passos são repetidos até um determinado numero de épocas ou até os registros obtidos na ultima iteração serem iguais \n",
    "# aos registros originais.\n",
    "# A reconstrução dos nós é feita utilizando a técnica de gibbs sampling.\n",
    "# Cada nó da camada de entrada é reconstruido utilizando todos os nós da camada oculta.\n",
    "# Os pesos não são actualizados durante os calculos. Os pesos aleatorios definidos no inicio mantêm-se durante todo o processo. \n",
    "# Só são actualizados no fim do processo(depois de todas as épocas ou depois dos registros obtidos na ultima epoca serem iguais\n",
    "# aos registros originais).\n",
    "\n",
    "# O que o algoritmo está a tentar fazer é através dos valores da camada de entrada(com por exemplo 6 neurónios) gerar outros\n",
    "# novos valores(por exemplo 2 neurónios) e com esses novos valores(por exemplo 2 neurónios) gerar os valores da camada de\n",
    "# entrada original(com por exemplo 6 neurónios).\n",
    "# Ou seja funciona como a redução da dimensionalidade. Por exemplo tenta-se passar de 6 dimensões para 2 dimensões mantendo o\n",
    "# máximo de informação possivel.\n",
    "\n",
    "model = BernoulliRBM(random_state = 0)\n",
    "model.n_iter = 25   # Número de épocas\n",
    "model.n_components = 50 # Número de neurónios na camada oculta. Deve-se fazer o Gidsearch para encontrar o melhor valor"
   ]
  },
  {
   "cell_type": "code",
   "execution_count": 20,
   "metadata": {},
   "outputs": [],
   "source": [
    "# Criação e configuração da rede neural usando o scikit-learn\n",
    "# hidden_layer_sizes: cria as camadas escondidas, sendo que cada número 37 representa uma camada. Neste exemplo tem-se duas \n",
    "# camadas escondidas com 37 neurônios cada uma - usada a fórmula (entradas + saídas) / 2 = (64 + 10) / 2 = 37.\n",
    "# max_iter: No máximo 1000 épocas, quando a loos function não melhora depois de um certo número de épocas a execução para.\n",
    "# No scikit-learn não é necessário configurar a camada de saída, porque isso é feito automaticamente. Definimos o  O parâmetro \n",
    "# verbose: 1 para exibir as mensagens.\n",
    "neural_network = MLPClassifier(hidden_layer_sizes = (37, 37),\n",
    "                        activation = 'relu', \n",
    "                        solver = 'adam',\n",
    "                        batch_size = 50,\n",
    "                        max_iter = 1000,\n",
    "                        verbose = 1)"
   ]
  },
  {
   "cell_type": "code",
   "execution_count": 21,
   "metadata": {},
   "outputs": [],
   "source": [
    "# Para executar mais de um processo de uma vez (tambem se podia fazer esses passos um após o outro).\n",
    "# Executa o modelo RBM para reduzir a dimensionalidade. De seguida faz-se o treino da rede neural.\n",
    "model_rbm = Pipeline(steps = [('rbm', model), ('neural network', neural_network)])"
   ]
  },
  {
   "cell_type": "code",
   "execution_count": 22,
   "metadata": {},
   "outputs": [
    {
     "name": "stdout",
     "output_type": "stream",
     "text": [
      "Iteration 1, loss = 2.22485663\n",
      "Iteration 2, loss = 1.91791032\n",
      "Iteration 3, loss = 1.53199973\n",
      "Iteration 4, loss = 1.13221422\n",
      "Iteration 5, loss = 0.82856214\n",
      "Iteration 6, loss = 0.63578179\n",
      "Iteration 7, loss = 0.52297653\n",
      "Iteration 8, loss = 0.44994743\n",
      "Iteration 9, loss = 0.39708009\n",
      "Iteration 10, loss = 0.36433616\n",
      "Iteration 11, loss = 0.33563055\n",
      "Iteration 12, loss = 0.31557420\n",
      "Iteration 13, loss = 0.29565092\n",
      "Iteration 14, loss = 0.28149015\n",
      "Iteration 15, loss = 0.27049959\n",
      "Iteration 16, loss = 0.25821287\n",
      "Iteration 17, loss = 0.25452278\n",
      "Iteration 18, loss = 0.24127401\n",
      "Iteration 19, loss = 0.23531451\n",
      "Iteration 20, loss = 0.23114606\n",
      "Iteration 21, loss = 0.22241911\n",
      "Iteration 22, loss = 0.21688134\n",
      "Iteration 23, loss = 0.21278986\n",
      "Iteration 24, loss = 0.20813024\n",
      "Iteration 25, loss = 0.20686838\n",
      "Iteration 26, loss = 0.20269955\n",
      "Iteration 27, loss = 0.19874126\n",
      "Iteration 28, loss = 0.19294306\n",
      "Iteration 29, loss = 0.19116408\n",
      "Iteration 30, loss = 0.18729420\n",
      "Iteration 31, loss = 0.18390903\n",
      "Iteration 32, loss = 0.17982869\n",
      "Iteration 33, loss = 0.17757363\n",
      "Iteration 34, loss = 0.18023526\n",
      "Iteration 35, loss = 0.17512212\n",
      "Iteration 36, loss = 0.16954819\n",
      "Iteration 37, loss = 0.16798878\n",
      "Iteration 38, loss = 0.16596234\n",
      "Iteration 39, loss = 0.16813201\n",
      "Iteration 40, loss = 0.16132745\n",
      "Iteration 41, loss = 0.15946331\n",
      "Iteration 42, loss = 0.15855984\n",
      "Iteration 43, loss = 0.15815045\n",
      "Iteration 44, loss = 0.15507496\n",
      "Iteration 45, loss = 0.15165040\n",
      "Iteration 46, loss = 0.15136215\n",
      "Iteration 47, loss = 0.14871663\n",
      "Iteration 48, loss = 0.14752954\n",
      "Iteration 49, loss = 0.14863103\n",
      "Iteration 50, loss = 0.14499025\n",
      "Iteration 51, loss = 0.14452103\n",
      "Iteration 52, loss = 0.14285253\n",
      "Iteration 53, loss = 0.14266726\n",
      "Iteration 54, loss = 0.14030808\n",
      "Iteration 55, loss = 0.13961992\n",
      "Iteration 56, loss = 0.13716963\n",
      "Iteration 57, loss = 0.13489081\n",
      "Iteration 58, loss = 0.13244816\n",
      "Iteration 59, loss = 0.13260376\n",
      "Iteration 60, loss = 0.12988736\n",
      "Iteration 61, loss = 0.13017413\n",
      "Iteration 62, loss = 0.12922582\n",
      "Iteration 63, loss = 0.12602611\n",
      "Iteration 64, loss = 0.12529747\n",
      "Iteration 65, loss = 0.12492547\n",
      "Iteration 66, loss = 0.12486463\n",
      "Iteration 67, loss = 0.12421692\n",
      "Iteration 68, loss = 0.12241611\n",
      "Iteration 69, loss = 0.11991703\n",
      "Iteration 70, loss = 0.12072153\n",
      "Iteration 71, loss = 0.11828890\n",
      "Iteration 72, loss = 0.11779825\n",
      "Iteration 73, loss = 0.11438612\n",
      "Iteration 74, loss = 0.11413452\n",
      "Iteration 75, loss = 0.11341185\n",
      "Iteration 76, loss = 0.11221054\n",
      "Iteration 77, loss = 0.11179299\n",
      "Iteration 78, loss = 0.11014858\n",
      "Iteration 79, loss = 0.11012146\n",
      "Iteration 80, loss = 0.10794753\n",
      "Iteration 81, loss = 0.10802308\n",
      "Iteration 82, loss = 0.10848019\n",
      "Iteration 83, loss = 0.10661394\n",
      "Iteration 84, loss = 0.10618080\n",
      "Iteration 85, loss = 0.10387857\n",
      "Iteration 86, loss = 0.10521662\n",
      "Iteration 87, loss = 0.10171736\n",
      "Iteration 88, loss = 0.10265344\n",
      "Iteration 89, loss = 0.10152548\n",
      "Iteration 90, loss = 0.10352023\n",
      "Iteration 91, loss = 0.09859035\n",
      "Iteration 92, loss = 0.10220651\n",
      "Iteration 93, loss = 0.09761374\n",
      "Iteration 94, loss = 0.09631318\n",
      "Iteration 95, loss = 0.09940653\n",
      "Iteration 96, loss = 0.09535480\n",
      "Iteration 97, loss = 0.09449996\n",
      "Iteration 98, loss = 0.09257718\n",
      "Iteration 99, loss = 0.09290653\n",
      "Iteration 100, loss = 0.09173563\n",
      "Iteration 101, loss = 0.09062702\n",
      "Iteration 102, loss = 0.09240997\n",
      "Iteration 103, loss = 0.09102055\n",
      "Iteration 104, loss = 0.08833925\n",
      "Iteration 105, loss = 0.08794205\n",
      "Iteration 106, loss = 0.08883203\n",
      "Iteration 107, loss = 0.08735707\n",
      "Iteration 108, loss = 0.08557589\n",
      "Iteration 109, loss = 0.08539946\n",
      "Iteration 110, loss = 0.08564953\n",
      "Iteration 111, loss = 0.08561767\n",
      "Iteration 112, loss = 0.08573314\n",
      "Iteration 113, loss = 0.08769582\n",
      "Iteration 114, loss = 0.08498708\n",
      "Iteration 115, loss = 0.08168293\n",
      "Iteration 116, loss = 0.08255616\n",
      "Iteration 117, loss = 0.08303185\n",
      "Iteration 118, loss = 0.08127416\n",
      "Iteration 119, loss = 0.07773021\n",
      "Iteration 120, loss = 0.08048199\n",
      "Iteration 121, loss = 0.07984130\n",
      "Iteration 122, loss = 0.08052174\n",
      "Iteration 123, loss = 0.07526044\n",
      "Iteration 124, loss = 0.07670417\n",
      "Iteration 125, loss = 0.07535116\n",
      "Iteration 126, loss = 0.07567604\n",
      "Iteration 127, loss = 0.07706081\n",
      "Iteration 128, loss = 0.07358219\n",
      "Iteration 129, loss = 0.07375436\n",
      "Iteration 130, loss = 0.07265834\n",
      "Iteration 131, loss = 0.07472582\n",
      "Iteration 132, loss = 0.07368368\n",
      "Iteration 133, loss = 0.07376959\n",
      "Iteration 134, loss = 0.07438515\n",
      "Iteration 135, loss = 0.06998997\n",
      "Iteration 136, loss = 0.07289273\n",
      "Iteration 137, loss = 0.06934901\n",
      "Iteration 138, loss = 0.07181467\n",
      "Iteration 139, loss = 0.06846453\n",
      "Iteration 140, loss = 0.06768867\n",
      "Iteration 141, loss = 0.06691927\n",
      "Iteration 142, loss = 0.06809420\n",
      "Iteration 143, loss = 0.06844498\n",
      "Iteration 144, loss = 0.06731833\n",
      "Iteration 145, loss = 0.06683795\n",
      "Iteration 146, loss = 0.06680114\n",
      "Iteration 147, loss = 0.06453965\n",
      "Iteration 148, loss = 0.06752967\n",
      "Iteration 149, loss = 0.06611722\n",
      "Iteration 150, loss = 0.06230294\n",
      "Iteration 151, loss = 0.06570369\n",
      "Iteration 152, loss = 0.06269671\n",
      "Iteration 153, loss = 0.06354301\n",
      "Iteration 154, loss = 0.06339867\n",
      "Iteration 155, loss = 0.06356917\n",
      "Iteration 156, loss = 0.06219076\n",
      "Iteration 157, loss = 0.05917415\n",
      "Iteration 158, loss = 0.06074895\n",
      "Iteration 159, loss = 0.06136216\n",
      "Iteration 160, loss = 0.05844398\n",
      "Iteration 161, loss = 0.06003356\n",
      "Iteration 162, loss = 0.05995773\n",
      "Iteration 163, loss = 0.06182072\n",
      "Iteration 164, loss = 0.06004484\n",
      "Iteration 165, loss = 0.05839020\n",
      "Iteration 166, loss = 0.05709168\n",
      "Iteration 167, loss = 0.05646150\n",
      "Iteration 168, loss = 0.05726252\n",
      "Iteration 169, loss = 0.05487624\n",
      "Iteration 170, loss = 0.05508369\n",
      "Iteration 171, loss = 0.05708204\n",
      "Iteration 172, loss = 0.05471471\n",
      "Iteration 173, loss = 0.05285976\n",
      "Iteration 174, loss = 0.05437931\n",
      "Iteration 175, loss = 0.05523006\n",
      "Iteration 176, loss = 0.05336386\n",
      "Iteration 177, loss = 0.05641693\n",
      "Iteration 178, loss = 0.05409917\n",
      "Iteration 179, loss = 0.05257043\n",
      "Iteration 180, loss = 0.05269684\n",
      "Iteration 181, loss = 0.05212438\n",
      "Iteration 182, loss = 0.05176450\n",
      "Iteration 183, loss = 0.05224377\n",
      "Iteration 184, loss = 0.05182812\n",
      "Iteration 185, loss = 0.05154583\n",
      "Iteration 186, loss = 0.04955321\n",
      "Iteration 187, loss = 0.04958349\n",
      "Iteration 188, loss = 0.05172850\n",
      "Iteration 189, loss = 0.04946608\n",
      "Iteration 190, loss = 0.04748586\n",
      "Iteration 191, loss = 0.05141223\n",
      "Iteration 192, loss = 0.04676740\n",
      "Iteration 193, loss = 0.04969673\n",
      "Iteration 194, loss = 0.04613987\n",
      "Iteration 195, loss = 0.04589766\n",
      "Iteration 196, loss = 0.04797595\n",
      "Iteration 197, loss = 0.04419926\n",
      "Iteration 198, loss = 0.04732405\n",
      "Iteration 199, loss = 0.04534638\n",
      "Iteration 200, loss = 0.04777470\n",
      "Iteration 201, loss = 0.04518128\n",
      "Iteration 202, loss = 0.04390877\n",
      "Iteration 203, loss = 0.04348930\n",
      "Iteration 204, loss = 0.04434320\n",
      "Iteration 205, loss = 0.04184016\n",
      "Iteration 206, loss = 0.04139967\n",
      "Iteration 207, loss = 0.04598242\n",
      "Iteration 208, loss = 0.04354811\n",
      "Iteration 209, loss = 0.04449208\n",
      "Iteration 210, loss = 0.04351944\n",
      "Iteration 211, loss = 0.04431491\n",
      "Iteration 212, loss = 0.04370424\n",
      "Iteration 213, loss = 0.04228364\n",
      "Iteration 214, loss = 0.04229185\n",
      "Iteration 215, loss = 0.04040708\n",
      "Iteration 216, loss = 0.03938195\n",
      "Iteration 217, loss = 0.04105823\n",
      "Iteration 218, loss = 0.03875591\n",
      "Iteration 219, loss = 0.04040984\n",
      "Iteration 220, loss = 0.04163300\n",
      "Iteration 221, loss = 0.04083016\n",
      "Iteration 222, loss = 0.03916246\n",
      "Iteration 223, loss = 0.03908667\n",
      "Iteration 224, loss = 0.03934742\n",
      "Iteration 225, loss = 0.03800824\n",
      "Iteration 226, loss = 0.03729340\n",
      "Iteration 227, loss = 0.03641660\n",
      "Iteration 228, loss = 0.03598313\n",
      "Iteration 229, loss = 0.03587900\n",
      "Iteration 230, loss = 0.03521413\n",
      "Iteration 231, loss = 0.03822543\n",
      "Iteration 232, loss = 0.03651310\n",
      "Iteration 233, loss = 0.03578309\n",
      "Iteration 234, loss = 0.03551516\n",
      "Iteration 235, loss = 0.03499771\n",
      "Iteration 236, loss = 0.03874335\n",
      "Iteration 237, loss = 0.03870798\n",
      "Iteration 238, loss = 0.03379485\n",
      "Iteration 239, loss = 0.03433567\n",
      "Iteration 240, loss = 0.03379177\n",
      "Iteration 241, loss = 0.03232660\n",
      "Iteration 242, loss = 0.03521980\n",
      "Iteration 243, loss = 0.03172370\n",
      "Iteration 244, loss = 0.03290533\n",
      "Iteration 245, loss = 0.03327690\n",
      "Iteration 246, loss = 0.03279352\n",
      "Iteration 247, loss = 0.03437785\n",
      "Iteration 248, loss = 0.03224961\n",
      "Iteration 249, loss = 0.03308925\n",
      "Iteration 250, loss = 0.03176486\n",
      "Iteration 251, loss = 0.03243118\n",
      "Iteration 252, loss = 0.03075773\n",
      "Iteration 253, loss = 0.03490661\n",
      "Iteration 254, loss = 0.03344818\n",
      "Iteration 255, loss = 0.03104640\n"
     ]
    },
    {
     "name": "stdout",
     "output_type": "stream",
     "text": [
      "Iteration 256, loss = 0.02967953\n",
      "Iteration 257, loss = 0.03050210\n",
      "Iteration 258, loss = 0.03133217\n",
      "Iteration 259, loss = 0.03002768\n",
      "Iteration 260, loss = 0.03062089\n",
      "Iteration 261, loss = 0.02922206\n",
      "Iteration 262, loss = 0.03056696\n",
      "Iteration 263, loss = 0.02982445\n",
      "Iteration 264, loss = 0.02739860\n",
      "Iteration 265, loss = 0.02911129\n",
      "Iteration 266, loss = 0.02827870\n",
      "Iteration 267, loss = 0.02906664\n",
      "Iteration 268, loss = 0.02807859\n",
      "Iteration 269, loss = 0.03151055\n",
      "Iteration 270, loss = 0.02946773\n",
      "Iteration 271, loss = 0.02981772\n",
      "Iteration 272, loss = 0.02877032\n",
      "Iteration 273, loss = 0.02782396\n",
      "Iteration 274, loss = 0.03016619\n",
      "Iteration 275, loss = 0.02807151\n",
      "Training loss did not improve more than tol=0.000100 for 10 consecutive epochs. Stopping.\n"
     ]
    },
    {
     "data": {
      "text/plain": [
       "Pipeline(memory=None,\n",
       "     steps=[('rbm', BernoulliRBM(batch_size=10, learning_rate=0.1, n_components=50, n_iter=25,\n",
       "       random_state=0, verbose=0)), ('neural network', MLPClassifier(activation='relu', alpha=0.0001, batch_size=50, beta_1=0.9,\n",
       "       beta_2=0.999, early_stopping=False, epsilon=1e-08,\n",
       "       hidden_layer_siz...ffle=True, solver='adam', tol=0.0001,\n",
       "       validation_fraction=0.1, verbose=1, warm_start=False))])"
      ]
     },
     "execution_count": 22,
     "metadata": {},
     "output_type": "execute_result"
    }
   ],
   "source": [
    "# Ajustar os dados de entrada de treino aos dados de saida de treino para treinar o modelo.\n",
    "model_rbm.fit(X_train, y_train)"
   ]
  },
  {
   "cell_type": "markdown",
   "metadata": {},
   "source": [
    "## Previsão e Avaliação do Modelo CNN"
   ]
  },
  {
   "cell_type": "markdown",
   "metadata": {},
   "source": [
    "### Visualização das novas imagens"
   ]
  },
  {
   "cell_type": "code",
   "execution_count": 23,
   "metadata": {},
   "outputs": [
    {
     "data": {
      "image/png": "[encoded data removed]",
      "text/plain": [
       "<Figure size 1440x1440 with 50 Axes>"
      ]
     },
     "metadata": {},
     "output_type": "display_data"
    }
   ],
   "source": [
    "# Imagens com um menor número de pixeis feito através da redução da dimensionalidade(passou-se de 60 pixeis para 50, que é o\n",
    "# número de neurónios da camada oculta da Restricted Boltzman Machine).\n",
    "\n",
    "plt.figure(figsize=(20,20))\n",
    "for i, comp in enumerate(model.components_):\n",
    "    plt.subplot(10, 10, i + 1)\n",
    "    plt.imshow(comp.reshape((8,8)), cmap=plt.cm.gray_r)\n",
    "    plt.xticks(())\n",
    "    plt.yticks(())\n",
    "plt.show()"
   ]
  },
  {
   "cell_type": "markdown",
   "metadata": {},
   "source": [
    "### Avaliação do modelo"
   ]
  },
  {
   "cell_type": "code",
   "execution_count": 24,
   "metadata": {},
   "outputs": [
    {
     "data": {
      "text/plain": [
       "6"
      ]
     },
     "execution_count": 24,
     "metadata": {},
     "output_type": "execute_result"
    }
   ],
   "source": [
    "predictions = model_rbm.predict(X_test)\n",
    "predictions[3]"
   ]
  },
  {
   "cell_type": "code",
   "execution_count": 27,
   "metadata": {},
   "outputs": [
    {
     "data": {
      "text/html": [
       "<div>\n",
       "<style scoped>\n",
       "    .dataframe tbody tr th:only-of-type {\n",
       "        vertical-align: middle;\n",
       "    }\n",
       "\n",
       "    .dataframe tbody tr th {\n",
       "        vertical-align: top;\n",
       "    }\n",
       "\n",
       "    .dataframe thead th {\n",
       "        text-align: right;\n",
       "    }\n",
       "</style>\n",
       "<table border=\"1\" class=\"dataframe\">\n",
       "  <thead>\n",
       "    <tr style=\"text-align: right;\">\n",
       "      <th></th>\n",
       "      <th>prediction index</th>\n",
       "      <th>teste index</th>\n",
       "    </tr>\n",
       "  </thead>\n",
       "  <tbody>\n",
       "    <tr>\n",
       "      <th>0</th>\n",
       "      <td>2</td>\n",
       "      <td>2</td>\n",
       "    </tr>\n",
       "    <tr>\n",
       "      <th>1</th>\n",
       "      <td>8</td>\n",
       "      <td>8</td>\n",
       "    </tr>\n",
       "    <tr>\n",
       "      <th>2</th>\n",
       "      <td>2</td>\n",
       "      <td>2</td>\n",
       "    </tr>\n",
       "    <tr>\n",
       "      <th>3</th>\n",
       "      <td>6</td>\n",
       "      <td>6</td>\n",
       "    </tr>\n",
       "    <tr>\n",
       "      <th>4</th>\n",
       "      <td>6</td>\n",
       "      <td>6</td>\n",
       "    </tr>\n",
       "  </tbody>\n",
       "</table>\n",
       "</div>"
      ],
      "text/plain": [
       "   prediction index  teste index\n",
       "0                 2            2\n",
       "1                 8            8\n",
       "2                 2            2\n",
       "3                 6            6\n",
       "4                 6            6"
      ]
     },
     "execution_count": 27,
     "metadata": {},
     "output_type": "execute_result"
    }
   ],
   "source": [
    "# Comparação entre os números obtidos usando o X_test(predicion) e y_test(reais).\n",
    "pd.DataFrame({\"prediction index\": predictions, \"teste index\":y_test}).head(5)"
   ]
  },
  {
   "cell_type": "code",
   "execution_count": 28,
   "metadata": {},
   "outputs": [],
   "source": [
    "from sklearn.metrics import classification_report, confusion_matrix"
   ]
  },
  {
   "cell_type": "code",
   "execution_count": 29,
   "metadata": {},
   "outputs": [
    {
     "name": "stdout",
     "output_type": "stream",
     "text": [
      "              precision    recall  f1-score   support\n",
      "\n",
      "           0       1.00      1.00      1.00        27\n",
      "           1       1.00      0.89      0.94        35\n",
      "           2       1.00      0.94      0.97        36\n",
      "           3       0.88      1.00      0.94        29\n",
      "           4       0.97      0.97      0.97        30\n",
      "           5       0.95      0.95      0.95        40\n",
      "           6       1.00      0.98      0.99        44\n",
      "           7       0.95      0.97      0.96        39\n",
      "           8       0.86      0.97      0.92        39\n",
      "           9       0.95      0.88      0.91        41\n",
      "\n",
      "   micro avg       0.95      0.95      0.95       360\n",
      "   macro avg       0.96      0.96      0.95       360\n",
      "weighted avg       0.96      0.95      0.95       360\n",
      "\n"
     ]
    }
   ],
   "source": [
    "#Relatório de classificação\n",
    "#Ver como o modelo se ajusta para os dados de teste\n",
    "print(classification_report(y_test, predictions))"
   ]
  },
  {
   "cell_type": "code",
   "execution_count": 30,
   "metadata": {},
   "outputs": [
    {
     "data": {
      "text/plain": [
       "0.9527777777777777"
      ]
     },
     "execution_count": 30,
     "metadata": {},
     "output_type": "execute_result"
    }
   ],
   "source": [
    "# Calculo da precision utilizando o metrics do SkLearn\n",
    "precision = metrics.accuracy_score(predictions, y_test)\n",
    "precision"
   ]
  },
  {
   "cell_type": "code",
   "execution_count": 31,
   "metadata": {},
   "outputs": [],
   "source": [
    "confusion = confusion_matrix(y_test,predictions)"
   ]
  },
  {
   "cell_type": "code",
   "execution_count": 32,
   "metadata": {},
   "outputs": [
    {
     "data": {
      "text/html": [
       "<div>\n",
       "<style scoped>\n",
       "    .dataframe tbody tr th:only-of-type {\n",
       "        vertical-align: middle;\n",
       "    }\n",
       "\n",
       "    .dataframe tbody tr th {\n",
       "        vertical-align: top;\n",
       "    }\n",
       "\n",
       "    .dataframe thead tr th {\n",
       "        text-align: left;\n",
       "    }\n",
       "</style>\n",
       "<table border=\"1\" class=\"dataframe\">\n",
       "  <thead>\n",
       "    <tr>\n",
       "      <th></th>\n",
       "      <th></th>\n",
       "      <th colspan=\"4\" halign=\"left\"></th>\n",
       "      <th>Predicted</th>\n",
       "      <th colspan=\"5\" halign=\"left\"></th>\n",
       "    </tr>\n",
       "    <tr>\n",
       "      <th></th>\n",
       "      <th></th>\n",
       "      <th>0</th>\n",
       "      <th>1</th>\n",
       "      <th>2</th>\n",
       "      <th>3</th>\n",
       "      <th>4</th>\n",
       "      <th>5</th>\n",
       "      <th>6</th>\n",
       "      <th>7</th>\n",
       "      <th>8</th>\n",
       "      <th>9</th>\n",
       "    </tr>\n",
       "  </thead>\n",
       "  <tbody>\n",
       "    <tr>\n",
       "      <th rowspan=\"4\" valign=\"top\"></th>\n",
       "      <th>0</th>\n",
       "      <td>27</td>\n",
       "      <td>0</td>\n",
       "      <td>0</td>\n",
       "      <td>0</td>\n",
       "      <td>0</td>\n",
       "      <td>0</td>\n",
       "      <td>0</td>\n",
       "      <td>0</td>\n",
       "      <td>0</td>\n",
       "      <td>0</td>\n",
       "    </tr>\n",
       "    <tr>\n",
       "      <th>1</th>\n",
       "      <td>0</td>\n",
       "      <td>31</td>\n",
       "      <td>0</td>\n",
       "      <td>0</td>\n",
       "      <td>0</td>\n",
       "      <td>1</td>\n",
       "      <td>0</td>\n",
       "      <td>0</td>\n",
       "      <td>3</td>\n",
       "      <td>0</td>\n",
       "    </tr>\n",
       "    <tr>\n",
       "      <th>2</th>\n",
       "      <td>0</td>\n",
       "      <td>0</td>\n",
       "      <td>34</td>\n",
       "      <td>1</td>\n",
       "      <td>0</td>\n",
       "      <td>0</td>\n",
       "      <td>0</td>\n",
       "      <td>0</td>\n",
       "      <td>1</td>\n",
       "      <td>0</td>\n",
       "    </tr>\n",
       "    <tr>\n",
       "      <th>3</th>\n",
       "      <td>0</td>\n",
       "      <td>0</td>\n",
       "      <td>0</td>\n",
       "      <td>29</td>\n",
       "      <td>0</td>\n",
       "      <td>0</td>\n",
       "      <td>0</td>\n",
       "      <td>0</td>\n",
       "      <td>0</td>\n",
       "      <td>0</td>\n",
       "    </tr>\n",
       "    <tr>\n",
       "      <th>Actual</th>\n",
       "      <th>4</th>\n",
       "      <td>0</td>\n",
       "      <td>0</td>\n",
       "      <td>0</td>\n",
       "      <td>0</td>\n",
       "      <td>29</td>\n",
       "      <td>0</td>\n",
       "      <td>0</td>\n",
       "      <td>1</td>\n",
       "      <td>0</td>\n",
       "      <td>0</td>\n",
       "    </tr>\n",
       "    <tr>\n",
       "      <th rowspan=\"5\" valign=\"top\"></th>\n",
       "      <th>5</th>\n",
       "      <td>0</td>\n",
       "      <td>0</td>\n",
       "      <td>0</td>\n",
       "      <td>0</td>\n",
       "      <td>0</td>\n",
       "      <td>38</td>\n",
       "      <td>0</td>\n",
       "      <td>0</td>\n",
       "      <td>0</td>\n",
       "      <td>2</td>\n",
       "    </tr>\n",
       "    <tr>\n",
       "      <th>6</th>\n",
       "      <td>0</td>\n",
       "      <td>0</td>\n",
       "      <td>0</td>\n",
       "      <td>0</td>\n",
       "      <td>0</td>\n",
       "      <td>0</td>\n",
       "      <td>43</td>\n",
       "      <td>0</td>\n",
       "      <td>1</td>\n",
       "      <td>0</td>\n",
       "    </tr>\n",
       "    <tr>\n",
       "      <th>7</th>\n",
       "      <td>0</td>\n",
       "      <td>0</td>\n",
       "      <td>0</td>\n",
       "      <td>0</td>\n",
       "      <td>1</td>\n",
       "      <td>0</td>\n",
       "      <td>0</td>\n",
       "      <td>38</td>\n",
       "      <td>0</td>\n",
       "      <td>0</td>\n",
       "    </tr>\n",
       "    <tr>\n",
       "      <th>8</th>\n",
       "      <td>0</td>\n",
       "      <td>0</td>\n",
       "      <td>0</td>\n",
       "      <td>0</td>\n",
       "      <td>0</td>\n",
       "      <td>0</td>\n",
       "      <td>0</td>\n",
       "      <td>1</td>\n",
       "      <td>38</td>\n",
       "      <td>0</td>\n",
       "    </tr>\n",
       "    <tr>\n",
       "      <th>9</th>\n",
       "      <td>0</td>\n",
       "      <td>0</td>\n",
       "      <td>0</td>\n",
       "      <td>3</td>\n",
       "      <td>0</td>\n",
       "      <td>1</td>\n",
       "      <td>0</td>\n",
       "      <td>0</td>\n",
       "      <td>1</td>\n",
       "      <td>36</td>\n",
       "    </tr>\n",
       "  </tbody>\n",
       "</table>\n",
       "</div>"
      ],
      "text/plain": [
       "                         Predicted                    \n",
       "           0   1   2   3         4   5   6   7   8   9\n",
       "       0  27   0   0   0         0   0   0   0   0   0\n",
       "       1   0  31   0   0         0   1   0   0   3   0\n",
       "       2   0   0  34   1         0   0   0   0   1   0\n",
       "       3   0   0   0  29         0   0   0   0   0   0\n",
       "Actual 4   0   0   0   0        29   0   0   1   0   0\n",
       "       5   0   0   0   0         0  38   0   0   0   2\n",
       "       6   0   0   0   0         0   0  43   0   1   0\n",
       "       7   0   0   0   0         1   0   0  38   0   0\n",
       "       8   0   0   0   0         0   0   0   1  38   0\n",
       "       9   0   0   0   3         0   1   0   0   1  36"
      ]
     },
     "execution_count": 32,
     "metadata": {},
     "output_type": "execute_result"
    }
   ],
   "source": [
    "#Matriz de confusão\n",
    "outside_columns = [\"\",\"\",\"\",\"\",\"Predicted\",\"\",\"\",\"\",\"\",\"\"]\n",
    "outside_index = [\"\",\"\",\"\",\"\",\"Actual\",\"\",\"\",\"\",\"\",\"\"]\n",
    "inside = [\"0\",\"1\",\"2\",\"3\",\"4\",\"5\",\"6\",\"7\",\"8\",\"9\"]\n",
    "\n",
    "hier_columns = list(zip(outside_columns, inside))\n",
    "hier_columns = pd.MultiIndex.from_tuples(hier_columns)\n",
    "\n",
    "hier_index = list(zip(outside_index, inside))\n",
    "hier_index = pd.MultiIndex.from_tuples(hier_index)\n",
    "\n",
    "pd.DataFrame(confusion, columns=hier_columns, index = hier_index)"
   ]
  },
  {
   "cell_type": "markdown",
   "metadata": {},
   "source": [
    "### Previsão de uma imagem"
   ]
  },
  {
   "cell_type": "code",
   "execution_count": 40,
   "metadata": {},
   "outputs": [
    {
     "data": {
      "text/plain": [
       "(1, 64)"
      ]
     },
     "execution_count": 40,
     "metadata": {},
     "output_type": "execute_result"
    }
   ],
   "source": [
    "image = np.expand_dims(X_test[4],axis = 0)\n",
    "image.shape"
   ]
  },
  {
   "cell_type": "code",
   "execution_count": 41,
   "metadata": {},
   "outputs": [
    {
     "data": {
      "text/plain": [
       "<matplotlib.image.AxesImage at 0x7b67497dd8>"
      ]
     },
     "execution_count": 41,
     "metadata": {},
     "output_type": "execute_result"
    },
    {
     "data": {
      "image/png": "[encoded data removed]",
      "text/plain": [
       "<Figure size 432x288 with 1 Axes>"
      ]
     },
     "metadata": {
      "needs_background": "light"
     },
     "output_type": "display_data"
    }
   ],
   "source": [
    "# Visualização do número da imagem\n",
    "plt.imshow(X_test[4].reshape(8,8), cmap=\"gray\")"
   ]
  },
  {
   "cell_type": "code",
   "execution_count": 42,
   "metadata": {},
   "outputs": [
    {
     "data": {
      "text/plain": [
       "array([6])"
      ]
     },
     "execution_count": 42,
     "metadata": {},
     "output_type": "execute_result"
    }
   ],
   "source": [
    "# Previsão do número na imagem\n",
    "\n",
    "# Como é um problema de classificação multiclasse, considera-se que a imagem pertence à classe que tem a probabilidade mais \n",
    "# alta.\n",
    "result = model_rbm.predict(image)\n",
    "result"
   ]
  },
  {
   "cell_type": "markdown",
   "metadata": {},
   "source": [
    "# Sem utilização da redução de dimensionalidade"
   ]
  },
  {
   "cell_type": "code",
   "execution_count": 33,
   "metadata": {},
   "outputs": [],
   "source": [
    "# Criação da rede neural simples sem o uso da redução de dimensionalidade\n",
    "neural_network_simples = MLPClassifier(hidden_layer_sizes = (37, 37),\n",
    "                        activation = 'relu', \n",
    "                        solver = 'adam',\n",
    "                        batch_size = 50,\n",
    "                        max_iter = 1000,\n",
    "                        verbose = 1)"
   ]
  },
  {
   "cell_type": "code",
   "execution_count": 34,
   "metadata": {},
   "outputs": [
    {
     "name": "stdout",
     "output_type": "stream",
     "text": [
      "Iteration 1, loss = 2.18653895\n",
      "Iteration 2, loss = 1.89565109\n",
      "Iteration 3, loss = 1.50334385\n",
      "Iteration 4, loss = 1.05156151\n",
      "Iteration 5, loss = 0.71501805\n",
      "Iteration 6, loss = 0.51606560\n",
      "Iteration 7, loss = 0.40124493\n",
      "Iteration 8, loss = 0.32848677\n",
      "Iteration 9, loss = 0.27742705\n",
      "Iteration 10, loss = 0.24409105\n",
      "Iteration 11, loss = 0.21487278\n",
      "Iteration 12, loss = 0.18931663\n",
      "Iteration 13, loss = 0.17369600\n",
      "Iteration 14, loss = 0.15693028\n",
      "Iteration 15, loss = 0.14202328\n",
      "Iteration 16, loss = 0.13148260\n",
      "Iteration 17, loss = 0.12171345\n",
      "Iteration 18, loss = 0.11536189\n",
      "Iteration 19, loss = 0.10624933\n",
      "Iteration 20, loss = 0.09776273\n",
      "Iteration 21, loss = 0.09057039\n",
      "Iteration 22, loss = 0.08729899\n",
      "Iteration 23, loss = 0.08195973\n",
      "Iteration 24, loss = 0.07751998\n",
      "Iteration 25, loss = 0.07372016\n",
      "Iteration 26, loss = 0.07050672\n",
      "Iteration 27, loss = 0.06652948\n",
      "Iteration 28, loss = 0.06373157\n",
      "Iteration 29, loss = 0.06116518\n",
      "Iteration 30, loss = 0.05773766\n",
      "Iteration 31, loss = 0.05328186\n",
      "Iteration 32, loss = 0.05297830\n",
      "Iteration 33, loss = 0.05243352\n",
      "Iteration 34, loss = 0.04879381\n",
      "Iteration 35, loss = 0.04452805\n",
      "Iteration 36, loss = 0.04345113\n",
      "Iteration 37, loss = 0.04087831\n",
      "Iteration 38, loss = 0.03945925\n",
      "Iteration 39, loss = 0.03704091\n",
      "Iteration 40, loss = 0.03506716\n",
      "Iteration 41, loss = 0.03502681\n",
      "Iteration 42, loss = 0.03180403\n",
      "Iteration 43, loss = 0.03131135\n",
      "Iteration 44, loss = 0.02878895\n",
      "Iteration 45, loss = 0.02843509\n",
      "Iteration 46, loss = 0.02726617\n",
      "Iteration 47, loss = 0.02525269\n",
      "Iteration 48, loss = 0.02490220\n",
      "Iteration 49, loss = 0.02390064\n",
      "Iteration 50, loss = 0.02383054\n",
      "Iteration 51, loss = 0.02241688\n",
      "Iteration 52, loss = 0.02145212\n",
      "Iteration 53, loss = 0.01970700\n",
      "Iteration 54, loss = 0.01955956\n",
      "Iteration 55, loss = 0.01860476\n",
      "Iteration 56, loss = 0.01818002\n",
      "Iteration 57, loss = 0.01762333\n",
      "Iteration 58, loss = 0.01726019\n",
      "Iteration 59, loss = 0.01672144\n",
      "Iteration 60, loss = 0.01560556\n",
      "Iteration 61, loss = 0.01492022\n",
      "Iteration 62, loss = 0.01557159\n",
      "Iteration 63, loss = 0.01424323\n",
      "Iteration 64, loss = 0.01381329\n",
      "Iteration 65, loss = 0.01308757\n",
      "Iteration 66, loss = 0.01217653\n",
      "Iteration 67, loss = 0.01219782\n",
      "Iteration 68, loss = 0.01185669\n",
      "Iteration 69, loss = 0.01114514\n",
      "Iteration 70, loss = 0.01105569\n",
      "Iteration 71, loss = 0.01039098\n",
      "Iteration 72, loss = 0.00981740\n",
      "Iteration 73, loss = 0.00963745\n",
      "Iteration 74, loss = 0.00910851\n",
      "Iteration 75, loss = 0.00971857\n",
      "Iteration 76, loss = 0.00865499\n",
      "Iteration 77, loss = 0.00885825\n",
      "Iteration 78, loss = 0.00801982\n",
      "Iteration 79, loss = 0.00803756\n",
      "Iteration 80, loss = 0.00824009\n",
      "Iteration 81, loss = 0.00740671\n",
      "Iteration 82, loss = 0.00761989\n",
      "Iteration 83, loss = 0.00740961\n",
      "Iteration 84, loss = 0.00670373\n",
      "Iteration 85, loss = 0.00644204\n",
      "Iteration 86, loss = 0.00636526\n",
      "Iteration 87, loss = 0.00646958\n",
      "Iteration 88, loss = 0.00584912\n",
      "Iteration 89, loss = 0.00569578\n",
      "Iteration 90, loss = 0.00576221\n",
      "Iteration 91, loss = 0.00544856\n",
      "Iteration 92, loss = 0.00523398\n",
      "Iteration 93, loss = 0.00529407\n",
      "Iteration 94, loss = 0.00512442\n",
      "Iteration 95, loss = 0.00502572\n",
      "Iteration 96, loss = 0.00462990\n",
      "Iteration 97, loss = 0.00454216\n",
      "Iteration 98, loss = 0.00442448\n",
      "Iteration 99, loss = 0.00430571\n",
      "Iteration 100, loss = 0.00421443\n",
      "Iteration 101, loss = 0.00415207\n",
      "Iteration 102, loss = 0.00396125\n",
      "Iteration 103, loss = 0.00393511\n",
      "Iteration 104, loss = 0.00381922\n",
      "Iteration 105, loss = 0.00363725\n",
      "Iteration 106, loss = 0.00373517\n",
      "Iteration 107, loss = 0.00386308\n",
      "Iteration 108, loss = 0.00347388\n",
      "Iteration 109, loss = 0.00347524\n",
      "Iteration 110, loss = 0.00326521\n",
      "Iteration 111, loss = 0.00312160\n",
      "Iteration 112, loss = 0.00343466\n",
      "Iteration 113, loss = 0.00308965\n",
      "Iteration 114, loss = 0.00302675\n",
      "Iteration 115, loss = 0.00279464\n",
      "Iteration 116, loss = 0.00274393\n",
      "Iteration 117, loss = 0.00272267\n",
      "Iteration 118, loss = 0.00270230\n",
      "Iteration 119, loss = 0.00268354\n",
      "Iteration 120, loss = 0.00259718\n",
      "Iteration 121, loss = 0.00254717\n",
      "Iteration 122, loss = 0.00247303\n",
      "Iteration 123, loss = 0.00245077\n",
      "Iteration 124, loss = 0.00242932\n",
      "Iteration 125, loss = 0.00231459\n",
      "Iteration 126, loss = 0.00223773\n",
      "Iteration 127, loss = 0.00217973\n",
      "Iteration 128, loss = 0.00210818\n",
      "Iteration 129, loss = 0.00213325\n",
      "Iteration 130, loss = 0.00213359\n",
      "Iteration 131, loss = 0.00202108\n",
      "Iteration 132, loss = 0.00198214\n",
      "Iteration 133, loss = 0.00208457\n",
      "Iteration 134, loss = 0.00189919\n",
      "Iteration 135, loss = 0.00188693\n",
      "Iteration 136, loss = 0.00188318\n",
      "Training loss did not improve more than tol=0.000100 for 10 consecutive epochs. Stopping.\n"
     ]
    },
    {
     "data": {
      "text/plain": [
       "MLPClassifier(activation='relu', alpha=0.0001, batch_size=50, beta_1=0.9,\n",
       "       beta_2=0.999, early_stopping=False, epsilon=1e-08,\n",
       "       hidden_layer_sizes=(37, 37), learning_rate='constant',\n",
       "       learning_rate_init=0.001, max_iter=1000, momentum=0.9,\n",
       "       n_iter_no_change=10, nesterovs_momentum=True, power_t=0.5,\n",
       "       random_state=None, shuffle=True, solver='adam', tol=0.0001,\n",
       "       validation_fraction=0.1, verbose=1, warm_start=False)"
      ]
     },
     "execution_count": 34,
     "metadata": {},
     "output_type": "execute_result"
    }
   ],
   "source": [
    "# Ajuste do modelo Naive Bayes aos dados de treino para fazer o treino do modelo.\n",
    "neural_network_simples.fit(X_train, y_train)"
   ]
  },
  {
   "cell_type": "code",
   "execution_count": 36,
   "metadata": {},
   "outputs": [],
   "source": [
    "# Previsões para os dados de teste.\n",
    "predictions_neural_network = neural_network_simples.predict(X_test)"
   ]
  },
  {
   "cell_type": "code",
   "execution_count": 38,
   "metadata": {},
   "outputs": [],
   "source": [
    "# Calculo da precison do modelo.\n",
    "predictions_neural_network = metrics.accuracy_score(predictions_neural_network, y_test)"
   ]
  },
  {
   "cell_type": "code",
   "execution_count": 39,
   "metadata": {},
   "outputs": [
    {
     "data": {
      "text/plain": [
       "0.9777777777777777"
      ]
     },
     "execution_count": 39,
     "metadata": {},
     "output_type": "execute_result"
    }
   ],
   "source": [
    "# precision de 0.95. Com a redução de dimensionalidade tem-se precision de 0.97.\n",
    "predictions_neural_network"
   ]
  },
  {
   "cell_type": "code",
   "execution_count": null,
   "metadata": {},
   "outputs": [],
   "source": []
  }
 ],
 "metadata": {
  "kernelspec": {
   "display_name": "Python 3",
   "language": "python",
   "name": "python3"
  },
  "language_info": {
   "codemirror_mode": {
    "name": "ipython",
    "version": 3
   },
   "file_extension": ".py",
   "mimetype": "text/x-python",
   "name": "python",
   "nbconvert_exporter": "python",
   "pygments_lexer": "ipython3",
   "version": "3.7.3"
  }
 },
 "nbformat": 4,
 "nbformat_minor": 2
}
