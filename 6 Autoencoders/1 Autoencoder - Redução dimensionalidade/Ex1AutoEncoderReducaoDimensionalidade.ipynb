{
 "cells": [
  {
   "cell_type": "markdown",
   "metadata": {},
   "source": [
    "# Autoencoder - Redução de dimensionalidade"
   ]
  },
  {
   "cell_type": "code",
   "execution_count": 3,
   "metadata": {},
   "outputs": [],
   "source": [
    "# Algoritmo Autoencoder - Algoritmo não supervisionado. \n",
    "# É um algoritmo self-supervised learning, aprendizagem por si próprio. O que o algoritmo faz é aprender a classificar os\n",
    "# registros da camada de saida de acordo com os valores da camada de entrada. O algoritmo aprende a codificaar e descodificar\n",
    "# por si próprio. É como se os registros codificados fossem uma classe.\n",
    "\n",
    "# Tem uma camada de entrada, uma camada oculta e a camada de saida.\n",
    "# O nº de neurónios da camada de saida é igual ao da camada de entrada.\n",
    "# Cada neuronio da camada de entrada está ligado a todos os neurónios da camada oculta(fully connected).\n",
    "# Cada neurónio da camada oculta está ligado a todos os neurónios da camada de saida(fully connected).\n",
    "\n",
    "# Da camada de entrada para a camada oculta faz-se uma codificação dos valores da camada de entrada utilizando os pesos.\n",
    "# Por ex. tem-se na camada de entrada (1 0 1 0 1) faz-se uma codificação e tem-se na camada oculta esses valores codificados\n",
    "# por exemplo (2 3). Da camada oculta para a camada de saida faz-se a descodificação, utilizando os pesos, e tem-se na camada \n",
    "# de saida o valor original da camada de entrada (1 0 1 0 1).\n",
    "\n",
    "# O processo é parecido às redes neurais classicas feed-forward. Utiliza-se tambem o back-propagation para a actualização dos \n",
    "# pesos.\n",
    "# São atribuidos pesos aos neuronios da rede e os calculos são efectuados com esses pesos partindo da camada de entrada até a \n",
    "# camada de saida. \n",
    "# Calcula-se o erro obtido na camada de saida e modificam-se os pesos da iteração anterior partindo da camada de saida até a \n",
    "# camada de entrada. Utiliza-se o método da descida do gradiente para encontrar o melhor valor para os pesos.\n",
    "# De seguida, e com os pesos obtidos na iteração anterior, são efectuados os mesmos calculos. Cada actualização dos pesos\n",
    "# chama-se de epoca.\n",
    "\n",
    "#----------------------------------------------------------------------------------------------------------------------------\n",
    "# Exemplo\n",
    "# Para 4 variaveis de entrada emprego, filhos, casado, carro, tem-se o seguinte registro 0010.\n",
    "\n",
    "# Codificação (Representação com 2 dimensões da camada de entrada):\n",
    "# A ligação da camada de entrada a camada oculta faz-se atraves de linhas(como se fossem os pesos). Para exemplificação\n",
    "# representou-se a linha sólida por +1 e a linha a tracejado por -1. Na prática estes valores são inicializados aleatoriamente,\n",
    "# como os pesos e o objetivo é encontrar o melhor conjunto de pesos assim como nas redes neurais tradicionais\n",
    "\n",
    "# A ligação do neurónio emprego ao neuronio 1 da camada oculta faz-se através de uma linha sólida.\n",
    "# A ligação do neurónio casado ao neuronio 1 da camada oculta faz-se através de uma linha sólida.\n",
    "# A ligação do neurónio casado ao neuronio 2 da camada oculta faz-se através de uma linha sólida.\n",
    "# A ligação do neurónio carro ao neuronio 2 da camada oculta faz-se através de uma linha sólida.\n",
    "# Todas as restantes ligações fazem-se através de linhas tracejadas.\n",
    "# Para o neurónio 1 da camada oculta tem-se: (0x1)+(0x-1)+(1x1)+(0x-1)=1\n",
    "# Para o neurónio 2 da camada oculta tem-se; (0x-1)+(0x-1)+(1x1)+(0x1)=1\n",
    "\n",
    "# Descodificação:\n",
    "# A ligação da camada de oculta faz-se atraves de linhas(como se fossem os pesos). Para exemplificação\n",
    "# representou-se a linha sólida por +1 e a linha a tracejado por -1. Na prática estes valores são inicializados aleatoriamente,\n",
    "# como os pesos.\n",
    "# A ligação do neurónio 1 ao neurónio 1 da camada de saida (emprego) faz-se através de 1 linha sólida.\n",
    "# A ligação do neurónio 1 ao neurónio 3 da camada de saida (casado) faz-se através de 1 linha sólida.\n",
    "# A ligação do neurónio 2 ao neurónio 2 da camada de saida (filhos) faz-se através de 1 linha sólida.\n",
    "# A ligação do neurónio 2 ao neurónio 3 da camada de saida (casado) faz-se através de 1 linha sólida.\n",
    "# Para o neurónio 1 da camada de saida(emprego) tem-se: (1x1)+(1x-1) = 0\n",
    "# Para o neurónio 2 da camada de saida(filhos) tem-se: (1x-1)+(1x1) = 0\n",
    "# Para o neurónio 3 da camada de saida(casado) tem-se: (1x1)+(1x1) = 2\n",
    "# Para o neurónio 4 da camada de saida(carro) tem-se: (1x-1)+(1x-1) = -2\n",
    "# Aplicação de uma função de activação, que pode ser a função softmax (que transforma todos os valores menores ou iguais a zero\n",
    "# em zero e os valores maiores a zero em um).\n",
    "# Para o neurónio 1 da camada de saida(emprego) tem-se: (1x1)+(1x-1) = 0 -> 0\n",
    "# Para o neurónio 2 da camada de saida(filhos) tem-se: (1x-1)+(1x1) = 0 -> 0\n",
    "# Para o neurónio 3 da camada de saida(casado) tem-se: (1x1)+(1x1) = 2 -> 1\n",
    "# Para o neurónio 4 da camada de saida(carro) tem-se: (1x-1)+(1x-1) = -2 -> 0\n",
    "\n",
    "# Neste caso na primeira iteração já se obteve os mesmos valores na camada de saida e de entrada. O que significa que o registro\n",
    "# de 4 dimensões 0010 pode ser representado por um registro de 2 dimensões 11, que foi o valor obtido na camada oculta.\n",
    "#------------------------------------------------------------------------------------------------------------------------------\n",
    "# Outro tipo de Autoencoders.\n",
    "# Em vez de utilizar o autoencoder para reduzir a dimensionalidade, o autoencoder pode ser utilizado para aumentar a\n",
    "# dimensionalidade. Isto pode ser feito colocando mais neuronios na camada oculta do que na camada de entrada. Pode ser feito\n",
    "# para se ter mais atributos na base de dados, ter uma representação mais detalhada dos dados. \n",
    "# Um dos problemas que pode acontecer é que durante a codificação os valores da camada de entrada podem ser simplesmente \n",
    "# copiados para a camada oculta.\n",
    "# Para solucionar este problema foram criados os seguintes autoencoders \n",
    "\n",
    "# Sparce autoencoder:\n",
    "# Este autoencoder utiliza uma tecnica de regularização para prevenir o overfiting.\n",
    "# Não utiliza todos os neurónios da camada oculta(coloca valores pequenos nos pesos). O sparce autoencoder a cada epoca não \n",
    "# considera alguns neuronios aleatorios da camada oculta. Por exemplo durante o treino, na primeira época não considera o \n",
    "# neuronio 1 da camada oculta. Na segunda época não considera o neuronio 1 e neuronio 4 da camada oculta.\n",
    "\n",
    "# Denoising autoencoder:\n",
    "# Todas as camadas têm o mesmo número de neurónios.\n",
    "# Modifica os valores da camadd de entrada , alterando alguns neurónios aleatoriamente para o valor zero durante o treino para\n",
    "# evitar o overfitting. Ou seja a cada epoca não considera alguns neuronios aleatorios da camada de entrada.\n",
    "# Quando os pesos são actualizados, a camada de saida é comparada com os valores originais para se obter o valor do erro.\n",
    "\n",
    "# Contractive autoencoder\n",
    "# Adiciona uma função de custo quando os pesos são actualizados. Funciona da mesma forma do que os autoencoders tradicionais, \n",
    "# apenas durante o processo de back-propagation para o calculo dos pesos é adicionada uma função custo à função do calculo do\n",
    "# erro. Isto faz com que o modelo se adpte melhor aos dados.\n",
    "\n",
    "# Deep autoencoder(stack autoencoder)\n",
    "# Por exemplo se predende-se reduzir a dimensionalidade de 5 para 2.\n",
    "# Na codificação:\n",
    "# Tem-se a camada de entrada com 5 neurónios\n",
    "# Tem-se de seguida uma camada oculta com 4 neurónios.\n",
    "# Tem-se de seguida uma camada oculta com 3 neurónios.\n",
    "# Tem-se de seguida uma camada oculta com 2 neurónios. A camada com a redução da dimensionalidade pretendida.\n",
    "# Na descodificação:\n",
    "# Tem-se de seguida uma camada oculta com 3 neurónios.\n",
    "# Tem-se de seguida uma camada oculta com 4 neurónios.\n",
    "# Tem-se a camada de saida com 5 neurónios.\n",
    "\n",
    "# Convolution autoencoder\n",
    "# Por exemplo tem-se uma imagem do seguinte tamanho 28x28.\n",
    "# Na codificação:\n",
    "# Camada de entrada: 28x28x1 (1 porque é uma figura)\n",
    "# Camada de convolução(e pooling): 14x14x32 (matriz de pooling obtida por 32 detectores de caracteristicas).\n",
    "# Camada de convolução(e pooling): 7x7x64\n",
    "# Camada de convolução(e pooling): 3x3x128\n",
    "# Camada de flatter: 1152 (3x3x128)\n",
    "# Camada oculta com 10 neurónios. A camada com a redução da dimensionalidade pretendida (neste caso 10 neurónios).\n",
    "# Na descodificação:\n",
    "# Camada de flatter: 1152 (3x3x128)\n",
    "# Camada de convolução(e pooling): 3x3x128\n",
    "# Camada de convolução(e pooling): 7x7x64\n",
    "# Camada de convolução(e pooling): 14x14x32\n",
    "# Camada de saida: 28x28x1"
   ]
  },
  {
   "cell_type": "code",
   "execution_count": 4,
   "metadata": {},
   "outputs": [],
   "source": [
    "import matplotlib.pyplot as plt\n",
    "\n",
    "import numpy as np\n",
    "import pandas as pd\n",
    "\n",
    "import tensorflow as tf\n",
    "from tensorflow.keras import models, layers, datasets, utils, preprocessing\n",
    "\n",
    "%matplotlib inline"
   ]
  },
  {
   "cell_type": "markdown",
   "metadata": {},
   "source": [
    "## Obter os dados"
   ]
  },
  {
   "cell_type": "code",
   "execution_count": 5,
   "metadata": {},
   "outputs": [],
   "source": [
    "# A base de dados já está dividida em dois conjuntos: treino e teste\n",
    "# Como vai-se apenas fazer a redução da dimensionalidade não é necessária avariavel de saida. E o autoencoder é um algoritmo\n",
    "# não supervisionado, por isso é utilizado normalmente quando não se tem acesso a esses dados. Mas tambem não se deveria dividir\n",
    "# o dataset emtreino e teste.\n",
    "# Coloca-se _ para que essa variavel não seja criada\n",
    "(X_train, _), (X_test, _) = datasets.mnist.load_data()"
   ]
  },
  {
   "cell_type": "code",
   "execution_count": 6,
   "metadata": {},
   "outputs": [
    {
     "data": {
      "text/plain": [
       "60000"
      ]
     },
     "execution_count": 6,
     "metadata": {},
     "output_type": "execute_result"
    }
   ],
   "source": [
    "# 60000 imagens para treino\n",
    "len(X_train)"
   ]
  },
  {
   "cell_type": "code",
   "execution_count": 7,
   "metadata": {},
   "outputs": [
    {
     "data": {
      "text/plain": [
       "10000"
      ]
     },
     "execution_count": 7,
     "metadata": {},
     "output_type": "execute_result"
    }
   ],
   "source": [
    "# 10000 imagens para teste\n",
    "len(X_test)"
   ]
  },
  {
   "cell_type": "code",
   "execution_count": 8,
   "metadata": {},
   "outputs": [
    {
     "data": {
      "text/plain": [
       "<matplotlib.image.AxesImage at 0x3488ca9470>"
      ]
     },
     "execution_count": 8,
     "metadata": {},
     "output_type": "execute_result"
    },
    {
     "data": {
      "image/png": "[encoded data removed]",
      "text/plain": [
       "<Figure size 432x288 with 1 Axes>"
      ]
     },
     "metadata": {
      "needs_background": "light"
     },
     "output_type": "display_data"
    }
   ],
   "source": [
    "# Número zero a preto e branco\n",
    "plt.imshow(X_train[1], cmap=\"gray\")"
   ]
  },
  {
   "cell_type": "code",
   "execution_count": 9,
   "metadata": {},
   "outputs": [
    {
     "data": {
      "text/plain": [
       "(28, 28)"
      ]
     },
     "execution_count": 9,
     "metadata": {},
     "output_type": "execute_result"
    }
   ],
   "source": [
    "# Matriz com os pixeis da imagem com o número zero.\n",
    "# Matriz 28x28 (784 pixeis).\n",
    "pixeis = X_train[1]\n",
    "pixeis.shape"
   ]
  },
  {
   "cell_type": "markdown",
   "metadata": {},
   "source": [
    "# Pré-Processamento dos dados"
   ]
  },
  {
   "cell_type": "code",
   "execution_count": 10,
   "metadata": {},
   "outputs": [
    {
     "data": {
      "text/plain": [
       "60000"
      ]
     },
     "execution_count": 10,
     "metadata": {},
     "output_type": "execute_result"
    }
   ],
   "source": [
    "# 60000 imagens para treino\n",
    "X_train.shape[0]"
   ]
  },
  {
   "cell_type": "markdown",
   "metadata": {},
   "source": [
    "### Transformar os dados num vector em que o tensorflow consiga fazer a sua leitura."
   ]
  },
  {
   "cell_type": "code",
   "execution_count": 11,
   "metadata": {},
   "outputs": [],
   "source": [
    "# Para redes neurais convolucionais:\n",
    "# 1º parametro: número de imagens\n",
    "# 2º parametro: Altura da imagem (nº de pixeis da imagem na vertical).\n",
    "# 3º parametro: Largura da imagem (nº de pixeis da imagem na horizontal).\n",
    "\n",
    "# Nº de canais de RGB: Como a cor não tem influência neste caso pode-se utilizar a imagem a preto e branco(rgb=1). Quando se \n",
    "# utilizam as imagens a cores (rgb=3) o algoritmo fica mais lento porque aumenta a dimensionalidade dos dados. Uma imagem a \n",
    "# cores tem 3 canais(valores) dentro de cada pixel, porque o pixel é subdividio em vermelho(r), verde(g e azul(b)). Com rgb=1 \n",
    "# tem-se menos dados para processar.\n",
    "\n",
    "# A escala de cinzento possui apenas um canal. Quanto mais próximo de 255 mais claro é o cinzento e quanto mais próximo de \n",
    "# 0 mais escura é a cor.\n",
    "# Nesta escala o Pixel com o valor 255 é o branco e pixel 0 é o preto. Ao redor do número tem-se apenas o valor 0, que indica o \n",
    "# preto(o fundo é preto).\n",
    "\n",
    "#X_train = X_train.reshape(X_train.shape[0], 28, 28, 1) # (60000, 28, 28, 1)\n",
    "#X_test = X_test.reshape(X_test.shape[0], 28, 28, 1)\n",
    "#-------------------------------------------------------------------------------------------------------------------\n",
    "# Para redes neurais artificiais:\n",
    "# 1º parametro: número de imagens.\n",
    "# 2º parametro: quantidade de pixeis por imagem. Neste caso tem-se 28x28=784 pixeis.\n",
    "\n",
    "X_train = X_train.reshape((len(X_train), np.prod(X_test.shape[1:]))) # (60000, 784)\n",
    "X_test = X_test.reshape((len(X_test), np.prod(X_test.shape[1:])))"
   ]
  },
  {
   "cell_type": "code",
   "execution_count": 12,
   "metadata": {},
   "outputs": [
    {
     "data": {
      "text/plain": [
       "(60000, 784)"
      ]
     },
     "execution_count": 12,
     "metadata": {},
     "output_type": "execute_result"
    }
   ],
   "source": [
    "X_train.shape"
   ]
  },
  {
   "cell_type": "markdown",
   "metadata": {},
   "source": [
    "### Conversão dos dados do tipo int8 para float32"
   ]
  },
  {
   "cell_type": "code",
   "execution_count": 13,
   "metadata": {},
   "outputs": [
    {
     "data": {
      "text/plain": [
       "numpy.uint8"
      ]
     },
     "execution_count": 13,
     "metadata": {},
     "output_type": "execute_result"
    }
   ],
   "source": [
    "# Como os dados vão ser convertidos para uma escala entre 0 e 1 tem-se de converter os dados de inteiro8 para float32 para que\n",
    "# os valores obtidos depois da normalização não sejam inteiros e consequentemente quase todos 0(por não haver números decimais).\n",
    "\n",
    "#X_test[0,1,1]\n",
    "type(X_test[0,1])"
   ]
  },
  {
   "cell_type": "code",
   "execution_count": 14,
   "metadata": {},
   "outputs": [],
   "source": [
    "# Conversão dos dados em float 32\n",
    "X_train = X_train.astype(\"float32\")\n",
    "X_test = X_test.astype(\"float32\")"
   ]
  },
  {
   "cell_type": "code",
   "execution_count": 15,
   "metadata": {},
   "outputs": [
    {
     "data": {
      "text/plain": [
       "numpy.float32"
      ]
     },
     "execution_count": 15,
     "metadata": {},
     "output_type": "execute_result"
    }
   ],
   "source": [
    "type(X_test[0,1])"
   ]
  },
  {
   "cell_type": "markdown",
   "metadata": {},
   "source": [
    "### Normalização dos pixeis"
   ]
  },
  {
   "cell_type": "code",
   "execution_count": 16,
   "metadata": {},
   "outputs": [
    {
     "data": {
      "text/plain": [
       "255.0"
      ]
     },
     "execution_count": 16,
     "metadata": {},
     "output_type": "execute_result"
    }
   ],
   "source": [
    "# passar os pixeis para uma escala de 0 a 1 para que o precessamento dos dados seja mais rapido\n",
    "# Isto pode ser feito através da tecnica min max normalization. Como cada pixel ocupa 1 byte e o byte consegue guardar 256\n",
    "# resultados possiveis(ou seja varia entre 0 e 255). \n",
    "# A normalização pode ser feita dividindo o pixel por 255 (tambem se podia utilizar o skit-learn).\n",
    "\n",
    "# Pode-se ver que o valor máximo de um pixel é de 255\n",
    "X_test[0].max()"
   ]
  },
  {
   "cell_type": "code",
   "execution_count": 17,
   "metadata": {},
   "outputs": [
    {
     "data": {
      "text/plain": [
       "0.0"
      ]
     },
     "execution_count": 17,
     "metadata": {},
     "output_type": "execute_result"
    }
   ],
   "source": [
    "X_test[0].min()"
   ]
  },
  {
   "cell_type": "code",
   "execution_count": 18,
   "metadata": {},
   "outputs": [],
   "source": [
    "# Normalização do conjunto de teste e treino\n",
    "X_train = X_train/255\n",
    "X_test = X_test/255"
   ]
  },
  {
   "cell_type": "code",
   "execution_count": 19,
   "metadata": {},
   "outputs": [
    {
     "data": {
      "text/plain": [
       "1.0"
      ]
     },
     "execution_count": 19,
     "metadata": {},
     "output_type": "execute_result"
    }
   ],
   "source": [
    "X_test[0].max()"
   ]
  },
  {
   "cell_type": "markdown",
   "metadata": {},
   "source": [
    "## Modelo Autoencoder"
   ]
  },
  {
   "cell_type": "code",
   "execution_count": 20,
   "metadata": {},
   "outputs": [],
   "source": [
    "# factor de compactação = 784/32 = 24.5.Vai-se compactar a imagem 24.5 vezes em relação à original.\n",
    "\n",
    "# Sequential - A informação move-se da camada de entrada, para a camada oculta e de seguida para a camada de saida.\n",
    "\n",
    "#Dense - Camadas densas(cada um dos neurónios é ligado com todos os neuronios da camada seguinte) tambem chamada de rede neural\n",
    "# fully connected\n",
    "\n",
    "# 1ª Camada Oculta(e definição da camada de entrada) \n",
    "# units: Número de neuronios da 1ª camada oculta. Definir qual a redução de dimensionalidade que se quer. Neste caso pretende-se\n",
    "# passar de 784 variaveis de entrada para 32.\n",
    "# Função de Activação: Normalmente escolhe-se a reLu para deep learning porque obtem-se melhores resultados do que com uma\n",
    "# função sigmoide ou tangente hiperbolica. \n",
    "# Kernel initializer: Como se inicializam os pesos.\n",
    "# input_dim: quantos atributos existem na camada de entrada (neste caso são 784 variaveis de entrada). Este parâmetro só é \n",
    "# necessário para a primeira camada oculta. Com este parâmetro activo não é necessário colocar explicitamente a camada de \n",
    "# entrada porque na 1ª camada oculta está-se a dizer o numero de neurónios da camada de entrada.\n",
    "\n",
    "# Camada de Saida\n",
    "# units: Número de neurónios da camada de saida. Igual ao número de neurónios da camada de entrada.\n",
    "# Função de activação: Sigmoid porque é um problema de classificação binário que varia entre 0 e 1, e esta função retorna sempre\n",
    "# um valor entre 0 e 1. Pode-se utilizar a sigmoid porque foi feita a normalização dos pixeis entre 0 e 1. Tambem se utiliza\n",
    "# bastantes vezes a função tangente hiperbólica.\n",
    "\n",
    "model = models.Sequential()\n",
    "model.add(layers.Dense(units=32, activation=\"relu\", input_dim=784)) # Camada oculta e difinição da camada de entrada (codificação da camada de entrada: redução da dimensionalidade).\n",
    "model.add(layers.Dense(units=784, activation=\"sigmoid\")) # Camada de Saida(descodificação da camada oculta).\n"
   ]
  },
  {
   "cell_type": "code",
   "execution_count": 21,
   "metadata": {},
   "outputs": [
    {
     "name": "stdout",
     "output_type": "stream",
     "text": [
      "Model: \"sequential\"\n",
      "_________________________________________________________________\n",
      "Layer (type)                 Output Shape              Param #   \n",
      "=================================================================\n",
      "dense (Dense)                (None, 32)                25120     \n",
      "_________________________________________________________________\n",
      "dense_1 (Dense)              (None, 784)               25872     \n",
      "=================================================================\n",
      "Total params: 50,992\n",
      "Trainable params: 50,992\n",
      "Non-trainable params: 0\n",
      "_________________________________________________________________\n"
     ]
    }
   ],
   "source": [
    "# 784x32+32(bies na camada oculta)=25120 parâmetros(pesos)\n",
    "# 32x784+784(bies na camada de entrada)=25872 parâmetros\n",
    "model.summary()"
   ]
  },
  {
   "cell_type": "markdown",
   "metadata": {},
   "source": [
    "### Compilação e Ajuste do modelo autoencoder"
   ]
  },
  {
   "cell_type": "code",
   "execution_count": 22,
   "metadata": {},
   "outputs": [],
   "source": [
    "# Optimizer: adam é uma optimização da descida do gradiente estócastico (usado para encontrar os melhores valores dos pesos).\n",
    "# É o que melhor se adapta à maioria dos casos.\n",
    "\n",
    "# loss = função de perda binary_crossentropy é a mais utilizada para classificação binária. Mede o quão afastada está a previsão\n",
    "# do seu valor real(0 ou 1) para cada classe e faz a média desses erros(desvios) para obter o custo(loss). Como utiliza o\n",
    "# logaritmo tem uma penalização maior quando existe uma classificação errada.\n",
    "\n",
    "model.compile(optimizer=\"adam\", loss=\"binary_crossentropy\", metrics=[\"binary_accuracy\"])"
   ]
  },
  {
   "cell_type": "code",
   "execution_count": 23,
   "metadata": {},
   "outputs": [
    {
     "name": "stderr",
     "output_type": "stream",
     "text": [
      "WARNING: Logging before flag parsing goes to stderr.\n",
      "W0719 11:54:26.959505 10236 deprecation.py:323] From C:\\Users\\Bruno\\Anaconda3\\lib\\site-packages\\tensorflow\\python\\ops\\math_grad.py:1250: add_dispatch_support.<locals>.wrapper (from tensorflow.python.ops.array_ops) is deprecated and will be removed in a future version.\n",
      "Instructions for updating:\n",
      "Use tf.where in 2.0, which has the same broadcast rule as np.where\n"
     ]
    },
    {
     "name": "stdout",
     "output_type": "stream",
     "text": [
      "Train on 60000 samples, validate on 10000 samples\n",
      "Epoch 1/50\n",
      "60000/60000 [==============================] - 6s 107us/sample - loss: 0.2803 - binary_accuracy: 0.7820 - val_loss: 0.1910 - val_binary_accuracy: 0.8000 1s - loss: 0.3056 - binary\n",
      "Epoch 2/50\n",
      "60000/60000 [==============================] - 4s 68us/sample - loss: 0.1727 - binary_accuracy: 0.8022 - val_loss: 0.1566 - val_binary_accuracy: 0.8049\n",
      "Epoch 3/50\n",
      "60000/60000 [==============================] - 4s 61us/sample - loss: 0.1457 - binary_accuracy: 0.8070 - val_loss: 0.1343 - val_binary_accuracy: 0.8082\n",
      "Epoch 4/50\n",
      "60000/60000 [==============================] - 4s 63us/sample - loss: 0.1286 - binary_accuracy: 0.8098 - val_loss: 0.1212 - val_binary_accuracy: 0.8097\n",
      "Epoch 5/50\n",
      "60000/60000 [==============================] - 4s 60us/sample - loss: 0.1176 - binary_accuracy: 0.8114 - val_loss: 0.1120 - val_binary_accuracy: 0.8111\n",
      "Epoch 6/50\n",
      "60000/60000 [==============================] - 4s 62us/sample - loss: 0.1100 - binary_accuracy: 0.8124 - val_loss: 0.1059 - val_binary_accuracy: 0.8120\n",
      "Epoch 7/50\n",
      "60000/60000 [==============================] - 4s 61us/sample - loss: 0.1049 - binary_accuracy: 0.8130 - val_loss: 0.1017 - val_binary_accuracy: 0.8123\n",
      "Epoch 8/50\n",
      "60000/60000 [==============================] - 4s 64us/sample - loss: 0.1014 - binary_accuracy: 0.8134 - val_loss: 0.0989 - val_binary_accuracy: 0.8128\n",
      "Epoch 9/50\n",
      "60000/60000 [==============================] - 4s 68us/sample - loss: 0.0989 - binary_accuracy: 0.8137 - val_loss: 0.0966 - val_binary_accuracy: 0.8129\n",
      "Epoch 10/50\n",
      "60000/60000 [==============================] - 4s 61us/sample - loss: 0.0972 - binary_accuracy: 0.8138 - val_loss: 0.0953 - val_binary_accuracy: 0.8130\n",
      "Epoch 11/50\n",
      "60000/60000 [==============================] - 4s 69us/sample - loss: 0.0962 - binary_accuracy: 0.8139 - val_loss: 0.0945 - val_binary_accuracy: 0.8131 binary_accuracy\n",
      "Epoch 12/50\n",
      "60000/60000 [==============================] - 4s 61us/sample - loss: 0.0955 - binary_accuracy: 0.8140 - val_loss: 0.0939 - val_binary_accuracy: 0.8131\n",
      "Epoch 13/50\n",
      "60000/60000 [==============================] - 4s 72us/sample - loss: 0.0950 - binary_accuracy: 0.8141 - val_loss: 0.0935 - val_binary_accuracy: 0.8132\n",
      "Epoch 14/50\n",
      "60000/60000 [==============================] - 4s 64us/sample - loss: 0.0946 - binary_accuracy: 0.8141 - val_loss: 0.0931 - val_binary_accuracy: 0.8132\n",
      "Epoch 15/50\n",
      "60000/60000 [==============================] - 4s 74us/sample - loss: 0.0943 - binary_accuracy: 0.8141 - val_loss: 0.0929 - val_binary_accuracy: 0.8133\n",
      "Epoch 16/50\n",
      "60000/60000 [==============================] - 4s 63us/sample - loss: 0.0941 - binary_accuracy: 0.8141 - val_loss: 0.0928 - val_binary_accuracy: 0.8131\n",
      "Epoch 17/50\n",
      "60000/60000 [==============================] - 4s 62us/sample - loss: 0.0939 - binary_accuracy: 0.8141 - val_loss: 0.0925 - val_binary_accuracy: 0.8132\n",
      "Epoch 18/50\n",
      "60000/60000 [==============================] - 4s 59us/sample - loss: 0.0938 - binary_accuracy: 0.8142 - val_loss: 0.0925 - val_binary_accuracy: 0.8132\n",
      "Epoch 19/50\n",
      "60000/60000 [==============================] - 4s 62us/sample - loss: 0.0937 - binary_accuracy: 0.8142 - val_loss: 0.0923 - val_binary_accuracy: 0.8133\n",
      "Epoch 20/50\n",
      "60000/60000 [==============================] - 4s 65us/sample - loss: 0.0936 - binary_accuracy: 0.8142 - val_loss: 0.0922 - val_binary_accuracy: 0.8133\n",
      "Epoch 21/50\n",
      "60000/60000 [==============================] - 4s 58us/sample - loss: 0.0935 - binary_accuracy: 0.8142 - val_loss: 0.0921 - val_binary_accuracy: 0.8133\n",
      "Epoch 22/50\n",
      "60000/60000 [==============================] - 4s 61us/sample - loss: 0.0934 - binary_accuracy: 0.8142 - val_loss: 0.0921 - val_binary_accuracy: 0.8133\n",
      "Epoch 23/50\n",
      "60000/60000 [==============================] - 4s 60us/sample - loss: 0.0933 - binary_accuracy: 0.8142 - val_loss: 0.0920 - val_binary_accuracy: 0.8133\n",
      "Epoch 24/50\n",
      "60000/60000 [==============================] - 4s 59us/sample - loss: 0.0932 - binary_accuracy: 0.8142 - val_loss: 0.0920 - val_binary_accuracy: 0.8133\n",
      "Epoch 25/50\n",
      "60000/60000 [==============================] - 4s 64us/sample - loss: 0.0932 - binary_accuracy: 0.8142 - val_loss: 0.0919 - val_binary_accuracy: 0.8133\n",
      "Epoch 26/50\n",
      "60000/60000 [==============================] - 4s 63us/sample - loss: 0.0931 - binary_accuracy: 0.8142 - val_loss: 0.0918 - val_binary_accuracy: 0.8133\n",
      "Epoch 27/50\n",
      "60000/60000 [==============================] - 4s 58us/sample - loss: 0.0931 - binary_accuracy: 0.8142 - val_loss: 0.0918 - val_binary_accuracy: 0.8133\n",
      "Epoch 28/50\n",
      "60000/60000 [==============================] - 4s 61us/sample - loss: 0.0930 - binary_accuracy: 0.8142 - val_loss: 0.0918 - val_binary_accuracy: 0.8133 - loss: 0.0930 - binary_accuracy:\n",
      "Epoch 29/50\n",
      "60000/60000 [==============================] - 4s 67us/sample - loss: 0.0930 - binary_accuracy: 0.8142 - val_loss: 0.0918 - val_binary_accuracy: 0.8133\n",
      "Epoch 30/50\n",
      "60000/60000 [==============================] - 4s 66us/sample - loss: 0.0930 - binary_accuracy: 0.8142 - val_loss: 0.0918 - val_binary_accuracy: 0.8132\n",
      "Epoch 31/50\n",
      "60000/60000 [==============================] - 4s 61us/sample - loss: 0.0929 - binary_accuracy: 0.8142 - val_loss: 0.0917 - val_binary_accuracy: 0.8133\n",
      "Epoch 32/50\n",
      "60000/60000 [==============================] - 4s 61us/sample - loss: 0.0929 - binary_accuracy: 0.8142 - val_loss: 0.0918 - val_binary_accuracy: 0.8133\n",
      "Epoch 33/50\n",
      "60000/60000 [==============================] - 4s 63us/sample - loss: 0.0929 - binary_accuracy: 0.8142 - val_loss: 0.0917 - val_binary_accuracy: 0.8133\n",
      "Epoch 34/50\n",
      "60000/60000 [==============================] - 4s 67us/sample - loss: 0.0928 - binary_accuracy: 0.8142 - val_loss: 0.0918 - val_binary_accuracy: 0.8133\n",
      "Epoch 35/50\n",
      "60000/60000 [==============================] - 3s 53us/sample - loss: 0.0928 - binary_accuracy: 0.8142 - val_loss: 0.0916 - val_binary_accuracy: 0.8133\n",
      "Epoch 36/50\n",
      "60000/60000 [==============================] - 3s 56us/sample - loss: 0.0928 - binary_accuracy: 0.8142 - val_loss: 0.0916 - val_binary_accuracy: 0.8132\n",
      "Epoch 37/50\n",
      "60000/60000 [==============================] - 3s 54us/sample - loss: 0.0927 - binary_accuracy: 0.8142 - val_loss: 0.0916 - val_binary_accuracy: 0.8133\n",
      "Epoch 38/50\n",
      "60000/60000 [==============================] - 3s 56us/sample - loss: 0.0927 - binary_accuracy: 0.8142 - val_loss: 0.0916 - val_binary_accuracy: 0.8134\n",
      "Epoch 39/50\n",
      "60000/60000 [==============================] - 3s 56us/sample - loss: 0.0927 - binary_accuracy: 0.8142 - val_loss: 0.0916 - val_binary_accuracy: 0.8134\n",
      "Epoch 40/50\n",
      "60000/60000 [==============================] - 3s 56us/sample - loss: 0.0927 - binary_accuracy: 0.8142 - val_loss: 0.0916 - val_binary_accuracy: 0.8133\n",
      "Epoch 41/50\n",
      "60000/60000 [==============================] - 3s 57us/sample - loss: 0.0927 - binary_accuracy: 0.8142 - val_loss: 0.0916 - val_binary_accuracy: 0.8133\n",
      "Epoch 42/50\n",
      "60000/60000 [==============================] - 3s 57us/sample - loss: 0.0927 - binary_accuracy: 0.8142 - val_loss: 0.0916 - val_binary_accuracy: 0.8133\n",
      "Epoch 43/50\n",
      "60000/60000 [==============================] - 3s 58us/sample - loss: 0.0926 - binary_accuracy: 0.8142 - val_loss: 0.0915 - val_binary_accuracy: 0.8134\n",
      "Epoch 44/50\n",
      "60000/60000 [==============================] - 3s 58us/sample - loss: 0.0926 - binary_accuracy: 0.8142 - val_loss: 0.0914 - val_binary_accuracy: 0.8133\n",
      "Epoch 45/50\n",
      "60000/60000 [==============================] - 3s 57us/sample - loss: 0.0926 - binary_accuracy: 0.8142 - val_loss: 0.0915 - val_binary_accuracy: 0.8133\n",
      "Epoch 46/50\n",
      "60000/60000 [==============================] - 4s 58us/sample - loss: 0.0926 - binary_accuracy: 0.8142 - val_loss: 0.0915 - val_binary_accuracy: 0.8133\n",
      "Epoch 47/50\n",
      "60000/60000 [==============================] - 3s 56us/sample - loss: 0.0926 - binary_accuracy: 0.8142 - val_loss: 0.0915 - val_binary_accuracy: 0.8133\n",
      "Epoch 48/50\n",
      "60000/60000 [==============================] - 3s 56us/sample - loss: 0.0926 - binary_accuracy: 0.8142 - val_loss: 0.0915 - val_binary_accuracy: 0.8133\n",
      "Epoch 49/50\n",
      "60000/60000 [==============================] - 3s 54us/sample - loss: 0.0926 - binary_accuracy: 0.8142 - val_loss: 0.0915 - val_binary_accuracy: 0.8133\n",
      "Epoch 50/50\n",
      "60000/60000 [==============================] - 3s 50us/sample - loss: 0.0926 - binary_accuracy: 0.8142 - val_loss: 0.0914 - val_binary_accuracy: 0.8133\n"
     ]
    },
    {
     "data": {
      "text/plain": [
       "<tensorflow.python.keras.callbacks.History at 0x3488cf30f0>"
      ]
     },
     "execution_count": 23,
     "metadata": {},
     "output_type": "execute_result"
    }
   ],
   "source": [
    "# batch_size\n",
    "# batch_size: 256, calcula-se o erro de um conjunto de 256 dados e actualizam-se todos os pesos. Quanto mais alto este valor, \n",
    "# mais rapido são executados os calculos.\n",
    "\n",
    "# epochs: Quantas vezes o algoritmo percorre o conjunto de dados de treino totalmente\n",
    "\n",
    "# 1ª epoca- calcula o erro para os primeiros 256 dados e actualiza todos os pesos. calcula o o erro para os 256 dados seguintes \n",
    "# e actualiza todos os pesos. E assim sucessivamente.\n",
    "# 2ª epoca- calcula o erro para os primeiros 256 dados(com os pesos da 1ª epoca) e actualiza todos os pesos. calcula o erro \n",
    "# para os 256 dados seguintes e actualiza todos os pesos. E assim sucessivamente.\n",
    "\n",
    "# Validation data: Avaliação do modelo utilizando a base de dados de teste (val_accuracy).\n",
    "\n",
    "# Em vez do y_train utiliza-se o X_train em seu lugar. \n",
    "# Está-se a fazer a codificação da camada de entrada no nº de neurónios da camada oculta.\n",
    "# De seguida faz-se a descodificação da camada oculta na camada de saida.\n",
    "# De seguida compara-se a camada de saida com a camada de entrada(e não com o y_train).\n",
    "# Calcula-se o erro e ajustam-se os pesos utilizando a tecnica back-propagation.\n",
    "# Repetem-se os passos anteriores para o número de épocas definido.\n",
    "\n",
    "# Ajustar os dados de entrada de treino aos dados de saida de treino para treinar o modelo\n",
    "model.fit(X_train, X_train, batch_size=256, epochs=50, validation_data=(X_test,X_test))"
   ]
  },
  {
   "cell_type": "markdown",
   "metadata": {},
   "source": [
    "## Modelo Autoencoder para redução da dimensionalidade"
   ]
  },
  {
   "cell_type": "code",
   "execution_count": 28,
   "metadata": {},
   "outputs": [],
   "source": [
    "# original size: Camada de entrada com as dimensões originais da imagem.\n",
    "# encoded size: Camada com a redução da dimensionalidade aplicada através da codificação(camada zero do modelo do autoencoder).\n",
    "\n",
    "original_size = layers.Input(shape=784,) # Camada de entrada.\n",
    "encoded_size = layers.Dense(units=32, activation=\"relu\", input_dim=784)\n",
    "# Tambem se pode utilizar\n",
    "# encoded_size = model.layers[0] # Camada oculta(codificação da camada de entrada: redução da dimensionalidade)."
   ]
  },
  {
   "cell_type": "code",
   "execution_count": 29,
   "metadata": {},
   "outputs": [],
   "source": [
    "# Com o modelo de autoencoder model fez-se a codificação e descodificação. Ou seja reduziu-se a dimensionalidade das imagens e\n",
    "# depois voltou a transformar-se as imagens na dimensão original.\n",
    "# Com o modelo encoder apenas se faz a codificação. Ou seja apenas se reduz a dimensionalidade das imagens.\n",
    "\n",
    "# Modelo para fazer a redução de dimensionalidade.\n",
    "# O modelo encoder recebe o original size e transforma no encoded_size.\n",
    "\n",
    "# Model utiliza-se quando se quer criar manualmente a rede neural.\n",
    "# Model(camada de entrada, estrutura da rede).\n",
    "# estrutura da rede: a camada encoded_size segue-se à camada original_size.\n",
    "encoder = models.Model(original_size, encoded_size(original_size))"
   ]
  },
  {
   "cell_type": "code",
   "execution_count": 30,
   "metadata": {},
   "outputs": [
    {
     "name": "stdout",
     "output_type": "stream",
     "text": [
      "Model: \"model_1\"\n",
      "_________________________________________________________________\n",
      "Layer (type)                 Output Shape              Param #   \n",
      "=================================================================\n",
      "input_2 (InputLayer)         [(None, 784)]             0         \n",
      "_________________________________________________________________\n",
      "dense_2 (Dense)              (None, 32)                25120     \n",
      "=================================================================\n",
      "Total params: 25,120\n",
      "Trainable params: 25,120\n",
      "Non-trainable params: 0\n",
      "_________________________________________________________________\n"
     ]
    }
   ],
   "source": [
    "# Transforma de 784 dimensões para 32 dimensões.\n",
    "encoder.summary()"
   ]
  },
  {
   "cell_type": "code",
   "execution_count": null,
   "metadata": {},
   "outputs": [],
   "source": [
    "# Imagens de teste codificadas(com redução de dimensionalidade de 784 para 32).\n",
    "X_test_codificado = encoder.predict(X_test)\n",
    "X_test_codificado[0].shape"
   ]
  },
  {
   "cell_type": "code",
   "execution_count": null,
   "metadata": {},
   "outputs": [],
   "source": [
    "# Imagens de teste descodificadas(com a dimensionalidade original de 784).\n",
    "X_test_descodificado = model.predict(X_test)\n",
    "X_test_descodificado[0].shape"
   ]
  },
  {
   "cell_type": "markdown",
   "metadata": {},
   "source": [
    "## Visualização das imagens"
   ]
  },
  {
   "cell_type": "code",
   "execution_count": 55,
   "metadata": {},
   "outputs": [],
   "source": [
    "# Escolher um numero_imagens aleatorias do conjunto de teste.\n",
    "# X_test.shape[0]: número de total de imagens no conjunto de teste.\n",
    "# size: número de imagens que se quer escolher aleatoriamente.\n",
    "numero_imagens = 10\n",
    "imagens_teste = np.random.randint(X_test.shape[0], size=numero_imagens)"
   ]
  },
  {
   "cell_type": "code",
   "execution_count": 56,
   "metadata": {},
   "outputs": [
    {
     "data": {
      "image/png": "[encoded data removed]",
      "text/plain": [
       "<Figure size 1296x1296 with 30 Axes>"
      ]
     },
     "metadata": {},
     "output_type": "display_data"
    }
   ],
   "source": [
    "plt.figure(figsize=(18,18))\n",
    "\n",
    "for i, indice_imagens in enumerate(imagens_teste):\n",
    "    #print(i)\n",
    "    #print(indice_imagens)\n",
    "    \n",
    "     # imagem original\n",
    "    eixo = plt.subplot(10,10,i + 1)\n",
    "    plt.imshow(X_test[indice_imagens].reshape(28,28)) #(28,28) tamanho da imagem original\n",
    "    plt.xticks(())\n",
    "    plt.yticks(())\n",
    "    \n",
    "    # imagem codificada\n",
    "    eixo = plt.subplot(10,10,i + 1 + numero_imagens)\n",
    "    plt.imshow(X_test_codificado[indice_imagens].reshape(8,4)) #(8,4)=32 Pode ser um dos tamanhos escolhidos para a imagem codificada\n",
    "    plt.xticks(())\n",
    "    plt.yticks(())\n",
    "    \n",
    "     # imagem reconstruída(codificada e depois descodificada)\n",
    "    eixo = plt.subplot(10,10,i + 1 + numero_imagens * 2)\n",
    "    plt.imshow(X_test_descodificado[indice_imagens].reshape(28,28)) #(28,28) tamanho da imagem original. Aumentando o\n",
    "    # número de epocas as imagens reconstruidas vão aproximar-se das imagens originais.\n",
    "    plt.xticks(())\n",
    "    plt.yticks(())\n",
    "    "
   ]
  },
  {
   "cell_type": "code",
   "execution_count": null,
   "metadata": {},
   "outputs": [],
   "source": []
  }
 ],
 "metadata": {
  "kernelspec": {
   "display_name": "Python 3",
   "language": "python",
   "name": "python3"
  },
  "language_info": {
   "codemirror_mode": {
    "name": "ipython",
    "version": 3
   },
   "file_extension": ".py",
   "mimetype": "text/x-python",
   "name": "python",
   "nbconvert_exporter": "python",
   "pygments_lexer": "ipython3",
   "version": "3.7.3"
  }
 },
 "nbformat": 4,
 "nbformat_minor": 2
}
