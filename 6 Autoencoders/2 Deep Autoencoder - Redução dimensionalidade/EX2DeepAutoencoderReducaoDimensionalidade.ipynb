{
 "cells": [
  {
   "cell_type": "markdown",
   "metadata": {},
   "source": [
    "# Deep Autoencoder - Redução de dimensionalidade"
   ]
  },
  {
   "cell_type": "code",
   "execution_count": 1,
   "metadata": {},
   "outputs": [],
   "source": [
    "import matplotlib.pyplot as plt\n",
    "\n",
    "import numpy as np\n",
    "import pandas as pd\n",
    "\n",
    "import tensorflow as tf\n",
    "from tensorflow.keras import models, layers, datasets, utils, preprocessing\n",
    "\n",
    "%matplotlib inline"
   ]
  },
  {
   "cell_type": "code",
   "execution_count": 2,
   "metadata": {},
   "outputs": [],
   "source": [
    "# A base de dados já está dividida em dois conjuntos: treino e teste\n",
    "# Como vai-se apenas fazer a redução da dimensionalidade não é necessária avariavel de saida. E o autoencoder é um algoritmo\n",
    "# não supervisionado, por isso é utilizado normalmente quando não se tem acesso a esses dados. Mas tambem não se deveria dividir\n",
    "# o dataset emtreino e teste.\n",
    "# Coloca-se _ para que essa variavel não seja criada\n",
    "\n",
    "(X_train, _), (X_test, _) = datasets.cifar10.load_data()"
   ]
  },
  {
   "cell_type": "code",
   "execution_count": 3,
   "metadata": {},
   "outputs": [
    {
     "data": {
      "text/plain": [
       "50000"
      ]
     },
     "execution_count": 3,
     "metadata": {},
     "output_type": "execute_result"
    }
   ],
   "source": [
    "# 50000 imagens para treino\n",
    "len(X_train)"
   ]
  },
  {
   "cell_type": "code",
   "execution_count": 4,
   "metadata": {},
   "outputs": [
    {
     "data": {
      "text/plain": [
       "10000"
      ]
     },
     "execution_count": 4,
     "metadata": {},
     "output_type": "execute_result"
    }
   ],
   "source": [
    "# 10000 imagens para teste\n",
    "len(X_test)"
   ]
  },
  {
   "cell_type": "code",
   "execution_count": 5,
   "metadata": {},
   "outputs": [
    {
     "data": {
      "text/plain": [
       "<matplotlib.image.AxesImage at 0x996f320fd0>"
      ]
     },
     "execution_count": 5,
     "metadata": {},
     "output_type": "execute_result"
    },
    {
     "data": {
      "image/png": "[encoded data removed]",
      "text/plain": [
       "<Figure size 432x288 with 1 Axes>"
      ]
     },
     "metadata": {
      "needs_background": "light"
     },
     "output_type": "display_data"
    }
   ],
   "source": [
    "# Camião a cores\n",
    "plt.imshow(X_train[1] )"
   ]
  },
  {
   "cell_type": "code",
   "execution_count": 6,
   "metadata": {},
   "outputs": [
    {
     "data": {
      "text/plain": [
       "(32, 32, 3)"
      ]
     },
     "execution_count": 6,
     "metadata": {},
     "output_type": "execute_result"
    }
   ],
   "source": [
    "# Matriz com os pixeis da imagem com o camião\n",
    "# Imagem 32x32\n",
    "# rgb 3\n",
    "pixeis = X_train[1]\n",
    "pixeis.shape"
   ]
  },
  {
   "cell_type": "markdown",
   "metadata": {},
   "source": [
    "# Pré-Processamento dos dados"
   ]
  },
  {
   "cell_type": "code",
   "execution_count": 7,
   "metadata": {},
   "outputs": [],
   "source": [
    "# Para redes neurais artificiais:\n",
    "# 1º parametro: número de imagens.\n",
    "# 2º parametro: quantidade de pixeis por imagem. Neste caso tem-se 28x28=784 pixeis.\n",
    "\n",
    "X_train = X_train.reshape((len(X_train), np.prod(X_test.shape[1:]))) \n",
    "X_test = X_test.reshape((len(X_test), np.prod(X_test.shape[1:])))"
   ]
  },
  {
   "cell_type": "code",
   "execution_count": 8,
   "metadata": {},
   "outputs": [
    {
     "data": {
      "text/plain": [
       "(50000, 3072)"
      ]
     },
     "execution_count": 8,
     "metadata": {},
     "output_type": "execute_result"
    }
   ],
   "source": [
    "# Como essa base de dados apresenta imagens coloridas tem 3 canais e não apenas um canal. As dimensão destas imagens é\n",
    "# 32 x 32, portanto tem-se um total de 3072 características (32 x 32 x 3 canais)\n",
    "\n",
    "X_train.shape"
   ]
  },
  {
   "cell_type": "markdown",
   "metadata": {},
   "source": [
    "### Conversão dos dados do tipo int8 para float32"
   ]
  },
  {
   "cell_type": "code",
   "execution_count": 9,
   "metadata": {},
   "outputs": [
    {
     "data": {
      "text/plain": [
       "numpy.uint8"
      ]
     },
     "execution_count": 9,
     "metadata": {},
     "output_type": "execute_result"
    }
   ],
   "source": [
    "# Como os dados vão ser convertidos para uma escala entre 0 e 1 tem-se de converter os dados de inteiro8 para float32 para que\n",
    "# os valores obtidos depois da normalização não sejam inteiros e consequentemente quase todos 0(por não haver números decimais).\n",
    "\n",
    "type(X_test[0,1])"
   ]
  },
  {
   "cell_type": "code",
   "execution_count": 10,
   "metadata": {},
   "outputs": [],
   "source": [
    "# Conversão dos dados em float 32\n",
    "X_train = X_train.astype(\"float32\")\n",
    "X_test = X_test.astype(\"float32\")"
   ]
  },
  {
   "cell_type": "code",
   "execution_count": 11,
   "metadata": {},
   "outputs": [
    {
     "data": {
      "text/plain": [
       "numpy.float32"
      ]
     },
     "execution_count": 11,
     "metadata": {},
     "output_type": "execute_result"
    }
   ],
   "source": [
    "type(X_test[0,1])"
   ]
  },
  {
   "cell_type": "markdown",
   "metadata": {},
   "source": [
    "### Normalização dos pixeis"
   ]
  },
  {
   "cell_type": "code",
   "execution_count": 12,
   "metadata": {},
   "outputs": [
    {
     "data": {
      "text/plain": [
       "255.0"
      ]
     },
     "execution_count": 12,
     "metadata": {},
     "output_type": "execute_result"
    }
   ],
   "source": [
    "# Passar os pixeis para uma escala de 0 a 1 para que o precessamento dos dados seja mais rapido\n",
    "# Isto pode ser feito através da tecnica min max normalization. Como cada pixel ocupa 1 byte e o byte consegue guardar 256\n",
    "# resultados possiveis(ou seja varia entre 0 e 255). \n",
    "# A normalização pode ser feita dividindo o pixel por 255 (tambem se podia utilizar o skit-learn).\n",
    "\n",
    "# Pode-se ver que o valor máximo de um pixel é de 255\n",
    "X_test[0].max()"
   ]
  },
  {
   "cell_type": "code",
   "execution_count": 13,
   "metadata": {},
   "outputs": [
    {
     "data": {
      "text/plain": [
       "13.0"
      ]
     },
     "execution_count": 13,
     "metadata": {},
     "output_type": "execute_result"
    }
   ],
   "source": [
    "X_test[0].min()"
   ]
  },
  {
   "cell_type": "code",
   "execution_count": 14,
   "metadata": {},
   "outputs": [],
   "source": [
    "# Normalização do conjunto de teste e treino\n",
    "X_train = X_train/255\n",
    "X_test = X_test/255"
   ]
  },
  {
   "cell_type": "code",
   "execution_count": 15,
   "metadata": {},
   "outputs": [
    {
     "data": {
      "text/plain": [
       "1.0"
      ]
     },
     "execution_count": 15,
     "metadata": {},
     "output_type": "execute_result"
    }
   ],
   "source": [
    "X_test[0].max()"
   ]
  },
  {
   "cell_type": "markdown",
   "metadata": {},
   "source": [
    "## Modelo Deep Autoencoder"
   ]
  },
  {
   "cell_type": "code",
   "execution_count": 44,
   "metadata": {},
   "outputs": [],
   "source": [
    "# factor de compactação = 3072/768 = 4. Vai-se compactar a imagem 4 vezes em relação à original.\n",
    "\n",
    "# Sequential - A informação move-se da camada de entrada, para a camada oculta e de seguida para a camada de saida.\n",
    "\n",
    "#Dense - Camadas densas(cada um dos neurónios é ligado com todos os neuronios da camada seguinte) tambem chamada de rede neural\n",
    "# fully connected\n",
    "\n",
    "# 1ª Camada Oculta(e definição da camada de entrada) \n",
    "# units: Número de neuronios da 1ª camada oculta. Definir qual a redução de dimensionalidade que se quer na 1º camada oculta.\n",
    "# Neste caso pretende-se passar de 3072 variaveis de entrada para 1536 na 1º camada oculta.\n",
    "# Função de Activação: Normalmente escolhe-se a reLu para deep learning porque obtem-se melhores resultados do que com uma\n",
    "# função sigmoide ou tangente hiperbolica. \n",
    "# Kernel initializer: Como se inicializam os pesos.\n",
    "# input_dim: quantos atributos existem na camada de entrada (neste caso são 3072 variaveis de entrada). Este parâmetro só é \n",
    "# necessário para a primeira camada oculta. Com este parâmetro activo não é necessário colocar explicitamente a camada de \n",
    "# entrada porque na 1ª camada oculta está-se a dizer o numero de neurónios da camada de entrada.\n",
    "\n",
    "# Camada de Saida\n",
    "# units: Número de neurónios da camada de saida. Igual ao número de neurónios da camada de entrada.\n",
    "# Função de activação: Sigmoid porque é um problema de classificação binário que varia entre 0 e 1, e esta função retorna sempre\n",
    "# um valor entre 0 e 1. Pode-se utilizar a sigmoid porque foi feita a normalização dos pixeis entre 0 e 1. Tambem se utiliza\n",
    "# bastantes vezes a função sigmoid.\n",
    "\n",
    "#------------------------------------------------------------------------------------------------------------------------\n",
    "# Predende-se reduzir a dimensionalidade de 3072 para 768.\n",
    "# Na codificação(encode):\n",
    "# Tem-se a camada de entrada com 3072 neurónios\n",
    "# Tem-se de seguida uma camada oculta com 1536 neurónios.\n",
    "# Tem-se de seguida uma camada oculta com 768 neurónios. A camada com a redução da dimensionalidade pretendida.\n",
    "# Na descodificação(decode):\n",
    "# Tem-se de seguida uma camada oculta com 768 neurónios.\n",
    "# Tem-se a camada de saida com 3072 neurónios. Dimensão original(da camada de entrada).\n",
    "\n",
    "# Por exemplo, para obter o valor de 1536 dividiu-se 3072 / 2 e para obter o valor de 768 dividiu-ses 1532 / 2\n",
    "\n",
    "model = models.Sequential()\n",
    "model.add(layers.Dense(units = 1536, activation = 'relu', input_dim = 3072)) # 1º Camada oculta e definição da camada de entrada. \n",
    "model.add(layers.Dense(units = 768, activation='relu')) # 2º camada oculta (camada com a redução de dimensionalidade pretendida).\n",
    "\n",
    "model.add(layers.Dense(units = 1536, activation='relu'))\n",
    "model.add(layers.Dense(units = 3072, activation='sigmoid')) # Camada de Saida.\n"
   ]
  },
  {
   "cell_type": "code",
   "execution_count": 45,
   "metadata": {},
   "outputs": [
    {
     "name": "stdout",
     "output_type": "stream",
     "text": [
      "Model: \"sequential_2\"\n",
      "_________________________________________________________________\n",
      "Layer (type)                 Output Shape              Param #   \n",
      "=================================================================\n",
      "dense_10 (Dense)             (None, 1536)              4720128   \n",
      "_________________________________________________________________\n",
      "dense_11 (Dense)             (None, 768)               1180416   \n",
      "_________________________________________________________________\n",
      "dense_12 (Dense)             (None, 1536)              1181184   \n",
      "_________________________________________________________________\n",
      "dense_13 (Dense)             (None, 3072)              4721664   \n",
      "=================================================================\n",
      "Total params: 11,803,392\n",
      "Trainable params: 11,803,392\n",
      "Non-trainable params: 0\n",
      "_________________________________________________________________\n"
     ]
    }
   ],
   "source": [
    "model.summary()"
   ]
  },
  {
   "cell_type": "markdown",
   "metadata": {},
   "source": [
    "## Compilação e Ajuste do modelo autoencoder"
   ]
  },
  {
   "cell_type": "code",
   "execution_count": 46,
   "metadata": {},
   "outputs": [],
   "source": [
    "# Optimizer: adam é uma optimização da descida do gradiente estócastico (usado para encontrar os melhores valores dos pesos).\n",
    "# É o que melhor se adapta à maioria dos casos.\n",
    "\n",
    "# loss = função de perda binary_crossentropy é a mais utilizada para classificação binária. Mede o quão afastada está a previsão\n",
    "# do seu valor real(0 ou 1) para cada classe e faz a média desses erros(desvios) para obter o custo(loss). Como utiliza o\n",
    "# logaritmo tem uma penalização maior quando existe uma classificação errada.\n",
    "\n",
    "model.compile(optimizer=\"adam\", loss=\"binary_crossentropy\", metrics=[\"binary_accuracy\"])"
   ]
  },
  {
   "cell_type": "code",
   "execution_count": 47,
   "metadata": {},
   "outputs": [
    {
     "name": "stdout",
     "output_type": "stream",
     "text": [
      "Train on 50000 samples, validate on 10000 samples\n",
      "Epoch 1/10\n",
      "50000/50000 [==============================] - 81s 2ms/sample - loss: 0.6270 - binary_accuracy: 0.0115 - val_loss: 0.6135 - val_binary_accuracy: 0.0120\n",
      "Epoch 2/10\n",
      "50000/50000 [==============================] - 76s 2ms/sample - loss: 0.5934 - binary_accuracy: 0.0120 - val_loss: 0.5864 - val_binary_accuracy: 0.0121\n",
      "Epoch 3/10\n",
      "50000/50000 [==============================] - 75s 2ms/sample - loss: 0.5846 - binary_accuracy: 0.0120 - val_loss: 0.5831 - val_binary_accuracy: 0.0121\n",
      "Epoch 4/10\n",
      "50000/50000 [==============================] - 75s 1ms/sample - loss: 0.5800 - binary_accuracy: 0.0120 - val_loss: 0.5790 - val_binary_accuracy: 0.0121\n",
      "Epoch 5/10\n",
      "50000/50000 [==============================] - 76s 2ms/sample - loss: 0.5776 - binary_accuracy: 0.0121 - val_loss: 0.5777 - val_binary_accuracy: 0.0121\n",
      "Epoch 6/10\n",
      "50000/50000 [==============================] - 78s 2ms/sample - loss: 0.5761 - binary_accuracy: 0.0121 - val_loss: 0.5774 - val_binary_accuracy: 0.0121\n",
      "Epoch 7/10\n",
      "50000/50000 [==============================] - 73s 1ms/sample - loss: 0.5741 - binary_accuracy: 0.0121 - val_loss: 0.5757 - val_binary_accuracy: 0.0121\n",
      "Epoch 8/10\n",
      "50000/50000 [==============================] - 74s 1ms/sample - loss: 0.5736 - binary_accuracy: 0.0121 - val_loss: 0.5730 - val_binary_accuracy: 0.0121\n",
      "Epoch 9/10\n",
      "50000/50000 [==============================] - 77s 2ms/sample - loss: 0.5717 - binary_accuracy: 0.0121 - val_loss: 0.5739 - val_binary_accuracy: 0.0121\n",
      "Epoch 10/10\n",
      "50000/50000 [==============================] - 80s 2ms/sample - loss: 0.5707 - binary_accuracy: 0.0121 - val_loss: 0.5714 - val_binary_accuracy: 0.0121\n"
     ]
    },
    {
     "data": {
      "text/plain": [
       "<tensorflow.python.keras.callbacks.History at 0x9912e05a20>"
      ]
     },
     "execution_count": 47,
     "metadata": {},
     "output_type": "execute_result"
    }
   ],
   "source": [
    "# batch_size\n",
    "# batch_size: 256, calcula-se o erro de um conjunto de 256 dados e actualizam-se os pesos. Quanto mais alto este valor, mais\n",
    "# rapido são executados os calculos.\n",
    "\n",
    "# epochs: Quantas vezes o algoritmo percorre o conjunto de dados de treino totalmente.\n",
    "\n",
    "# 1ª epoca- calcula o erro para os primeiros 256 dados e actualiza todos os pesos. calcula o o erro para os 256 dados seguintes \n",
    "# e actualiza todos os pesos. E assim sucessivamente.\n",
    "# 2ª epoca- calcula o erro para os primeiros 256 dados(com os pesos da 1ª epoca) e actualiza os pesos. calcula o erro para \n",
    "# os 256 dados seguintes e actualiza todos os pesos. E assim sucessivamente.\n",
    "\n",
    "# Validation data: Avaliação do modelo utilizando a base de dados de teste (val_accuracy).\n",
    "\n",
    "# Em vez do y_train utiliza-se o X_train em seu lugar. \n",
    "# Está-se a fazer a codificação da camada de entrada no nº de neurónios da camada oculta.\n",
    "# De seguida faz-se a descodificação da camada oculta na camada de saida.\n",
    "# De seguida compara-se a camada de saida com a camada de entrada(e não com o y_train).\n",
    "# Calcula-se o erro e ajustam-se os pesos utilizando a tecnica back-propagation.\n",
    "# Repetem-se os passos anteriores para o número de épocas definido.\n",
    "\n",
    "# Ajustar os dados de entrada de treino aos dados de saida de treino para treinar o modelo\n",
    "model.fit(X_train, X_train, batch_size=256, epochs=10, validation_data=(X_test,X_test))"
   ]
  },
  {
   "cell_type": "markdown",
   "metadata": {},
   "source": [
    "## Modelo Deep Autoencoder para redução da dimensionalidade"
   ]
  },
  {
   "cell_type": "code",
   "execution_count": 49,
   "metadata": {},
   "outputs": [],
   "source": [
    "# original size: Camada de entrada com as dimensões originais da imagem.\n",
    "# encoded size_final: Camada com a redução da dimensionalidade aplicada através da codificação(camada zero do modelo do \n",
    "# autoencoder).\n",
    "\n",
    "original_size = layers.Input(shape=3072,)\n",
    "encoded_size_1 = model.layers[0] \n",
    "encoded_size_2 = model.layers[1] "
   ]
  },
  {
   "cell_type": "code",
   "execution_count": 50,
   "metadata": {},
   "outputs": [],
   "source": [
    "# Com o modelo de autoencoder model fez-se a codificação e descodificação. Ou seja reduziu-se a dimensionalidade das imagens e\n",
    "# depois voltou a transformar-se as imagens na dimensão original.\n",
    "# Com o modelo encoder apenas se faz a codificação. Ou seja apenas se reduz a dimensionalidade das imagens.\n",
    "\n",
    "# Modelo para fazer a redução de dimensionalidade.\n",
    "\n",
    "# Model utiliza-se quando se quer criar manualmente a rede neural.\n",
    "# O modelo encoder recebe o original_size e transforma no encoded_size.\n",
    "\n",
    "# Model(camada de entrada, estrutura da rede).\n",
    "# A camada encoded_size_2 segue-se à camada encoded_size_1 e à camada original_size.\n",
    "encoder = models.Model(original_size, encoded_size_2(encoded_size_1(original_size)))"
   ]
  },
  {
   "cell_type": "code",
   "execution_count": 51,
   "metadata": {},
   "outputs": [
    {
     "name": "stdout",
     "output_type": "stream",
     "text": [
      "Model: \"model_2\"\n",
      "_________________________________________________________________\n",
      "Layer (type)                 Output Shape              Param #   \n",
      "=================================================================\n",
      "input_6 (InputLayer)         [(None, 3072)]            0         \n",
      "_________________________________________________________________\n",
      "dense_10 (Dense)             (None, 1536)              4720128   \n",
      "_________________________________________________________________\n",
      "dense_11 (Dense)             (None, 768)               1180416   \n",
      "=================================================================\n",
      "Total params: 5,900,544\n",
      "Trainable params: 5,900,544\n",
      "Non-trainable params: 0\n",
      "_________________________________________________________________\n"
     ]
    }
   ],
   "source": [
    "# Transforma de 3072 dimensões para 768 dimensões.\n",
    "encoder.summary()"
   ]
  },
  {
   "cell_type": "code",
   "execution_count": 52,
   "metadata": {},
   "outputs": [
    {
     "data": {
      "text/plain": [
       "(768,)"
      ]
     },
     "execution_count": 52,
     "metadata": {},
     "output_type": "execute_result"
    }
   ],
   "source": [
    "# Imagens de teste codificadas(com redução de dimensionalidade de 3072 para 768).\n",
    "X_test_codificado = encoder.predict(X_test)\n",
    "X_test_codificado[0].shape"
   ]
  },
  {
   "cell_type": "code",
   "execution_count": 53,
   "metadata": {},
   "outputs": [
    {
     "data": {
      "text/plain": [
       "(3072,)"
      ]
     },
     "execution_count": 53,
     "metadata": {},
     "output_type": "execute_result"
    }
   ],
   "source": [
    "# Imagens de teste descodificadas(com a dimensionalidade original de 3072).\n",
    "X_test_descodificado = model.predict(X_test)\n",
    "X_test_descodificado[0].shape"
   ]
  },
  {
   "cell_type": "markdown",
   "metadata": {},
   "source": [
    "## Visualização das imagens"
   ]
  },
  {
   "cell_type": "code",
   "execution_count": 54,
   "metadata": {},
   "outputs": [],
   "source": [
    "# Escolher um numero_imagens aleatorias do conjunto de teste.\n",
    "# X_test.shape[0]: número de total de imagens no conjunto de teste.\n",
    "# size: número de imagens que se quer escolher aleatoriamente.\n",
    "numero_imagens = 10\n",
    "imagens_teste = np.random.randint(X_test.shape[0], size=numero_imagens)"
   ]
  },
  {
   "cell_type": "code",
   "execution_count": 55,
   "metadata": {},
   "outputs": [
    {
     "name": "stderr",
     "output_type": "stream",
     "text": [
      "W0722 17:18:37.934095 11676 image.py:648] Clipping input data to the valid range for imshow with RGB data ([0..1] for floats or [0..255] for integers).\n",
      "W0722 17:18:37.989144 11676 image.py:648] Clipping input data to the valid range for imshow with RGB data ([0..1] for floats or [0..255] for integers).\n",
      "W0722 17:18:38.037166 11676 image.py:648] Clipping input data to the valid range for imshow with RGB data ([0..1] for floats or [0..255] for integers).\n",
      "W0722 17:18:38.084344 11676 image.py:648] Clipping input data to the valid range for imshow with RGB data ([0..1] for floats or [0..255] for integers).\n",
      "W0722 17:18:38.525720 11676 image.py:648] Clipping input data to the valid range for imshow with RGB data ([0..1] for floats or [0..255] for integers).\n",
      "W0722 17:18:38.577933 11676 image.py:648] Clipping input data to the valid range for imshow with RGB data ([0..1] for floats or [0..255] for integers).\n",
      "W0722 17:18:38.626968 11676 image.py:648] Clipping input data to the valid range for imshow with RGB data ([0..1] for floats or [0..255] for integers).\n",
      "W0722 17:18:38.671009 11676 image.py:648] Clipping input data to the valid range for imshow with RGB data ([0..1] for floats or [0..255] for integers).\n",
      "W0722 17:18:38.721038 11676 image.py:648] Clipping input data to the valid range for imshow with RGB data ([0..1] for floats or [0..255] for integers).\n",
      "W0722 17:18:38.784080 11676 image.py:648] Clipping input data to the valid range for imshow with RGB data ([0..1] for floats or [0..255] for integers).\n"
     ]
    },
    {
     "data": {
      "image/png": "[encoded data removed]",
      "text/plain": [
       "<Figure size 1296x1296 with 30 Axes>"
      ]
     },
     "metadata": {},
     "output_type": "display_data"
    }
   ],
   "source": [
    "plt.figure(figsize=(18,18))\n",
    "\n",
    "for i, indice_imagens in enumerate(imagens_teste):\n",
    "    #print(i)\n",
    "    #print(indice_imagens)\n",
    "    \n",
    "     # imagem original\n",
    "    eixo = plt.subplot(10,10,i + 1)\n",
    "    plt.imshow(X_test[indice_imagens].reshape(32,32,3)) #(32,32,3) tamanho da imagem original com 3 canais\n",
    "    plt.xticks(())\n",
    "    plt.yticks(())\n",
    "    \n",
    "    # imagem codificada\n",
    "    eixo = plt.subplot(10,10,i + 1 + numero_imagens)\n",
    "    plt.imshow(X_test_codificado[indice_imagens].reshape(16,16,3)) #(16,16,3)=768 Pode ser um dos tamanhos escolhidos para a imagem codificada\n",
    "    plt.xticks(())\n",
    "    plt.yticks(())\n",
    "    \n",
    "     # imagem reconstruída(codificada e depois descodificada)\n",
    "    eixo = plt.subplot(10,10,i + 1 + numero_imagens * 2)\n",
    "    plt.imshow(X_test_descodificado[indice_imagens].reshape(32,32,3)) #(28,28) tamanho da imagem original com 3 canais. Aumentando o\n",
    "    # número de epocas as imagens reconstruidas vão aproximar-se das imagens originais.\n",
    "    plt.xticks(())\n",
    "    plt.yticks(())"
   ]
  },
  {
   "cell_type": "code",
   "execution_count": null,
   "metadata": {},
   "outputs": [],
   "source": []
  }
 ],
 "metadata": {
  "kernelspec": {
   "display_name": "Python 3",
   "language": "python",
   "name": "python3"
  },
  "language_info": {
   "codemirror_mode": {
    "name": "ipython",
    "version": 3
   },
   "file_extension": ".py",
   "mimetype": "text/x-python",
   "name": "python",
   "nbconvert_exporter": "python",
   "pygments_lexer": "ipython3",
   "version": "3.7.3"
  }
 },
 "nbformat": 4,
 "nbformat_minor": 2
}
