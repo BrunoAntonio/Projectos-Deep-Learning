{
 "cells": [
  {
   "cell_type": "markdown",
   "metadata": {},
   "source": [
    " # Deep Autoencoder(Stack Autoencoder) - Redução de dimensionalidade"
   ]
  },
  {
   "cell_type": "code",
   "execution_count": 1,
   "metadata": {},
   "outputs": [],
   "source": [
    "import matplotlib.pyplot as plt\n",
    "\n",
    "import numpy as np\n",
    "import pandas as pd\n",
    "\n",
    "import tensorflow as tf\n",
    "from tensorflow.keras import models, layers, datasets, utils, preprocessing\n",
    "\n",
    "%matplotlib inline"
   ]
  },
  {
   "cell_type": "markdown",
   "metadata": {},
   "source": [
    "## Obter os dados"
   ]
  },
  {
   "cell_type": "code",
   "execution_count": 2,
   "metadata": {},
   "outputs": [],
   "source": [
    "# A base de dados já está dividida em dois conjuntos: treino e teste\n",
    "# Como vai-se apenas fazer a redução da dimensionalidade não é necessária avariavel de saida. E o autoencoder é um algoritmo\n",
    "# não supervisionado, por isso é utilizado normalmente quando não se tem acesso a esses dados. Mas tambem não se deveria dividir\n",
    "# o dataset emtreino e teste.\n",
    "# Coloca-se _ para que essa variavel não seja criada\n",
    "(X_train, _), (X_test, _) = datasets.mnist.load_data()"
   ]
  },
  {
   "cell_type": "code",
   "execution_count": 3,
   "metadata": {},
   "outputs": [
    {
     "data": {
      "text/plain": [
       "60000"
      ]
     },
     "execution_count": 3,
     "metadata": {},
     "output_type": "execute_result"
    }
   ],
   "source": [
    "# 60000 imagens para treino\n",
    "len(X_train)"
   ]
  },
  {
   "cell_type": "code",
   "execution_count": 4,
   "metadata": {},
   "outputs": [
    {
     "data": {
      "text/plain": [
       "10000"
      ]
     },
     "execution_count": 4,
     "metadata": {},
     "output_type": "execute_result"
    }
   ],
   "source": [
    "# 10000 imagens para teste\n",
    "len(X_test)"
   ]
  },
  {
   "cell_type": "code",
   "execution_count": 5,
   "metadata": {},
   "outputs": [
    {
     "data": {
      "text/plain": [
       "<matplotlib.image.AxesImage at 0x10669c2e8>"
      ]
     },
     "execution_count": 5,
     "metadata": {},
     "output_type": "execute_result"
    },
    {
     "data": {
      "image/png": "[encoded data removed]",
      "text/plain": [
       "<Figure size 432x288 with 1 Axes>"
      ]
     },
     "metadata": {
      "needs_background": "light"
     },
     "output_type": "display_data"
    }
   ],
   "source": [
    "# Número zero a preto e branco\n",
    "plt.imshow(X_train[1], cmap=\"gray\")"
   ]
  },
  {
   "cell_type": "code",
   "execution_count": 6,
   "metadata": {},
   "outputs": [
    {
     "data": {
      "text/plain": [
       "(28, 28)"
      ]
     },
     "execution_count": 6,
     "metadata": {},
     "output_type": "execute_result"
    }
   ],
   "source": [
    "# Matriz com os pixeis da imagem com o número zero.\n",
    "# Matriz 28x28 (784 pixeis).\n",
    "pixeis = X_train[1]\n",
    "pixeis.shape"
   ]
  },
  {
   "cell_type": "markdown",
   "metadata": {},
   "source": [
    "# Pré-Processamento dos dados"
   ]
  },
  {
   "cell_type": "code",
   "execution_count": 7,
   "metadata": {},
   "outputs": [
    {
     "data": {
      "text/plain": [
       "60000"
      ]
     },
     "execution_count": 7,
     "metadata": {},
     "output_type": "execute_result"
    }
   ],
   "source": [
    "# 60000 imagens para treino\n",
    "X_train.shape[0]"
   ]
  },
  {
   "cell_type": "markdown",
   "metadata": {},
   "source": [
    "### Transformar os dados num vector em que o tensorflow consiga fazer a sua leitura."
   ]
  },
  {
   "cell_type": "code",
   "execution_count": 8,
   "metadata": {},
   "outputs": [],
   "source": [
    "# Para redes neurais convolucionais:\n",
    "# 1º parametro: número de imagens\n",
    "# 2º parametro: Altura da imagem (nº de pixeis da imagem na vertical).\n",
    "# 3º parametro: Largura da imagem (nº de pixeis da imagem na horizontal).\n",
    "\n",
    "# Nº de canais de RGB: Como a cor não tem influência neste caso pode-se utilizar a imagem a preto e branco(rgb=1). Quando se \n",
    "# utilizam as imagens a cores (rgb=3) o algoritmo fica mais lento porque aumenta a dimensionalidade dos dados. Uma imagem a \n",
    "# cores tem 3 canais(valores) dentro de cada pixel, porque o pixel é subdividio em vermelho(r), verde(g e azul(b)). Com rgb=1 \n",
    "# tem-se menos dados para processar.\n",
    "\n",
    "# A escala de cinzento possui apenas um canal. Quanto mais próximo de 255 mais claro é o cinzento e quanto mais próximo de \n",
    "# 0 mais escura é a cor.\n",
    "# Nesta escala o Pixel com o valor 255 é o branco e pixel 0 é o preto. Ao redor do número tem-se apenas o valor 0, que indica o \n",
    "# preto(o fundo é preto).\n",
    "\n",
    "#X_train = X_train.reshape(X_train.shape[0], 28, 28, 1) # (60000, 28, 28, 1)\n",
    "#X_test = X_test.reshape(X_test.shape[0], 28, 28, 1)\n",
    "#-------------------------------------------------------------------------------------------------------------------\n",
    "# Para redes neurais artificiais:\n",
    "# 1º parametro: número de imagens.\n",
    "# 2º parametro: quantidade de pixeis por imagem. Neste caso tem-se 28x28=784 pixeis.\n",
    "\n",
    "X_train = X_train.reshape((len(X_train), np.prod(X_test.shape[1:]))) # (60000, 784)\n",
    "X_test = X_test.reshape((len(X_test), np.prod(X_test.shape[1:])))"
   ]
  },
  {
   "cell_type": "code",
   "execution_count": 9,
   "metadata": {},
   "outputs": [
    {
     "data": {
      "text/plain": [
       "(60000, 784)"
      ]
     },
     "execution_count": 9,
     "metadata": {},
     "output_type": "execute_result"
    }
   ],
   "source": [
    "X_train.shape"
   ]
  },
  {
   "cell_type": "markdown",
   "metadata": {},
   "source": [
    "### Conversão dos dados do tipo int8 para float32"
   ]
  },
  {
   "cell_type": "code",
   "execution_count": 10,
   "metadata": {},
   "outputs": [
    {
     "data": {
      "text/plain": [
       "numpy.uint8"
      ]
     },
     "execution_count": 10,
     "metadata": {},
     "output_type": "execute_result"
    }
   ],
   "source": [
    "# Como os dados vão ser convertidos para uma escala entre 0 e 1 tem-se de converter os dados de inteiro8 para float32 para que\n",
    "# os valores obtidos depois da normalização não sejam inteiros e consequentemente quase todos 0(por não haver números decimais).\n",
    "\n",
    "#X_test[0,1,1]\n",
    "type(X_test[0,1])"
   ]
  },
  {
   "cell_type": "code",
   "execution_count": 11,
   "metadata": {},
   "outputs": [],
   "source": [
    "# Conversão dos dados em float 32\n",
    "X_train = X_train.astype(\"float32\")\n",
    "X_test = X_test.astype(\"float32\")"
   ]
  },
  {
   "cell_type": "code",
   "execution_count": 12,
   "metadata": {},
   "outputs": [
    {
     "data": {
      "text/plain": [
       "numpy.float32"
      ]
     },
     "execution_count": 12,
     "metadata": {},
     "output_type": "execute_result"
    }
   ],
   "source": [
    "type(X_test[0,1])"
   ]
  },
  {
   "cell_type": "markdown",
   "metadata": {},
   "source": [
    "### Normalização dos pixeis"
   ]
  },
  {
   "cell_type": "code",
   "execution_count": 13,
   "metadata": {},
   "outputs": [
    {
     "data": {
      "text/plain": [
       "255.0"
      ]
     },
     "execution_count": 13,
     "metadata": {},
     "output_type": "execute_result"
    }
   ],
   "source": [
    "# passar os pixeis para uma escala de 0 a 1 para que o precessamento dos dados seja mais rapido\n",
    "# Isto pode ser feito através da tecnica min max normalization. Como cada pixel ocupa 1 byte e o byte consegue guardar 256\n",
    "# resultados possiveis(ou seja varia entre 0 e 255). \n",
    "# A normalização pode ser feita dividindo o pixel por 255 (tambem se podia utilizar o skit-learn).\n",
    "\n",
    "# Pode-se ver que o valor máximo de um pixel é de 255\n",
    "X_test[0].max()"
   ]
  },
  {
   "cell_type": "code",
   "execution_count": 14,
   "metadata": {},
   "outputs": [
    {
     "data": {
      "text/plain": [
       "0.0"
      ]
     },
     "execution_count": 14,
     "metadata": {},
     "output_type": "execute_result"
    }
   ],
   "source": [
    "X_test[0].min()"
   ]
  },
  {
   "cell_type": "code",
   "execution_count": 15,
   "metadata": {},
   "outputs": [],
   "source": [
    "# Normalização do conjunto de teste e treino\n",
    "X_train = X_train/255\n",
    "X_test = X_test/255"
   ]
  },
  {
   "cell_type": "code",
   "execution_count": 16,
   "metadata": {},
   "outputs": [
    {
     "data": {
      "text/plain": [
       "1.0"
      ]
     },
     "execution_count": 16,
     "metadata": {},
     "output_type": "execute_result"
    }
   ],
   "source": [
    "X_test[0].max()"
   ]
  },
  {
   "cell_type": "markdown",
   "metadata": {},
   "source": [
    "## Modelo Deep Autoencoder"
   ]
  },
  {
   "cell_type": "code",
   "execution_count": 17,
   "metadata": {},
   "outputs": [],
   "source": [
    "# factor de compactação = 784/32 = 24.5.Vai-se compactar a imagem 24.5 vezes em relação à original.\n",
    "\n",
    "# Sequential - A informação move-se da camada de entrada, para a camada oculta e de seguida para a camada de saida.\n",
    "\n",
    "#Dense - Camadas densas(cada um dos neurónios é ligado com todos os neuronios da camada seguinte) tambem chamada de rede neural\n",
    "# fully connected\n",
    "\n",
    "# 1ª Camada Oculta(e definição da camada de entrada) \n",
    "# units: Número de neuronios da 1ª camada oculta. Definir qual a redução de dimensionalidade que se quer na 1º camada oculta.\n",
    "# Neste caso pretende-se passar de 784 variaveis de entrada para 128 na 1º camada oculta.\n",
    "# Função de Activação: Normalmente escolhe-se a reLu para deep learning porque obtem-se melhores resultados do que com uma\n",
    "# função sigmoide ou tangente hiperbolica. \n",
    "# Kernel initializer: Como se inicializam os pesos.\n",
    "# input_dim: quantos atributos existem na camada de entrada (neste caso são 784 variaveis de entrada). Este parâmetro só é \n",
    "# necessário para a primeira camada oculta. Com este parâmetro activo não é necessário colocar explicitamente a camada de \n",
    "# entrada porque na 1ª camada oculta está-se a dizer o numero de neurónios da camada de entrada.\n",
    "\n",
    "# Camada de Saida\n",
    "# units: Número de neurónios da camada de saida. Igual ao número de neurónios da camada de entrada.\n",
    "# Função de activação: Sigmoid porque é um problema de classificação binário que varia entre 0 e 1, e esta função retorna sempre\n",
    "# um valor entre 0 e 1. Pode-se utilizar a sigmoid porque foi feita a normalização dos pixeis entre 0 e 1. Tambem se utiliza\n",
    "# bastantes vezes a função sigmoid.\n",
    "\n",
    "#------------------------------------------------------------------------------------------------------------------------\n",
    "# Predende-se reduzir a dimensionalidade de 784 para 32.\n",
    "# Na codificação(encode):\n",
    "# Tem-se a camada de entrada com 784 neurónios\n",
    "# Tem-se de seguida uma camada oculta com 128 neurónios.\n",
    "# Tem-se de seguida uma camada oculta com 64 neurónios.\n",
    "# Tem-se de seguida uma camada oculta com 32 neurónios. A camada com a redução da dimensionalidade pretendida.\n",
    "# Na descodificação(decode):\n",
    "# Tem-se de seguida uma camada oculta com 64 neurónios.\n",
    "# Tem-se de seguida uma camada oculta com 128 neurónios.\n",
    "# Tem-se a camada de saida com 784 neurónios. Dimensão original(da camada de entrada).\n",
    "\n",
    "model = models.Sequential()\n",
    "model.add(layers.Dense(units=128, activation=\"relu\", input_dim=784)) # 1º Camada oculta e definição da camada de entrada. \n",
    "model.add(layers.Dense(units=64, activation=\"relu\"))\n",
    "model.add(layers.Dense(units=32, activation=\"relu\")) # 3º camada oculta (camada com a redução de dimensionalidade pretendida).\n",
    "model.add(layers.Dense(units=64, activation=\"relu\"))\n",
    "model.add(layers.Dense(units=128, activation=\"relu\"))\n",
    "model.add(layers.Dense(units=784, activation=\"sigmoid\")) # Camada de Saida."
   ]
  },
  {
   "cell_type": "code",
   "execution_count": 19,
   "metadata": {},
   "outputs": [
    {
     "name": "stdout",
     "output_type": "stream",
     "text": [
      "Model: \"sequential\"\n",
      "_________________________________________________________________\n",
      "Layer (type)                 Output Shape              Param #   \n",
      "=================================================================\n",
      "dense (Dense)                (None, 128)               100480    \n",
      "_________________________________________________________________\n",
      "dense_1 (Dense)              (None, 64)                8256      \n",
      "_________________________________________________________________\n",
      "dense_2 (Dense)              (None, 32)                2080      \n",
      "_________________________________________________________________\n",
      "dense_3 (Dense)              (None, 64)                2112      \n",
      "_________________________________________________________________\n",
      "dense_4 (Dense)              (None, 128)               8320      \n",
      "_________________________________________________________________\n",
      "dense_5 (Dense)              (None, 784)               101136    \n",
      "=================================================================\n",
      "Total params: 222,384\n",
      "Trainable params: 222,384\n",
      "Non-trainable params: 0\n",
      "_________________________________________________________________\n"
     ]
    }
   ],
   "source": [
    "model.summary()"
   ]
  },
  {
   "cell_type": "markdown",
   "metadata": {},
   "source": [
    "## Compilação e Ajuste do modelo autoencoder"
   ]
  },
  {
   "cell_type": "code",
   "execution_count": 20,
   "metadata": {},
   "outputs": [],
   "source": [
    "# Optimizer: adam é uma optimização da descida do gradiente estócastico (usado para encontrar os melhores valores dos pesos).\n",
    "# É o que melhor se adapta à maioria dos casos.\n",
    "\n",
    "# loss = função de perda binary_crossentropy é a mais utilizada para classificação binária. Mede o quão afastada está a previsão\n",
    "# do seu valor real(0 ou 1) para cada classe e faz a média desses erros(desvios) para obter o custo(loss). Como utiliza o\n",
    "# logaritmo tem uma penalização maior quando existe uma classificação errada.\n",
    "\n",
    "model.compile(optimizer=\"adam\", loss=\"binary_crossentropy\", metrics=[\"binary_accuracy\"])"
   ]
  },
  {
   "cell_type": "code",
   "execution_count": 21,
   "metadata": {},
   "outputs": [
    {
     "name": "stderr",
     "output_type": "stream",
     "text": [
      "WARNING: Logging before flag parsing goes to stderr.\n",
      "W0719 14:06:49.728980 10068 deprecation.py:323] From C:\\Users\\Bruno\\Anaconda3\\lib\\site-packages\\tensorflow\\python\\ops\\math_grad.py:1250: add_dispatch_support.<locals>.wrapper (from tensorflow.python.ops.array_ops) is deprecated and will be removed in a future version.\n",
      "Instructions for updating:\n",
      "Use tf.where in 2.0, which has the same broadcast rule as np.where\n"
     ]
    },
    {
     "name": "stdout",
     "output_type": "stream",
     "text": [
      "Train on 60000 samples, validate on 10000 samples\n",
      "Epoch 1/50\n",
      "60000/60000 [==============================] - 6s 92us/sample - loss: 0.2509 - binary_accuracy: 0.7836 - val_loss: 0.1682 - val_binary_accuracy: 0.8010\n",
      "Epoch 2/50\n",
      "60000/60000 [==============================] - 6s 97us/sample - loss: 0.1499 - binary_accuracy: 0.8053 - val_loss: 0.1344 - val_binary_accuracy: 0.8065\n",
      "Epoch 3/50\n",
      "60000/60000 [==============================] - 6s 93us/sample - loss: 0.1302 - binary_accuracy: 0.8088 - val_loss: 0.1235 - val_binary_accuracy: 0.8089\n",
      "Epoch 4/50\n",
      "60000/60000 [==============================] - 6s 105us/sample - loss: 0.1211 - binary_accuracy: 0.8102 - val_loss: 0.1170 - val_binary_accuracy: 0.8091\n",
      "Epoch 5/50\n",
      "60000/60000 [==============================] - 6s 98us/sample - loss: 0.1158 - binary_accuracy: 0.8111 - val_loss: 0.1125 - val_binary_accuracy: 0.8106\n",
      "Epoch 6/50\n",
      "60000/60000 [==============================] - 6s 93us/sample - loss: 0.1121 - binary_accuracy: 0.8116 - val_loss: 0.1089 - val_binary_accuracy: 0.8111\n",
      "Epoch 7/50\n",
      "60000/60000 [==============================] - 6s 96us/sample - loss: 0.1086 - binary_accuracy: 0.8121 - val_loss: 0.1062 - val_binary_accuracy: 0.8113\n",
      "Epoch 8/50\n",
      "60000/60000 [==============================] - 5s 91us/sample - loss: 0.1060 - binary_accuracy: 0.8124 - val_loss: 0.1038 - val_binary_accuracy: 0.8114\n",
      "Epoch 9/50\n",
      "60000/60000 [==============================] - 5s 91us/sample - loss: 0.1040 - binary_accuracy: 0.8127 - val_loss: 0.1018 - val_binary_accuracy: 0.8121\n",
      "Epoch 10/50\n",
      "60000/60000 [==============================] - 6s 93us/sample - loss: 0.1021 - binary_accuracy: 0.8129 - val_loss: 0.1003 - val_binary_accuracy: 0.8122\n",
      "Epoch 11/50\n",
      "60000/60000 [==============================] - 6s 94us/sample - loss: 0.1008 - binary_accuracy: 0.8130 - val_loss: 0.0990 - val_binary_accuracy: 0.8120\n",
      "Epoch 12/50\n",
      "60000/60000 [==============================] - 6s 99us/sample - loss: 0.0994 - binary_accuracy: 0.8132 - val_loss: 0.0979 - val_binary_accuracy: 0.8121\n",
      "Epoch 13/50\n",
      "60000/60000 [==============================] - 6s 93us/sample - loss: 0.0982 - binary_accuracy: 0.8133 - val_loss: 0.0964 - val_binary_accuracy: 0.8126\n",
      "Epoch 14/50\n",
      "60000/60000 [==============================] - 5s 87us/sample - loss: 0.0970 - binary_accuracy: 0.8135 - val_loss: 0.0955 - val_binary_accuracy: 0.8127\n",
      "Epoch 15/50\n",
      "60000/60000 [==============================] - 5s 89us/sample - loss: 0.0959 - binary_accuracy: 0.8136 - val_loss: 0.0946 - val_binary_accuracy: 0.8127\n",
      "Epoch 16/50\n",
      "60000/60000 [==============================] - 6s 95us/sample - loss: 0.0950 - binary_accuracy: 0.8137 - val_loss: 0.0938 - val_binary_accuracy: 0.8127\n",
      "Epoch 17/50\n",
      "60000/60000 [==============================] - 6s 93us/sample - loss: 0.0943 - binary_accuracy: 0.8137 - val_loss: 0.0932 - val_binary_accuracy: 0.8127\n",
      "Epoch 18/50\n",
      "60000/60000 [==============================] - 6s 95us/sample - loss: 0.0937 - binary_accuracy: 0.8138 - val_loss: 0.0924 - val_binary_accuracy: 0.8129\n",
      "Epoch 19/50\n",
      "60000/60000 [==============================] - 6s 102us/sample - loss: 0.0930 - binary_accuracy: 0.8138 - val_loss: 0.0920 - val_binary_accuracy: 0.8131\n",
      "Epoch 20/50\n",
      "60000/60000 [==============================] - 6s 97us/sample - loss: 0.0925 - binary_accuracy: 0.8139 - val_loss: 0.0917 - val_binary_accuracy: 0.8131\n",
      "Epoch 21/50\n",
      "60000/60000 [==============================] - 5s 90us/sample - loss: 0.0921 - binary_accuracy: 0.8139 - val_loss: 0.0912 - val_binary_accuracy: 0.8129\n",
      "Epoch 22/50\n",
      "60000/60000 [==============================] - 5s 79us/sample - loss: 0.0916 - binary_accuracy: 0.8140 - val_loss: 0.0907 - val_binary_accuracy: 0.8130\n",
      "Epoch 23/50\n",
      "60000/60000 [==============================] - 5s 75us/sample - loss: 0.0913 - binary_accuracy: 0.8140 - val_loss: 0.0905 - val_binary_accuracy: 0.8129\n",
      "Epoch 24/50\n",
      "60000/60000 [==============================] - 5s 79us/sample - loss: 0.0909 - binary_accuracy: 0.8140 - val_loss: 0.0899 - val_binary_accuracy: 0.8131\n",
      "Epoch 25/50\n",
      "60000/60000 [==============================] - 5s 80us/sample - loss: 0.0906 - binary_accuracy: 0.8141 - val_loss: 0.0897 - val_binary_accuracy: 0.8131\n",
      "Epoch 26/50\n",
      "60000/60000 [==============================] - 4s 74us/sample - loss: 0.0902 - binary_accuracy: 0.8141 - val_loss: 0.0894 - val_binary_accuracy: 0.8131\n",
      "Epoch 27/50\n",
      "60000/60000 [==============================] - 4s 72us/sample - loss: 0.0899 - binary_accuracy: 0.8141 - val_loss: 0.0889 - val_binary_accuracy: 0.8132\n",
      "Epoch 28/50\n",
      "60000/60000 [==============================] - 5s 78us/sample - loss: 0.0896 - binary_accuracy: 0.8142 - val_loss: 0.0888 - val_binary_accuracy: 0.8133\n",
      "Epoch 29/50\n",
      "60000/60000 [==============================] - 4s 74us/sample - loss: 0.0893 - binary_accuracy: 0.8142 - val_loss: 0.0887 - val_binary_accuracy: 0.8132\n",
      "Epoch 30/50\n",
      "60000/60000 [==============================] - 4s 73us/sample - loss: 0.0890 - binary_accuracy: 0.8142 - val_loss: 0.0884 - val_binary_accuracy: 0.8132\n",
      "Epoch 31/50\n",
      "60000/60000 [==============================] - 5s 78us/sample - loss: 0.0888 - binary_accuracy: 0.8142 - val_loss: 0.0879 - val_binary_accuracy: 0.8133\n",
      "Epoch 32/50\n",
      "60000/60000 [==============================] - 5s 77us/sample - loss: 0.0885 - binary_accuracy: 0.8142 - val_loss: 0.0880 - val_binary_accuracy: 0.8133\n",
      "Epoch 33/50\n",
      "60000/60000 [==============================] - 5s 82us/sample - loss: 0.0884 - binary_accuracy: 0.8143 - val_loss: 0.0877 - val_binary_accuracy: 0.8133\n",
      "Epoch 34/50\n",
      "60000/60000 [==============================] - 4s 65us/sample - loss: 0.0881 - binary_accuracy: 0.8143 - val_loss: 0.0876 - val_binary_accuracy: 0.8134\n",
      "Epoch 35/50\n",
      "60000/60000 [==============================] - 4s 64us/sample - loss: 0.0879 - binary_accuracy: 0.8143 - val_loss: 0.0872 - val_binary_accuracy: 0.8133\n",
      "Epoch 36/50\n",
      "60000/60000 [==============================] - 4s 65us/sample - loss: 0.0878 - binary_accuracy: 0.8143 - val_loss: 0.0871 - val_binary_accuracy: 0.8133\n",
      "Epoch 37/50\n",
      "60000/60000 [==============================] - 5s 77us/sample - loss: 0.0876 - binary_accuracy: 0.8143 - val_loss: 0.0869 - val_binary_accuracy: 0.8134\n",
      "Epoch 38/50\n",
      "60000/60000 [==============================] - 4s 72us/sample - loss: 0.0874 - binary_accuracy: 0.8143 - val_loss: 0.0867 - val_binary_accuracy: 0.8134\n",
      "Epoch 39/50\n",
      "60000/60000 [==============================] - 5s 75us/sample - loss: 0.0872 - binary_accuracy: 0.8144 - val_loss: 0.0866 - val_binary_accuracy: 0.8134\n",
      "Epoch 40/50\n",
      "60000/60000 [==============================] - 4s 72us/sample - loss: 0.0871 - binary_accuracy: 0.8144 - val_loss: 0.0866 - val_binary_accuracy: 0.8134\n",
      "Epoch 41/50\n",
      "60000/60000 [==============================] - 4s 74us/sample - loss: 0.0869 - binary_accuracy: 0.8144 - val_loss: 0.0862 - val_binary_accuracy: 0.8135\n",
      "Epoch 42/50\n",
      "60000/60000 [==============================] - 4s 75us/sample - loss: 0.0867 - binary_accuracy: 0.8144 - val_loss: 0.0865 - val_binary_accuracy: 0.8134\n",
      "Epoch 43/50\n",
      "60000/60000 [==============================] - 5s 78us/sample - loss: 0.0865 - binary_accuracy: 0.8144 - val_loss: 0.0860 - val_binary_accuracy: 0.8134\n",
      "Epoch 44/50\n",
      "60000/60000 [==============================] - 5s 76us/sample - loss: 0.0864 - binary_accuracy: 0.8144 - val_loss: 0.0862 - val_binary_accuracy: 0.8135\n",
      "Epoch 45/50\n",
      "60000/60000 [==============================] - 5s 89us/sample - loss: 0.0862 - binary_accuracy: 0.8144 - val_loss: 0.0861 - val_binary_accuracy: 0.8134\n",
      "Epoch 46/50\n",
      "60000/60000 [==============================] - 5s 81us/sample - loss: 0.0860 - binary_accuracy: 0.8145 - val_loss: 0.0856 - val_binary_accuracy: 0.8135\n",
      "Epoch 47/50\n",
      "60000/60000 [==============================] - 5s 79us/sample - loss: 0.0859 - binary_accuracy: 0.8145 - val_loss: 0.0852 - val_binary_accuracy: 0.8135\n",
      "Epoch 48/50\n",
      "60000/60000 [==============================] - 5s 76us/sample - loss: 0.0856 - binary_accuracy: 0.8145 - val_loss: 0.0851 - val_binary_accuracy: 0.8136\n",
      "Epoch 49/50\n",
      "60000/60000 [==============================] - 5s 82us/sample - loss: 0.0855 - binary_accuracy: 0.8145 - val_loss: 0.0849 - val_binary_accuracy: 0.8135\n",
      "Epoch 50/50\n",
      "60000/60000 [==============================] - 5s 80us/sample - loss: 0.0853 - binary_accuracy: 0.8145 - val_loss: 0.0850 - val_binary_accuracy: 0.8136\n"
     ]
    },
    {
     "data": {
      "text/plain": [
       "<tensorflow.python.keras.callbacks.History at 0x1066e0cf8>"
      ]
     },
     "execution_count": 21,
     "metadata": {},
     "output_type": "execute_result"
    }
   ],
   "source": [
    "# batch_size\n",
    "# batch_size: 256, calcula-se o erro de um conjunto de 256 dados e actualizam-se os pesos. Quanto mais alto este valor, mais\n",
    "# rapido são executados os calculos.\n",
    "\n",
    "# epochs: Quantas vezes o algoritmo percorre o conjunto de dados de treino totalmente.\n",
    "\n",
    "# 1ª epoca- calcula o erro para os primeiros 256 dados e actualiza todos os pesos. calcula o o erro para os 256 dados seguintes \n",
    "# e actualiza todos os pesos. E assim sucessivamente.\n",
    "# 2ª epoca- calcula o erro para os primeiros 256 dados(com os pesos da 1ª epoca) e actualiza os pesos. calcula o erro para \n",
    "# os 256 dados seguintes e actualiza todos os pesos. E assim sucessivamente.\n",
    "\n",
    "# Validation data: Avaliação do modelo utilizando a base de dados de teste (val_accuracy).\n",
    "\n",
    "# Em vez do y_train utiliza-se o X_train em seu lugar. \n",
    "# Está-se a fazer a codificação da camada de entrada no nº de neurónios da camada oculta.\n",
    "# De seguida faz-se a descodificação da camada oculta na camada de saida.\n",
    "# De seguida compara-se a camada de saida com a camada de entrada(e não com o y_train).\n",
    "# Calcula-se o erro e ajustam-se os pesos utilizando a tecnica back-propagation.\n",
    "# Repetem-se os passos anteriores para o número de épocas definido.\n",
    "\n",
    "# Ajustar os dados de entrada de treino aos dados de saida de treino para treinar o modelo\n",
    "model.fit(X_train, X_train, batch_size=256, epochs=50, validation_data=(X_test,X_test))"
   ]
  },
  {
   "cell_type": "markdown",
   "metadata": {},
   "source": [
    "## Modelo Deep Autoencoder para redução da dimensionalidade"
   ]
  },
  {
   "cell_type": "code",
   "execution_count": 35,
   "metadata": {},
   "outputs": [],
   "source": [
    "# original size: Camada de entrada com as dimensões originais da imagem.\n",
    "# encoded size_final: Camada com a redução da dimensionalidade aplicada através da codificação(camada zero do modelo do \n",
    "# autoencoder).\n",
    "\n",
    "original_size = layers.Input(shape=784,)\n",
    "encoded_size_1 = layers.Dense(units=128, activation=\"relu\", input_dim=784)\n",
    "encoded_size_2 = layers.Dense(units=64, activation=\"relu\")\n",
    "encoded_size_final = layers.Dense(units=32, activation=\"relu\")\n",
    "\n",
    "# Tambem se pode utilizar:\n",
    "#encoded_size_1 = model.layers[0] \n",
    "#encoded_size_2 = model.layers[1] \n",
    "#encoded_size_final = model.layers[2] "
   ]
  },
  {
   "cell_type": "code",
   "execution_count": 36,
   "metadata": {},
   "outputs": [],
   "source": [
    "# Com o modelo de autoencoder model fez-se a codificação e descodificação. Ou seja reduziu-se a dimensionalidade das imagens e\n",
    "# depois voltou a transformar-se as imagens na dimensão original.\n",
    "# Com o modelo encoder apenas se faz a codificação. Ou seja apenas se reduz a dimensionalidade das imagens.\n",
    "\n",
    "# Modelo para fazer a redução de dimensionalidade.\n",
    "\n",
    "# Model utiliza-se quando se quer criar manualmente a rede neural.\n",
    "# O modelo encoder recebe o original_size e transforma no encoded_size.\n",
    "\n",
    "# Model(camada de entrada, estrutura da rede).\n",
    "# A camada encoded_size_final segue-se à camada encoded_size_2, à camada encoded_size_1 e à camada original_size.\n",
    "encoder = models.Model(original_size,\n",
    "                       encoded_size_final(encoded_size_2(encoded_size_1(original_size)))) "
   ]
  },
  {
   "cell_type": "code",
   "execution_count": 38,
   "metadata": {},
   "outputs": [
    {
     "name": "stdout",
     "output_type": "stream",
     "text": [
      "Model: \"model_2\"\n",
      "_________________________________________________________________\n",
      "Layer (type)                 Output Shape              Param #   \n",
      "=================================================================\n",
      "input_5 (InputLayer)         [(None, 784)]             0         \n",
      "_________________________________________________________________\n",
      "dense_18 (Dense)             (None, 128)               100480    \n",
      "_________________________________________________________________\n",
      "dense_19 (Dense)             (None, 64)                8256      \n",
      "_________________________________________________________________\n",
      "dense_20 (Dense)             (None, 32)                2080      \n",
      "=================================================================\n",
      "Total params: 110,816\n",
      "Trainable params: 110,816\n",
      "Non-trainable params: 0\n",
      "_________________________________________________________________\n"
     ]
    }
   ],
   "source": [
    "# Transforma de 784 dimensões para 32 dimensões.\n",
    "encoder.summary()"
   ]
  },
  {
   "cell_type": "code",
   "execution_count": 43,
   "metadata": {},
   "outputs": [
    {
     "data": {
      "text/plain": [
       "(32,)"
      ]
     },
     "execution_count": 43,
     "metadata": {},
     "output_type": "execute_result"
    }
   ],
   "source": [
    "# Imagens de teste codificadas(com redução de dimensionalidade de 784 para 32).\n",
    "X_test_codificado = encoder.predict(X_test)\n",
    "X_test_codificado[0].shape"
   ]
  },
  {
   "cell_type": "code",
   "execution_count": 44,
   "metadata": {},
   "outputs": [
    {
     "data": {
      "text/plain": [
       "(784,)"
      ]
     },
     "execution_count": 44,
     "metadata": {},
     "output_type": "execute_result"
    }
   ],
   "source": [
    "# Imagens de teste descodificadas(com a dimensionalidade original de 784).\n",
    "X_test_descodificado = model.predict(X_test)\n",
    "X_test_descodificado[0].shape"
   ]
  },
  {
   "cell_type": "markdown",
   "metadata": {},
   "source": [
    "## Visualização das imagens"
   ]
  },
  {
   "cell_type": "code",
   "execution_count": 41,
   "metadata": {},
   "outputs": [],
   "source": [
    "# Escolher um numero_imagens aleatorias do conjunto de teste.\n",
    "# X_test.shape[0]: número de total de imagens no conjunto de teste.\n",
    "# size: número de imagens que se quer escolher aleatoriamente.\n",
    "numero_imagens = 10\n",
    "imagens_teste = np.random.randint(X_test.shape[0], size=numero_imagens)"
   ]
  },
  {
   "cell_type": "code",
   "execution_count": 42,
   "metadata": {},
   "outputs": [
    {
     "data": {
      "image/png": "[encoded data removed]",
      "text/plain": [
       "<Figure size 1296x1296 with 30 Axes>"
      ]
     },
     "metadata": {},
     "output_type": "display_data"
    }
   ],
   "source": [
    "plt.figure(figsize=(18,18))\n",
    "\n",
    "for i, indice_imagens in enumerate(imagens_teste):\n",
    "    #print(i)\n",
    "    #print(indice_imagens)\n",
    "    \n",
    "     # imagem original\n",
    "    eixo = plt.subplot(10,10,i + 1)\n",
    "    plt.imshow(X_test[indice_imagens].reshape(28,28)) #(28,28) tamanho da imagem original\n",
    "    plt.xticks(())\n",
    "    plt.yticks(())\n",
    "    \n",
    "    # imagem codificada\n",
    "    eixo = plt.subplot(10,10,i + 1 + numero_imagens)\n",
    "    plt.imshow(X_test_codificado[indice_imagens].reshape(8,4)) #(8,4)=32 Pode ser um dos tamanhos escolhidos para a imagem codificada\n",
    "    plt.xticks(())\n",
    "    plt.yticks(())\n",
    "    \n",
    "     # imagem reconstruída(codificada e depois descodificada)\n",
    "    eixo = plt.subplot(10,10,i + 1 + numero_imagens * 2)\n",
    "    plt.imshow(X_test_descodificado[indice_imagens].reshape(28,28)) #(28,28) tamanho da imagem original. Aumentando o\n",
    "    # número de epocas as imagens reconstruidas vão aproximar-se das imagens originais.\n",
    "    plt.xticks(())\n",
    "    plt.yticks(())"
   ]
  },
  {
   "cell_type": "code",
   "execution_count": null,
   "metadata": {},
   "outputs": [],
   "source": []
  }
 ],
 "metadata": {
  "kernelspec": {
   "display_name": "Python 3",
   "language": "python",
   "name": "python3"
  },
  "language_info": {
   "codemirror_mode": {
    "name": "ipython",
    "version": 3
   },
   "file_extension": ".py",
   "mimetype": "text/x-python",
   "name": "python",
   "nbconvert_exporter": "python",
   "pygments_lexer": "ipython3",
   "version": "3.7.3"
  }
 },
 "nbformat": 4,
 "nbformat_minor": 2
}
