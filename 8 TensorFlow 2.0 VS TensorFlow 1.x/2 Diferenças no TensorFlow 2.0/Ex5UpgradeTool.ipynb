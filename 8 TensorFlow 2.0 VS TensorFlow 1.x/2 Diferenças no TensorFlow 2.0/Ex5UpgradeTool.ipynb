{
 "cells": [
  {
   "cell_type": "code",
   "execution_count": 1,
   "metadata": {},
   "outputs": [],
   "source": [
    "import tensorflow as tf"
   ]
  },
  {
   "cell_type": "code",
   "execution_count": 2,
   "metadata": {},
   "outputs": [
    {
     "data": {
      "text/plain": [
       "'2.0.0-beta1'"
      ]
     },
     "execution_count": 2,
     "metadata": {},
     "output_type": "execute_result"
    }
   ],
   "source": [
    "tf.__version__"
   ]
  },
  {
   "cell_type": "code",
   "execution_count": 7,
   "metadata": {},
   "outputs": [
    {
     "name": "stdout",
     "output_type": "stream",
     "text": [
      "Extracting code lines from original notebook\n",
      "INFO line 13:5: Renamed 'tf.Session' to 'tf.compat.v1.Session'\n",
      "TensorFlow 2.0 Upgrade Script\n",
      "-----------------------------\n",
      "Converted 1 files\n",
      "Detected 0 issues that require attention\n",
      "--------------------------------------------------------------------------------\n",
      "\n",
      "\n",
      "Make sure to read the detailed log 'report.txt'\n",
      "\n"
     ]
    }
   ],
   "source": [
    "!tf_upgrade_v2 --infile \"upgrade/Hello world 1.x.ipynb\" --outfile \"upgrade/Hello world 2.0.ipynb\""
   ]
  },
  {
   "cell_type": "code",
   "execution_count": 8,
   "metadata": {},
   "outputs": [
    {
     "name": "stdout",
     "output_type": "stream",
     "text": [
      "Extracting code lines from original notebook\n",
      "INFO line 14:9: Renamed 'tf.placeholder' to 'tf.compat.v1.placeholder'\n",
      "INFO line 16:16: Changing labels arg of tf.nn.softmax_cross_entropy_with_logits to tf.stop_gradient(labels). Please check this transformation.\n",
      "\n",
      "INFO line 17:16: Added keywords to args of function 'tf.reduce_mean'\n",
      "INFO line 18:12: Renamed 'tf.train.GradientDescentOptimizer' to 'tf.compat.v1.train.GradientDescentOptimizer'\n",
      "INFO line 20:7: Renamed 'tf.global_variables_initializer' to 'tf.compat.v1.global_variables_initializer'\n",
      "INFO line 21:5: Renamed 'tf.Session' to 'tf.compat.v1.Session'\n",
      "INFO line 34:19: Added keywords to args of function 'tf.argmax'\n",
      "INFO line 34:34: Added keywords to args of function 'tf.argmax'\n",
      "INFO line 36:6: Added keywords to args of function 'tf.reduce_mean'\n",
      "INFO line 46:6: Added keywords to args of function 'tf.argmax'\n",
      "INFO line 50:6: Added keywords to args of function 'tf.argmax'\n",
      "INFO line 53:8: Renamed 'tf.train.Saver' to 'tf.compat.v1.train.Saver'\n",
      "WARNING line 54:12: *.save requires manual check. (This warning is only applicable if the code saves a tf.Keras model) Keras model.save now saves to the Tensorflow SavedModel format by default, instead of HDF5. To continue saving to HDF5, add the argument save_format='h5' to the save() function.\n",
      "TensorFlow 2.0 Upgrade Script\n",
      "-----------------------------\n",
      "Converted 1 files\n",
      "Detected 1 issues that require attention\n",
      "--------------------------------------------------------------------------------\n",
      "--------------------------------------------------------------------------------\n",
      "File: upgrade/MNIST Basic save 1.x.ipynb\n",
      "--------------------------------------------------------------------------------\n",
      "upgrade/MNIST Basic save 1.x.ipynb:54:12: WARNING: *.save requires manual check. (This warning is only applicable if the code saves a tf.Keras model) Keras model.save now saves to the Tensorflow SavedModel format by default, instead of HDF5. To continue saving to HDF5, add the argument save_format='h5' to the save() function.\n",
      "\n",
      "\n",
      "Make sure to read the detailed log 'report.txt'\n",
      "\n"
     ]
    }
   ],
   "source": [
    "!tf_upgrade_v2 --infile \"upgrade/MNIST Basic save 1.x.ipynb\" --outfile \"upgrade/MNIST Basic save 2.0.ipynb\""
   ]
  },
  {
   "cell_type": "code",
   "execution_count": null,
   "metadata": {},
   "outputs": [],
   "source": []
  }
 ],
 "metadata": {
  "kernelspec": {
   "display_name": "Python 3",
   "language": "python",
   "name": "python3"
  },
  "language_info": {
   "codemirror_mode": {
    "name": "ipython",
    "version": 3
   },
   "file_extension": ".py",
   "mimetype": "text/x-python",
   "name": "python",
   "nbconvert_exporter": "python",
   "pygments_lexer": "ipython3",
   "version": "3.7.3"
  }
 },
 "nbformat": 4,
 "nbformat_minor": 2
}
