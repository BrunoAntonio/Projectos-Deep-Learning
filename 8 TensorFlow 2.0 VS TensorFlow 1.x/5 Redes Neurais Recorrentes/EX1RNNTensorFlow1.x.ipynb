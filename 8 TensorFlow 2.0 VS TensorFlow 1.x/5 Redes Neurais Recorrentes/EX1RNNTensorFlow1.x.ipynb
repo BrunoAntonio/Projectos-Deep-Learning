{
 "cells": [
  {
   "cell_type": "markdown",
   "metadata": {},
   "source": [
    "# RNN with TensorFlow 1.x"
   ]
  },
  {
   "cell_type": "code",
   "execution_count": 66,
   "metadata": {},
   "outputs": [],
   "source": [
    "import tensorflow as tf\n",
    "import numpy as np\n"
   ]
  },
  {
   "cell_type": "code",
   "execution_count": 67,
   "metadata": {},
   "outputs": [
    {
     "data": {
      "text/plain": [
       "'1.10.0'"
      ]
     },
     "execution_count": 67,
     "metadata": {},
     "output_type": "execute_result"
    }
   ],
   "source": [
    "tf.__version__"
   ]
  },
  {
   "cell_type": "markdown",
   "metadata": {},
   "source": [
    "### Constants"
   ]
  },
  {
   "cell_type": "code",
   "execution_count": 88,
   "metadata": {},
   "outputs": [],
   "source": [
    "# Number of inputs for each example\n",
    "num_inputs = 2\n",
    "\n",
    "# Number of neurons in first layer\n",
    "num_neurons = 5"
   ]
  },
  {
   "cell_type": "markdown",
   "metadata": {},
   "source": [
    "### Placeholders"
   ]
  },
  {
   "cell_type": "code",
   "execution_count": 89,
   "metadata": {},
   "outputs": [],
   "source": [
    "# We now need two Xs! One for each timestamp (t=0 and t=1)\n",
    "x0 = tf.placeholder(tf.float32,[None,num_inputs])\n",
    "x1 = tf.placeholder(tf.float32,[None,num_inputs])"
   ]
  },
  {
   "cell_type": "markdown",
   "metadata": {},
   "source": [
    "### Variables"
   ]
  },
  {
   "cell_type": "code",
   "execution_count": 90,
   "metadata": {},
   "outputs": [],
   "source": [
    "# We'll also need a Weights variable for each x\n",
    "# Notice the shape dimensions on both!\n",
    "Wx = tf.Variable(tf.random_normal(shape=[num_inputs,num_neurons]))\n",
    "Wy = tf.Variable(tf.random_normal(shape=[num_neurons,num_neurons]))"
   ]
  },
  {
   "cell_type": "code",
   "execution_count": 91,
   "metadata": {},
   "outputs": [],
   "source": [
    "b = tf.Variable(tf.zeros([1,num_neurons]))"
   ]
  },
  {
   "cell_type": "code",
   "execution_count": 92,
   "metadata": {},
   "outputs": [],
   "source": [
    "# First Activation t0\n",
    "y0 = tf.tanh(tf.matmul(x0,Wx) + b)\n",
    "#second at t1\n",
    "y1 = tf.tanh(tf.matmul(y0,Wy) + tf.matmul(x1,Wx) + b)"
   ]
  },
  {
   "cell_type": "markdown",
   "metadata": {},
   "source": [
    "#### Intialize Variables"
   ]
  },
  {
   "cell_type": "code",
   "execution_count": 93,
   "metadata": {},
   "outputs": [],
   "source": [
    "init = tf.global_variables_initializer()"
   ]
  },
  {
   "cell_type": "markdown",
   "metadata": {},
   "source": [
    "### Create Data"
   ]
  },
  {
   "cell_type": "code",
   "execution_count": 94,
   "metadata": {},
   "outputs": [],
   "source": [
    "# BATCH 0:       example1 , example2, example 3\n",
    "x0_batch = np.array([[0,1],  [2,3],    [4,5]]) # DATA AT TIMESTAMP = 0\n",
    "\n",
    "# BATCH 1:          example1 ,   example2,   example 3\n",
    "x1_batch = np.array([[100,101], [102,103],  [104,105]]) # DATA AT TIMESTAMP = 1"
   ]
  },
  {
   "cell_type": "markdown",
   "metadata": {},
   "source": [
    "### Run Session"
   ]
  },
  {
   "cell_type": "code",
   "execution_count": 95,
   "metadata": {},
   "outputs": [],
   "source": [
    "with tf.Session() as sess:\n",
    "    \n",
    "    sess.run(init)\n",
    "    \n",
    "    y0_output_vals , y1_output_vals  = sess.run([y0,y1],feed_dict={x0:x0_batch,x1:x1_batch})"
   ]
  },
  {
   "cell_type": "code",
   "execution_count": 96,
   "metadata": {},
   "outputs": [
    {
     "data": {
      "text/plain": [
       "array([[-0.43569225, -0.7664007 , -0.24372526,  0.5519957 ,  0.27257013],\n",
       "       [ 0.01463201, -0.9999688 , -0.6634334 ,  0.9993554 ,  0.7567531 ],\n",
       "       [ 0.45909768, -1.        , -0.87384343,  0.9999993 ,  0.93509674]],\n",
       "      dtype=float32)"
      ]
     },
     "execution_count": 96,
     "metadata": {},
     "output_type": "execute_result"
    }
   ],
   "source": [
    "# The output of values at t=0\n",
    "y0_output_vals"
   ]
  },
  {
   "cell_type": "code",
   "execution_count": 97,
   "metadata": {},
   "outputs": [
    {
     "data": {
      "text/plain": [
       "array([[ 1., -1., -1.,  1.,  1.],\n",
       "       [ 1., -1., -1.,  1.,  1.],\n",
       "       [ 1., -1., -1.,  1.,  1.]], dtype=float32)"
      ]
     },
     "execution_count": 97,
     "metadata": {},
     "output_type": "execute_result"
    }
   ],
   "source": [
    "# Output at t=1\n",
    "y1_output_vals"
   ]
  },
  {
   "cell_type": "code",
   "execution_count": null,
   "metadata": {},
   "outputs": [],
   "source": []
  },
  {
   "cell_type": "code",
   "execution_count": null,
   "metadata": {},
   "outputs": [],
   "source": []
  }
 ],
 "metadata": {
  "kernelspec": {
   "display_name": "Python 3",
   "language": "python",
   "name": "python3"
  },
  "language_info": {
   "codemirror_mode": {
    "name": "ipython",
    "version": 3
   },
   "file_extension": ".py",
   "mimetype": "text/x-python",
   "name": "python",
   "nbconvert_exporter": "python",
   "pygments_lexer": "ipython3",
   "version": "3.7.3"
  }
 },
 "nbformat": 4,
 "nbformat_minor": 2
}
