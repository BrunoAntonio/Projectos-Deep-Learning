{
 "cells": [
  {
   "cell_type": "markdown",
   "metadata": {},
   "source": [
    "# RNN  AirCompany Dataset com Tensorflow 2.0 \n",
    "# Serie Temporal - Regressão"
   ]
  },
  {
   "cell_type": "code",
   "execution_count": 7,
   "metadata": {},
   "outputs": [],
   "source": [
    "import tensorflow as tf\n",
    "import numpy\n",
    "import matplotlib.pyplot as plt\n",
    "import pandas\n",
    "import math\n",
    "\n",
    "from tensorflow import keras\n",
    "from tensorflow.keras import layers, models\n",
    "\n",
    "from sklearn.preprocessing import MinMaxScaler\n",
    "from sklearn.metrics import mean_squared_error\n"
   ]
  },
  {
   "cell_type": "code",
   "execution_count": 8,
   "metadata": {},
   "outputs": [
    {
     "data": {
      "text/plain": [
       "'2.0.0-beta1'"
      ]
     },
     "execution_count": 8,
     "metadata": {},
     "output_type": "execute_result"
    }
   ],
   "source": [
    "tf.__version__"
   ]
  },
  {
   "cell_type": "markdown",
   "metadata": {},
   "source": [
    "## Importar os dados"
   ]
  },
  {
   "cell_type": "code",
   "execution_count": 9,
   "metadata": {},
   "outputs": [],
   "source": [
    "# fix random seed for reproducibility\n",
    "numpy.random.seed(7)\n",
    "\n",
    "# load the dataset\n",
    "dataframe = pandas.read_csv('AirPassengers.csv', usecols=[1], engine='python', skipfooter=3)\n",
    "dataset = dataframe.values\n",
    "dataset = dataset.astype('float32')"
   ]
  },
  {
   "cell_type": "markdown",
   "metadata": {},
   "source": [
    "## Normalizar os dados"
   ]
  },
  {
   "cell_type": "code",
   "execution_count": 10,
   "metadata": {},
   "outputs": [],
   "source": [
    "# normalize the dataset\n",
    "scaler = MinMaxScaler(feature_range=(0, 1))\n",
    "dataset = scaler.fit_transform(dataset)"
   ]
  },
  {
   "cell_type": "markdown",
   "metadata": {},
   "source": [
    "## Dividir os dados em teste e treino"
   ]
  },
  {
   "cell_type": "code",
   "execution_count": 11,
   "metadata": {},
   "outputs": [
    {
     "name": "stdout",
     "output_type": "stream",
     "text": [
      "train_data_size: 112  test_data_size: 29\n"
     ]
    }
   ],
   "source": [
    "# Não se pode utilizar o tf.shuffle para baralhar os dados porque numaSerie Temporal os dados têm de estar ordenados\n",
    "#Split data into train and test in the ration of 80/20\n",
    " \n",
    "train_size = int(len(dataset) * 0.80)\n",
    "test_size = len(dataset) - train_size\n",
    "train, test = dataset[0:train_size,:], dataset[train_size:len(dataset),:]\n",
    "print(\"train_data_size: \"+str(len(train)), \" test_data_size: \"+str(len(test)))\n"
   ]
  },
  {
   "cell_type": "code",
   "execution_count": 12,
   "metadata": {},
   "outputs": [],
   "source": [
    "# converter os dados de array para matriz\n",
    "def create_dataset(dataset, steps=1):\n",
    "    dataX, dataY = [], []\n",
    "    for i in range(len(dataset)-steps-1):\n",
    "        a = dataset[i:(i+steps), 0]\n",
    "        dataX.append(a)\n",
    "        dataY.append(dataset[i + steps, 0])\n",
    "    return numpy.array(dataX), numpy.array(dataY)"
   ]
  },
  {
   "cell_type": "code",
   "execution_count": 13,
   "metadata": {},
   "outputs": [],
   "source": [
    "# reshape into X=t and Y=t+1\n",
    "steps = 1\n",
    "trainX, trainY = create_dataset(train, steps)\n",
    "testX, testY = create_dataset(test, steps)\n",
    "\n",
    "# reshape input to be [samples, time steps, features]\n",
    "trainX = numpy.reshape(trainX, (trainX.shape[0], 1, trainX.shape[1]))\n",
    "testX = numpy.reshape(testX, (testX.shape[0], 1, testX.shape[1]))"
   ]
  },
  {
   "cell_type": "markdown",
   "metadata": {},
   "source": [
    "## Modelo RNN"
   ]
  },
  {
   "cell_type": "code",
   "execution_count": 14,
   "metadata": {},
   "outputs": [],
   "source": [
    "# The network has a visible layer with 1 input, a hidden layer with 4 LSTM blocks or neurons and an output layer that makes\n",
    "# a single value prediction. The default sigmoid activation function is used for the LSTM blocks. \n",
    "# The network is trained for 100 epochs and a batch size of 1 is used.\n",
    "\n",
    "model = models.Sequential()\n",
    "model.add(layers.LSTM(4, input_shape=(1, 1),return_sequences=True))\n",
    "model.add(layers.Dense(units=1))"
   ]
  },
  {
   "cell_type": "markdown",
   "metadata": {},
   "source": [
    "## Compilar e Ajustar o Modelo"
   ]
  },
  {
   "cell_type": "code",
   "execution_count": 15,
   "metadata": {},
   "outputs": [],
   "source": [
    "# Como é um problema de regressão utiliza-se o mean_squared_error\n",
    "model.compile(loss='mean_squared_error', optimizer='adam')\n"
   ]
  },
  {
   "cell_type": "code",
   "execution_count": 16,
   "metadata": {},
   "outputs": [
    {
     "name": "stderr",
     "output_type": "stream",
     "text": [
      "WARNING: Logging before flag parsing goes to stderr.\n",
      "W0619 14:10:12.622929  3356 training.py:617] The `nb_epoch` argument in `fit` has been renamed `epochs`.\n"
     ]
    },
    {
     "name": "stdout",
     "output_type": "stream",
     "text": [
      "Train on 110 samples\n",
      "Epoch 1/100\n",
      "110/110 - 1s - loss: 0.0613\n",
      "Epoch 2/100\n",
      "110/110 - 0s - loss: 0.0288\n",
      "Epoch 3/100\n",
      "110/110 - 0s - loss: 0.0208\n",
      "Epoch 4/100\n",
      "110/110 - 0s - loss: 0.0182\n",
      "Epoch 5/100\n",
      "110/110 - 0s - loss: 0.0166\n",
      "Epoch 6/100\n",
      "110/110 - 0s - loss: 0.0150\n",
      "Epoch 7/100\n",
      "110/110 - 0s - loss: 0.0134\n",
      "Epoch 8/100\n",
      "110/110 - 0s - loss: 0.0121\n",
      "Epoch 9/100\n",
      "110/110 - 0s - loss: 0.0106\n",
      "Epoch 10/100\n",
      "110/110 - 0s - loss: 0.0092\n",
      "Epoch 11/100\n",
      "110/110 - 0s - loss: 0.0081\n",
      "Epoch 12/100\n",
      "110/110 - 0s - loss: 0.0069\n",
      "Epoch 13/100\n",
      "110/110 - 0s - loss: 0.0059\n",
      "Epoch 14/100\n",
      "110/110 - 0s - loss: 0.0051\n",
      "Epoch 15/100\n",
      "110/110 - 0s - loss: 0.0044\n",
      "Epoch 16/100\n",
      "110/110 - 0s - loss: 0.0039\n",
      "Epoch 17/100\n",
      "110/110 - 0s - loss: 0.0035\n",
      "Epoch 18/100\n",
      "110/110 - 0s - loss: 0.0032\n",
      "Epoch 19/100\n",
      "110/110 - 0s - loss: 0.0030\n",
      "Epoch 20/100\n",
      "110/110 - 0s - loss: 0.0028\n",
      "Epoch 21/100\n",
      "110/110 - 0s - loss: 0.0027\n",
      "Epoch 22/100\n",
      "110/110 - 0s - loss: 0.0027\n",
      "Epoch 23/100\n",
      "110/110 - 0s - loss: 0.0026\n",
      "Epoch 24/100\n",
      "110/110 - 0s - loss: 0.0026\n",
      "Epoch 25/100\n",
      "110/110 - 0s - loss: 0.0025\n",
      "Epoch 26/100\n",
      "110/110 - 0s - loss: 0.0025\n",
      "Epoch 27/100\n",
      "110/110 - 0s - loss: 0.0025\n",
      "Epoch 28/100\n",
      "110/110 - 0s - loss: 0.0025\n",
      "Epoch 29/100\n",
      "110/110 - 0s - loss: 0.0026\n",
      "Epoch 30/100\n",
      "110/110 - 0s - loss: 0.0025\n",
      "Epoch 31/100\n",
      "110/110 - 0s - loss: 0.0026\n",
      "Epoch 32/100\n",
      "110/110 - 0s - loss: 0.0026\n",
      "Epoch 33/100\n",
      "110/110 - 0s - loss: 0.0025\n",
      "Epoch 34/100\n",
      "110/110 - 0s - loss: 0.0025\n",
      "Epoch 35/100\n",
      "110/110 - 0s - loss: 0.0025\n",
      "Epoch 36/100\n",
      "110/110 - 0s - loss: 0.0026\n",
      "Epoch 37/100\n",
      "110/110 - 0s - loss: 0.0026\n",
      "Epoch 38/100\n",
      "110/110 - 0s - loss: 0.0026\n",
      "Epoch 39/100\n",
      "110/110 - 0s - loss: 0.0025\n",
      "Epoch 40/100\n",
      "110/110 - 0s - loss: 0.0025\n",
      "Epoch 41/100\n",
      "110/110 - 0s - loss: 0.0025\n",
      "Epoch 42/100\n",
      "110/110 - 0s - loss: 0.0025\n",
      "Epoch 43/100\n",
      "110/110 - 0s - loss: 0.0025\n",
      "Epoch 44/100\n",
      "110/110 - 0s - loss: 0.0025\n",
      "Epoch 45/100\n",
      "110/110 - 0s - loss: 0.0026\n",
      "Epoch 46/100\n",
      "110/110 - 0s - loss: 0.0025\n",
      "Epoch 47/100\n",
      "110/110 - 0s - loss: 0.0025\n",
      "Epoch 48/100\n",
      "110/110 - 0s - loss: 0.0025\n",
      "Epoch 49/100\n",
      "110/110 - 0s - loss: 0.0025\n",
      "Epoch 50/100\n",
      "110/110 - 0s - loss: 0.0025\n",
      "Epoch 51/100\n",
      "110/110 - 0s - loss: 0.0025\n",
      "Epoch 52/100\n",
      "110/110 - 0s - loss: 0.0025\n",
      "Epoch 53/100\n",
      "110/110 - 0s - loss: 0.0025\n",
      "Epoch 54/100\n",
      "110/110 - 0s - loss: 0.0026\n",
      "Epoch 55/100\n",
      "110/110 - 0s - loss: 0.0025\n",
      "Epoch 56/100\n",
      "110/110 - 0s - loss: 0.0024\n",
      "Epoch 57/100\n",
      "110/110 - 0s - loss: 0.0026\n",
      "Epoch 58/100\n",
      "110/110 - 0s - loss: 0.0025\n",
      "Epoch 59/100\n",
      "110/110 - 0s - loss: 0.0025\n",
      "Epoch 60/100\n",
      "110/110 - 0s - loss: 0.0025\n",
      "Epoch 61/100\n",
      "110/110 - 0s - loss: 0.0026\n",
      "Epoch 62/100\n",
      "110/110 - 0s - loss: 0.0025\n",
      "Epoch 63/100\n",
      "110/110 - 0s - loss: 0.0025\n",
      "Epoch 64/100\n",
      "110/110 - 0s - loss: 0.0025\n",
      "Epoch 65/100\n",
      "110/110 - 0s - loss: 0.0025\n",
      "Epoch 66/100\n",
      "110/110 - 0s - loss: 0.0025\n",
      "Epoch 67/100\n",
      "110/110 - 0s - loss: 0.0026\n",
      "Epoch 68/100\n",
      "110/110 - 0s - loss: 0.0026\n",
      "Epoch 69/100\n",
      "110/110 - 0s - loss: 0.0025\n",
      "Epoch 70/100\n",
      "110/110 - 0s - loss: 0.0026\n",
      "Epoch 71/100\n",
      "110/110 - 0s - loss: 0.0025\n",
      "Epoch 72/100\n",
      "110/110 - 0s - loss: 0.0025\n",
      "Epoch 73/100\n",
      "110/110 - 0s - loss: 0.0025\n",
      "Epoch 74/100\n",
      "110/110 - 0s - loss: 0.0025\n",
      "Epoch 75/100\n",
      "110/110 - 0s - loss: 0.0025\n",
      "Epoch 76/100\n",
      "110/110 - 0s - loss: 0.0025\n",
      "Epoch 77/100\n",
      "110/110 - 0s - loss: 0.0025\n",
      "Epoch 78/100\n",
      "110/110 - 0s - loss: 0.0025\n",
      "Epoch 79/100\n",
      "110/110 - 0s - loss: 0.0025\n",
      "Epoch 80/100\n",
      "110/110 - 0s - loss: 0.0025\n",
      "Epoch 81/100\n",
      "110/110 - 0s - loss: 0.0025\n",
      "Epoch 82/100\n",
      "110/110 - 0s - loss: 0.0025\n",
      "Epoch 83/100\n",
      "110/110 - 0s - loss: 0.0025\n",
      "Epoch 84/100\n",
      "110/110 - 0s - loss: 0.0025\n",
      "Epoch 85/100\n",
      "110/110 - 0s - loss: 0.0025\n",
      "Epoch 86/100\n",
      "110/110 - 0s - loss: 0.0026\n",
      "Epoch 87/100\n",
      "110/110 - 0s - loss: 0.0025\n",
      "Epoch 88/100\n",
      "110/110 - 0s - loss: 0.0025\n",
      "Epoch 89/100\n",
      "110/110 - 0s - loss: 0.0025\n",
      "Epoch 90/100\n",
      "110/110 - 0s - loss: 0.0025\n",
      "Epoch 91/100\n",
      "110/110 - 0s - loss: 0.0025\n",
      "Epoch 92/100\n",
      "110/110 - 0s - loss: 0.0025\n",
      "Epoch 93/100\n",
      "110/110 - 0s - loss: 0.0026\n",
      "Epoch 94/100\n",
      "110/110 - 0s - loss: 0.0025\n",
      "Epoch 95/100\n",
      "110/110 - 0s - loss: 0.0025\n",
      "Epoch 96/100\n",
      "110/110 - 0s - loss: 0.0024\n",
      "Epoch 97/100\n",
      "110/110 - 0s - loss: 0.0025\n",
      "Epoch 98/100\n",
      "110/110 - 0s - loss: 0.0025\n",
      "Epoch 99/100\n",
      "110/110 - 0s - loss: 0.0025\n",
      "Epoch 100/100\n",
      "110/110 - 0s - loss: 0.0025\n"
     ]
    },
    {
     "data": {
      "text/plain": [
       "<tensorflow.python.keras.callbacks.History at 0xa958aec080>"
      ]
     },
     "execution_count": 16,
     "metadata": {},
     "output_type": "execute_result"
    }
   ],
   "source": [
    "# batch_size para time-series é 1\n",
    "model.fit(trainX, trainY, nb_epoch=100, batch_size=1, verbose=2)"
   ]
  },
  {
   "cell_type": "markdown",
   "metadata": {},
   "source": [
    "# Previsões com o Modelo"
   ]
  },
  {
   "cell_type": "code",
   "execution_count": 17,
   "metadata": {},
   "outputs": [],
   "source": [
    "# make predictions\n",
    "trainPredict = model.predict(trainX)\n",
    "testPredict = model.predict(testX)"
   ]
  },
  {
   "cell_type": "code",
   "execution_count": 18,
   "metadata": {},
   "outputs": [],
   "source": [
    "# invert predictions\n",
    "# Como os resultados estão normalizados é necessário colocar no formato original para poderem ser visualizados/interpretados\n",
    "trainPredict = scaler.inverse_transform(tf.reshape(trainPredict,[110,1]))\n",
    "trainY = scaler.inverse_transform(tf.reshape(trainY,[110,1]))\n",
    "testPredict = scaler.inverse_transform(tf.reshape(testPredict,[27,1]))\n",
    "testY = scaler.inverse_transform(tf.reshape(testY,[27,1]))"
   ]
  },
  {
   "cell_type": "code",
   "execution_count": 19,
   "metadata": {},
   "outputs": [
    {
     "data": {
      "image/png": "[encoded data removed]",
      "text/plain": [
       "<Figure size 432x288 with 1 Axes>"
      ]
     },
     "metadata": {
      "needs_background": "light"
     },
     "output_type": "display_data"
    }
   ],
   "source": [
    "# shift train predictions for plotting\n",
    "trainPredictPlot = numpy.empty_like(dataset)\n",
    "trainPredictPlot[:, :] = numpy.nan\n",
    "trainPredictPlot[steps:len(trainPredict)+steps, :] = trainPredict\n",
    "# shift test predictions for plotting\n",
    "testPredictPlot = numpy.empty_like(dataset)\n",
    "testPredictPlot[:, :] = numpy.nan\n",
    "testPredictPlot[len(trainPredict)+(steps*2)+1:len(dataset)-1, :] = testPredict\n",
    "# plot baseline and predictions\n",
    "plt.plot(scaler.inverse_transform(dataset))\n",
    "plt.plot(trainPredictPlot)\n",
    "plt.plot(testPredictPlot)\n",
    "plt.show()"
   ]
  },
  {
   "cell_type": "code",
   "execution_count": null,
   "metadata": {},
   "outputs": [],
   "source": []
  },
  {
   "cell_type": "code",
   "execution_count": null,
   "metadata": {},
   "outputs": [],
   "source": []
  }
 ],
 "metadata": {
  "kernelspec": {
   "display_name": "Python 3",
   "language": "python",
   "name": "python3"
  },
  "language_info": {
   "codemirror_mode": {
    "name": "ipython",
    "version": 3
   },
   "file_extension": ".py",
   "mimetype": "text/x-python",
   "name": "python",
   "nbconvert_exporter": "python",
   "pygments_lexer": "ipython3",
   "version": "3.7.3"
  }
 },
 "nbformat": 4,
 "nbformat_minor": 2
}
